{
 "cells": [
  {
   "cell_type": "code",
   "execution_count": 2,
   "metadata": {},
   "outputs": [],
   "source": [
    "# Importing required libraries\n",
    "\n",
    "import os\n",
    "\n",
    "import pandas as pd\n",
    "import numpy as np\n",
    "\n",
    "import matplotlib.pyplot as plt\n",
    "import seaborn as sns\n",
    "\n",
    "from sklearn.impute import SimpleImputer\n"
   ]
  },
  {
   "cell_type": "code",
   "execution_count": 3,
   "metadata": {},
   "outputs": [],
   "source": [
    "import warnings\n",
    "warnings.filterwarnings('ignore')"
   ]
  },
  {
   "cell_type": "markdown",
   "metadata": {},
   "source": [
    "### Setting up path to data file"
   ]
  },
  {
   "cell_type": "code",
   "execution_count": 4,
   "metadata": {},
   "outputs": [],
   "source": [
    "\n",
    "# Get the current working directory\n",
    "current_dir = os.getcwd()\n",
    "\n",
    "# Construct the path to the parent directory\n",
    "parent_dir = os.path.dirname(current_dir)\n",
    "\n",
    "# Construct the path to the 'Cycling Analysis' directory and then to the 'data' directory within it\n",
    "cycling_data_dir = os.path.join(parent_dir, 'Cycling Analysis', 'data')\n",
    "\n",
    "# Construct the full path to the 'extended_activities.csv' file\n",
    "extended_activities_path = os.path.join(cycling_data_dir, 'extended_activities.csv')\n"
   ]
  },
  {
   "cell_type": "markdown",
   "metadata": {},
   "source": [
    "In this document, we will perform two main tasks:\n",
    "\n",
    "1. Simulating VO2 Max values for Running and Ride activities. \n",
    "2. Create a predictive model to predict future value of VO2 Max for athlete. \n",
    "\n",
    "To acomplish this, we will walk through the methodology to simulate values and data processing."
   ]
  },
  {
   "cell_type": "markdown",
   "metadata": {},
   "source": [
    "#### A. Values simulating methodology\n",
    "The simulation is based on established protocols from an article of Sport Coaching NZ, which explains the computation methods used by devices like Garmin.\n",
    "\n",
    "Link to the article: https://sportcoaching.co.nz/how-does-garmin-calculate-vo2-max/\n",
    "\n",
    "The VO2 max for Running and Cycling activities is estimated using the following formulas:\n",
    "\n",
    "- **Running on a Level Ground**: Theoretical VO2 (ml/kg/min) $= 3.5 \\times \\text{speed}$\n",
    "- **Cycling**: Theoretical VO2 (ml/kg/min) $= \\frac{12.35 \\times \\text{Power} + 300}{\\text{person's weight}}$\n",
    "\n",
    "Theoretical V02 calculation for some other activities listed in the article:\n",
    "\n",
    "- **Walking and Pole Walking**: Theoretical VO2 (ml/kg/min) $= 1.78 \\times \\text{speed} \\times 16.67[\\tan(\\text{inclination}) + 0.073]$\n",
    "- **Running in a Hilly Terrain**: Theoretical VO2 (ml/kg/min) $= 3.33 \\times \\text{speed} + 15 \\times \\tan(\\text{inclination}) \\times \\text{speed} + 3.5$\n",
    "- **Rowing (Indoor)**: Theoretical VO2 (ml/kg/min) $= \\frac{14.72 \\times \\text{Power} + 250.39}{\\text{person’s weight}}$\n",
    "\n",
    "*Unit of speed = kilometers per hour (km/h).*<br>\n",
    "*Unit of inclination = degrees(°).*<br>\n",
    "*Unit of power = watts (W).*<br>\n",
    "*Unit of weight = kilograms (kg).*<br>"
   ]
  },
  {
   "cell_type": "markdown",
   "metadata": {},
   "source": [
    "#### B. Data processing\n",
    "\n",
    "- Data processing will follow the precedents set by the extensive exploratory data analysis (EDA) of the running dataset.\n",
    "- A structured approach to data integrity includes:\n",
    "    - Handling Missing Values:\n",
    "        - Variables missing more than 50% of their data will be dropped to maintain dataset integrity.\n",
    "        - Variables missing less than 50% of their data will have missing values imputed with the median of the available data.\n",
    "        \n",
    "**Athlete Weight Consideration:**\n",
    "\n",
    "As we see in the simulation methodology for the VO2 max values for Cycling activities, `Athelete weight` is a crucial variable. Therefore, to ensure the column is not removed from the data, we will apply the computed median to the NaN values before processing them as in step 1. "
   ]
  },
  {
   "cell_type": "code",
   "execution_count": 5,
   "metadata": {},
   "outputs": [
    {
     "name": "stdout",
     "output_type": "stream",
     "text": [
      "   Activity ID          Activity Date   Activity Name Activity Type  \\\n",
      "0   2929442069  13 Dec 2019, 01:46:07      Lunch Ride          Ride   \n",
      "1   2945780637  20 Dec 2019, 23:05:01    Morning Ride          Ride   \n",
      "2   2948028275  21 Dec 2019, 23:25:29    Morning Ride          Ride   \n",
      "3   2952462113  24 Dec 2019, 01:19:17      Lunch Ride          Ride   \n",
      "4   2956494096  26 Dec 2019, 00:09:08      Lunch Ride          Ride   \n",
      "5   2961293151  27 Dec 2019, 23:38:08    Morning Ride          Ride   \n",
      "6   2969244332  31 Dec 2019, 01:48:12      Lunch Ride          Ride   \n",
      "7   2974544942   2 Jan 2020, 03:43:00  Afternoon Ride          Ride   \n",
      "8   2979711652   3 Jan 2020, 23:27:55    Morning Ride          Ride   \n",
      "9   2982905280   5 Jan 2020, 01:30:44      Lunch Ride          Ride   \n",
      "\n",
      "   Elapsed Time  Distance  Max Heart Rate  Relative Effort  Commute  \\\n",
      "0          3859     22.97           139.0             11.0    False   \n",
      "1          4852     29.65           133.0             12.0    False   \n",
      "2          5817     32.38           139.0             19.0    False   \n",
      "3          3851     21.68           140.0             11.0    False   \n",
      "4          5843     32.36           131.0             14.0    False   \n",
      "5          6953     32.84           139.0             15.0    False   \n",
      "6          5567     34.98           147.0             25.0    False   \n",
      "7          3727     25.22           142.0             14.0    False   \n",
      "8          7352     45.79           140.0             25.0    False   \n",
      "9          5913     34.01           136.0             15.0    False   \n",
      "\n",
      "  Activity Gear  ... Maximum Power 10s  Maximum Power 30s  \\\n",
      "0           NaN  ...             412.9              342.1   \n",
      "1           NaN  ...             342.1              236.1   \n",
      "2           NaN  ...             390.5              265.1   \n",
      "3           NaN  ...             452.0              303.1   \n",
      "4           NaN  ...             342.9              243.9   \n",
      "5           NaN  ...             434.3              299.7   \n",
      "6           NaN  ...             428.9              311.5   \n",
      "7           NaN  ...             445.8              288.2   \n",
      "8           NaN  ...             384.7              314.2   \n",
      "9           NaN  ...             347.2              252.7   \n",
      "\n",
      "   Maximum Power 1.0min  Maximum Power 5.0min  Maximum Power 10.0min  \\\n",
      "0                 221.2                 162.2                  136.3   \n",
      "1                 184.3                 150.6                  131.4   \n",
      "2                 213.3                 146.2                  135.1   \n",
      "3                 262.0                 161.9                  146.7   \n",
      "4                 208.3                 134.7                  124.0   \n",
      "5                 255.6                 170.2                  141.8   \n",
      "6                 278.3                 172.1                  163.9   \n",
      "7                 252.5                 185.0                  175.4   \n",
      "8                 278.7                 181.8                  168.2   \n",
      "9                 209.0                 149.5                  134.9   \n",
      "\n",
      "   Maximum Power 20.0min  Maximum Power 30.0min  Maximum Power 1.0 hr  \\\n",
      "0                  120.8                  109.8                 105.4   \n",
      "1                  122.1                  120.3                 115.6   \n",
      "2                  127.5                  125.5                 110.2   \n",
      "3                  139.7                  134.0                 112.3   \n",
      "4                  119.4                  115.5                  99.8   \n",
      "5                  137.0                  127.5                 110.0   \n",
      "6                  156.5                  148.3                 134.7   \n",
      "7                  166.4                  153.6                 143.4   \n",
      "8                  154.7                  147.9                 136.9   \n",
      "9                  129.5                  128.2                 115.0   \n",
      "\n",
      "   Maximum Power 1.5 hr  Maximum Power 2.0 hr  \n",
      "0                   0.0                   0.0  \n",
      "1                   0.0                   0.0  \n",
      "2                 104.7                   0.0  \n",
      "3                   0.0                   0.0  \n",
      "4                  96.9                   0.0  \n",
      "5                 102.3                   0.0  \n",
      "6                 130.4                   0.0  \n",
      "7                   0.0                   0.0  \n",
      "8                 129.7                 124.6  \n",
      "9                 109.4                   0.0  \n",
      "\n",
      "[10 rows x 49 columns]\n"
     ]
    }
   ],
   "source": [
    "# Use the path to load the data\n",
    "activities_data = pd.read_csv(extended_activities_path)\n",
    "\n",
    "# Sneak peak of the data\n",
    "print(activities_data.head(10))"
   ]
  },
  {
   "cell_type": "code",
   "execution_count": 6,
   "metadata": {},
   "outputs": [],
   "source": [
    "# Handle missing values in 'Athlete weight' variable\n",
    "\n",
    "# Compute the median weight, excluding NaN values\n",
    "median_weight = activities_data['Athlete Weight'].median()\n",
    "    \n",
    "# Fill NaN values in 'Athlete weight' with the computed median\n",
    "activities_data['Athlete Weight'].fillna(median_weight, inplace=True)\n"
   ]
  },
  {
   "cell_type": "code",
   "execution_count": 7,
   "metadata": {},
   "outputs": [
    {
     "name": "stdout",
     "output_type": "stream",
     "text": [
      "<class 'pandas.core.frame.DataFrame'>\n",
      "RangeIndex: 345 entries, 0 to 344\n",
      "Data columns (total 49 columns):\n",
      " #   Column                     Non-Null Count  Dtype  \n",
      "---  ------                     --------------  -----  \n",
      " 0   Activity ID                345 non-null    int64  \n",
      " 1   Activity Date              345 non-null    object \n",
      " 2   Activity Name              345 non-null    object \n",
      " 3   Activity Type              345 non-null    object \n",
      " 4   Elapsed Time               345 non-null    int64  \n",
      " 5   Distance                   345 non-null    float64\n",
      " 6   Max Heart Rate             345 non-null    float64\n",
      " 7   Relative Effort            345 non-null    float64\n",
      " 8   Commute                    345 non-null    bool   \n",
      " 9   Activity Gear              162 non-null    object \n",
      " 10  Filename                   345 non-null    object \n",
      " 11  Athlete Weight             345 non-null    float64\n",
      " 12  Bike Weight                162 non-null    float64\n",
      " 13  Moving Time                345 non-null    float64\n",
      " 14  Max Speed                  345 non-null    float64\n",
      " 15  Average Speed              345 non-null    float64\n",
      " 16  Elevation Gain             344 non-null    float64\n",
      " 17  Elevation Loss             338 non-null    float64\n",
      " 18  Elevation Low              338 non-null    float64\n",
      " 19  Elevation High             338 non-null    float64\n",
      " 20  Max Grade                  345 non-null    float64\n",
      " 21  Average Grade              345 non-null    float64\n",
      " 22  Max Cadence                345 non-null    float64\n",
      " 23  Average Cadence            345 non-null    float64\n",
      " 24  Average Heart Rate         345 non-null    float64\n",
      " 25  Average Watts              345 non-null    float64\n",
      " 26  Calories                   345 non-null    float64\n",
      " 27  Average Temperature        184 non-null    float64\n",
      " 28  Total Work                 197 non-null    float64\n",
      " 29  Perceived Exertion         1 non-null      float64\n",
      " 30  Weighted Average Power     345 non-null    float64\n",
      " 31  Power Count                345 non-null    float64\n",
      " 32  Prefer Perceived Exertion  2 non-null      float64\n",
      " 33  Perceived Relative Effort  1 non-null      float64\n",
      " 34  Grade Adjusted Distance    163 non-null    float64\n",
      " 35  Average Elapsed Speed      256 non-null    float64\n",
      " 36  Dirt Distance              256 non-null    float64\n",
      " 37  Total Steps                8 non-null      float64\n",
      " 38  Maximum Power 5s           345 non-null    float64\n",
      " 39  Maximum Power 10s          345 non-null    float64\n",
      " 40  Maximum Power 30s          345 non-null    float64\n",
      " 41  Maximum Power 1.0min       345 non-null    float64\n",
      " 42  Maximum Power 5.0min       345 non-null    float64\n",
      " 43  Maximum Power 10.0min      345 non-null    float64\n",
      " 44  Maximum Power 20.0min      345 non-null    float64\n",
      " 45  Maximum Power 30.0min      345 non-null    float64\n",
      " 46  Maximum Power 1.0 hr       345 non-null    float64\n",
      " 47  Maximum Power 1.5 hr       345 non-null    float64\n",
      " 48  Maximum Power 2.0 hr       345 non-null    float64\n",
      "dtypes: bool(1), float64(41), int64(2), object(5)\n",
      "memory usage: 129.8+ KB\n"
     ]
    }
   ],
   "source": [
    "activities_data.info()"
   ]
  },
  {
   "cell_type": "code",
   "execution_count": 8,
   "metadata": {},
   "outputs": [
    {
     "data": {
      "text/html": [
       "<div>\n",
       "<style scoped>\n",
       "    .dataframe tbody tr th:only-of-type {\n",
       "        vertical-align: middle;\n",
       "    }\n",
       "\n",
       "    .dataframe tbody tr th {\n",
       "        vertical-align: top;\n",
       "    }\n",
       "\n",
       "    .dataframe thead th {\n",
       "        text-align: right;\n",
       "    }\n",
       "</style>\n",
       "<table border=\"1\" class=\"dataframe\">\n",
       "  <thead>\n",
       "    <tr style=\"text-align: right;\">\n",
       "      <th></th>\n",
       "      <th>Activity ID</th>\n",
       "      <th>Elapsed Time</th>\n",
       "      <th>Distance</th>\n",
       "      <th>Max Heart Rate</th>\n",
       "      <th>Relative Effort</th>\n",
       "      <th>Athlete Weight</th>\n",
       "      <th>Bike Weight</th>\n",
       "      <th>Moving Time</th>\n",
       "      <th>Max Speed</th>\n",
       "      <th>Average Speed</th>\n",
       "      <th>...</th>\n",
       "      <th>Maximum Power 10s</th>\n",
       "      <th>Maximum Power 30s</th>\n",
       "      <th>Maximum Power 1.0min</th>\n",
       "      <th>Maximum Power 5.0min</th>\n",
       "      <th>Maximum Power 10.0min</th>\n",
       "      <th>Maximum Power 20.0min</th>\n",
       "      <th>Maximum Power 30.0min</th>\n",
       "      <th>Maximum Power 1.0 hr</th>\n",
       "      <th>Maximum Power 1.5 hr</th>\n",
       "      <th>Maximum Power 2.0 hr</th>\n",
       "    </tr>\n",
       "  </thead>\n",
       "  <tbody>\n",
       "    <tr>\n",
       "      <th>count</th>\n",
       "      <td>3.450000e+02</td>\n",
       "      <td>345.000000</td>\n",
       "      <td>345.000000</td>\n",
       "      <td>345.000000</td>\n",
       "      <td>345.000000</td>\n",
       "      <td>345.000000</td>\n",
       "      <td>162.0</td>\n",
       "      <td>345.000000</td>\n",
       "      <td>345.000000</td>\n",
       "      <td>345.000000</td>\n",
       "      <td>...</td>\n",
       "      <td>345.000000</td>\n",
       "      <td>345.000000</td>\n",
       "      <td>345.000000</td>\n",
       "      <td>345.000000</td>\n",
       "      <td>345.000000</td>\n",
       "      <td>345.000000</td>\n",
       "      <td>345.000000</td>\n",
       "      <td>345.000000</td>\n",
       "      <td>345.000000</td>\n",
       "      <td>345.000000</td>\n",
       "    </tr>\n",
       "    <tr>\n",
       "      <th>mean</th>\n",
       "      <td>6.902344e+09</td>\n",
       "      <td>5979.898551</td>\n",
       "      <td>34.531594</td>\n",
       "      <td>160.881159</td>\n",
       "      <td>90.675362</td>\n",
       "      <td>80.046377</td>\n",
       "      <td>8.0</td>\n",
       "      <td>5756.182609</td>\n",
       "      <td>9.384317</td>\n",
       "      <td>5.409151</td>\n",
       "      <td>...</td>\n",
       "      <td>325.342899</td>\n",
       "      <td>277.945217</td>\n",
       "      <td>256.211594</td>\n",
       "      <td>226.977391</td>\n",
       "      <td>219.397101</td>\n",
       "      <td>213.540870</td>\n",
       "      <td>208.779130</td>\n",
       "      <td>149.720000</td>\n",
       "      <td>94.603768</td>\n",
       "      <td>44.874783</td>\n",
       "    </tr>\n",
       "    <tr>\n",
       "      <th>std</th>\n",
       "      <td>2.216048e+09</td>\n",
       "      <td>3386.451360</td>\n",
       "      <td>29.416878</td>\n",
       "      <td>20.664550</td>\n",
       "      <td>96.468992</td>\n",
       "      <td>0.428823</td>\n",
       "      <td>0.0</td>\n",
       "      <td>3212.340525</td>\n",
       "      <td>5.358274</td>\n",
       "      <td>2.395178</td>\n",
       "      <td>...</td>\n",
       "      <td>58.746424</td>\n",
       "      <td>41.920679</td>\n",
       "      <td>38.860312</td>\n",
       "      <td>43.435546</td>\n",
       "      <td>45.371032</td>\n",
       "      <td>45.956143</td>\n",
       "      <td>48.554844</td>\n",
       "      <td>92.424956</td>\n",
       "      <td>94.613402</td>\n",
       "      <td>79.101485</td>\n",
       "    </tr>\n",
       "    <tr>\n",
       "      <th>min</th>\n",
       "      <td>2.929442e+09</td>\n",
       "      <td>1506.000000</td>\n",
       "      <td>4.060000</td>\n",
       "      <td>118.000000</td>\n",
       "      <td>5.000000</td>\n",
       "      <td>80.000000</td>\n",
       "      <td>8.0</td>\n",
       "      <td>1506.000000</td>\n",
       "      <td>3.233984</td>\n",
       "      <td>2.696547</td>\n",
       "      <td>...</td>\n",
       "      <td>158.000000</td>\n",
       "      <td>157.100000</td>\n",
       "      <td>156.600000</td>\n",
       "      <td>127.600000</td>\n",
       "      <td>119.000000</td>\n",
       "      <td>115.300000</td>\n",
       "      <td>0.000000</td>\n",
       "      <td>0.000000</td>\n",
       "      <td>0.000000</td>\n",
       "      <td>0.000000</td>\n",
       "    </tr>\n",
       "    <tr>\n",
       "      <th>25%</th>\n",
       "      <td>3.758711e+09</td>\n",
       "      <td>3646.000000</td>\n",
       "      <td>12.150000</td>\n",
       "      <td>142.000000</td>\n",
       "      <td>25.000000</td>\n",
       "      <td>80.000000</td>\n",
       "      <td>8.0</td>\n",
       "      <td>3589.000000</td>\n",
       "      <td>4.600000</td>\n",
       "      <td>2.986536</td>\n",
       "      <td>...</td>\n",
       "      <td>290.200000</td>\n",
       "      <td>254.800000</td>\n",
       "      <td>230.100000</td>\n",
       "      <td>191.500000</td>\n",
       "      <td>181.900000</td>\n",
       "      <td>174.600000</td>\n",
       "      <td>170.300000</td>\n",
       "      <td>112.300000</td>\n",
       "      <td>0.000000</td>\n",
       "      <td>0.000000</td>\n",
       "    </tr>\n",
       "    <tr>\n",
       "      <th>50%</th>\n",
       "      <td>7.882339e+09</td>\n",
       "      <td>5583.000000</td>\n",
       "      <td>24.280000</td>\n",
       "      <td>160.000000</td>\n",
       "      <td>51.000000</td>\n",
       "      <td>80.000000</td>\n",
       "      <td>8.0</td>\n",
       "      <td>5472.000000</td>\n",
       "      <td>10.100000</td>\n",
       "      <td>6.111000</td>\n",
       "      <td>...</td>\n",
       "      <td>322.000000</td>\n",
       "      <td>283.400000</td>\n",
       "      <td>262.400000</td>\n",
       "      <td>237.500000</td>\n",
       "      <td>233.600000</td>\n",
       "      <td>229.200000</td>\n",
       "      <td>216.600000</td>\n",
       "      <td>168.400000</td>\n",
       "      <td>121.200000</td>\n",
       "      <td>0.000000</td>\n",
       "    </tr>\n",
       "    <tr>\n",
       "      <th>75%</th>\n",
       "      <td>8.334993e+09</td>\n",
       "      <td>7338.000000</td>\n",
       "      <td>52.230000</td>\n",
       "      <td>178.000000</td>\n",
       "      <td>127.000000</td>\n",
       "      <td>80.000000</td>\n",
       "      <td>8.0</td>\n",
       "      <td>7153.000000</td>\n",
       "      <td>12.438001</td>\n",
       "      <td>7.582000</td>\n",
       "      <td>...</td>\n",
       "      <td>352.300000</td>\n",
       "      <td>303.900000</td>\n",
       "      <td>282.400000</td>\n",
       "      <td>262.300000</td>\n",
       "      <td>256.700000</td>\n",
       "      <td>251.200000</td>\n",
       "      <td>248.500000</td>\n",
       "      <td>235.300000</td>\n",
       "      <td>172.900000</td>\n",
       "      <td>123.300000</td>\n",
       "    </tr>\n",
       "    <tr>\n",
       "      <th>max</th>\n",
       "      <td>1.027158e+10</td>\n",
       "      <td>22391.000000</td>\n",
       "      <td>180.080000</td>\n",
       "      <td>210.000000</td>\n",
       "      <td>528.000000</td>\n",
       "      <td>84.000000</td>\n",
       "      <td>8.0</td>\n",
       "      <td>21208.000000</td>\n",
       "      <td>45.083332</td>\n",
       "      <td>10.652900</td>\n",
       "      <td>...</td>\n",
       "      <td>637.400000</td>\n",
       "      <td>407.500000</td>\n",
       "      <td>342.800000</td>\n",
       "      <td>323.300000</td>\n",
       "      <td>319.300000</td>\n",
       "      <td>315.700000</td>\n",
       "      <td>301.500000</td>\n",
       "      <td>289.800000</td>\n",
       "      <td>287.600000</td>\n",
       "      <td>272.100000</td>\n",
       "    </tr>\n",
       "  </tbody>\n",
       "</table>\n",
       "<p>8 rows × 43 columns</p>\n",
       "</div>"
      ],
      "text/plain": [
       "        Activity ID  Elapsed Time    Distance  Max Heart Rate  \\\n",
       "count  3.450000e+02    345.000000  345.000000      345.000000   \n",
       "mean   6.902344e+09   5979.898551   34.531594      160.881159   \n",
       "std    2.216048e+09   3386.451360   29.416878       20.664550   \n",
       "min    2.929442e+09   1506.000000    4.060000      118.000000   \n",
       "25%    3.758711e+09   3646.000000   12.150000      142.000000   \n",
       "50%    7.882339e+09   5583.000000   24.280000      160.000000   \n",
       "75%    8.334993e+09   7338.000000   52.230000      178.000000   \n",
       "max    1.027158e+10  22391.000000  180.080000      210.000000   \n",
       "\n",
       "       Relative Effort  Athlete Weight  Bike Weight   Moving Time   Max Speed  \\\n",
       "count       345.000000      345.000000        162.0    345.000000  345.000000   \n",
       "mean         90.675362       80.046377          8.0   5756.182609    9.384317   \n",
       "std          96.468992        0.428823          0.0   3212.340525    5.358274   \n",
       "min           5.000000       80.000000          8.0   1506.000000    3.233984   \n",
       "25%          25.000000       80.000000          8.0   3589.000000    4.600000   \n",
       "50%          51.000000       80.000000          8.0   5472.000000   10.100000   \n",
       "75%         127.000000       80.000000          8.0   7153.000000   12.438001   \n",
       "max         528.000000       84.000000          8.0  21208.000000   45.083332   \n",
       "\n",
       "       Average Speed  ...  Maximum Power 10s  Maximum Power 30s  \\\n",
       "count     345.000000  ...         345.000000         345.000000   \n",
       "mean        5.409151  ...         325.342899         277.945217   \n",
       "std         2.395178  ...          58.746424          41.920679   \n",
       "min         2.696547  ...         158.000000         157.100000   \n",
       "25%         2.986536  ...         290.200000         254.800000   \n",
       "50%         6.111000  ...         322.000000         283.400000   \n",
       "75%         7.582000  ...         352.300000         303.900000   \n",
       "max        10.652900  ...         637.400000         407.500000   \n",
       "\n",
       "       Maximum Power 1.0min  Maximum Power 5.0min  Maximum Power 10.0min  \\\n",
       "count            345.000000            345.000000             345.000000   \n",
       "mean             256.211594            226.977391             219.397101   \n",
       "std               38.860312             43.435546              45.371032   \n",
       "min              156.600000            127.600000             119.000000   \n",
       "25%              230.100000            191.500000             181.900000   \n",
       "50%              262.400000            237.500000             233.600000   \n",
       "75%              282.400000            262.300000             256.700000   \n",
       "max              342.800000            323.300000             319.300000   \n",
       "\n",
       "       Maximum Power 20.0min  Maximum Power 30.0min  Maximum Power 1.0 hr  \\\n",
       "count             345.000000             345.000000            345.000000   \n",
       "mean              213.540870             208.779130            149.720000   \n",
       "std                45.956143              48.554844             92.424956   \n",
       "min               115.300000               0.000000              0.000000   \n",
       "25%               174.600000             170.300000            112.300000   \n",
       "50%               229.200000             216.600000            168.400000   \n",
       "75%               251.200000             248.500000            235.300000   \n",
       "max               315.700000             301.500000            289.800000   \n",
       "\n",
       "       Maximum Power 1.5 hr  Maximum Power 2.0 hr  \n",
       "count            345.000000            345.000000  \n",
       "mean              94.603768             44.874783  \n",
       "std               94.613402             79.101485  \n",
       "min                0.000000              0.000000  \n",
       "25%                0.000000              0.000000  \n",
       "50%              121.200000              0.000000  \n",
       "75%              172.900000            123.300000  \n",
       "max              287.600000            272.100000  \n",
       "\n",
       "[8 rows x 43 columns]"
      ]
     },
     "execution_count": 8,
     "metadata": {},
     "output_type": "execute_result"
    }
   ],
   "source": [
    "# Data summary\n",
    "activities_data.describe()"
   ]
  },
  {
   "cell_type": "markdown",
   "metadata": {},
   "source": [
    "#### Missing values\n"
   ]
  },
  {
   "cell_type": "code",
   "execution_count": 9,
   "metadata": {},
   "outputs": [
    {
     "data": {
      "text/plain": [
       "Activity Gear                183\n",
       "Bike Weight                  183\n",
       "Elevation Gain                 1\n",
       "Elevation Loss                 7\n",
       "Elevation Low                  7\n",
       "Elevation High                 7\n",
       "Average Temperature          161\n",
       "Total Work                   148\n",
       "Perceived Exertion           344\n",
       "Prefer Perceived Exertion    343\n",
       "Perceived Relative Effort    344\n",
       "Grade Adjusted Distance      182\n",
       "Average Elapsed Speed         89\n",
       "Dirt Distance                 89\n",
       "Total Steps                  337\n",
       "dtype: int64"
      ]
     },
     "execution_count": 9,
     "metadata": {},
     "output_type": "execute_result"
    }
   ],
   "source": [
    "# Sum the total rows of missing values from each attribute\n",
    "missing_values = activities_data.isnull().sum()\n",
    "\n",
    "# Return only attrbutes with missing values\n",
    "missing_values[missing_values > 0]"
   ]
  },
  {
   "cell_type": "markdown",
   "metadata": {},
   "source": [
    "**Handle attributes with more than 50% null values**"
   ]
  },
  {
   "cell_type": "code",
   "execution_count": 10,
   "metadata": {},
   "outputs": [],
   "source": [
    "# Remove attributes where 50% or more data is missing\n",
    "null_threshold = len(activities_data) * 0.5\n",
    "activities_clean = activities_data.dropna(thresh=null_threshold, axis=1)"
   ]
  },
  {
   "cell_type": "markdown",
   "metadata": {},
   "source": [
    "**Handle attributes with less than 50% null values**"
   ]
  },
  {
   "cell_type": "code",
   "execution_count": 11,
   "metadata": {},
   "outputs": [
    {
     "name": "stdout",
     "output_type": "stream",
     "text": [
      "<class 'pandas.core.frame.DataFrame'>\n",
      "RangeIndex: 345 entries, 0 to 344\n",
      "Data columns (total 42 columns):\n",
      " #   Column                  Non-Null Count  Dtype  \n",
      "---  ------                  --------------  -----  \n",
      " 0   Activity ID             345 non-null    int64  \n",
      " 1   Activity Date           345 non-null    object \n",
      " 2   Activity Name           345 non-null    object \n",
      " 3   Activity Type           345 non-null    object \n",
      " 4   Elapsed Time            345 non-null    int64  \n",
      " 5   Distance                345 non-null    float64\n",
      " 6   Max Heart Rate          345 non-null    float64\n",
      " 7   Relative Effort         345 non-null    float64\n",
      " 8   Commute                 345 non-null    bool   \n",
      " 9   Filename                345 non-null    object \n",
      " 10  Athlete Weight          345 non-null    float64\n",
      " 11  Moving Time             345 non-null    float64\n",
      " 12  Max Speed               345 non-null    float64\n",
      " 13  Average Speed           345 non-null    float64\n",
      " 14  Elevation Gain          345 non-null    float64\n",
      " 15  Elevation Loss          345 non-null    float64\n",
      " 16  Elevation Low           345 non-null    float64\n",
      " 17  Elevation High          345 non-null    float64\n",
      " 18  Max Grade               345 non-null    float64\n",
      " 19  Average Grade           345 non-null    float64\n",
      " 20  Max Cadence             345 non-null    float64\n",
      " 21  Average Cadence         345 non-null    float64\n",
      " 22  Average Heart Rate      345 non-null    float64\n",
      " 23  Average Watts           345 non-null    float64\n",
      " 24  Calories                345 non-null    float64\n",
      " 25  Average Temperature     345 non-null    float64\n",
      " 26  Total Work              345 non-null    float64\n",
      " 27  Weighted Average Power  345 non-null    float64\n",
      " 28  Power Count             345 non-null    float64\n",
      " 29  Average Elapsed Speed   345 non-null    float64\n",
      " 30  Dirt Distance           345 non-null    float64\n",
      " 31  Maximum Power 5s        345 non-null    float64\n",
      " 32  Maximum Power 10s       345 non-null    float64\n",
      " 33  Maximum Power 30s       345 non-null    float64\n",
      " 34  Maximum Power 1.0min    345 non-null    float64\n",
      " 35  Maximum Power 5.0min    345 non-null    float64\n",
      " 36  Maximum Power 10.0min   345 non-null    float64\n",
      " 37  Maximum Power 20.0min   345 non-null    float64\n",
      " 38  Maximum Power 30.0min   345 non-null    float64\n",
      " 39  Maximum Power 1.0 hr    345 non-null    float64\n",
      " 40  Maximum Power 1.5 hr    345 non-null    float64\n",
      " 41  Maximum Power 2.0 hr    345 non-null    float64\n",
      "dtypes: bool(1), float64(35), int64(2), object(4)\n",
      "memory usage: 111.0+ KB\n"
     ]
    }
   ],
   "source": [
    "# Columns containing missing val less than 50% of attribute\n",
    "missing_val_cols = activities_clean.columns[(activities_clean.isnull().mean() > 0) & (activities_clean.isnull().mean() < 0.5)].tolist()\n",
    "\n",
    "imputer = SimpleImputer(strategy='median')\n",
    "activities_clean[missing_val_cols] = imputer.fit_transform(activities_clean[missing_val_cols])\n",
    "\n",
    "activities_clean.info()"
   ]
  },
  {
   "cell_type": "markdown",
   "metadata": {},
   "source": [
    "#### VO2 Max values simulation"
   ]
  },
  {
   "cell_type": "code",
   "execution_count": 13,
   "metadata": {},
   "outputs": [
    {
     "name": "stdout",
     "output_type": "stream",
     "text": [
      "   Activity ID          Activity Date Activity Name Activity Type  \\\n",
      "0   2929442069  13 Dec 2019, 01:46:07    Lunch Ride          Ride   \n",
      "1   2945780637  20 Dec 2019, 23:05:01  Morning Ride          Ride   \n",
      "2   2948028275  21 Dec 2019, 23:25:29  Morning Ride          Ride   \n",
      "3   2952462113  24 Dec 2019, 01:19:17    Lunch Ride          Ride   \n",
      "4   2956494096  26 Dec 2019, 00:09:08    Lunch Ride          Ride   \n",
      "\n",
      "   Elapsed Time  Distance  Max Heart Rate  Relative Effort  Commute  \\\n",
      "0          3859     22.97           139.0             11.0    False   \n",
      "1          4852     29.65           133.0             12.0    False   \n",
      "2          5817     32.38           139.0             19.0    False   \n",
      "3          3851     21.68           140.0             11.0    False   \n",
      "4          5843     32.36           131.0             14.0    False   \n",
      "\n",
      "                       Filename  ...  Maximum Power 1.0min  \\\n",
      "0  activities/3117764808.csv.gz  ...                 221.2   \n",
      "1  activities/3136634767.csv.gz  ...                 184.3   \n",
      "2  activities/3139195577.csv.gz  ...                 213.3   \n",
      "3  activities/3144285271.csv.gz  ...                 262.0   \n",
      "4  activities/3148981215.csv.gz  ...                 208.3   \n",
      "\n",
      "   Maximum Power 5.0min  Maximum Power 10.0min  Maximum Power 20.0min  \\\n",
      "0                 162.2                  136.3                  120.8   \n",
      "1                 150.6                  131.4                  122.1   \n",
      "2                 146.2                  135.1                  127.5   \n",
      "3                 161.9                  146.7                  139.7   \n",
      "4                 134.7                  124.0                  119.4   \n",
      "\n",
      "   Maximum Power 30.0min  Maximum Power 1.0 hr  Maximum Power 1.5 hr  \\\n",
      "0                  109.8                 105.4                   0.0   \n",
      "1                  120.3                 115.6                   0.0   \n",
      "2                  125.5                 110.2                 104.7   \n",
      "3                  134.0                 112.3                   0.0   \n",
      "4                  115.5                  99.8                  96.9   \n",
      "\n",
      "   Maximum Power 2.0 hr  Average Speed km/h    VO2 Max  \n",
      "0                   0.0           21.560399  22.243452  \n",
      "1                   0.0           22.834800  21.508333  \n",
      "2                   0.0           20.880001  20.773214  \n",
      "3                   0.0           20.509200  24.595833  \n",
      "4                   0.0           20.365200  20.731250  \n",
      "\n",
      "[5 rows x 44 columns]\n"
     ]
    }
   ],
   "source": [
    "# Convert speed from m/s to km/h for the calculation (1 m/s = 3.6 km/h)\n",
    "activities_clean['Average Speed km/h'] = activities_clean['Average Speed'] * 3.6\n",
    "\n",
    "# Define the function to calculate VO2 max based on available activity data\n",
    "def calculate_vo2_max(row):\n",
    "    activity_type = row['Activity Type'].lower()  \n",
    "    weight = row['Athlete Weight']\n",
    "    \n",
    "    # Defaults if data is missing\n",
    "    speed = row.get('Average Speed km/h', 0) or 0\n",
    "    power = row.get('Weighted Average Power', 0) or 0 \n",
    "    inclination = 0  # Assume flat if not available or applicable\n",
    "    \n",
    "    if 'ride' in activity_type or 'cycling' in activity_type:\n",
    "        return (12.35 * power + 300) / weight\n",
    "    elif 'run' in activity_type and 'hilly' in activity_type:\n",
    "        return 3.33 * speed + 15 * np.tan(np.radians(inclination)) * speed + 3.5\n",
    "    elif 'run' in activity_type:\n",
    "        return 3.5 * speed\n",
    "    elif 'walk' in activity_type:\n",
    "        return 1.78 * speed * 16.67 * (np.tan(np.radians(inclination)) + 0.073)\n",
    "    elif 'rowing' in activity_type:\n",
    "        return (14.72 * power + 250.39) / weight\n",
    "    return np.nan  # EDA step skipped\n",
    "\n",
    "# Apply the function to each row to calculate the VO2 max\n",
    "activities_clean['VO2 Max'] = activities_clean.apply(calculate_vo2_max, axis=1)\n",
    "\n",
    "# Save or display the results\n",
    "print(activities_clean.head())\n",
    "activities_clean.to_csv('simu_vo2_activities.csv', index=False)"
   ]
  },
  {
   "cell_type": "code",
   "execution_count": 15,
   "metadata": {},
   "outputs": [],
   "source": [
    "# Load the simulated data\n",
    "df_simulated = pd.read_csv('simu_vo2_activities.csv')\n",
    "\n",
    "# Separate the file into two different Activity Type dataframes\n",
    "ride_activities = df_simulated[df_simulated['Activity Type'] == 'Ride']\n",
    "run_activities = df_simulated[df_simulated['Activity Type'] == 'Run']\n",
    "\n",
    "run_vo2 = run_activities['VO2 Max']\n",
    "ride_vo2 = ride_activities['VO2 Max']\n"
   ]
  },
  {
   "cell_type": "markdown",
   "metadata": {},
   "source": [
    "#### Running data"
   ]
  },
  {
   "cell_type": "code",
   "execution_count": 16,
   "metadata": {},
   "outputs": [
    {
     "name": "stdout",
     "output_type": "stream",
     "text": [
      "count    164.000000\n",
      "mean      37.562164\n",
      "std        1.708170\n",
      "min       33.976493\n",
      "25%       36.482954\n",
      "50%       37.551946\n",
      "75%       38.529047\n",
      "max       45.311225\n",
      "Name: VO2 Max, dtype: float64\n"
     ]
    }
   ],
   "source": [
    "# Summary of simulated values\n",
    "summary_stats = run_vo2.describe()\n",
    "print(summary_stats)\n"
   ]
  },
  {
   "cell_type": "code",
   "execution_count": 25,
   "metadata": {},
   "outputs": [
    {
     "data": {
      "image/png": "[encoded data removed]",
      "text/plain": [
       "<Figure size 640x480 with 1 Axes>"
      ]
     },
     "metadata": {},
     "output_type": "display_data"
    }
   ],
   "source": [
    "# Distribution of simulated values\n",
    "import matplotlib.pyplot as plt\n",
    "\n",
    "run_vo2.hist(bins=20)\n",
    "plt.title('Distribution of Simulated VO2 Max Values in running')\n",
    "plt.xlabel('VO2 Max')\n",
    "plt.ylabel('Frequency')\n",
    "plt.show()\n"
   ]
  },
  {
   "cell_type": "code",
   "execution_count": 30,
   "metadata": {},
   "outputs": [
    {
     "data": {
      "image/png": "[encoded data removed]",
      "text/plain": [
       "<Figure size 800x600 with 1 Axes>"
      ]
     },
     "metadata": {},
     "output_type": "display_data"
    }
   ],
   "source": [
    "# Correlation matrix\n",
    "# Selecting relevant columns\n",
    "columns = ['Max Heart Rate', 'Average Heart Rate', 'Relative Effort', 'Moving Time',\n",
    "           'Max Speed', 'Average Speed', 'Distance', 'Average Watts', 'Calories', 'VO2 Max']\n",
    "data_selected_run = run_activities[columns]\n",
    "\n",
    "# Calculate the correlation with VO2 Max\n",
    "corr_with_vo2max = data_selected_run.corr()['VO2 Max'].sort_values(ascending=False)\n",
    "\n",
    "# Drop the self-correlation of VO2 Max\n",
    "corr_with_vo2max = corr_with_vo2max.drop('VO2 Max')\n",
    "\n",
    "# Visualizing the correlation with VO2 Max\n",
    "plt.figure(figsize=(8, 6))\n",
    "sns.barplot(x=corr_with_vo2max.values, y=corr_with_vo2max.index, palette='coolwarm')\n",
    "plt.title('Correlation of Variables with VO2 Max in Running activities')\n",
    "plt.xlabel('Correlation Coefficient')\n",
    "plt.show()"
   ]
  },
  {
   "cell_type": "markdown",
   "metadata": {},
   "source": [
    "#### Cycling data"
   ]
  },
  {
   "cell_type": "code",
   "execution_count": 20,
   "metadata": {},
   "outputs": [
    {
     "name": "stdout",
     "output_type": "stream",
     "text": [
      "count    181.000000\n",
      "mean      28.531994\n",
      "std        3.776591\n",
      "min       20.576875\n",
      "25%       25.980000\n",
      "50%       28.450000\n",
      "75%       30.765625\n",
      "max       40.800000\n",
      "Name: VO2 Max, dtype: float64\n"
     ]
    }
   ],
   "source": [
    "# Summary of simulated values\n",
    "summary_stats = ride_vo2.describe()\n",
    "print(summary_stats)\n"
   ]
  },
  {
   "cell_type": "code",
   "execution_count": 26,
   "metadata": {},
   "outputs": [
    {
     "data": {
      "image/png": "[encoded data removed]",
      "text/plain": [
       "<Figure size 640x480 with 1 Axes>"
      ]
     },
     "metadata": {},
     "output_type": "display_data"
    }
   ],
   "source": [
    "# Distribution of simulated values\n",
    "import matplotlib.pyplot as plt\n",
    "\n",
    "ride_vo2.hist(bins=20)\n",
    "plt.title('Distribution of Simulated VO2 Max Values in Cycling')\n",
    "plt.xlabel('VO2 Max')\n",
    "plt.ylabel('Frequency')\n",
    "plt.show()\n"
   ]
  },
  {
   "cell_type": "code",
   "execution_count": 29,
   "metadata": {},
   "outputs": [
    {
     "data": {
      "image/png": "[encoded data removed]",
      "text/plain": [
       "<Figure size 800x600 with 1 Axes>"
      ]
     },
     "metadata": {},
     "output_type": "display_data"
    }
   ],
   "source": [
    "# Correlation matrix\n",
    "# Selecting relevant columns\n",
    "columns = ['Max Heart Rate', 'Average Heart Rate', 'Relative Effort', 'Moving Time',\n",
    "           'Max Speed', 'Average Speed', 'Distance', 'Average Watts', 'Calories', 'VO2 Max']\n",
    "data_selected_ride = ride_activities[columns]\n",
    "\n",
    "# Calculate the correlation with VO2 Max\n",
    "corr_with_vo2max = data_selected_ride.corr()['VO2 Max'].sort_values(ascending=False)\n",
    "\n",
    "# Drop the self-correlation of VO2 Max\n",
    "corr_with_vo2max = corr_with_vo2max.drop('VO2 Max')\n",
    "\n",
    "# Visualizing the correlation with VO2 Max\n",
    "plt.figure(figsize=(8, 6))\n",
    "sns.barplot(x=corr_with_vo2max.values, y=corr_with_vo2max.index, palette='coolwarm')\n",
    "plt.title('Correlation of Variables with VO2 Max in Cycling activities')\n",
    "plt.xlabel('Correlation Coefficient')\n",
    "plt.show()"
   ]
  },
  {
   "cell_type": "markdown",
   "metadata": {},
   "source": [
    "- Both running and cycling activities show that Average Speed is a strong predictor of VO2 Max, indicating that the ability to maintain higher speeds is closely linked to oxygen capacity. \n",
    "- In cycling, Average Watts, a measure of power output, has a significant strong correlation with VO2 Max, indicating the importance of intense exercises in cycling performance. \n",
    "- Max Heart Rate and Relative Effort are positively correlated with VO2 Max in both activities, suggesting the relation between oxygen capacity and cardiovascular strength and how hard the person is working relative to their fitness level. \n",
    "- Max Speed shows a very weak negative correlation in running and insignificant positvie correlation in cycling, might suggest that peak speed doesn't align with peak oxygen capacity of the athlete."
   ]
  },
  {
   "cell_type": "markdown",
   "metadata": {},
   "source": [
    "#### Predictive model for running activities"
   ]
  },
  {
   "cell_type": "code",
   "execution_count": null,
   "metadata": {},
   "outputs": [
    {
     "name": "stdout",
     "output_type": "stream",
     "text": [
      "Mean Squared Error: 0.7145746369362491\n",
      "R² Score: 0.974984319741716\n"
     ]
    }
   ],
   "source": [
    "# Predictive modeling for running\n",
    "\n",
    "from sklearn.model_selection import train_test_split\n",
    "from sklearn.ensemble import RandomForestRegressor\n",
    "from sklearn.metrics import mean_squared_error, r2_score\n",
    "\n",
    "# Preparing the data\n",
    "X = data_selected_run.drop('VO2 Max', axis=1)\n",
    "y = data_selected_run['VO2 Max']\n",
    "\n",
    "# Splitting the dataset into training and testing sets\n",
    "X_train, X_test, y_train, y_test = train_test_split(X, y, test_size=0.2, random_state=42)\n",
    "\n",
    "# Training a Random Forest Regressor\n",
    "model = RandomForestRegressor(n_estimators=100, random_state=42)\n",
    "model.fit(X_train, y_train)\n",
    "\n",
    "# Predicting and evaluating the model\n",
    "y_pred = model.predict(X_test)\n",
    "print(\"Mean Squared Error:\", mean_squared_error(y_test, y_pred))\n",
    "print(\"R² Score:\", r2_score(y_test, y_pred))"
   ]
  },
  {
   "cell_type": "code",
   "execution_count": 31,
   "metadata": {},
   "outputs": [
    {
     "name": "stdout",
     "output_type": "stream",
     "text": [
      "Cross-Validation Scores: [0.99707103 0.99562146 0.99539662 0.83162376 0.96245564]\n",
      "Mean CV Score: 0.9564337002314623\n",
      "Mean Squared Error: 0.04061044291167002\n",
      "Root Mean Squared Error: 0.20152032878017548\n",
      "R-squared: 0.9895908784566599\n"
     ]
    }
   ],
   "source": [
    "from sklearn.model_selection import train_test_split, cross_val_score\n",
    "from sklearn.ensemble import RandomForestRegressor\n",
    "from sklearn.metrics import mean_squared_error, r2_score\n",
    "from sklearn.preprocessing import StandardScaler\n",
    "\n",
    "# Data split\n",
    "X = data_selected_run.drop('VO2 Max', axis=1)\n",
    "y = data_selected_run['VO2 Max']\n",
    "\n",
    "# Split the data into training and test sets\n",
    "X_train, X_test, y_train, y_test = train_test_split(X, y, test_size=0.2, random_state=42)\n",
    "\n",
    "# Feature Scaling\n",
    "scaler = StandardScaler()\n",
    "X_train_scaled = scaler.fit_transform(X_train)\n",
    "X_test_scaled = scaler.transform(X_test)\n",
    "\n",
    "# Model Training\n",
    "\n",
    "rf = RandomForestRegressor(n_estimators=100, random_state=42)\n",
    "\n",
    "# Fit the model\n",
    "rf.fit(X_train_scaled, y_train)\n",
    "\n",
    "# Model Evaluation\n",
    "\n",
    "# Perform cross-validation\n",
    "cv_scores = cross_val_score(rf, X_train_scaled, y_train, cv=5)\n",
    "\n",
    "# Predict on the test set\n",
    "y_pred = rf.predict(X_test_scaled)\n",
    "\n",
    "# Calculate metrics\n",
    "mse = mean_squared_error(y_test, y_pred)\n",
    "rmse = np.sqrt(mse)\n",
    "r2 = r2_score(y_test, y_pred)\n",
    "\n",
    "print(f'Cross-Validation Scores: {cv_scores}')\n",
    "print(f'Mean CV Score: {cv_scores.mean()}')\n",
    "print(f'Mean Squared Error: {mse}')\n",
    "print(f'Root Mean Squared Error: {rmse}')\n",
    "print(f'R-squared: {r2}')"
   ]
  },
  {
   "cell_type": "code",
   "execution_count": 36,
   "metadata": {},
   "outputs": [
    {
     "data": {
      "image/png": "[encoded data removed]",
      "text/plain": [
       "<Figure size 1000x600 with 1 Axes>"
      ]
     },
     "metadata": {},
     "output_type": "display_data"
    }
   ],
   "source": [
    "# Visualization\n",
    "\n",
    "# Plotting the true vs predicted values\n",
    "plt.figure(figsize=(10, 6))\n",
    "sns.scatterplot(x= y_test, y= y_pred, alpha=0.6)\n",
    "sns.lineplot(x= y_test, y= y_test, color='red')\n",
    "plt.xlabel('True VO2 Max')\n",
    "plt.ylabel('Predicted VO2 Max')\n",
    "plt.title('True vs Predicted VO2 Max')\n",
    "plt.show()\n"
   ]
  },
  {
   "cell_type": "code",
   "execution_count": null,
   "metadata": {},
   "outputs": [],
   "source": []
  }
 ],
 "metadata": {
  "kernelspec": {
   "display_name": "Redback_venv",
   "language": "python",
   "name": "python3"
  },
  "language_info": {
   "codemirror_mode": {
    "name": "ipython",
    "version": 3
   },
   "file_extension": ".py",
   "mimetype": "text/x-python",
   "name": "python",
   "nbconvert_exporter": "python",
   "pygments_lexer": "ipython3",
   "version": "3.10.5"
  }
 },
 "nbformat": 4,
 "nbformat_minor": 2
}
