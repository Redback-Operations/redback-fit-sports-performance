{
 "cells": [
  {
   "cell_type": "code",
   "execution_count": 2,
   "id": "328bb17c",
   "metadata": {},
   "outputs": [],
   "source": [
    "# Import Libraries\n",
    "# Explanation: Load libraries for data processing, visualization, and modeling\n",
    "import pandas as pd\n",
    "import numpy as np\n",
    "import matplotlib.pyplot as plt\n",
    "import seaborn as sns\n",
    "\n",
    "# Explanation: Import scikit-learn tools for regression and evaluation\n",
    "from sklearn.linear_model import LinearRegression\n",
    "from sklearn.model_selection import train_test_split\n",
    "from sklearn.metrics import mean_absolute_error, mean_squared_error, r2_score\n",
    "\n",
    "# Explanation: Set plotting style\n",
    "sns.set(style=\"whitegrid\")\n"
   ]
  },
  {
   "cell_type": "code",
   "execution_count": 3,
   "id": "901b4f23",
   "metadata": {
    "scrolled": true
   },
   "outputs": [
    {
     "data": {
      "text/html": [
       "<div>\n",
       "<style scoped>\n",
       "    .dataframe tbody tr th:only-of-type {\n",
       "        vertical-align: middle;\n",
       "    }\n",
       "\n",
       "    .dataframe tbody tr th {\n",
       "        vertical-align: top;\n",
       "    }\n",
       "\n",
       "    .dataframe thead th {\n",
       "        text-align: right;\n",
       "    }\n",
       "</style>\n",
       "<table border=\"1\" class=\"dataframe\">\n",
       "  <thead>\n",
       "    <tr style=\"text-align: right;\">\n",
       "      <th></th>\n",
       "      <th>Activity Type</th>\n",
       "      <th>Date</th>\n",
       "      <th>Title</th>\n",
       "      <th>Distance</th>\n",
       "      <th>Calories</th>\n",
       "      <th>Time</th>\n",
       "      <th>Avg HR</th>\n",
       "      <th>Max HR</th>\n",
       "      <th>Avg Run Cadence</th>\n",
       "      <th>Max Run Cadence</th>\n",
       "      <th>Avg Pace</th>\n",
       "      <th>Best Pace</th>\n",
       "      <th>Elev Gain</th>\n",
       "      <th>Elev Loss</th>\n",
       "      <th>Avg Stride Length</th>\n",
       "      <th>Best Lap Time</th>\n",
       "      <th>Number of Laps</th>\n",
       "    </tr>\n",
       "  </thead>\n",
       "  <tbody>\n",
       "    <tr>\n",
       "      <th>0</th>\n",
       "      <td>Running</td>\n",
       "      <td>7/15/20 9:41</td>\n",
       "      <td>Cherry Hill Running</td>\n",
       "      <td>6.00</td>\n",
       "      <td>530</td>\n",
       "      <td>0:43:55</td>\n",
       "      <td>141</td>\n",
       "      <td>160</td>\n",
       "      <td>176</td>\n",
       "      <td>182</td>\n",
       "      <td>7:19</td>\n",
       "      <td>6:20</td>\n",
       "      <td>169</td>\n",
       "      <td>173</td>\n",
       "      <td>1.26</td>\n",
       "      <td>00:02.3</td>\n",
       "      <td>7</td>\n",
       "    </tr>\n",
       "    <tr>\n",
       "      <th>1</th>\n",
       "      <td>Running</td>\n",
       "      <td>7/14/20 17:45</td>\n",
       "      <td>Cherry Hill Running</td>\n",
       "      <td>6.50</td>\n",
       "      <td>587</td>\n",
       "      <td>0:47:04</td>\n",
       "      <td>144</td>\n",
       "      <td>160</td>\n",
       "      <td>172</td>\n",
       "      <td>182</td>\n",
       "      <td>7:14</td>\n",
       "      <td>6:35</td>\n",
       "      <td>183</td>\n",
       "      <td>187</td>\n",
       "      <td>1.29</td>\n",
       "      <td>03:32.7</td>\n",
       "      <td>7</td>\n",
       "    </tr>\n",
       "    <tr>\n",
       "      <th>2</th>\n",
       "      <td>Running</td>\n",
       "      <td>7/13/20 18:57</td>\n",
       "      <td>Cherry Hill Running</td>\n",
       "      <td>5.01</td>\n",
       "      <td>392</td>\n",
       "      <td>0:40:29</td>\n",
       "      <td>128</td>\n",
       "      <td>151</td>\n",
       "      <td>170</td>\n",
       "      <td>180</td>\n",
       "      <td>8:05</td>\n",
       "      <td>5:49</td>\n",
       "      <td>124</td>\n",
       "      <td>124</td>\n",
       "      <td>1.17</td>\n",
       "      <td>00:04.1</td>\n",
       "      <td>6</td>\n",
       "    </tr>\n",
       "    <tr>\n",
       "      <th>3</th>\n",
       "      <td>Running</td>\n",
       "      <td>7/12/20 18:44</td>\n",
       "      <td>Cherry Hill Running</td>\n",
       "      <td>7.01</td>\n",
       "      <td>633</td>\n",
       "      <td>0:52:55</td>\n",
       "      <td>142</td>\n",
       "      <td>157</td>\n",
       "      <td>172</td>\n",
       "      <td>180</td>\n",
       "      <td>7:33</td>\n",
       "      <td>5:00</td>\n",
       "      <td>215</td>\n",
       "      <td>219</td>\n",
       "      <td>1.24</td>\n",
       "      <td>00:05.1</td>\n",
       "      <td>8</td>\n",
       "    </tr>\n",
       "    <tr>\n",
       "      <th>4</th>\n",
       "      <td>Running</td>\n",
       "      <td>7/11/20 19:35</td>\n",
       "      <td>Cherry Hill Running</td>\n",
       "      <td>5.19</td>\n",
       "      <td>419</td>\n",
       "      <td>0:41:35</td>\n",
       "      <td>129</td>\n",
       "      <td>143</td>\n",
       "      <td>170</td>\n",
       "      <td>178</td>\n",
       "      <td>8:01</td>\n",
       "      <td>6:48</td>\n",
       "      <td>76</td>\n",
       "      <td>80</td>\n",
       "      <td>1.18</td>\n",
       "      <td>01:27.1</td>\n",
       "      <td>6</td>\n",
       "    </tr>\n",
       "  </tbody>\n",
       "</table>\n",
       "</div>"
      ],
      "text/plain": [
       "  Activity Type           Date                Title  Distance Calories  \\\n",
       "0       Running   7/15/20 9:41  Cherry Hill Running      6.00      530   \n",
       "1       Running  7/14/20 17:45  Cherry Hill Running      6.50      587   \n",
       "2       Running  7/13/20 18:57  Cherry Hill Running      5.01      392   \n",
       "3       Running  7/12/20 18:44  Cherry Hill Running      7.01      633   \n",
       "4       Running  7/11/20 19:35  Cherry Hill Running      5.19      419   \n",
       "\n",
       "      Time Avg HR Max HR Avg Run Cadence Max Run Cadence Avg Pace Best Pace  \\\n",
       "0  0:43:55    141    160             176             182     7:19      6:20   \n",
       "1  0:47:04    144    160             172             182     7:14      6:35   \n",
       "2  0:40:29    128    151             170             180     8:05      5:49   \n",
       "3  0:52:55    142    157             172             180     7:33      5:00   \n",
       "4  0:41:35    129    143             170             178     8:01      6:48   \n",
       "\n",
       "  Elev Gain Elev Loss  Avg Stride Length Best Lap Time  Number of Laps  \n",
       "0       169       173               1.26       00:02.3               7  \n",
       "1       183       187               1.29       03:32.7               7  \n",
       "2       124       124               1.17       00:04.1               6  \n",
       "3       215       219               1.24       00:05.1               8  \n",
       "4        76        80               1.18       01:27.1               6  "
      ]
     },
     "execution_count": 3,
     "metadata": {},
     "output_type": "execute_result"
    }
   ],
   "source": [
    "# Load Dataset\n",
    "# Explanation: Load hydration-related session data\n",
    "df = pd.read_csv(\"Garmin_run_data.csv\")  # Replace with actual dataset path\n",
    "df.head()\n"
   ]
  },
  {
   "cell_type": "code",
   "execution_count": 4,
   "id": "8959e495",
   "metadata": {},
   "outputs": [],
   "source": [
    "# Step 3: Convert time (e.g., 0:43:55 or 03:32.7) to total minutes\n",
    "# Explanation: Convert a time string to a float representing total minutes\n",
    "def convert_to_minutes(time_str):\n",
    "    try:\n",
    "        parts = list(map(int, time_str.split(':')))\n",
    "        if len(parts) == 3:\n",
    "            return parts[0]*60 + parts[1] + parts[2]/60\n",
    "        elif len(parts) == 2:\n",
    "            return parts[0] + parts[1]/60\n",
    "    except:\n",
    "        return np.nan\n",
    "\n",
    "# Explanation: Apply time conversion to new column\n",
    "df['Time (min)'] = df['Time'].apply(convert_to_minutes)\n"
   ]
  },
  {
   "cell_type": "code",
   "execution_count": 5,
   "id": "4d93d443",
   "metadata": {},
   "outputs": [],
   "source": [
    "# Step 4: Convert Avg Pace (e.g., 7:19) to seconds per km\n",
    "# Explanation: Convert pace string to total seconds per km\n",
    "def pace_to_seconds(pace_str):\n",
    "    try:\n",
    "        minutes, seconds = map(int, pace_str.split(':'))\n",
    "        return minutes * 60 + seconds\n",
    "    except:\n",
    "        return np.nan\n",
    "\n",
    "# Explanation: Apply pace conversion\n",
    "df['Avg Pace (sec)'] = df['Avg Pace'].apply(pace_to_seconds)\n"
   ]
  },
  {
   "cell_type": "code",
   "execution_count": 6,
   "id": "a9390fdf",
   "metadata": {},
   "outputs": [],
   "source": [
    "# Step 5: Clean numeric columns\n",
    "# Explanation: Convert columns to numeric and handle errors\n",
    "df['Distance'] = pd.to_numeric(df['Distance'], errors='coerce')\n",
    "df['Avg HR'] = pd.to_numeric(df['Avg HR'], errors='coerce')\n",
    "df['Calories'] = pd.to_numeric(df['Calories'], errors='coerce')\n"
   ]
  },
  {
   "cell_type": "code",
   "execution_count": 14,
   "id": "af0d2de7",
   "metadata": {},
   "outputs": [],
   "source": [
    "# Step 6: Create synthetic hydration target using simple sports science logic\n",
    "# Explanation: Estimate hydration need in mL/hr based on calories and heart rate\n",
    "df['Hydration Need (mL/hr)'] = 400 + 0.5 * df['Calories'] + 0.2 * df['Avg HR']\n"
   ]
  },
  {
   "cell_type": "code",
   "execution_count": 15,
   "id": "4852fd1d",
   "metadata": {},
   "outputs": [],
   "source": [
    "# Step 7: Drop missing values\n",
    "# Explanation: Remove any rows with NaN after all conversions\n",
    "df = df.dropna()"
   ]
  },
  {
   "cell_type": "code",
   "execution_count": 17,
   "id": "7eea063c",
   "metadata": {},
   "outputs": [],
   "source": [
    "# Step 8: Create feature matrix and target\n",
    "# Explanation: Select only the columns that actually exist in your dataset\n",
    "X = df[['Avg HR', 'Time (min)', 'Avg Pace (sec)', 'Calories']]\n",
    "\n",
    "# Explanation: Select target hydration need column\n",
    "y = df['Hydration Need (mL/hr)']\n"
   ]
  },
  {
   "cell_type": "code",
   "execution_count": 18,
   "id": "78e03cbd",
   "metadata": {},
   "outputs": [],
   "source": [
    "# Step 9: Split dataset\n",
    "# Explanation: Use 80% of data for training, 20% for testing\n",
    "X_train, X_test, y_train, y_test = train_test_split(X, y, test_size=0.2, random_state=42)\n"
   ]
  },
  {
   "cell_type": "code",
   "execution_count": 19,
   "id": "39c22864",
   "metadata": {},
   "outputs": [
    {
     "data": {
      "text/plain": [
       "LinearRegression()"
      ]
     },
     "execution_count": 19,
     "metadata": {},
     "output_type": "execute_result"
    }
   ],
   "source": [
    "# Step 10: Train model\n",
    "# Explanation: Create and train a linear regression model\n",
    "model = LinearRegression()\n",
    "model.fit(X_train, y_train)\n"
   ]
  },
  {
   "cell_type": "code",
   "execution_count": 20,
   "id": "157edf25",
   "metadata": {},
   "outputs": [
    {
     "name": "stdout",
     "output_type": "stream",
     "text": [
      "MAE: 0.00\n",
      "MSE: 0.00\n",
      "RMSE: 0.00\n",
      "R² Score: 1.00\n"
     ]
    }
   ],
   "source": [
    "# Step 11: Evaluate model\n",
    "# Explanation: Generate predictions and compute evaluation metrics\n",
    "y_pred = model.predict(X_test)\n",
    "\n",
    "mae = mean_absolute_error(y_test, y_pred)\n",
    "mse = mean_squared_error(y_test, y_pred)\n",
    "rmse = np.sqrt(mse)\n",
    "r2 = r2_score(y_test, y_pred)\n",
    "\n",
    "print(f\"MAE: {mae:.2f}\")\n",
    "print(f\"MSE: {mse:.2f}\")\n",
    "print(f\"RMSE: {rmse:.2f}\")\n",
    "print(f\"R² Score: {r2:.2f}\")\n"
   ]
  },
  {
   "cell_type": "code",
   "execution_count": 21,
   "id": "008a30f1",
   "metadata": {},
   "outputs": [
    {
     "data": {
      "image/png": "[encoded data removed]",
      "text/plain": [
       "<Figure size 432x288 with 1 Axes>"
      ]
     },
     "metadata": {},
     "output_type": "display_data"
    }
   ],
   "source": [
    "# Step 12: Visualize predictions vs actual\n",
    "# Explanation: Compare predicted vs actual hydration needs\n",
    "plt.scatter(y_test, y_pred)\n",
    "plt.xlabel(\"Actual Hydration Need\")\n",
    "plt.ylabel(\"Predicted Hydration Need\")\n",
    "plt.title(\"Actual vs Predicted Hydration Need\")\n",
    "plt.plot([y.min(), y.max()], [y.min(), y.max()], 'k--', lw=2)\n",
    "plt.show()\n"
   ]
  },
  {
   "cell_type": "code",
   "execution_count": null,
   "id": "56f4b3b1",
   "metadata": {},
   "outputs": [],
   "source": []
  }
 ],
 "metadata": {
  "kernelspec": {
   "display_name": "Python 3 (ipykernel)",
   "language": "python",
   "name": "python3"
  },
  "language_info": {
   "codemirror_mode": {
    "name": "ipython",
    "version": 3
   },
   "file_extension": ".py",
   "mimetype": "text/x-python",
   "name": "python",
   "nbconvert_exporter": "python",
   "pygments_lexer": "ipython3",
   "version": "3.9.7"
  }
 },
 "nbformat": 4,
 "nbformat_minor": 5
}
