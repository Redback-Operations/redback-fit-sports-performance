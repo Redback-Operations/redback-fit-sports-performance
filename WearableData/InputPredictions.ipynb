{
  "cells": [
    {
      "cell_type": "markdown",
      "metadata": {
        "id": "djSiINz6L0kq"
      },
      "source": [
        "# Input Predictions Model\n",
        "# --------------------------------------\n",
        "# Description:\n",
        "# This notebook focuses on developing models and equations that enable\n",
        "# predicting missing values in daily exercise data. Given three out of the\n",
        "# four variables (Steps, Minutes, Calories Burned, Total Distance),\n",
        "# the goal is to reasonably predict the missing value based on the available inputs.\n",
        "# These models are essential for scenarios where partial data is available,\n",
        "# and an educated guess is needed for the missing piece.\n",
        "\n",
        "# Author: Darren McCauley\n",
        "# Date: April 2025"
      ]
    },
    {
      "cell_type": "code",
      "execution_count": null,
      "metadata": {
        "colab": {
          "base_uri": "https://localhost:8080/",
          "height": 73
        },
        "id": "bUUvFf0WLdeC",
        "outputId": "684ddf8c-ee4d-4455-a6d9-62daf7aa2cbc"
      },
      "outputs": [
        {
          "output_type": "display_data",
          "data": {
            "text/plain": [
              "<IPython.core.display.HTML object>"
            ],
            "text/html": [
              "\n",
              "     <input type=\"file\" id=\"files-a83b3391-b44a-4d1e-901c-df7685e04a63\" name=\"files[]\" multiple disabled\n",
              "        style=\"border:none\" />\n",
              "     <output id=\"result-a83b3391-b44a-4d1e-901c-df7685e04a63\">\n",
              "      Upload widget is only available when the cell has been executed in the\n",
              "      current browser session. Please rerun this cell to enable.\n",
              "      </output>\n",
              "      <script>// Copyright 2017 Google LLC\n",
              "//\n",
              "// Licensed under the Apache License, Version 2.0 (the \"License\");\n",
              "// you may not use this file except in compliance with the License.\n",
              "// You may obtain a copy of the License at\n",
              "//\n",
              "//      http://www.apache.org/licenses/LICENSE-2.0\n",
              "//\n",
              "// Unless required by applicable law or agreed to in writing, software\n",
              "// distributed under the License is distributed on an \"AS IS\" BASIS,\n",
              "// WITHOUT WARRANTIES OR CONDITIONS OF ANY KIND, either express or implied.\n",
              "// See the License for the specific language governing permissions and\n",
              "// limitations under the License.\n",
              "\n",
              "/**\n",
              " * @fileoverview Helpers for google.colab Python module.\n",
              " */\n",
              "(function(scope) {\n",
              "function span(text, styleAttributes = {}) {\n",
              "  const element = document.createElement('span');\n",
              "  element.textContent = text;\n",
              "  for (const key of Object.keys(styleAttributes)) {\n",
              "    element.style[key] = styleAttributes[key];\n",
              "  }\n",
              "  return element;\n",
              "}\n",
              "\n",
              "// Max number of bytes which will be uploaded at a time.\n",
              "const MAX_PAYLOAD_SIZE = 100 * 1024;\n",
              "\n",
              "function _uploadFiles(inputId, outputId) {\n",
              "  const steps = uploadFilesStep(inputId, outputId);\n",
              "  const outputElement = document.getElementById(outputId);\n",
              "  // Cache steps on the outputElement to make it available for the next call\n",
              "  // to uploadFilesContinue from Python.\n",
              "  outputElement.steps = steps;\n",
              "\n",
              "  return _uploadFilesContinue(outputId);\n",
              "}\n",
              "\n",
              "// This is roughly an async generator (not supported in the browser yet),\n",
              "// where there are multiple asynchronous steps and the Python side is going\n",
              "// to poll for completion of each step.\n",
              "// This uses a Promise to block the python side on completion of each step,\n",
              "// then passes the result of the previous step as the input to the next step.\n",
              "function _uploadFilesContinue(outputId) {\n",
              "  const outputElement = document.getElementById(outputId);\n",
              "  const steps = outputElement.steps;\n",
              "\n",
              "  const next = steps.next(outputElement.lastPromiseValue);\n",
              "  return Promise.resolve(next.value.promise).then((value) => {\n",
              "    // Cache the last promise value to make it available to the next\n",
              "    // step of the generator.\n",
              "    outputElement.lastPromiseValue = value;\n",
              "    return next.value.response;\n",
              "  });\n",
              "}\n",
              "\n",
              "/**\n",
              " * Generator function which is called between each async step of the upload\n",
              " * process.\n",
              " * @param {string} inputId Element ID of the input file picker element.\n",
              " * @param {string} outputId Element ID of the output display.\n",
              " * @return {!Iterable<!Object>} Iterable of next steps.\n",
              " */\n",
              "function* uploadFilesStep(inputId, outputId) {\n",
              "  const inputElement = document.getElementById(inputId);\n",
              "  inputElement.disabled = false;\n",
              "\n",
              "  const outputElement = document.getElementById(outputId);\n",
              "  outputElement.innerHTML = '';\n",
              "\n",
              "  const pickedPromise = new Promise((resolve) => {\n",
              "    inputElement.addEventListener('change', (e) => {\n",
              "      resolve(e.target.files);\n",
              "    });\n",
              "  });\n",
              "\n",
              "  const cancel = document.createElement('button');\n",
              "  inputElement.parentElement.appendChild(cancel);\n",
              "  cancel.textContent = 'Cancel upload';\n",
              "  const cancelPromise = new Promise((resolve) => {\n",
              "    cancel.onclick = () => {\n",
              "      resolve(null);\n",
              "    };\n",
              "  });\n",
              "\n",
              "  // Wait for the user to pick the files.\n",
              "  const files = yield {\n",
              "    promise: Promise.race([pickedPromise, cancelPromise]),\n",
              "    response: {\n",
              "      action: 'starting',\n",
              "    }\n",
              "  };\n",
              "\n",
              "  cancel.remove();\n",
              "\n",
              "  // Disable the input element since further picks are not allowed.\n",
              "  inputElement.disabled = true;\n",
              "\n",
              "  if (!files) {\n",
              "    return {\n",
              "      response: {\n",
              "        action: 'complete',\n",
              "      }\n",
              "    };\n",
              "  }\n",
              "\n",
              "  for (const file of files) {\n",
              "    const li = document.createElement('li');\n",
              "    li.append(span(file.name, {fontWeight: 'bold'}));\n",
              "    li.append(span(\n",
              "        `(${file.type || 'n/a'}) - ${file.size} bytes, ` +\n",
              "        `last modified: ${\n",
              "            file.lastModifiedDate ? file.lastModifiedDate.toLocaleDateString() :\n",
              "                                    'n/a'} - `));\n",
              "    const percent = span('0% done');\n",
              "    li.appendChild(percent);\n",
              "\n",
              "    outputElement.appendChild(li);\n",
              "\n",
              "    const fileDataPromise = new Promise((resolve) => {\n",
              "      const reader = new FileReader();\n",
              "      reader.onload = (e) => {\n",
              "        resolve(e.target.result);\n",
              "      };\n",
              "      reader.readAsArrayBuffer(file);\n",
              "    });\n",
              "    // Wait for the data to be ready.\n",
              "    let fileData = yield {\n",
              "      promise: fileDataPromise,\n",
              "      response: {\n",
              "        action: 'continue',\n",
              "      }\n",
              "    };\n",
              "\n",
              "    // Use a chunked sending to avoid message size limits. See b/62115660.\n",
              "    let position = 0;\n",
              "    do {\n",
              "      const length = Math.min(fileData.byteLength - position, MAX_PAYLOAD_SIZE);\n",
              "      const chunk = new Uint8Array(fileData, position, length);\n",
              "      position += length;\n",
              "\n",
              "      const base64 = btoa(String.fromCharCode.apply(null, chunk));\n",
              "      yield {\n",
              "        response: {\n",
              "          action: 'append',\n",
              "          file: file.name,\n",
              "          data: base64,\n",
              "        },\n",
              "      };\n",
              "\n",
              "      let percentDone = fileData.byteLength === 0 ?\n",
              "          100 :\n",
              "          Math.round((position / fileData.byteLength) * 100);\n",
              "      percent.textContent = `${percentDone}% done`;\n",
              "\n",
              "    } while (position < fileData.byteLength);\n",
              "  }\n",
              "\n",
              "  // All done.\n",
              "  yield {\n",
              "    response: {\n",
              "      action: 'complete',\n",
              "    }\n",
              "  };\n",
              "}\n",
              "\n",
              "scope.google = scope.google || {};\n",
              "scope.google.colab = scope.google.colab || {};\n",
              "scope.google.colab._files = {\n",
              "  _uploadFiles,\n",
              "  _uploadFilesContinue,\n",
              "};\n",
              "})(self);\n",
              "</script> "
            ]
          },
          "metadata": {}
        },
        {
          "output_type": "stream",
          "name": "stdout",
          "text": [
            "Saving ImprovedData.xlsx to ImprovedData.xlsx\n"
          ]
        }
      ],
      "source": [
        "from google.colab import files\n",
        "uploaded = files.upload()\n",
        "\n",
        "import pandas as pd\n",
        "df = pd.read_excel(\"ImprovedData.xlsx\", engine='openpyxl')"
      ]
    },
    {
      "cell_type": "code",
      "execution_count": null,
      "metadata": {
        "colab": {
          "base_uri": "https://localhost:8080/"
        },
        "id": "jnibJA1qMDv9",
        "outputId": "43a7fda7-bfa8-453a-d8e4-967cee42d71c"
      },
      "outputs": [
        {
          "output_type": "stream",
          "name": "stdout",
          "text": [
            "   Total_Distance  Very_Active_Distance  Moderately_Active_Distance  \\\n",
            "0            8.02                  2.03                        0.48   \n",
            "1            5.82                  2.28                        0.90   \n",
            "2            0.11                  0.00                        0.00   \n",
            "3            7.21                  0.00                        0.34   \n",
            "4            7.86                  0.34                        0.73   \n",
            "\n",
            "   Light_Active_Distance  Very_Active_Minutes  Fairly_Active_Minutes  \\\n",
            "0                   5.52                   26                     10   \n",
            "1                   2.64                   30                     16   \n",
            "2                   0.11                    0                      0   \n",
            "3                   6.87                    0                      7   \n",
            "4                   6.79                    6                     19   \n",
            "\n",
            "   Lightly_Active_Minutes  Sedentary_Minutes  Steps  Calories_Burned  \n",
            "0                     349                587  10449             2536  \n",
            "1                     135               1259   8001             2902  \n",
            "2                      12               1303    152             2100  \n",
            "3                     352               1077   9543             2450  \n",
            "4                     258               1020  10218             3013  \n"
          ]
        }
      ],
      "source": [
        "import numpy as np\n",
        "import matplotlib.pyplot as plt\n",
        "\n",
        "\n",
        "df1 = df.drop(columns=['UserID', 'Name', 'Location', 'Sedentary_Active_Distance'])\n",
        "\n",
        "print(df1.head())"
      ]
    },
    {
      "cell_type": "code",
      "execution_count": null,
      "metadata": {
        "colab": {
          "base_uri": "https://localhost:8080/"
        },
        "id": "_d5M9Il4MJje",
        "outputId": "9cd42b51-0b75-4448-e4c1-8f04efcadd3c"
      },
      "outputs": [
        {
          "output_type": "stream",
          "name": "stdout",
          "text": [
            "     Total_Distance  Steps  Calories_Burned  Minutes\n",
            "0              8.02  10449             2536      385\n",
            "1              5.82   8001             2902      181\n",
            "2              0.11    152             2100       12\n",
            "3              7.21   9543             2450      359\n",
            "4              7.86  10218             3013      283\n",
            "..              ...    ...              ...      ...\n",
            "858            0.89   1223             2140       38\n",
            "859            1.70   2524             1529      168\n",
            "860            7.35   9423             3012      289\n",
            "861            7.38   9603             2899      250\n",
            "862            3.55   5372             1827      220\n",
            "\n",
            "[863 rows x 4 columns]\n"
          ]
        }
      ],
      "source": [
        "df1['Minutes'] = df1['Very_Active_Minutes'] + df1['Fairly_Active_Minutes'] + df1['Lightly_Active_Minutes']\n",
        "df2 = df1[['Total_Distance', 'Steps', 'Calories_Burned', 'Minutes']]\n",
        "\n",
        "print(df2)"
      ]
    },
    {
      "cell_type": "markdown",
      "source": [
        "Now let's make a prediction of all the four variables based on the input of the other three inputs.\n",
        "\n",
        "# Input Prediction"
      ],
      "metadata": {
        "id": "L8_sAwB9TT7g"
      }
    },
    {
      "cell_type": "code",
      "execution_count": null,
      "metadata": {
        "colab": {
          "base_uri": "https://localhost:8080/"
        },
        "id": "y8xto5DkQEhD",
        "outputId": "9ab31a0e-af45-4aff-cc32-344bb6dfcd6f"
      },
      "outputs": [
        {
          "output_type": "stream",
          "name": "stdout",
          "text": [
            "Results for predicting Total_Distance:\n",
            "Regression Equation: Total_Distance = -1.300825 + (0.000810 * Steps) + (0.000700 * Calories_Burned) + (-0.000743 * Minutes) + (-0.003022 * OverallActivity)\n",
            "Mean Squared Error: 0.270168\n",
            "R-squared: 0.980421\n",
            "--------------------------------------------------\n",
            "Results for predicting Steps:\n",
            "Regression Equation: Steps = 1507.212473 + (1148.748924 * Total_Distance) + (-0.786162 * Calories_Burned) + (0.305087 * Minutes) + (5.619775 * OverallActivity)\n",
            "Mean Squared Error: 405238.602075\n",
            "R-squared: 0.982596\n",
            "--------------------------------------------------\n",
            "Results for predicting Calories_Burned:\n",
            "Regression Equation: Calories_Burned = 1778.509318 + (450.323511 * Total_Distance) + (-0.356527 * Steps) + (-2.154556 * Minutes) + (4.535263 * OverallActivity)\n",
            "Mean Squared Error: 216365.061235\n",
            "R-squared: 0.570029\n",
            "--------------------------------------------------\n",
            "Results for predicting Minutes:\n",
            "Regression Equation: Minutes = 96.485095 + (-5.170939 * Total_Distance) + (0.001495 * Steps) + (-0.023287 * Calories_Burned) + (0.726947 * OverallActivity)\n",
            "Mean Squared Error: 2176.048665\n",
            "R-squared: 0.843218\n",
            "--------------------------------------------------\n",
            "Results for predicting OverallActivity:\n",
            "Regression Equation: OverallActivity = -99.669677 + (-21.501645 * Total_Distance) + (0.028183 * Steps) + (0.050151 * Calories_Burned) + (0.743752 * Minutes)\n",
            "Mean Squared Error: 1835.741312\n",
            "R-squared: 0.924377\n",
            "--------------------------------------------------\n"
          ]
        }
      ],
      "source": [
        "from sklearn.model_selection import train_test_split\n",
        "from sklearn.linear_model import LinearRegression\n",
        "from sklearn.metrics import mean_squared_error, r2_score\n",
        "\n",
        "for target_col in df2.columns:\n",
        "    X = df2.drop(columns=[target_col])\n",
        "    y = df2[target_col]\n",
        "    X_train, X_test, y_train, y_test = train_test_split(X, y, test_size=0.2, random_state=42)\n",
        "\n",
        "    model = LinearRegression()\n",
        "    model.fit(X_train, y_train)\n",
        "\n",
        "    y_pred = model.predict(X_test)\n",
        "\n",
        "    mse = mean_squared_error(y_test, y_pred)\n",
        "    r2 = r2_score(y_test, y_pred)\n",
        "\n",
        "    # Show the regression equation with more decimal precision\n",
        "    equation = f\"{target_col} = {model.intercept_:.6f}\"\n",
        "    for coef, name in zip(model.coef_, X.columns):\n",
        "        equation += f\" + ({coef:.6f} * {name})\"\n",
        "\n",
        "    print(f\"Results for predicting {target_col}:\")\n",
        "    print(f\"Regression Equation: {equation}\")\n",
        "    print(f\"Mean Squared Error: {mse:.6f}\")\n",
        "    print(f\"R-squared: {r2:.6f}\")\n",
        "    print(\"-\" * 50)\n",
        "\n"
      ]
    },
    {
      "cell_type": "markdown",
      "source": [
        "Note:(At this point I created new feature columns in order to improve prediction of calories burned, but because thay were based on existing columns there was no improvement, so I have deleted that code.)\n",
        "\n",
        "The R-squared score for Calories Prediction is quite low, I will check to see if we can get a significantly better score.\n",
        "\n",
        "# Calories Burned Predictions from Polynomial Regression, Random Forest & Gradient Boosting Regressor"
      ],
      "metadata": {
        "id": "368ru5TCUEXL"
      }
    },
    {
      "cell_type": "code",
      "execution_count": null,
      "metadata": {
        "colab": {
          "base_uri": "https://localhost:8080/"
        },
        "id": "7z3q3hoEbLZs",
        "outputId": "4e487b3a-3d97-4a80-8062-83790ef63492"
      },
      "outputs": [
        {
          "output_type": "stream",
          "name": "stdout",
          "text": [
            "Polynomial Regression:\n",
            "MSE: 208589.64980806544\n",
            "R²: 0.585480796467267\n",
            "------------------------------\n",
            "Random Forest Regressor:\n",
            "MSE: 208889.44732716767\n",
            "R²: 0.5848850246782368\n",
            "------------------------------\n",
            "Gradient Boosting Regressor:\n",
            "MSE: 228647.99138517832\n",
            "R²: 0.5456199127542782\n",
            "------------------------------\n"
          ]
        }
      ],
      "source": [
        "from sklearn.preprocessing import PolynomialFeatures\n",
        "from sklearn.ensemble import RandomForestRegressor, GradientBoostingRegressor\n",
        "from sklearn.linear_model import LinearRegression\n",
        "from sklearn.metrics import mean_squared_error, r2_score\n",
        "from sklearn.model_selection import train_test_split\n",
        "\n",
        "X = df2.drop(columns=['Calories_Burned'])\n",
        "y = df2['Calories_Burned']\n",
        "X_train, X_test, y_train, y_test = train_test_split(X, y, test_size=0.2, random_state=42)\n",
        "\n",
        "poly = PolynomialFeatures(degree=2, include_bias=False)\n",
        "X_poly_train = poly.fit_transform(X_train)\n",
        "X_poly_test = poly.transform(X_test)\n",
        "\n",
        "poly_model = LinearRegression()\n",
        "poly_model.fit(X_poly_train, y_train)\n",
        "y_poly_pred = poly_model.predict(X_poly_test)\n",
        "\n",
        "print(\"Polynomial Regression:\")\n",
        "print(\"MSE:\", mean_squared_error(y_test, y_poly_pred))\n",
        "print(\"R²:\", r2_score(y_test, y_poly_pred))\n",
        "print(\"-\" * 30)\n",
        "\n",
        "rf = RandomForestRegressor(random_state=42)\n",
        "rf.fit(X_train, y_train)\n",
        "y_rf_pred = rf.predict(X_test)\n",
        "\n",
        "print(\"Random Forest Regressor:\")\n",
        "print(\"MSE:\", mean_squared_error(y_test, y_rf_pred))\n",
        "print(\"R²:\", r2_score(y_test, y_rf_pred))\n",
        "print(\"-\" * 30)\n",
        "\n",
        "gbr = GradientBoostingRegressor(random_state=42)\n",
        "gbr.fit(X_train, y_train)\n",
        "y_gbr_pred = gbr.predict(X_test)\n",
        "\n",
        "print(\"Gradient Boosting Regressor:\")\n",
        "print(\"MSE:\", mean_squared_error(y_test, y_gbr_pred))\n",
        "print(\"R²:\", r2_score(y_test, y_gbr_pred))\n",
        "print(\"-\" * 30)\n"
      ]
    },
    {
      "cell_type": "markdown",
      "source": [
        "These scores are not meaningfully different from the Linear Regression Model"
      ],
      "metadata": {
        "id": "AWwvoRNsbA3D"
      }
    }
  ],
  "metadata": {
    "colab": {
      "provenance": []
    },
    "kernelspec": {
      "display_name": "Python 3",
      "name": "python3"
    },
    "language_info": {
      "name": "python"
    }
  },
  "nbformat": 4,
  "nbformat_minor": 0
}