{
  "nbformat": 4,
  "nbformat_minor": 0,
  "metadata": {
    "colab": {
      "provenance": []
    },
    "kernelspec": {
      "name": "python3",
      "display_name": "Python 3"
    },
    "language_info": {
      "name": "python"
    }
  },
  "cells": [
    {
      "cell_type": "code",
      "execution_count": 6,
      "metadata": {
        "id": "IvUPyhFUvbRF"
      },
      "outputs": [],
      "source": [
        "import pandas as pd\n",
        "import numpy as np\n",
        "\n",
        "#Loading the dataset\n",
        "df = pd.read_csv('activity_metrics.csv')\n",
        "\n",
        "df.head()\n",
        "\n",
        "#Computing Weighted Minutes\n",
        "df['WeightedMinutes'] = (\n",
        "    3 * df['Very_Active_Minutes'] +\n",
        "    2 * df['Fairly_Active_Minutes'] +\n",
        "    1 * df['Lightly_Active_Minutes']\n",
        ")\n",
        "\n",
        "#Normalizing Weighted Minutes from range 0 to 1\n",
        "max_weighted=df['WeightedMinutes'].max()\n",
        "df['NormalizedWeightedMinutes']=df['WeightedMinutes']/max_weighted\n",
        "\n",
        "#Computing Raw VO2 estimate\n",
        "df['RawVO2']=np.sqrt(df['NormalizedWeightedMinutes']*df['Total_Distance'])\n",
        "\n",
        "#Scaling to a realistic VO2 Max range\n",
        "max_raw = df['RawVO2'].max()\n",
        "df['VO2_Max_Estimate']=np.maximum(df['RawVO2']*(60/max_raw),20)\n",
        "\n",
        "#Refining with steps to acheive more accuracy\n",
        "max_steps = df['Steps'].max()\n",
        "df['VO2_Max_Refined'] = df['VO2_Max_Estimate'] * (1 + 0.2 * (df['Steps'] / max_steps))\n",
        "\n",
        "#saving to CSV\n",
        "df.to_csv('activity_metrics_with_vo2.csv')\n"
      ]
    },
    {
      "cell_type": "code",
      "source": [],
      "metadata": {
        "id": "XCVxSfXIv51p"
      },
      "execution_count": null,
      "outputs": []
    }
  ]
}