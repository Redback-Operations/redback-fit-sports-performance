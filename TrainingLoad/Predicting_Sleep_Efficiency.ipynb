{
 "cells": [
  {
   "cell_type": "markdown",
   "id": "a2cefab6-fa37-46e8-a4a8-9cbf5e9dd304",
   "metadata": {},
   "source": [
    "# Sleep Efficiency Dataset"
   ]
  },
  {
   "cell_type": "markdown",
   "id": "bfb0ca30-e902-447b-aad9-ee7b52d03476",
   "metadata": {},
   "source": [
    "# Introduction"
   ]
  },
  {
   "cell_type": "markdown",
   "id": "ff86bcd1-3767-4862-b07a-caaccee43cec",
   "metadata": {},
   "source": [
    "Sleep is a vital part of life. If you were told you could choose the amount of hours you sleep throughout\n",
    "a night to the second, you would jump at that opportunity right? Because let's be real, there are so many\n",
    "factors that affect our sleep, whether it be a quiet drink, the varying cups of coffee that get you through\n",
    "that long day or amount of times you have to walk around the office to escape that stressful day. It's so \n",
    "rare we get to sleep through a night so efficiently. \n",
    "\n",
    "We have a dataset where recordings have been taken from 400+ individuals, both male and female which includes\n",
    "smokers, drinkers, etc. These people recorded their sleep duration (in hours) and other factors such as the\n",
    "amount of drinks had, whether they were a smoker, how many times they exercised and many more were also recorded.\n",
    "The ultimate goal of this recording was to produce a total sleep efficiency rating. The sleep efficiency rating \n",
    "took the total time of sleep and compared to how many times the individual woke up, the deepness or lightness of\n",
    "their sleep and thus produced an overall score.\n",
    "\n",
    "Now whilst we ideally want that perfect sleep, we also want balance. So for this report I will be analysing the \n",
    "sleep data in depth, identifying potential patterns and trying to reach several conclusions, with the main goal\n",
    "in mind being able to potentially predict the sleep efficiency rating, including the duration of sleep through \n",
    "the amount of activity done in a day, specifically focusing on how much exercise in a day it takes to get an \n",
    "effective sleep. Other factors will be analysed as well as we explore the relationship between exercise and \n",
    "sleep."
   ]
  },
  {
   "cell_type": "markdown",
   "id": "080ff405-ad8a-4734-9b50-a70273377500",
   "metadata": {},
   "source": [
    "# Initialisation"
   ]
  },
  {
   "cell_type": "code",
   "execution_count": 254,
   "id": "e8b04ea7-8eab-4e3a-abd4-fb87f3a47d19",
   "metadata": {},
   "outputs": [],
   "source": [
    "# First import the 2 most important libraries for datasets, arrays, etc.\n",
    "import pandas as pd\n",
    "import numpy as np"
   ]
  },
  {
   "cell_type": "code",
   "execution_count": 256,
   "id": "85642383-0d69-4d4d-a7de-0887b4d0cc9e",
   "metadata": {},
   "outputs": [],
   "source": [
    "# Read the dataset as a dataframe\n",
    "df = pd.read_csv(\"Sleep_Efficiency.csv\")"
   ]
  },
  {
   "cell_type": "code",
   "execution_count": 260,
   "id": "453d1377-f94f-465c-b35d-3b8711953d0c",
   "metadata": {},
   "outputs": [
    {
     "name": "stdout",
     "output_type": "stream",
     "text": [
      "The dimesions of the dataset are:  (452, 15)\n"
     ]
    }
   ],
   "source": [
    "# We'll check the shape of the dataset, checking all columns were imported\n",
    "print(\"The dimesions of the dataset are: \", df.shape)"
   ]
  },
  {
   "cell_type": "code",
   "execution_count": 262,
   "id": "f7af899c-593f-4a27-b8b8-df459a98d61e",
   "metadata": {},
   "outputs": [
    {
     "name": "stdout",
     "output_type": "stream",
     "text": [
      "ID                         0\n",
      "Age                        0\n",
      "Gender                     0\n",
      "Bedtime                    0\n",
      "Wakeup time                0\n",
      "Sleep duration             0\n",
      "Sleep efficiency           0\n",
      "REM sleep percentage       0\n",
      "Deep sleep percentage      0\n",
      "Light sleep percentage     0\n",
      "Awakenings                20\n",
      "Caffeine consumption      25\n",
      "Alcohol consumption       14\n",
      "Smoking status             0\n",
      "Exercise frequency         6\n",
      "dtype: int64\n"
     ]
    }
   ],
   "source": [
    "# check the dataset for any missing values to check its validity\n",
    "miss_values = df.isnull().sum()\n",
    "print(miss_values)"
   ]
  },
  {
   "cell_type": "code",
   "execution_count": 264,
   "id": "426a632d-fdb0-4753-acef-d2edead6e134",
   "metadata": {},
   "outputs": [],
   "source": [
    "# Since we have some missing values, we'll fill them with 0 (null)\n",
    "# It may lead to slight inaccuracies but in most cases an empty value means a person who was studied left it blank on purpose\n",
    "df.fillna(0, inplace = True)"
   ]
  },
  {
   "cell_type": "code",
   "execution_count": 266,
   "id": "6a37526d-4f50-4cc9-a09d-26be5fb5625e",
   "metadata": {},
   "outputs": [
    {
     "name": "stdout",
     "output_type": "stream",
     "text": [
      "ID                        0\n",
      "Age                       0\n",
      "Gender                    0\n",
      "Bedtime                   0\n",
      "Wakeup time               0\n",
      "Sleep duration            0\n",
      "Sleep efficiency          0\n",
      "REM sleep percentage      0\n",
      "Deep sleep percentage     0\n",
      "Light sleep percentage    0\n",
      "Awakenings                0\n",
      "Caffeine consumption      0\n",
      "Alcohol consumption       0\n",
      "Smoking status            0\n",
      "Exercise frequency        0\n",
      "dtype: int64\n"
     ]
    }
   ],
   "source": [
    "# check the dataset for any missing values to check its validity to ensure the above worked\n",
    "miss_values = df.isnull().sum()\n",
    "print(miss_values)"
   ]
  },
  {
   "cell_type": "code",
   "execution_count": 272,
   "id": "82fdaade-cf18-4973-86a3-d4ead9f82379",
   "metadata": {},
   "outputs": [
    {
     "name": "stdout",
     "output_type": "stream",
     "text": [
      "ID                          int64\n",
      "Age                         int64\n",
      "Gender                     object\n",
      "Bedtime                    object\n",
      "Wakeup time                object\n",
      "Sleep duration            float64\n",
      "Sleep efficiency          float64\n",
      "REM sleep percentage        int64\n",
      "Deep sleep percentage       int64\n",
      "Light sleep percentage      int64\n",
      "Awakenings                float64\n",
      "Caffeine consumption      float64\n",
      "Alcohol consumption       float64\n",
      "Smoking status             object\n",
      "Exercise frequency        float64\n",
      "dtype: object\n"
     ]
    }
   ],
   "source": [
    "# check the data types of each of the columns for clarity purposes\n",
    "print(df.dtypes)"
   ]
  },
  {
   "cell_type": "markdown",
   "id": "a0275a7d-5d24-4b00-8a2b-047d02f0f2c9",
   "metadata": {},
   "source": [
    "# Analysis"
   ]
  },
  {
   "cell_type": "markdown",
   "id": "2b530fd1-8848-485a-99e6-18e29fdc4ebf",
   "metadata": {},
   "source": [
    "Firstly we'll create two subsets, one where the exercise frequency is equal to zero \n",
    "(indicating no exercise performed for the day) and another where exercise frequency \n",
    "is greater than zero (indicating more than zero exercise in a day). From these \n",
    "we'll analyse the averages of sleep duration and sleep efficiency to determine if\n",
    "there's any obvious flucuation between the two."
   ]
  },
  {
   "cell_type": "code",
   "execution_count": 275,
   "id": "d921865f-a111-432a-ae18-36690e9495d4",
   "metadata": {},
   "outputs": [],
   "source": [
    "# create a subset of the dataframe for exercise frequency greater than 0\n",
    "df_exercise = df[df['Exercise frequency'] > 0]"
   ]
  },
  {
   "cell_type": "code",
   "execution_count": 277,
   "id": "8bf7d9de-d467-4608-87a9-2a8d8a55d978",
   "metadata": {},
   "outputs": [
    {
     "name": "stdout",
     "output_type": "stream",
     "text": [
      "   ID  Age  Gender           Bedtime      Wakeup time  Sleep duration  \\\n",
      "0   1   65  Female    6/03/2021 1:00   6/03/2021 7:00             6.0   \n",
      "1   2   69    Male    5/12/2021 2:00   5/12/2021 9:00             7.0   \n",
      "2   3   40  Female  25/05/2021 21:30  25/05/2021 5:30             8.0   \n",
      "3   4   40  Female    3/11/2021 2:30   3/11/2021 8:30             6.0   \n",
      "4   5   57    Male   13/03/2021 1:00  13/03/2021 9:00             8.0   \n",
      "\n",
      "   Sleep efficiency  REM sleep percentage  Deep sleep percentage  \\\n",
      "0              0.88                    18                     70   \n",
      "1              0.66                    19                     28   \n",
      "2              0.89                    20                     70   \n",
      "3              0.51                    23                     25   \n",
      "4              0.76                    27                     55   \n",
      "\n",
      "   Light sleep percentage  Awakenings  Caffeine consumption  \\\n",
      "0                      12         0.0                   0.0   \n",
      "1                      53         3.0                   0.0   \n",
      "2                      10         1.0                   0.0   \n",
      "3                      52         3.0                  50.0   \n",
      "4                      18         3.0                   0.0   \n",
      "\n",
      "   Alcohol consumption Smoking status  Exercise frequency  \n",
      "0                  0.0            Yes                 3.0  \n",
      "1                  3.0            Yes                 3.0  \n",
      "2                  0.0             No                 3.0  \n",
      "3                  5.0            Yes                 1.0  \n",
      "4                  3.0             No                 3.0  \n"
     ]
    }
   ],
   "source": [
    "# print to make sure it worked\n",
    "print(df_exercise.head(5))"
   ]
  },
  {
   "cell_type": "code",
   "execution_count": 281,
   "id": "b076e091-6a99-4a94-8987-4de22aceefaa",
   "metadata": {},
   "outputs": [],
   "source": [
    "# create a second subset where exercise frequency is equal to 0, indicating no exercise\n",
    "df_no_exercise = df[df['Exercise frequency'] == 0]"
   ]
  },
  {
   "cell_type": "code",
   "execution_count": 283,
   "id": "dd5fea69-8f22-4658-90b5-08667bd77a84",
   "metadata": {},
   "outputs": [
    {
     "name": "stdout",
     "output_type": "stream",
     "text": [
      "    ID  Age  Gender          Bedtime       Wakeup time  Sleep duration  \\\n",
      "9   10   11  Female  16/09/2021 1:00  16/09/2021 10:00             9.0   \n",
      "14  15   36  Female   3/07/2021 1:30   3/07/2021 10:00             8.5   \n",
      "16  17   21  Female  24/03/2021 1:00   24/03/2021 8:00             7.0   \n",
      "18  19   43  Female  27/07/2021 0:00   27/07/2021 9:00             9.0   \n",
      "31  32   18    Male  24/05/2021 0:30   24/05/2021 8:30             8.0   \n",
      "\n",
      "    Sleep efficiency  REM sleep percentage  Deep sleep percentage  \\\n",
      "9               0.55                    18                     37   \n",
      "14              0.54                    20                     32   \n",
      "16              0.54                    28                     22   \n",
      "18              0.98                    20                     67   \n",
      "31              0.68                    22                     30   \n",
      "\n",
      "    Light sleep percentage  Awakenings  Caffeine consumption  \\\n",
      "9                       45         4.0                   0.0   \n",
      "14                      48         2.0                  25.0   \n",
      "16                      50         4.0                   0.0   \n",
      "18                      13         0.0                  25.0   \n",
      "31                      48         3.0                  25.0   \n",
      "\n",
      "    Alcohol consumption Smoking status  Exercise frequency  \n",
      "9                   0.0             No                 0.0  \n",
      "14                  1.0            Yes                 0.0  \n",
      "16                  2.0            Yes                 0.0  \n",
      "18                  1.0             No                 0.0  \n",
      "31                  0.0             No                 0.0  \n"
     ]
    }
   ],
   "source": [
    "# print to make sure it worked\n",
    "print(df_no_exercise.head(5))"
   ]
  },
  {
   "cell_type": "code",
   "execution_count": 285,
   "id": "12a653a1-c01d-46c7-b5fc-1065e3ea08e6",
   "metadata": {},
   "outputs": [],
   "source": [
    "# use in-built describe() function to display key data summaries\n",
    "stat_summary_ex = df_exercise.describe()\n",
    "stat_summary_no_ex = df_no_exercise.describe()"
   ]
  },
  {
   "cell_type": "code",
   "execution_count": 287,
   "id": "4f0a445b-997c-40ab-a7db-d2710a3ff470",
   "metadata": {},
   "outputs": [
    {
     "name": "stdout",
     "output_type": "stream",
     "text": [
      "count    330.00\n",
      "mean       7.41\n",
      "std        0.83\n",
      "min        5.00\n",
      "25%        7.00\n",
      "50%        7.50\n",
      "75%        8.00\n",
      "max       10.00\n",
      "Name: Sleep duration, dtype: float64\n"
     ]
    }
   ],
   "source": [
    "print(np.round(stat_summary_ex['Sleep duration'], 2))"
   ]
  },
  {
   "cell_type": "code",
   "execution_count": 297,
   "id": "195edb6a-2ef6-4b7e-a64a-d0a24290164f",
   "metadata": {},
   "outputs": [
    {
     "name": "stdout",
     "output_type": "stream",
     "text": [
      "count    122.00\n",
      "mean       7.61\n",
      "std        0.94\n",
      "min        5.00\n",
      "25%        7.00\n",
      "50%        7.50\n",
      "75%        8.00\n",
      "max       10.00\n",
      "Name: Sleep duration, dtype: float64\n"
     ]
    }
   ],
   "source": [
    "print(np.round(stat_summary_no_ex['Sleep duration'], 2)) #round to 2dp for neatness"
   ]
  },
  {
   "cell_type": "markdown",
   "id": "6cc1ac35-3c5a-46d6-b3e1-33d23fa9a5e1",
   "metadata": {},
   "source": [
    "From the above summary, we can determine a couple of things. Firstly, the average sleep (in hours) \n",
    "when someone exercises at least once per day is approximately 7.41 hours. The average sleep (in hours) \n",
    "when someone does not exercise at least once per day is approximately 7.61 hours. The measures of \n",
    "spread such as median, Q1 and Q3 are all equal. So how does this make sense? Well there could be a \n",
    "number of factors, including outliers that skew the results in a significant way. What this data\n",
    "summary basically tells us is that sleep duration is a consistent data entry and is not dependent on\n",
    "how much exercise is done throughout the day so we should be focusing more on sleep efficiency, which \n",
    "takes into account more factors than just sleep duration. Just to prove ourselves correct, we'll \n",
    "observe any outliers in the data below and visualise it using box plots."
   ]
  },
  {
   "cell_type": "code",
   "execution_count": 291,
   "id": "a6b2cb84-4d0e-4ced-8f32-87d1ea5991da",
   "metadata": {},
   "outputs": [],
   "source": [
    "# since we want to summarise the data, import the stats library\n",
    "from scipy import stats"
   ]
  },
  {
   "cell_type": "code",
   "execution_count": 293,
   "id": "313ab772-53d4-4b8c-95fc-e71b49a301a9",
   "metadata": {},
   "outputs": [
    {
     "name": "stdout",
     "output_type": "stream",
     "text": [
      "The number of outliers for exercised based sleep are: \n",
      "6\n",
      "\n",
      "The number of outliers for non-exercised based sleep are: \n",
      "0\n"
     ]
    }
   ],
   "source": [
    "# since we know only integer data types can produce a z-score, select from the table the appropriate data\n",
    "z_scores_ex = stats.zscore(df_exercise['Sleep duration'])\n",
    "z_scores_no_ex = stats.zscore(df_no_exercise['Sleep duration'])\n",
    "\n",
    "abs_z_scoresA = abs(z_scores_ex)\n",
    "abs_z_scoresB = abs(z_scores_no_ex)\n",
    "\n",
    "outliers_ex = (abs_z_scoresA > 3).sum()\n",
    "outliers_no_ex = (abs_z_scoresB > 3).sum()\n",
    "\n",
    "print(\"The number of outliers for exercised based sleep are: \")\n",
    "print(outliers_ex)\n",
    "print('')\n",
    "print(\"The number of outliers for non-exercised based sleep are: \")\n",
    "print(outliers_no_ex)"
   ]
  },
  {
   "cell_type": "code",
   "execution_count": 150,
   "id": "1e60449c-72b3-4546-8af3-77b7856404be",
   "metadata": {},
   "outputs": [],
   "source": [
    "# to summarise import the appropriate libraries for plotting\n",
    "import seaborn as sns\n",
    "import matplotlib.pyplot as plt"
   ]
  },
  {
   "cell_type": "code",
   "execution_count": 310,
   "id": "d57ce438-eb98-4dbd-941b-5d669365822c",
   "metadata": {},
   "outputs": [
    {
     "data": {
      "text/plain": [
       "Text(0.5, 1.0, 'Exercise based Sleep Duration')"
      ]
     },
     "execution_count": 310,
     "metadata": {},
     "output_type": "execute_result"
    },
    {
     "data": {
      "image/png": "[encoded data removed]",
      "text/plain": [
       "<Figure size 640x480 with 1 Axes>"
      ]
     },
     "metadata": {},
     "output_type": "display_data"
    }
   ],
   "source": [
    "sns.boxplot(x = df_exercise['Sleep duration'], data = df_exercise)\n",
    "plt.title(\"Exercise based Sleep Duration\")"
   ]
  },
  {
   "cell_type": "code",
   "execution_count": 312,
   "id": "d537b780-b7ce-449d-b29b-c6393ea9367b",
   "metadata": {},
   "outputs": [
    {
     "data": {
      "text/plain": [
       "Text(0.5, 1.0, 'Non-Exercise based Sleep Efficiency')"
      ]
     },
     "execution_count": 312,
     "metadata": {},
     "output_type": "execute_result"
    },
    {
     "data": {
      "image/png": "[encoded data removed]",
      "text/plain": [
       "<Figure size 640x480 with 1 Axes>"
      ]
     },
     "metadata": {},
     "output_type": "display_data"
    }
   ],
   "source": [
    "sns.boxplot(x = df_no_exercise['Sleep duration'], data = df_no_exercise)\n",
    "plt.title(\"Non-Exercise based Sleep Efficiency\")"
   ]
  },
  {
   "cell_type": "markdown",
   "id": "6bea90dd-2b81-45d6-889d-b88ef8034ee0",
   "metadata": {},
   "source": [
    "So above we see no real correlation and a very consistent even spread in data entries for\n",
    "sleep duration for both non exercise and exercise. We'll analyse 'Sleep efficiency' as we've\n",
    "done above to 'Sleep duration' to see if there's any difference."
   ]
  },
  {
   "cell_type": "code",
   "execution_count": 168,
   "id": "942adf3f-b168-4573-8612-5e3d47830ba6",
   "metadata": {},
   "outputs": [
    {
     "name": "stdout",
     "output_type": "stream",
     "text": [
      "count    330.00\n",
      "mean       0.81\n",
      "std        0.13\n",
      "min        0.50\n",
      "25%        0.72\n",
      "50%        0.85\n",
      "75%        0.91\n",
      "max        0.99\n",
      "Name: Sleep efficiency, dtype: float64\n"
     ]
    }
   ],
   "source": [
    "print(np.round(stat_summary_ex['Sleep efficiency'], 2))"
   ]
  },
  {
   "cell_type": "code",
   "execution_count": 170,
   "id": "0f11ce74-d03c-4294-b820-9e43958b9340",
   "metadata": {},
   "outputs": [
    {
     "name": "stdout",
     "output_type": "stream",
     "text": [
      "count    122.00\n",
      "mean       0.75\n",
      "std        0.14\n",
      "min        0.50\n",
      "25%        0.64\n",
      "50%        0.76\n",
      "75%        0.86\n",
      "max        0.98\n",
      "Name: Sleep efficiency, dtype: float64\n"
     ]
    }
   ],
   "source": [
    "print(np.round(stat_summary_no_ex['Sleep efficiency'], 2))"
   ]
  },
  {
   "cell_type": "code",
   "execution_count": 306,
   "id": "4b9c7334-2815-4f59-a64c-811cc476a393",
   "metadata": {},
   "outputs": [
    {
     "data": {
      "text/plain": [
       "Text(0.5, 1.0, 'Exercise based Sleep Efficiency')"
      ]
     },
     "execution_count": 306,
     "metadata": {},
     "output_type": "execute_result"
    },
    {
     "data": {
      "image/png": "[encoded data removed]",
      "text/plain": [
       "<Figure size 640x480 with 1 Axes>"
      ]
     },
     "metadata": {},
     "output_type": "display_data"
    }
   ],
   "source": [
    "sns.boxplot(x = df_exercise['Sleep efficiency'], data = df_exercise)\n",
    "plt.title(\"Exercise based Sleep Efficiency\")"
   ]
  },
  {
   "cell_type": "code",
   "execution_count": 308,
   "id": "ec0e0a2e-19a5-4647-9075-2d365d511a92",
   "metadata": {},
   "outputs": [
    {
     "data": {
      "text/plain": [
       "Text(0.5, 1.0, 'Non-Exercise based Sleep Efficiency')"
      ]
     },
     "execution_count": 308,
     "metadata": {},
     "output_type": "execute_result"
    },
    {
     "data": {
      "image/png": "[encoded data removed]",
      "text/plain": [
       "<Figure size 640x480 with 1 Axes>"
      ]
     },
     "metadata": {},
     "output_type": "display_data"
    }
   ],
   "source": [
    "sns.boxplot(x = df_no_exercise['Sleep efficiency'], data = df_no_exercise)\n",
    "plt.title(\"Non-Exercise based Sleep Efficiency\")"
   ]
  },
  {
   "cell_type": "markdown",
   "id": "978f9ba8-9926-485b-956b-7d4539945ff2",
   "metadata": {},
   "source": [
    "From the above results, we can see a major difference in the data. Firstly, the mean and\n",
    "medians are higher for sleep efficiency for exercise than sleep efficiency for non exercise.\n",
    "Visually from the box plots, we see that sleep efficiency with exercise is positively skewed,\n",
    "meaning the spread of the data entries are more higher figures than lower figures, where as\n",
    "the box plot for non-exercise based sleep efficiency is a more centred spread, meaning the \n",
    "entries are not weighted in either direction. From this basic analysis we can safely assume that\n",
    "sleep efficiency is significantly greater when an individual exercises through the day. This means\n",
    "they wake up less and have a higher percentage of deep sleep as opposed to those who do not exercise\n",
    "throughout the day. "
   ]
  },
  {
   "cell_type": "markdown",
   "id": "ca76d26f-cc53-451c-92d9-ede2f3dc8101",
   "metadata": {},
   "source": [
    "# Correlation"
   ]
  },
  {
   "cell_type": "markdown",
   "id": "4d17c14c-85d6-4c86-b092-210e419098ed",
   "metadata": {},
   "source": [
    "We'll look at the correlation between variables in the column. We want to look at the\n",
    "strength of the relationships between these variables as we're trying to determine the \n",
    "best way to achieve the highest possible sleep efficiency through exercise. We also want\n",
    "to prove that there is a stronger correlation between sleep efficiency and exercise than\n",
    "any other category. "
   ]
  },
  {
   "cell_type": "code",
   "execution_count": 172,
   "id": "795bab39-d190-4dd8-9762-b0f8a58abff9",
   "metadata": {},
   "outputs": [
    {
     "name": "stdout",
     "output_type": "stream",
     "text": [
      "Pearson's Correlation for Sleep Efficiency and Alcohol Consumption:  -0.38124873496190986\n"
     ]
    }
   ],
   "source": [
    "alc_sleep_corr = df['Sleep efficiency'].corr(df['Alcohol consumption'])\n",
    "print(\"Pearson's Correlation for Sleep Efficiency and Alcohol Consumption: \", alc_sleep_corr)"
   ]
  },
  {
   "cell_type": "code",
   "execution_count": 174,
   "id": "b64f6772-262d-4424-94a5-4a4125388aad",
   "metadata": {},
   "outputs": [
    {
     "name": "stdout",
     "output_type": "stream",
     "text": [
      "Pearson's Correlation for Sleep Efficiency and Caffeine Consumption:  0.06574977724171495\n"
     ]
    }
   ],
   "source": [
    "caff_sleep_corr = df['Sleep efficiency'].corr(df['Caffeine consumption'])\n",
    "print(\"Pearson's Correlation for Sleep Efficiency and Caffeine Consumption: \", caff_sleep_corr)"
   ]
  },
  {
   "cell_type": "code",
   "execution_count": 176,
   "id": "3ead532b-9a1f-4e26-b757-a03e843766b4",
   "metadata": {},
   "outputs": [
    {
     "name": "stdout",
     "output_type": "stream",
     "text": [
      "Pearson's Correlation for Sleep Efficiency and Exercise Frequency:  0.25743612568659374\n"
     ]
    }
   ],
   "source": [
    "ex_sleep_corr = df['Sleep efficiency'].corr(df['Exercise frequency'])\n",
    "print(\"Pearson's Correlation for Sleep Efficiency and Exercise Frequency: \", ex_sleep_corr)"
   ]
  },
  {
   "cell_type": "markdown",
   "id": "edc4069f-e2ba-40c6-8589-736dae1e2ef4",
   "metadata": {},
   "source": [
    "From the above, we can see that the relationship between sleep efficiency and exercise has\n",
    "yielded the strongest correlation. The correlation between sleep efficiency and alcohol consumption\n",
    "is significantly weak and the correlation between sleep efficiency and caffeine consumption \n",
    "is neither strong or weak. In saying this, the correlation between sleep efficiency and \n",
    "exercise isn't strong, but its at least positive and stronger than the previously mentioned, \n",
    "meaning there's some relationship there albiet not a strong one. From this we're going to \n",
    "train a Linear Regression model to be able to predict outcomes based on this relationship. "
   ]
  },
  {
   "cell_type": "code",
   "execution_count": 238,
   "id": "b683578b-d567-4478-966d-0cff79e8e5d0",
   "metadata": {},
   "outputs": [],
   "source": [
    "import statsmodels.api as sm\n",
    "from sklearn.model_selection import train_test_split\n",
    "from sklearn.linear_model import LinearRegression # for Linear Regression\n",
    "from sklearn.metrics import mean_squared_error # To calc MSE and RMSE\n",
    "from sklearn.metrics import r2_score # To calc to R^2 score\n",
    "from sklearn.metrics import mean_absolute_error # To calc the MAE"
   ]
  },
  {
   "cell_type": "code",
   "execution_count": 240,
   "id": "90623ebe-43ce-44bd-b10e-78d9b8bdf2dd",
   "metadata": {},
   "outputs": [],
   "source": [
    "exercise_freq = df[['Exercise frequency']]\n",
    "sleep_outcome = df['Sleep efficiency']"
   ]
  },
  {
   "cell_type": "code",
   "execution_count": 242,
   "id": "f94a69a2-087e-455d-b9ca-ed35510d0a39",
   "metadata": {},
   "outputs": [
    {
     "data": {
      "text/html": [
       "<style>#sk-container-id-2 {\n",
       "  /* Definition of color scheme common for light and dark mode */\n",
       "  --sklearn-color-text: black;\n",
       "  --sklearn-color-line: gray;\n",
       "  /* Definition of color scheme for unfitted estimators */\n",
       "  --sklearn-color-unfitted-level-0: #fff5e6;\n",
       "  --sklearn-color-unfitted-level-1: #f6e4d2;\n",
       "  --sklearn-color-unfitted-level-2: #ffe0b3;\n",
       "  --sklearn-color-unfitted-level-3: chocolate;\n",
       "  /* Definition of color scheme for fitted estimators */\n",
       "  --sklearn-color-fitted-level-0: #f0f8ff;\n",
       "  --sklearn-color-fitted-level-1: #d4ebff;\n",
       "  --sklearn-color-fitted-level-2: #b3dbfd;\n",
       "  --sklearn-color-fitted-level-3: cornflowerblue;\n",
       "\n",
       "  /* Specific color for light theme */\n",
       "  --sklearn-color-text-on-default-background: var(--sg-text-color, var(--theme-code-foreground, var(--jp-content-font-color1, black)));\n",
       "  --sklearn-color-background: var(--sg-background-color, var(--theme-background, var(--jp-layout-color0, white)));\n",
       "  --sklearn-color-border-box: var(--sg-text-color, var(--theme-code-foreground, var(--jp-content-font-color1, black)));\n",
       "  --sklearn-color-icon: #696969;\n",
       "\n",
       "  @media (prefers-color-scheme: dark) {\n",
       "    /* Redefinition of color scheme for dark theme */\n",
       "    --sklearn-color-text-on-default-background: var(--sg-text-color, var(--theme-code-foreground, var(--jp-content-font-color1, white)));\n",
       "    --sklearn-color-background: var(--sg-background-color, var(--theme-background, var(--jp-layout-color0, #111)));\n",
       "    --sklearn-color-border-box: var(--sg-text-color, var(--theme-code-foreground, var(--jp-content-font-color1, white)));\n",
       "    --sklearn-color-icon: #878787;\n",
       "  }\n",
       "}\n",
       "\n",
       "#sk-container-id-2 {\n",
       "  color: var(--sklearn-color-text);\n",
       "}\n",
       "\n",
       "#sk-container-id-2 pre {\n",
       "  padding: 0;\n",
       "}\n",
       "\n",
       "#sk-container-id-2 input.sk-hidden--visually {\n",
       "  border: 0;\n",
       "  clip: rect(1px 1px 1px 1px);\n",
       "  clip: rect(1px, 1px, 1px, 1px);\n",
       "  height: 1px;\n",
       "  margin: -1px;\n",
       "  overflow: hidden;\n",
       "  padding: 0;\n",
       "  position: absolute;\n",
       "  width: 1px;\n",
       "}\n",
       "\n",
       "#sk-container-id-2 div.sk-dashed-wrapped {\n",
       "  border: 1px dashed var(--sklearn-color-line);\n",
       "  margin: 0 0.4em 0.5em 0.4em;\n",
       "  box-sizing: border-box;\n",
       "  padding-bottom: 0.4em;\n",
       "  background-color: var(--sklearn-color-background);\n",
       "}\n",
       "\n",
       "#sk-container-id-2 div.sk-container {\n",
       "  /* jupyter's `normalize.less` sets `[hidden] { display: none; }`\n",
       "     but bootstrap.min.css set `[hidden] { display: none !important; }`\n",
       "     so we also need the `!important` here to be able to override the\n",
       "     default hidden behavior on the sphinx rendered scikit-learn.org.\n",
       "     See: https://github.com/scikit-learn/scikit-learn/issues/21755 */\n",
       "  display: inline-block !important;\n",
       "  position: relative;\n",
       "}\n",
       "\n",
       "#sk-container-id-2 div.sk-text-repr-fallback {\n",
       "  display: none;\n",
       "}\n",
       "\n",
       "div.sk-parallel-item,\n",
       "div.sk-serial,\n",
       "div.sk-item {\n",
       "  /* draw centered vertical line to link estimators */\n",
       "  background-image: linear-gradient(var(--sklearn-color-text-on-default-background), var(--sklearn-color-text-on-default-background));\n",
       "  background-size: 2px 100%;\n",
       "  background-repeat: no-repeat;\n",
       "  background-position: center center;\n",
       "}\n",
       "\n",
       "/* Parallel-specific style estimator block */\n",
       "\n",
       "#sk-container-id-2 div.sk-parallel-item::after {\n",
       "  content: \"\";\n",
       "  width: 100%;\n",
       "  border-bottom: 2px solid var(--sklearn-color-text-on-default-background);\n",
       "  flex-grow: 1;\n",
       "}\n",
       "\n",
       "#sk-container-id-2 div.sk-parallel {\n",
       "  display: flex;\n",
       "  align-items: stretch;\n",
       "  justify-content: center;\n",
       "  background-color: var(--sklearn-color-background);\n",
       "  position: relative;\n",
       "}\n",
       "\n",
       "#sk-container-id-2 div.sk-parallel-item {\n",
       "  display: flex;\n",
       "  flex-direction: column;\n",
       "}\n",
       "\n",
       "#sk-container-id-2 div.sk-parallel-item:first-child::after {\n",
       "  align-self: flex-end;\n",
       "  width: 50%;\n",
       "}\n",
       "\n",
       "#sk-container-id-2 div.sk-parallel-item:last-child::after {\n",
       "  align-self: flex-start;\n",
       "  width: 50%;\n",
       "}\n",
       "\n",
       "#sk-container-id-2 div.sk-parallel-item:only-child::after {\n",
       "  width: 0;\n",
       "}\n",
       "\n",
       "/* Serial-specific style estimator block */\n",
       "\n",
       "#sk-container-id-2 div.sk-serial {\n",
       "  display: flex;\n",
       "  flex-direction: column;\n",
       "  align-items: center;\n",
       "  background-color: var(--sklearn-color-background);\n",
       "  padding-right: 1em;\n",
       "  padding-left: 1em;\n",
       "}\n",
       "\n",
       "\n",
       "/* Toggleable style: style used for estimator/Pipeline/ColumnTransformer box that is\n",
       "clickable and can be expanded/collapsed.\n",
       "- Pipeline and ColumnTransformer use this feature and define the default style\n",
       "- Estimators will overwrite some part of the style using the `sk-estimator` class\n",
       "*/\n",
       "\n",
       "/* Pipeline and ColumnTransformer style (default) */\n",
       "\n",
       "#sk-container-id-2 div.sk-toggleable {\n",
       "  /* Default theme specific background. It is overwritten whether we have a\n",
       "  specific estimator or a Pipeline/ColumnTransformer */\n",
       "  background-color: var(--sklearn-color-background);\n",
       "}\n",
       "\n",
       "/* Toggleable label */\n",
       "#sk-container-id-2 label.sk-toggleable__label {\n",
       "  cursor: pointer;\n",
       "  display: block;\n",
       "  width: 100%;\n",
       "  margin-bottom: 0;\n",
       "  padding: 0.5em;\n",
       "  box-sizing: border-box;\n",
       "  text-align: center;\n",
       "}\n",
       "\n",
       "#sk-container-id-2 label.sk-toggleable__label-arrow:before {\n",
       "  /* Arrow on the left of the label */\n",
       "  content: \"▸\";\n",
       "  float: left;\n",
       "  margin-right: 0.25em;\n",
       "  color: var(--sklearn-color-icon);\n",
       "}\n",
       "\n",
       "#sk-container-id-2 label.sk-toggleable__label-arrow:hover:before {\n",
       "  color: var(--sklearn-color-text);\n",
       "}\n",
       "\n",
       "/* Toggleable content - dropdown */\n",
       "\n",
       "#sk-container-id-2 div.sk-toggleable__content {\n",
       "  max-height: 0;\n",
       "  max-width: 0;\n",
       "  overflow: hidden;\n",
       "  text-align: left;\n",
       "  /* unfitted */\n",
       "  background-color: var(--sklearn-color-unfitted-level-0);\n",
       "}\n",
       "\n",
       "#sk-container-id-2 div.sk-toggleable__content.fitted {\n",
       "  /* fitted */\n",
       "  background-color: var(--sklearn-color-fitted-level-0);\n",
       "}\n",
       "\n",
       "#sk-container-id-2 div.sk-toggleable__content pre {\n",
       "  margin: 0.2em;\n",
       "  border-radius: 0.25em;\n",
       "  color: var(--sklearn-color-text);\n",
       "  /* unfitted */\n",
       "  background-color: var(--sklearn-color-unfitted-level-0);\n",
       "}\n",
       "\n",
       "#sk-container-id-2 div.sk-toggleable__content.fitted pre {\n",
       "  /* unfitted */\n",
       "  background-color: var(--sklearn-color-fitted-level-0);\n",
       "}\n",
       "\n",
       "#sk-container-id-2 input.sk-toggleable__control:checked~div.sk-toggleable__content {\n",
       "  /* Expand drop-down */\n",
       "  max-height: 200px;\n",
       "  max-width: 100%;\n",
       "  overflow: auto;\n",
       "}\n",
       "\n",
       "#sk-container-id-2 input.sk-toggleable__control:checked~label.sk-toggleable__label-arrow:before {\n",
       "  content: \"▾\";\n",
       "}\n",
       "\n",
       "/* Pipeline/ColumnTransformer-specific style */\n",
       "\n",
       "#sk-container-id-2 div.sk-label input.sk-toggleable__control:checked~label.sk-toggleable__label {\n",
       "  color: var(--sklearn-color-text);\n",
       "  background-color: var(--sklearn-color-unfitted-level-2);\n",
       "}\n",
       "\n",
       "#sk-container-id-2 div.sk-label.fitted input.sk-toggleable__control:checked~label.sk-toggleable__label {\n",
       "  background-color: var(--sklearn-color-fitted-level-2);\n",
       "}\n",
       "\n",
       "/* Estimator-specific style */\n",
       "\n",
       "/* Colorize estimator box */\n",
       "#sk-container-id-2 div.sk-estimator input.sk-toggleable__control:checked~label.sk-toggleable__label {\n",
       "  /* unfitted */\n",
       "  background-color: var(--sklearn-color-unfitted-level-2);\n",
       "}\n",
       "\n",
       "#sk-container-id-2 div.sk-estimator.fitted input.sk-toggleable__control:checked~label.sk-toggleable__label {\n",
       "  /* fitted */\n",
       "  background-color: var(--sklearn-color-fitted-level-2);\n",
       "}\n",
       "\n",
       "#sk-container-id-2 div.sk-label label.sk-toggleable__label,\n",
       "#sk-container-id-2 div.sk-label label {\n",
       "  /* The background is the default theme color */\n",
       "  color: var(--sklearn-color-text-on-default-background);\n",
       "}\n",
       "\n",
       "/* On hover, darken the color of the background */\n",
       "#sk-container-id-2 div.sk-label:hover label.sk-toggleable__label {\n",
       "  color: var(--sklearn-color-text);\n",
       "  background-color: var(--sklearn-color-unfitted-level-2);\n",
       "}\n",
       "\n",
       "/* Label box, darken color on hover, fitted */\n",
       "#sk-container-id-2 div.sk-label.fitted:hover label.sk-toggleable__label.fitted {\n",
       "  color: var(--sklearn-color-text);\n",
       "  background-color: var(--sklearn-color-fitted-level-2);\n",
       "}\n",
       "\n",
       "/* Estimator label */\n",
       "\n",
       "#sk-container-id-2 div.sk-label label {\n",
       "  font-family: monospace;\n",
       "  font-weight: bold;\n",
       "  display: inline-block;\n",
       "  line-height: 1.2em;\n",
       "}\n",
       "\n",
       "#sk-container-id-2 div.sk-label-container {\n",
       "  text-align: center;\n",
       "}\n",
       "\n",
       "/* Estimator-specific */\n",
       "#sk-container-id-2 div.sk-estimator {\n",
       "  font-family: monospace;\n",
       "  border: 1px dotted var(--sklearn-color-border-box);\n",
       "  border-radius: 0.25em;\n",
       "  box-sizing: border-box;\n",
       "  margin-bottom: 0.5em;\n",
       "  /* unfitted */\n",
       "  background-color: var(--sklearn-color-unfitted-level-0);\n",
       "}\n",
       "\n",
       "#sk-container-id-2 div.sk-estimator.fitted {\n",
       "  /* fitted */\n",
       "  background-color: var(--sklearn-color-fitted-level-0);\n",
       "}\n",
       "\n",
       "/* on hover */\n",
       "#sk-container-id-2 div.sk-estimator:hover {\n",
       "  /* unfitted */\n",
       "  background-color: var(--sklearn-color-unfitted-level-2);\n",
       "}\n",
       "\n",
       "#sk-container-id-2 div.sk-estimator.fitted:hover {\n",
       "  /* fitted */\n",
       "  background-color: var(--sklearn-color-fitted-level-2);\n",
       "}\n",
       "\n",
       "/* Specification for estimator info (e.g. \"i\" and \"?\") */\n",
       "\n",
       "/* Common style for \"i\" and \"?\" */\n",
       "\n",
       ".sk-estimator-doc-link,\n",
       "a:link.sk-estimator-doc-link,\n",
       "a:visited.sk-estimator-doc-link {\n",
       "  float: right;\n",
       "  font-size: smaller;\n",
       "  line-height: 1em;\n",
       "  font-family: monospace;\n",
       "  background-color: var(--sklearn-color-background);\n",
       "  border-radius: 1em;\n",
       "  height: 1em;\n",
       "  width: 1em;\n",
       "  text-decoration: none !important;\n",
       "  margin-left: 1ex;\n",
       "  /* unfitted */\n",
       "  border: var(--sklearn-color-unfitted-level-1) 1pt solid;\n",
       "  color: var(--sklearn-color-unfitted-level-1);\n",
       "}\n",
       "\n",
       ".sk-estimator-doc-link.fitted,\n",
       "a:link.sk-estimator-doc-link.fitted,\n",
       "a:visited.sk-estimator-doc-link.fitted {\n",
       "  /* fitted */\n",
       "  border: var(--sklearn-color-fitted-level-1) 1pt solid;\n",
       "  color: var(--sklearn-color-fitted-level-1);\n",
       "}\n",
       "\n",
       "/* On hover */\n",
       "div.sk-estimator:hover .sk-estimator-doc-link:hover,\n",
       ".sk-estimator-doc-link:hover,\n",
       "div.sk-label-container:hover .sk-estimator-doc-link:hover,\n",
       ".sk-estimator-doc-link:hover {\n",
       "  /* unfitted */\n",
       "  background-color: var(--sklearn-color-unfitted-level-3);\n",
       "  color: var(--sklearn-color-background);\n",
       "  text-decoration: none;\n",
       "}\n",
       "\n",
       "div.sk-estimator.fitted:hover .sk-estimator-doc-link.fitted:hover,\n",
       ".sk-estimator-doc-link.fitted:hover,\n",
       "div.sk-label-container:hover .sk-estimator-doc-link.fitted:hover,\n",
       ".sk-estimator-doc-link.fitted:hover {\n",
       "  /* fitted */\n",
       "  background-color: var(--sklearn-color-fitted-level-3);\n",
       "  color: var(--sklearn-color-background);\n",
       "  text-decoration: none;\n",
       "}\n",
       "\n",
       "/* Span, style for the box shown on hovering the info icon */\n",
       ".sk-estimator-doc-link span {\n",
       "  display: none;\n",
       "  z-index: 9999;\n",
       "  position: relative;\n",
       "  font-weight: normal;\n",
       "  right: .2ex;\n",
       "  padding: .5ex;\n",
       "  margin: .5ex;\n",
       "  width: min-content;\n",
       "  min-width: 20ex;\n",
       "  max-width: 50ex;\n",
       "  color: var(--sklearn-color-text);\n",
       "  box-shadow: 2pt 2pt 4pt #999;\n",
       "  /* unfitted */\n",
       "  background: var(--sklearn-color-unfitted-level-0);\n",
       "  border: .5pt solid var(--sklearn-color-unfitted-level-3);\n",
       "}\n",
       "\n",
       ".sk-estimator-doc-link.fitted span {\n",
       "  /* fitted */\n",
       "  background: var(--sklearn-color-fitted-level-0);\n",
       "  border: var(--sklearn-color-fitted-level-3);\n",
       "}\n",
       "\n",
       ".sk-estimator-doc-link:hover span {\n",
       "  display: block;\n",
       "}\n",
       "\n",
       "/* \"?\"-specific style due to the `<a>` HTML tag */\n",
       "\n",
       "#sk-container-id-2 a.estimator_doc_link {\n",
       "  float: right;\n",
       "  font-size: 1rem;\n",
       "  line-height: 1em;\n",
       "  font-family: monospace;\n",
       "  background-color: var(--sklearn-color-background);\n",
       "  border-radius: 1rem;\n",
       "  height: 1rem;\n",
       "  width: 1rem;\n",
       "  text-decoration: none;\n",
       "  /* unfitted */\n",
       "  color: var(--sklearn-color-unfitted-level-1);\n",
       "  border: var(--sklearn-color-unfitted-level-1) 1pt solid;\n",
       "}\n",
       "\n",
       "#sk-container-id-2 a.estimator_doc_link.fitted {\n",
       "  /* fitted */\n",
       "  border: var(--sklearn-color-fitted-level-1) 1pt solid;\n",
       "  color: var(--sklearn-color-fitted-level-1);\n",
       "}\n",
       "\n",
       "/* On hover */\n",
       "#sk-container-id-2 a.estimator_doc_link:hover {\n",
       "  /* unfitted */\n",
       "  background-color: var(--sklearn-color-unfitted-level-3);\n",
       "  color: var(--sklearn-color-background);\n",
       "  text-decoration: none;\n",
       "}\n",
       "\n",
       "#sk-container-id-2 a.estimator_doc_link.fitted:hover {\n",
       "  /* fitted */\n",
       "  background-color: var(--sklearn-color-fitted-level-3);\n",
       "}\n",
       "</style><div id=\"sk-container-id-2\" class=\"sk-top-container\"><div class=\"sk-text-repr-fallback\"><pre>LinearRegression()</pre><b>In a Jupyter environment, please rerun this cell to show the HTML representation or trust the notebook. <br />On GitHub, the HTML representation is unable to render, please try loading this page with nbviewer.org.</b></div><div class=\"sk-container\" hidden><div class=\"sk-item\"><div class=\"sk-estimator fitted sk-toggleable\"><input class=\"sk-toggleable__control sk-hidden--visually\" id=\"sk-estimator-id-2\" type=\"checkbox\" checked><label for=\"sk-estimator-id-2\" class=\"sk-toggleable__label fitted sk-toggleable__label-arrow fitted\">&nbsp;&nbsp;LinearRegression<a class=\"sk-estimator-doc-link fitted\" rel=\"noreferrer\" target=\"_blank\" href=\"https://scikit-learn.org/1.5/modules/generated/sklearn.linear_model.LinearRegression.html\">?<span>Documentation for LinearRegression</span></a><span class=\"sk-estimator-doc-link fitted\">i<span>Fitted</span></span></label><div class=\"sk-toggleable__content fitted\"><pre>LinearRegression()</pre></div> </div></div></div></div>"
      ],
      "text/plain": [
       "LinearRegression()"
      ]
     },
     "execution_count": 242,
     "metadata": {},
     "output_type": "execute_result"
    }
   ],
   "source": [
    "# train Linear Regression \n",
    "model = LinearRegression()\n",
    "model.fit(exercise_freq, sleep_outcome)"
   ]
  },
  {
   "cell_type": "code",
   "execution_count": 379,
   "id": "9bbe44b5-31d9-4bfd-bf09-17fad1f2d4a5",
   "metadata": {},
   "outputs": [
    {
     "name": "stdout",
     "output_type": "stream",
     "text": [
      "The predicted Sleep Efficiency rating off of a total of 3 exercises per day is:  [0.81884699]\n",
      "The predicted Sleep Efficiency rating off of a total of 3 exercises per day is:  [0.89171328]\n"
     ]
    },
    {
     "name": "stderr",
     "output_type": "stream",
     "text": [
      "C:\\Users\\natha\\OneDrive\\Documents\\Data Wrangling\\Lib\\site-packages\\sklearn\\base.py:493: UserWarning: X does not have valid feature names, but LinearRegression was fitted with feature names\n",
      "  warnings.warn(\n",
      "C:\\Users\\natha\\OneDrive\\Documents\\Data Wrangling\\Lib\\site-packages\\sklearn\\base.py:493: UserWarning: X does not have valid feature names, but LinearRegression was fitted with feature names\n",
      "  warnings.warn(\n"
     ]
    }
   ],
   "source": [
    "predicted_sleep_3x = model.predict([[3]])\n",
    "print(\"The predicted Sleep Efficiency rating off of a total of 3 exercises per day is: \", predicted_sleep_3x)\n",
    "\n",
    "predicted_sleep_6x = model.predict([[6]])\n",
    "print(\"The predicted Sleep Efficiency rating off of a total of 3 exercises per day is: \", predicted_sleep_6x)"
   ]
  },
  {
   "cell_type": "code",
   "execution_count": 381,
   "id": "3eb3e650-fc8e-451b-8249-dcdefb91d81d",
   "metadata": {},
   "outputs": [],
   "source": [
    "x_labels = df[['Alcohol consumption', 'Caffeine consumption','Exercise frequency']]\n",
    "sleep_eff = df['Sleep efficiency']\n",
    "\n",
    "x_train, x_test, sleep_train, sleep_test = train_test_split(x_labels, sleep_eff, test_size = 0.2)"
   ]
  },
  {
   "cell_type": "code",
   "execution_count": 383,
   "id": "49e58a1f-646b-45cf-b12c-2d0c05a1ce77",
   "metadata": {},
   "outputs": [],
   "source": [
    "model.fit(x_train, sleep_train)\n",
    "\n",
    "# Now we need to predict the test set\n",
    "sleep_pred = model.predict(x_test)"
   ]
  },
  {
   "cell_type": "code",
   "execution_count": 385,
   "id": "0dc8a49a-fb6e-4171-a074-8847526946a3",
   "metadata": {},
   "outputs": [
    {
     "name": "stdout",
     "output_type": "stream",
     "text": [
      "Mean Absolute Error (MAE):  0.102\n",
      "Root Mean Squared Error (RMSE):  0.126\n",
      "R-squared (R^2):  0.194\n"
     ]
    }
   ],
   "source": [
    "# Evaluate the results of the model\n",
    "MAE = np.round(mean_absolute_error(sleep_test, sleep_pred), 3)\n",
    "RMSE = np.round(np.sqrt(mean_squared_error(sleep_test, sleep_pred)), 3)\n",
    "R_squared = np.round(r2_score(sleep_test, sleep_pred), 3)\n",
    "\n",
    "# Print the results accordingly \n",
    "print(\"Mean Absolute Error (MAE): \", MAE)\n",
    "print(\"Root Mean Squared Error (RMSE): \", RMSE)\n",
    "print(\"R-squared (R^2): \", R_squared)"
   ]
  },
  {
   "cell_type": "markdown",
   "id": "48a15f05-e0d4-4114-aabf-36d8090b8f14",
   "metadata": {},
   "source": [
    "The above we created a Random Training and Test set with a test size of 20% so we can\n",
    "predict the sleep efficiency test set from the predicted set. The above figures indicate\n",
    "a couple of things to us. Firstly, the MAE and RMSE scores are both low and close together\n",
    "in totals. This proves to us that the model is consistent and potentially quite accurate.\n",
    "It also indicates there are no significant outliers in the model that could overfit the \n",
    "data. However, the R-squared score is quite low, being closer to 0 than 1, meaning its not\n",
    "an excellent fit and could potentially cause unreliable predictions. Therefore, we need to\n",
    "move onto another model to potentially predict these results."
   ]
  },
  {
   "cell_type": "code",
   "execution_count": 346,
   "id": "41ad980c-8abe-45ab-8fda-f84b9fedde34",
   "metadata": {},
   "outputs": [],
   "source": [
    "from sklearn.ensemble import RandomForestRegressor"
   ]
  },
  {
   "cell_type": "markdown",
   "id": "cfdd8317-5639-499e-b506-6ed902403fee",
   "metadata": {},
   "source": [
    "The above is a Random Forest which is a different Machine Learning techniue used for predictions.\n",
    "It combines predictions from many branches of trees with the intent of improving accuracy and \n",
    "reduce overfitting. We'll apply a Random Forest to create predictions for both Sleep Efficiency \n",
    "and Sleep Duration, we'll assess the strength of models and predictions "
   ]
  },
  {
   "cell_type": "code",
   "execution_count": 410,
   "id": "215690b8-763c-4a0b-95ea-d08d0a7b22f1",
   "metadata": {},
   "outputs": [
    {
     "data": {
      "text/html": [
       "<style>#sk-container-id-8 {\n",
       "  /* Definition of color scheme common for light and dark mode */\n",
       "  --sklearn-color-text: black;\n",
       "  --sklearn-color-line: gray;\n",
       "  /* Definition of color scheme for unfitted estimators */\n",
       "  --sklearn-color-unfitted-level-0: #fff5e6;\n",
       "  --sklearn-color-unfitted-level-1: #f6e4d2;\n",
       "  --sklearn-color-unfitted-level-2: #ffe0b3;\n",
       "  --sklearn-color-unfitted-level-3: chocolate;\n",
       "  /* Definition of color scheme for fitted estimators */\n",
       "  --sklearn-color-fitted-level-0: #f0f8ff;\n",
       "  --sklearn-color-fitted-level-1: #d4ebff;\n",
       "  --sklearn-color-fitted-level-2: #b3dbfd;\n",
       "  --sklearn-color-fitted-level-3: cornflowerblue;\n",
       "\n",
       "  /* Specific color for light theme */\n",
       "  --sklearn-color-text-on-default-background: var(--sg-text-color, var(--theme-code-foreground, var(--jp-content-font-color1, black)));\n",
       "  --sklearn-color-background: var(--sg-background-color, var(--theme-background, var(--jp-layout-color0, white)));\n",
       "  --sklearn-color-border-box: var(--sg-text-color, var(--theme-code-foreground, var(--jp-content-font-color1, black)));\n",
       "  --sklearn-color-icon: #696969;\n",
       "\n",
       "  @media (prefers-color-scheme: dark) {\n",
       "    /* Redefinition of color scheme for dark theme */\n",
       "    --sklearn-color-text-on-default-background: var(--sg-text-color, var(--theme-code-foreground, var(--jp-content-font-color1, white)));\n",
       "    --sklearn-color-background: var(--sg-background-color, var(--theme-background, var(--jp-layout-color0, #111)));\n",
       "    --sklearn-color-border-box: var(--sg-text-color, var(--theme-code-foreground, var(--jp-content-font-color1, white)));\n",
       "    --sklearn-color-icon: #878787;\n",
       "  }\n",
       "}\n",
       "\n",
       "#sk-container-id-8 {\n",
       "  color: var(--sklearn-color-text);\n",
       "}\n",
       "\n",
       "#sk-container-id-8 pre {\n",
       "  padding: 0;\n",
       "}\n",
       "\n",
       "#sk-container-id-8 input.sk-hidden--visually {\n",
       "  border: 0;\n",
       "  clip: rect(1px 1px 1px 1px);\n",
       "  clip: rect(1px, 1px, 1px, 1px);\n",
       "  height: 1px;\n",
       "  margin: -1px;\n",
       "  overflow: hidden;\n",
       "  padding: 0;\n",
       "  position: absolute;\n",
       "  width: 1px;\n",
       "}\n",
       "\n",
       "#sk-container-id-8 div.sk-dashed-wrapped {\n",
       "  border: 1px dashed var(--sklearn-color-line);\n",
       "  margin: 0 0.4em 0.5em 0.4em;\n",
       "  box-sizing: border-box;\n",
       "  padding-bottom: 0.4em;\n",
       "  background-color: var(--sklearn-color-background);\n",
       "}\n",
       "\n",
       "#sk-container-id-8 div.sk-container {\n",
       "  /* jupyter's `normalize.less` sets `[hidden] { display: none; }`\n",
       "     but bootstrap.min.css set `[hidden] { display: none !important; }`\n",
       "     so we also need the `!important` here to be able to override the\n",
       "     default hidden behavior on the sphinx rendered scikit-learn.org.\n",
       "     See: https://github.com/scikit-learn/scikit-learn/issues/21755 */\n",
       "  display: inline-block !important;\n",
       "  position: relative;\n",
       "}\n",
       "\n",
       "#sk-container-id-8 div.sk-text-repr-fallback {\n",
       "  display: none;\n",
       "}\n",
       "\n",
       "div.sk-parallel-item,\n",
       "div.sk-serial,\n",
       "div.sk-item {\n",
       "  /* draw centered vertical line to link estimators */\n",
       "  background-image: linear-gradient(var(--sklearn-color-text-on-default-background), var(--sklearn-color-text-on-default-background));\n",
       "  background-size: 2px 100%;\n",
       "  background-repeat: no-repeat;\n",
       "  background-position: center center;\n",
       "}\n",
       "\n",
       "/* Parallel-specific style estimator block */\n",
       "\n",
       "#sk-container-id-8 div.sk-parallel-item::after {\n",
       "  content: \"\";\n",
       "  width: 100%;\n",
       "  border-bottom: 2px solid var(--sklearn-color-text-on-default-background);\n",
       "  flex-grow: 1;\n",
       "}\n",
       "\n",
       "#sk-container-id-8 div.sk-parallel {\n",
       "  display: flex;\n",
       "  align-items: stretch;\n",
       "  justify-content: center;\n",
       "  background-color: var(--sklearn-color-background);\n",
       "  position: relative;\n",
       "}\n",
       "\n",
       "#sk-container-id-8 div.sk-parallel-item {\n",
       "  display: flex;\n",
       "  flex-direction: column;\n",
       "}\n",
       "\n",
       "#sk-container-id-8 div.sk-parallel-item:first-child::after {\n",
       "  align-self: flex-end;\n",
       "  width: 50%;\n",
       "}\n",
       "\n",
       "#sk-container-id-8 div.sk-parallel-item:last-child::after {\n",
       "  align-self: flex-start;\n",
       "  width: 50%;\n",
       "}\n",
       "\n",
       "#sk-container-id-8 div.sk-parallel-item:only-child::after {\n",
       "  width: 0;\n",
       "}\n",
       "\n",
       "/* Serial-specific style estimator block */\n",
       "\n",
       "#sk-container-id-8 div.sk-serial {\n",
       "  display: flex;\n",
       "  flex-direction: column;\n",
       "  align-items: center;\n",
       "  background-color: var(--sklearn-color-background);\n",
       "  padding-right: 1em;\n",
       "  padding-left: 1em;\n",
       "}\n",
       "\n",
       "\n",
       "/* Toggleable style: style used for estimator/Pipeline/ColumnTransformer box that is\n",
       "clickable and can be expanded/collapsed.\n",
       "- Pipeline and ColumnTransformer use this feature and define the default style\n",
       "- Estimators will overwrite some part of the style using the `sk-estimator` class\n",
       "*/\n",
       "\n",
       "/* Pipeline and ColumnTransformer style (default) */\n",
       "\n",
       "#sk-container-id-8 div.sk-toggleable {\n",
       "  /* Default theme specific background. It is overwritten whether we have a\n",
       "  specific estimator or a Pipeline/ColumnTransformer */\n",
       "  background-color: var(--sklearn-color-background);\n",
       "}\n",
       "\n",
       "/* Toggleable label */\n",
       "#sk-container-id-8 label.sk-toggleable__label {\n",
       "  cursor: pointer;\n",
       "  display: block;\n",
       "  width: 100%;\n",
       "  margin-bottom: 0;\n",
       "  padding: 0.5em;\n",
       "  box-sizing: border-box;\n",
       "  text-align: center;\n",
       "}\n",
       "\n",
       "#sk-container-id-8 label.sk-toggleable__label-arrow:before {\n",
       "  /* Arrow on the left of the label */\n",
       "  content: \"▸\";\n",
       "  float: left;\n",
       "  margin-right: 0.25em;\n",
       "  color: var(--sklearn-color-icon);\n",
       "}\n",
       "\n",
       "#sk-container-id-8 label.sk-toggleable__label-arrow:hover:before {\n",
       "  color: var(--sklearn-color-text);\n",
       "}\n",
       "\n",
       "/* Toggleable content - dropdown */\n",
       "\n",
       "#sk-container-id-8 div.sk-toggleable__content {\n",
       "  max-height: 0;\n",
       "  max-width: 0;\n",
       "  overflow: hidden;\n",
       "  text-align: left;\n",
       "  /* unfitted */\n",
       "  background-color: var(--sklearn-color-unfitted-level-0);\n",
       "}\n",
       "\n",
       "#sk-container-id-8 div.sk-toggleable__content.fitted {\n",
       "  /* fitted */\n",
       "  background-color: var(--sklearn-color-fitted-level-0);\n",
       "}\n",
       "\n",
       "#sk-container-id-8 div.sk-toggleable__content pre {\n",
       "  margin: 0.2em;\n",
       "  border-radius: 0.25em;\n",
       "  color: var(--sklearn-color-text);\n",
       "  /* unfitted */\n",
       "  background-color: var(--sklearn-color-unfitted-level-0);\n",
       "}\n",
       "\n",
       "#sk-container-id-8 div.sk-toggleable__content.fitted pre {\n",
       "  /* unfitted */\n",
       "  background-color: var(--sklearn-color-fitted-level-0);\n",
       "}\n",
       "\n",
       "#sk-container-id-8 input.sk-toggleable__control:checked~div.sk-toggleable__content {\n",
       "  /* Expand drop-down */\n",
       "  max-height: 200px;\n",
       "  max-width: 100%;\n",
       "  overflow: auto;\n",
       "}\n",
       "\n",
       "#sk-container-id-8 input.sk-toggleable__control:checked~label.sk-toggleable__label-arrow:before {\n",
       "  content: \"▾\";\n",
       "}\n",
       "\n",
       "/* Pipeline/ColumnTransformer-specific style */\n",
       "\n",
       "#sk-container-id-8 div.sk-label input.sk-toggleable__control:checked~label.sk-toggleable__label {\n",
       "  color: var(--sklearn-color-text);\n",
       "  background-color: var(--sklearn-color-unfitted-level-2);\n",
       "}\n",
       "\n",
       "#sk-container-id-8 div.sk-label.fitted input.sk-toggleable__control:checked~label.sk-toggleable__label {\n",
       "  background-color: var(--sklearn-color-fitted-level-2);\n",
       "}\n",
       "\n",
       "/* Estimator-specific style */\n",
       "\n",
       "/* Colorize estimator box */\n",
       "#sk-container-id-8 div.sk-estimator input.sk-toggleable__control:checked~label.sk-toggleable__label {\n",
       "  /* unfitted */\n",
       "  background-color: var(--sklearn-color-unfitted-level-2);\n",
       "}\n",
       "\n",
       "#sk-container-id-8 div.sk-estimator.fitted input.sk-toggleable__control:checked~label.sk-toggleable__label {\n",
       "  /* fitted */\n",
       "  background-color: var(--sklearn-color-fitted-level-2);\n",
       "}\n",
       "\n",
       "#sk-container-id-8 div.sk-label label.sk-toggleable__label,\n",
       "#sk-container-id-8 div.sk-label label {\n",
       "  /* The background is the default theme color */\n",
       "  color: var(--sklearn-color-text-on-default-background);\n",
       "}\n",
       "\n",
       "/* On hover, darken the color of the background */\n",
       "#sk-container-id-8 div.sk-label:hover label.sk-toggleable__label {\n",
       "  color: var(--sklearn-color-text);\n",
       "  background-color: var(--sklearn-color-unfitted-level-2);\n",
       "}\n",
       "\n",
       "/* Label box, darken color on hover, fitted */\n",
       "#sk-container-id-8 div.sk-label.fitted:hover label.sk-toggleable__label.fitted {\n",
       "  color: var(--sklearn-color-text);\n",
       "  background-color: var(--sklearn-color-fitted-level-2);\n",
       "}\n",
       "\n",
       "/* Estimator label */\n",
       "\n",
       "#sk-container-id-8 div.sk-label label {\n",
       "  font-family: monospace;\n",
       "  font-weight: bold;\n",
       "  display: inline-block;\n",
       "  line-height: 1.2em;\n",
       "}\n",
       "\n",
       "#sk-container-id-8 div.sk-label-container {\n",
       "  text-align: center;\n",
       "}\n",
       "\n",
       "/* Estimator-specific */\n",
       "#sk-container-id-8 div.sk-estimator {\n",
       "  font-family: monospace;\n",
       "  border: 1px dotted var(--sklearn-color-border-box);\n",
       "  border-radius: 0.25em;\n",
       "  box-sizing: border-box;\n",
       "  margin-bottom: 0.5em;\n",
       "  /* unfitted */\n",
       "  background-color: var(--sklearn-color-unfitted-level-0);\n",
       "}\n",
       "\n",
       "#sk-container-id-8 div.sk-estimator.fitted {\n",
       "  /* fitted */\n",
       "  background-color: var(--sklearn-color-fitted-level-0);\n",
       "}\n",
       "\n",
       "/* on hover */\n",
       "#sk-container-id-8 div.sk-estimator:hover {\n",
       "  /* unfitted */\n",
       "  background-color: var(--sklearn-color-unfitted-level-2);\n",
       "}\n",
       "\n",
       "#sk-container-id-8 div.sk-estimator.fitted:hover {\n",
       "  /* fitted */\n",
       "  background-color: var(--sklearn-color-fitted-level-2);\n",
       "}\n",
       "\n",
       "/* Specification for estimator info (e.g. \"i\" and \"?\") */\n",
       "\n",
       "/* Common style for \"i\" and \"?\" */\n",
       "\n",
       ".sk-estimator-doc-link,\n",
       "a:link.sk-estimator-doc-link,\n",
       "a:visited.sk-estimator-doc-link {\n",
       "  float: right;\n",
       "  font-size: smaller;\n",
       "  line-height: 1em;\n",
       "  font-family: monospace;\n",
       "  background-color: var(--sklearn-color-background);\n",
       "  border-radius: 1em;\n",
       "  height: 1em;\n",
       "  width: 1em;\n",
       "  text-decoration: none !important;\n",
       "  margin-left: 1ex;\n",
       "  /* unfitted */\n",
       "  border: var(--sklearn-color-unfitted-level-1) 1pt solid;\n",
       "  color: var(--sklearn-color-unfitted-level-1);\n",
       "}\n",
       "\n",
       ".sk-estimator-doc-link.fitted,\n",
       "a:link.sk-estimator-doc-link.fitted,\n",
       "a:visited.sk-estimator-doc-link.fitted {\n",
       "  /* fitted */\n",
       "  border: var(--sklearn-color-fitted-level-1) 1pt solid;\n",
       "  color: var(--sklearn-color-fitted-level-1);\n",
       "}\n",
       "\n",
       "/* On hover */\n",
       "div.sk-estimator:hover .sk-estimator-doc-link:hover,\n",
       ".sk-estimator-doc-link:hover,\n",
       "div.sk-label-container:hover .sk-estimator-doc-link:hover,\n",
       ".sk-estimator-doc-link:hover {\n",
       "  /* unfitted */\n",
       "  background-color: var(--sklearn-color-unfitted-level-3);\n",
       "  color: var(--sklearn-color-background);\n",
       "  text-decoration: none;\n",
       "}\n",
       "\n",
       "div.sk-estimator.fitted:hover .sk-estimator-doc-link.fitted:hover,\n",
       ".sk-estimator-doc-link.fitted:hover,\n",
       "div.sk-label-container:hover .sk-estimator-doc-link.fitted:hover,\n",
       ".sk-estimator-doc-link.fitted:hover {\n",
       "  /* fitted */\n",
       "  background-color: var(--sklearn-color-fitted-level-3);\n",
       "  color: var(--sklearn-color-background);\n",
       "  text-decoration: none;\n",
       "}\n",
       "\n",
       "/* Span, style for the box shown on hovering the info icon */\n",
       ".sk-estimator-doc-link span {\n",
       "  display: none;\n",
       "  z-index: 9999;\n",
       "  position: relative;\n",
       "  font-weight: normal;\n",
       "  right: .2ex;\n",
       "  padding: .5ex;\n",
       "  margin: .5ex;\n",
       "  width: min-content;\n",
       "  min-width: 20ex;\n",
       "  max-width: 50ex;\n",
       "  color: var(--sklearn-color-text);\n",
       "  box-shadow: 2pt 2pt 4pt #999;\n",
       "  /* unfitted */\n",
       "  background: var(--sklearn-color-unfitted-level-0);\n",
       "  border: .5pt solid var(--sklearn-color-unfitted-level-3);\n",
       "}\n",
       "\n",
       ".sk-estimator-doc-link.fitted span {\n",
       "  /* fitted */\n",
       "  background: var(--sklearn-color-fitted-level-0);\n",
       "  border: var(--sklearn-color-fitted-level-3);\n",
       "}\n",
       "\n",
       ".sk-estimator-doc-link:hover span {\n",
       "  display: block;\n",
       "}\n",
       "\n",
       "/* \"?\"-specific style due to the `<a>` HTML tag */\n",
       "\n",
       "#sk-container-id-8 a.estimator_doc_link {\n",
       "  float: right;\n",
       "  font-size: 1rem;\n",
       "  line-height: 1em;\n",
       "  font-family: monospace;\n",
       "  background-color: var(--sklearn-color-background);\n",
       "  border-radius: 1rem;\n",
       "  height: 1rem;\n",
       "  width: 1rem;\n",
       "  text-decoration: none;\n",
       "  /* unfitted */\n",
       "  color: var(--sklearn-color-unfitted-level-1);\n",
       "  border: var(--sklearn-color-unfitted-level-1) 1pt solid;\n",
       "}\n",
       "\n",
       "#sk-container-id-8 a.estimator_doc_link.fitted {\n",
       "  /* fitted */\n",
       "  border: var(--sklearn-color-fitted-level-1) 1pt solid;\n",
       "  color: var(--sklearn-color-fitted-level-1);\n",
       "}\n",
       "\n",
       "/* On hover */\n",
       "#sk-container-id-8 a.estimator_doc_link:hover {\n",
       "  /* unfitted */\n",
       "  background-color: var(--sklearn-color-unfitted-level-3);\n",
       "  color: var(--sklearn-color-background);\n",
       "  text-decoration: none;\n",
       "}\n",
       "\n",
       "#sk-container-id-8 a.estimator_doc_link.fitted:hover {\n",
       "  /* fitted */\n",
       "  background-color: var(--sklearn-color-fitted-level-3);\n",
       "}\n",
       "</style><div id=\"sk-container-id-8\" class=\"sk-top-container\"><div class=\"sk-text-repr-fallback\"><pre>RandomForestRegressor(random_state=42)</pre><b>In a Jupyter environment, please rerun this cell to show the HTML representation or trust the notebook. <br />On GitHub, the HTML representation is unable to render, please try loading this page with nbviewer.org.</b></div><div class=\"sk-container\" hidden><div class=\"sk-item\"><div class=\"sk-estimator fitted sk-toggleable\"><input class=\"sk-toggleable__control sk-hidden--visually\" id=\"sk-estimator-id-8\" type=\"checkbox\" checked><label for=\"sk-estimator-id-8\" class=\"sk-toggleable__label fitted sk-toggleable__label-arrow fitted\">&nbsp;&nbsp;RandomForestRegressor<a class=\"sk-estimator-doc-link fitted\" rel=\"noreferrer\" target=\"_blank\" href=\"https://scikit-learn.org/1.5/modules/generated/sklearn.ensemble.RandomForestRegressor.html\">?<span>Documentation for RandomForestRegressor</span></a><span class=\"sk-estimator-doc-link fitted\">i<span>Fitted</span></span></label><div class=\"sk-toggleable__content fitted\"><pre>RandomForestRegressor(random_state=42)</pre></div> </div></div></div></div>"
      ],
      "text/plain": [
       "RandomForestRegressor(random_state=42)"
      ]
     },
     "execution_count": 410,
     "metadata": {},
     "output_type": "execute_result"
    }
   ],
   "source": [
    "# We'll use the 'factors' or influences of sleep as our x set\n",
    "factors = ['Age', 'Caffeine consumption', 'Alcohol consumption', 'Exercise frequency']\n",
    "# Use both Sleep Outcomes as our y set\n",
    "sleep_columns = ['Sleep efficiency', 'Sleep duration']\n",
    "\n",
    "# we're trying to predict y from x\n",
    "x_factors = df[factors]\n",
    "y_sleep_eff = df['Sleep efficiency']\n",
    "y_sleep_dur = df['Sleep duration']\n",
    "\n",
    "# Creating training and test sets for each combination of x_factors and sleep_columns\n",
    "x_train_eff, x_test_eff, y_train_eff, y_test_eff = train_test_split(x_factors, y_sleep_eff, test_size = 0.4, random_state = 42)\n",
    "x_train_dur, x_test_dur, y_train_dur, y_test_dur = train_test_split(x_factors, y_sleep_dur, test_size = 0.4, random_state = 42)\n",
    "\n",
    "# create 2 random forests  \n",
    "rf_efficiency = RandomForestRegressor(random_state = 42)\n",
    "rf_duration = RandomForestRegressor(random_state = 42)\n",
    "\n",
    "rf_efficiency.fit(x_train_eff, y_train_eff)\n",
    "rf_duration.fit(x_train_dur, y_train_dur)"
   ]
  },
  {
   "cell_type": "code",
   "execution_count": 412,
   "id": "07251158-78e3-4879-b3de-467f1db4b072",
   "metadata": {},
   "outputs": [
    {
     "name": "stdout",
     "output_type": "stream",
     "text": [
      "Predicted Sleep Efficiency for Aged 35, 100mg of Caffeine, 2 Drinks of Alcohol and 3 Exercises per day is :  [0.6]\n",
      "Predicted Sleep Duration for Aged 35, 100mg of Caffeine, 2 Drinks of Alcohol and 3 Exercises per day is :  [7.22]  hours\n"
     ]
    }
   ],
   "source": [
    "# Create a Dataframe Prediction using: Age = 35, Caff Consumption = 100, Alc Consumption = 2, Ex Freq = 3\n",
    "rf_prediction = pd.DataFrame([[35, 100, 2, 3]], columns = ['Age', 'Caffeine consumption', 'Alcohol consumption', 'Exercise frequency'])\n",
    "\n",
    "# Predict sleep efficiency\n",
    "predicted_efficiency = np.round(rf_eff.predict(rf_prediction), 2)\n",
    "\n",
    "# Predict sleep duration\n",
    "predicted_duration = np.round(rf_dur.predict(rf_prediction), 2)\n",
    "\n",
    "print(\"Predicted Sleep Efficiency for Aged 35, 100mg of Caffeine, 2 Drinks of Alcohol and 3 Exercises per day is : \", predicted_efficiency)\n",
    "print(\"Predicted Sleep Duration for Aged 35, 100mg of Caffeine, 2 Drinks of Alcohol and 3 Exercises per day is : \", predicted_duration, \" hours\")"
   ]
  },
  {
   "cell_type": "markdown",
   "id": "93df16a6-0cbd-4364-8abf-97362bbbc81f",
   "metadata": {},
   "source": [
    "After we've implemented our Random Forest prediction when using the variables for an individual:\n",
    "- Age = 35\n",
    "- Caffeine Consumption = 100\n",
    "- Alcohol Consumption = 2\n",
    "- Exercise Frequency = 3\n",
    "\n",
    "We get a result of a predicted SLeep Efficiency equal to 0.6, and a sleep duration of approx 7.22 hrs.\n",
    "\n",
    "We can build on our Random Forest as well, creating and including more factors that may effect sleep\n",
    "efficiency or even using less if we don't want to include factors such as Caffeine Consumption due\n",
    "to the strength of relationship we observed before. The point of the model above was to show how to\n",
    "predict said outcomes based on said factors. \n",
    "\n",
    "We should test the reliability of the model as well just as we've done before."
   ]
  },
  {
   "cell_type": "code",
   "execution_count": 414,
   "id": "7ec90173-a8a0-48a7-a842-47ff83401251",
   "metadata": {},
   "outputs": [
    {
     "name": "stdout",
     "output_type": "stream",
     "text": [
      "For Sleep Efficiency: \n",
      "Mean Absolute Error (MAE):  0.08\n",
      "Root Mean Squared Error (RMSE):  0.107\n",
      "R-squared (R^2):  0.397\n",
      "\n",
      "For Sleep Duration: \n",
      "Mean Absolute Error (MAE):  0.745\n",
      "Root Mean Squared Error (RMSE):  0.982\n",
      "R-squared (R^2):  -0.326\n"
     ]
    }
   ],
   "source": [
    "# Predict on test sets\n",
    "pred_eff = rf_efficiency.predict(x_test_eff)\n",
    "pred_dur = rf_duration.predict(x_test_dur)\n",
    "\n",
    "# Evaluate the results of the model\n",
    "MAE_eff = np.round(mean_absolute_error(y_test_eff, pred_eff), 3)\n",
    "RMSE_eff = np.round(np.sqrt(mean_squared_error(y_test_eff, pred_eff)), 3)\n",
    "R_squared_eff = np.round(r2_score(y_test_eff, pred_eff), 3)\n",
    "\n",
    "MAE_dur = np.round(mean_absolute_error(y_test_dur, pred_dur), 3)\n",
    "RMSE_dur = np.round(np.sqrt(mean_squared_error(y_test_dur, pred_dur)), 3)\n",
    "R_squared_dur = np.round(r2_score(y_test_dur, pred_dur), 3)\n",
    "\n",
    "print(\"For Sleep Efficiency: \")\n",
    "print(\"Mean Absolute Error (MAE): \", MAE_eff)\n",
    "print(\"Root Mean Squared Error (RMSE): \", RMSE_eff)\n",
    "print(\"R-squared (R^2): \", R_squared_eff)\n",
    "print(\"\")\n",
    "print(\"For Sleep Duration: \")\n",
    "print(\"Mean Absolute Error (MAE): \", MAE_dur)\n",
    "print(\"Root Mean Squared Error (RMSE): \", RMSE_dur)\n",
    "print(\"R-squared (R^2): \", R_squared_dur)"
   ]
  },
  {
   "cell_type": "markdown",
   "id": "ab62a7e7-3aa1-4575-9760-1d4d2af7ca3a",
   "metadata": {},
   "source": [
    "From the above we can see mixed results. Firstly for Sleep Efficiency, we see low scores\n",
    "and two scores that are very close together in MAE and RMSE. As discussed before this is\n",
    "an ideal scenario as it means its an accurate model with no major impact from outliers.\n",
    "The R-squared score is much higher than what it was previously under the Linear Regression\n",
    "model, meaning the Random Forest model is far more reliable for predictions than what \n",
    "Linear Regression is for predicting Sleep Efficiency. Unfortunately we don't yield the same\n",
    "results for Sleep Duration. Although we're not surprised based on our previous analysis, \n",
    "the R-squared score solidifies our findings that building a model to predict Sleep Duration\n",
    "is unreliable and poor. It may not have significant outliers, but it has a worse fit than \n",
    "the model for Sleep Efficiency and therefore we can safely assume there might not be a \n",
    "possible way to accurately predict the duration of sleep based on any of the factors. \n",
    "However, from our findings, we can assume there is potential to predict sleep efficiency\n",
    "based on the variables within the dataset, as we've seen from our relative findings. "
   ]
  },
  {
   "cell_type": "code",
   "execution_count": null,
   "id": "052722a3-661a-4f4f-bf1d-2778671d9a73",
   "metadata": {},
   "outputs": [],
   "source": []
  }
 ],
 "metadata": {
  "kernelspec": {
   "display_name": "Python 3 (ipykernel)",
   "language": "python",
   "name": "python3"
  },
  "language_info": {
   "codemirror_mode": {
    "name": "ipython",
    "version": 3
   },
   "file_extension": ".py",
   "mimetype": "text/x-python",
   "name": "python",
   "nbconvert_exporter": "python",
   "pygments_lexer": "ipython3",
   "version": "3.12.7"
  }
 },
 "nbformat": 4,
 "nbformat_minor": 5
}
