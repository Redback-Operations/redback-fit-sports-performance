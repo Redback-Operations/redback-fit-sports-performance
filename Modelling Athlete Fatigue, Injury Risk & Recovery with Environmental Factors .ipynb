{
 "cells": [
  {
   "cell_type": "markdown",
   "id": "b7e54adb",
   "metadata": {},
   "source": [
    "# SIT378 – Redback Operations: Data Analytics Team\n",
    "# Modelling Athlete Fatigue, Injury Risk & Recovery with Environmental Factors\n",
    "\n",
    "> Purpose: a clean, reproducible notebook that loads and cleans activity data, builds simple baselines, integrates synthetic environment features, prepares Power BI exports, and provides visual/evidence outputs for the team.\n",
    "\n",
    "> Author: Benjamin Cole - s222237823"
   ]
  },
  {
   "cell_type": "markdown",
   "id": "940e76e4",
   "metadata": {},
   "source": [
    "\n",
    "### Data Variability & How to Adapt (Read Me First)\n",
    "\n",
    "This notebook is designed to **fail safely** when expected columns/files are missing. Many steps **depend on your data**.  \n",
    "If something doesn't run, it's usually because a **file path or column name** differs from what's assumed here.\n",
    "\n",
    "**Common points to adjust:**\n",
    "- **File paths**: Change `Data/ImprovedData.xlsx`, `Data/Cycling.csv`, `Data/Football.csv` if your tree is different.\n",
    "- **Sheet names**: If your Excel file has multiple sheets, select the correct one explicitly.\n",
    "- **Column names**: Update the schema mapper if your columns differ (e.g., `Average Heart Rate` vs `avg_hr`).  \n",
    "- **Targets**: Real targets like `fatigue_score`, `injury_flag`, `recovery_hours` may not exist; we **simulate** them for baselines.\n",
    "- **Environment data**: If you have real weather, replace synthetic `temp_c`, `humidity_pct`, `wind_kph` with your joined dataset.\n",
    "\n",
    "**Troubleshooting pattern**: \n",
    "1) Read the comment at the top of the cell (what it needs).  \n",
    "2) If a KeyError/FileNotFound occurs, tweak the **path** or the **column map**.  \n",
    "3) Re-run the cell; proceed only if the printed checks look right.\n"
   ]
  },
  {
   "cell_type": "markdown",
   "id": "023246a7",
   "metadata": {},
   "source": [
    "\n",
    "### Quick Helper — Verify Paths & Columns\n",
    "\n",
    "Use the helper below to verify that paths exist and to preview column names.  \n",
    "If a file is missing or a key column is absent, adapt the **path** or **schema map** accordingly.\n"
   ]
  },
  {
   "cell_type": "code",
   "execution_count": 1,
   "id": "4f62b3d3",
   "metadata": {},
   "outputs": [
    {
     "name": "stdout",
     "output_type": "stream",
     "text": [
      "Paths exist? \n",
      "  RUN: True \n",
      "  CYC: True \n",
      "  FB : True\n",
      "\n",
      "First 3 rows and columns for: Data\\ImprovedData.xlsx\n",
      "    UserID      Name Location  Total_Distance  Very_Active_Distance  \\\n",
      "0  7423388  Danielle      QLD            8.02                  2.03   \n",
      "1  7550634     Angel      NSW            5.82                  2.28   \n",
      "2  5304572    Joshua      NSW            0.11                  0.00   \n",
      "\n",
      "   Moderately_Active_Distance  Light_Active_Distance  \\\n",
      "0                        0.48                   5.52   \n",
      "1                        0.90                   2.64   \n",
      "2                        0.00                   0.11   \n",
      "\n",
      "   Sedentary_Active_Distance  Very_Active_Minutes  Fairly_Active_Minutes  \\\n",
      "0                        0.0                   26                     10   \n",
      "1                        0.0                   30                     16   \n",
      "2                        0.0                    0                      0   \n",
      "\n",
      "   Lightly_Active_Minutes  Sedentary_Minutes  Steps  Calories_Burned  \n",
      "0                     349                587  10449             2536  \n",
      "1                     135               1259   8001             2902  \n",
      "2                      12               1303    152             2100  \n",
      "Columns: ['UserID', 'Name', 'Location', 'Total_Distance', 'Very_Active_Distance', 'Moderately_Active_Distance', 'Light_Active_Distance', 'Sedentary_Active_Distance', 'Very_Active_Minutes', 'Fairly_Active_Minutes', 'Lightly_Active_Minutes', 'Sedentary_Minutes', 'Steps', 'Calories_Burned']\n",
      "\n",
      "First 3 rows and columns for: Data\\Cycling.csv\n",
      "         Activity Date  Elapsed Time  Distance  Max Heart Rate  \\\n",
      "0  2019-12-13 01:46:07          3859     22.97           139.0   \n",
      "1  2019-12-20 23:05:01          4852     29.65           133.0   \n",
      "2  2019-12-21 23:25:29          5817     32.38           139.0   \n",
      "\n",
      "   Relative Effort  Athlete Weight  Bike Weight  Moving Time  Max Speed  \\\n",
      "0             11.0            84.0          NaN       3811.0       10.2   \n",
      "1             12.0            84.0          NaN       4693.0       14.1   \n",
      "2             19.0            84.0          NaN       5601.0       12.0   \n",
      "\n",
      "   Average Speed  ...  60 Day Maximum Power 30s  60 Day Maximum Power 1.0min  \\\n",
      "0          5.989  ...                     342.1                        221.2   \n",
      "1          6.343  ...                     342.1                        221.2   \n",
      "2          5.800  ...                     342.1                        221.2   \n",
      "\n",
      "   60 Day Maximum Power 5.0min  60 Day Maximum Power 10.0min  \\\n",
      "0                        162.2                         136.3   \n",
      "1                        162.2                         136.3   \n",
      "2                        162.2                         136.3   \n",
      "\n",
      "   60 Day Maximum Power 20.0min  60 Day Maximum Power 30.0min  \\\n",
      "0                         120.8                         109.8   \n",
      "1                         122.1                         120.3   \n",
      "2                         127.5                         125.5   \n",
      "\n",
      "   60 Day Maximum Power 1.0 hr  60 Day Maximum Power 1.5 hr  \\\n",
      "0                        105.4                          0.0   \n",
      "1                        115.6                          0.0   \n",
      "2                        115.6                        104.7   \n",
      "\n",
      "   60 Day Maximum Power 2.0 hr    FTP  \n",
      "0                          0.0  222.5  \n",
      "1                          0.0  222.6  \n",
      "2                          0.0  222.6  \n",
      "\n",
      "[3 rows x 42 columns]\n",
      "Columns: ['Activity Date', 'Elapsed Time', 'Distance', 'Max Heart Rate', 'Relative Effort', 'Athlete Weight', 'Bike Weight', 'Moving Time', 'Max Speed', 'Average Speed', 'Elevation Gain', 'Elevation Loss', 'Elevation Low', 'Elevation High', 'Max Grade', 'Average Grade', 'Max Cadence', 'Average Cadence', 'Average Heart Rate', 'Average Watts', 'Calories', 'Average Temperature', 'Total Work', 'Perceived Exertion', 'Weighted Average Power', 'Power Count', 'Prefer Perceived Exertion', 'Perceived Relative Effort', 'Grade Adjusted Distance', 'Average Elapsed Speed', '60 Day Maximum Power 5s', '60 Day Maximum Power 10s', '60 Day Maximum Power 30s', '60 Day Maximum Power 1.0min', '60 Day Maximum Power 5.0min', '60 Day Maximum Power 10.0min', '60 Day Maximum Power 20.0min', '60 Day Maximum Power 30.0min', '60 Day Maximum Power 1.0 hr', '60 Day Maximum Power 1.5 hr', '60 Day Maximum Power 2.0 hr', 'FTP']\n",
      "\n",
      "First 3 rows and columns for: Data\\Football.csv\n",
      "  Div        Date   Time        HomeTeam     AwayTeam  H_Ranking_Prior_Season  \\\n",
      "0  E0  05/08/2022  20:00  Crystal Palace      Arsenal                      12   \n",
      "1  E0  06/08/2022  12:30          Fulham    Liverpool                      18   \n",
      "2  E0  06/08/2022  15:00     Bournemouth  Aston Villa                      18   \n",
      "\n",
      "   A_Ranking_Prior_Season  FTHG  FTAG FTR  ...  AvgC<2.5  AHCh B365CAHH  \\\n",
      "0                       5     0     2   A  ...      1.76  0.50     2.09   \n",
      "1                       2     2     2   D  ...      2.73  1.75     1.90   \n",
      "2                      14     2     0   H  ...      1.76  0.50     1.93   \n",
      "\n",
      "  B365CAHA  PCAHH  PCAHA  MaxCAHH  MaxCAHA  AvgCAHH  AvgCAHA  \n",
      "0     1.84   2.04   1.88     2.09     1.88     2.03     1.85  \n",
      "1     2.03   1.91   2.02     2.01     2.06     1.89     1.99  \n",
      "2     2.00   1.93   2.00     1.94     2.04     1.88     2.00  \n",
      "\n",
      "[3 rows x 108 columns]\n",
      "Columns: ['Div', 'Date', 'Time', 'HomeTeam', 'AwayTeam', 'H_Ranking_Prior_Season', 'A_Ranking_Prior_Season', 'FTHG', 'FTAG', 'FTR', 'HTHG', 'HTAG', 'HTR', 'Referee', 'HS', 'AS', 'HST', 'AST', 'HF', 'AF', 'HC', 'AC', 'HY', 'AY', 'HR', 'AR', 'B365H', 'B365D', 'B365A', 'BWH', 'BWD', 'BWA', 'IWH', 'IWD', 'IWA', 'PSH', 'PSD', 'PSA', 'WHH', 'WHD', 'WHA', 'VCH', 'VCD', 'VCA', 'MaxH', 'MaxD', 'MaxA', 'AvgH', 'AvgD', 'AvgA', 'B365>2.5', 'B365<2.5', 'P>2.5', 'P<2.5', 'Max>2.5', 'Max<2.5', 'Avg>2.5', 'Avg<2.5', 'AHh', 'B365AHH', 'B365AHA', 'PAHH', 'PAHA', 'MaxAHH', 'MaxAHA', 'AvgAHH', 'AvgAHA', 'B365CH', 'B365CD', 'B365CA', 'BWCH', 'BWCD', 'BWCA', 'IWCH', 'IWCD', 'IWCA', 'PSCH', 'PSCD', 'PSCA', 'WHCH', 'WHCD', 'WHCA', 'VCCH', 'VCCD', 'VCCA', 'MaxCH', 'MaxCD', 'MaxCA', 'AvgCH', 'AvgCD', 'AvgCA', 'B365C>2.5', 'B365C<2.5', 'PC>2.5', 'PC<2.5', 'MaxC>2.5', 'MaxC<2.5', 'AvgC>2.5', 'AvgC<2.5', 'AHCh', 'B365CAHH', 'B365CAHA', 'PCAHH', 'PCAHA', 'MaxCAHH', 'MaxCAHA', 'AvgCAHH', 'AvgCAHA']\n"
     ]
    }
   ],
   "source": [
    "\n",
    "from pathlib import Path\n",
    "import pandas as pd\n",
    "\n",
    "# === Update these if your tree differs ===\n",
    "RUN_PATH = Path(\"Data/ImprovedData.xlsx\")\n",
    "CYC_PATH = Path(\"Data/Cycling.csv\")\n",
    "FB_PATH  = Path(\"Data/Football.csv\")\n",
    "\n",
    "print(\"Paths exist?\",\n",
    "      \"\\n  RUN:\", RUN_PATH.exists(),\n",
    "      \"\\n  CYC:\", CYC_PATH.exists(),\n",
    "      \"\\n  FB :\", FB_PATH.exists())\n",
    "\n",
    "def preview_cols(path):\n",
    "    try:\n",
    "        if path.suffix.lower()==\".csv\":\n",
    "            df = pd.read_csv(path, nrows=3)\n",
    "        else:\n",
    "            try:\n",
    "                x = pd.ExcelFile(path)\n",
    "                df = x.parse(x.sheet_names[0]).head(3)\n",
    "            except Exception:\n",
    "                df = pd.read_excel(path, nrows=3)\n",
    "        print(f\"\\nFirst 3 rows and columns for: {path}\")\n",
    "        print(df.head(3))\n",
    "        print(\"Columns:\", list(df.columns))\n",
    "    except Exception as e:\n",
    "        print(f\"Could not preview {path}:\", e)\n",
    "\n",
    "for p in [RUN_PATH, CYC_PATH, FB_PATH]:\n",
    "    preview_cols(p)\n"
   ]
  },
  {
   "cell_type": "code",
   "execution_count": 2,
   "id": "72b8f396",
   "metadata": {},
   "outputs": [
    {
     "name": "stdout",
     "output_type": "stream",
     "text": [
      "DATA_DIR exists: True\n",
      "ImprovedData.xlsx exists: True\n",
      "Cycling.csv exists: True\n",
      "Football.csv exists: True\n",
      "Output CSV dir: C:\\Users\\bmcol\\University\\SIT378\\Data\\output\\csv\n",
      "Output FIG dir: C:\\Users\\bmcol\\University\\SIT378\\Data\\output\\figures\n"
     ]
    }
   ],
   "source": [
    "from pathlib import Path\n",
    "print(\"DATA_DIR exists:\", Path(\"Data\").exists())\n",
    "print(\"ImprovedData.xlsx exists:\", Path(\"Data/ImprovedData.xlsx\").exists())\n",
    "print(\"Cycling.csv exists:\", Path(\"Data/Cycling.csv\").exists())\n",
    "print(\"Football.csv exists:\", Path(\"Data/Football.csv\").exists())\n",
    "print(\"Output CSV dir:\", Path(\"Data/output/csv\").resolve())\n",
    "print(\"Output FIG dir:\", Path(\"Data/output/figures\").resolve())"
   ]
  },
  {
   "cell_type": "markdown",
   "id": "81426346",
   "metadata": {},
   "source": [
    "### Imported cells — Early submission"
   ]
  },
  {
   "cell_type": "code",
   "execution_count": 3,
   "id": "fdf82a35",
   "metadata": {},
   "outputs": [],
   "source": [
    "# Step 1: Importing Required Libraries\n",
    "# I am using Pandas for data handling, NumPy for numerical operations,\n",
    "# Matplotlib & Seaborn for visualisation, and Scikit-learn for modelling.\n",
    "import pandas as pd\n",
    "import numpy as np\n",
    "import matplotlib.pyplot as plt\n",
    "import seaborn as sns\n",
    "from sklearn.model_selection import train_test_split\n",
    "from sklearn.linear_model import LinearRegression\n",
    "from sklearn.metrics import mean_squared_error\n",
    "from pathlib import Path\n",
    "import pandas as pd\n",
    "\n",
    "from pathlib import Path\n",
    "import matplotlib.pyplot as plt\n",
    "import numpy as np\n",
    "import pandas as pd\n",
    "\n",
    "\n"
   ]
  },
  {
   "cell_type": "code",
   "execution_count": 4,
   "id": "827e51f0",
   "metadata": {},
   "outputs": [
    {
     "data": {
      "text/html": [
       "<div>\n",
       "<style scoped>\n",
       "    .dataframe tbody tr th:only-of-type {\n",
       "        vertical-align: middle;\n",
       "    }\n",
       "\n",
       "    .dataframe tbody tr th {\n",
       "        vertical-align: top;\n",
       "    }\n",
       "\n",
       "    .dataframe thead th {\n",
       "        text-align: right;\n",
       "    }\n",
       "</style>\n",
       "<table border=\"1\" class=\"dataframe\">\n",
       "  <thead>\n",
       "    <tr style=\"text-align: right;\">\n",
       "      <th></th>\n",
       "      <th>UserID</th>\n",
       "      <th>Name</th>\n",
       "      <th>Location</th>\n",
       "      <th>Total_Distance</th>\n",
       "      <th>Very_Active_Distance</th>\n",
       "      <th>Moderately_Active_Distance</th>\n",
       "      <th>Light_Active_Distance</th>\n",
       "      <th>Sedentary_Active_Distance</th>\n",
       "      <th>Very_Active_Minutes</th>\n",
       "      <th>Fairly_Active_Minutes</th>\n",
       "      <th>Lightly_Active_Minutes</th>\n",
       "      <th>Sedentary_Minutes</th>\n",
       "      <th>Steps</th>\n",
       "      <th>Calories_Burned</th>\n",
       "    </tr>\n",
       "  </thead>\n",
       "  <tbody>\n",
       "    <tr>\n",
       "      <th>0</th>\n",
       "      <td>7423388</td>\n",
       "      <td>Danielle</td>\n",
       "      <td>QLD</td>\n",
       "      <td>8.02</td>\n",
       "      <td>2.03</td>\n",
       "      <td>0.48</td>\n",
       "      <td>5.52</td>\n",
       "      <td>0.0</td>\n",
       "      <td>26</td>\n",
       "      <td>10</td>\n",
       "      <td>349</td>\n",
       "      <td>587</td>\n",
       "      <td>10449</td>\n",
       "      <td>2536</td>\n",
       "    </tr>\n",
       "    <tr>\n",
       "      <th>1</th>\n",
       "      <td>7550634</td>\n",
       "      <td>Angel</td>\n",
       "      <td>NSW</td>\n",
       "      <td>5.82</td>\n",
       "      <td>2.28</td>\n",
       "      <td>0.90</td>\n",
       "      <td>2.64</td>\n",
       "      <td>0.0</td>\n",
       "      <td>30</td>\n",
       "      <td>16</td>\n",
       "      <td>135</td>\n",
       "      <td>1259</td>\n",
       "      <td>8001</td>\n",
       "      <td>2902</td>\n",
       "    </tr>\n",
       "    <tr>\n",
       "      <th>2</th>\n",
       "      <td>5304572</td>\n",
       "      <td>Joshua</td>\n",
       "      <td>NSW</td>\n",
       "      <td>0.11</td>\n",
       "      <td>0.00</td>\n",
       "      <td>0.00</td>\n",
       "      <td>0.11</td>\n",
       "      <td>0.0</td>\n",
       "      <td>0</td>\n",
       "      <td>0</td>\n",
       "      <td>12</td>\n",
       "      <td>1303</td>\n",
       "      <td>152</td>\n",
       "      <td>2100</td>\n",
       "    </tr>\n",
       "    <tr>\n",
       "      <th>3</th>\n",
       "      <td>3234489</td>\n",
       "      <td>Jeffrey</td>\n",
       "      <td>NSW</td>\n",
       "      <td>7.21</td>\n",
       "      <td>0.00</td>\n",
       "      <td>0.34</td>\n",
       "      <td>6.87</td>\n",
       "      <td>0.0</td>\n",
       "      <td>0</td>\n",
       "      <td>7</td>\n",
       "      <td>352</td>\n",
       "      <td>1077</td>\n",
       "      <td>9543</td>\n",
       "      <td>2450</td>\n",
       "    </tr>\n",
       "    <tr>\n",
       "      <th>4</th>\n",
       "      <td>8204212</td>\n",
       "      <td>Jill</td>\n",
       "      <td>QLD</td>\n",
       "      <td>7.86</td>\n",
       "      <td>0.34</td>\n",
       "      <td>0.73</td>\n",
       "      <td>6.79</td>\n",
       "      <td>0.0</td>\n",
       "      <td>6</td>\n",
       "      <td>19</td>\n",
       "      <td>258</td>\n",
       "      <td>1020</td>\n",
       "      <td>10218</td>\n",
       "      <td>3013</td>\n",
       "    </tr>\n",
       "  </tbody>\n",
       "</table>\n",
       "</div>"
      ],
      "text/plain": [
       "    UserID      Name Location  Total_Distance  Very_Active_Distance  \\\n",
       "0  7423388  Danielle      QLD            8.02                  2.03   \n",
       "1  7550634     Angel      NSW            5.82                  2.28   \n",
       "2  5304572    Joshua      NSW            0.11                  0.00   \n",
       "3  3234489   Jeffrey      NSW            7.21                  0.00   \n",
       "4  8204212      Jill      QLD            7.86                  0.34   \n",
       "\n",
       "   Moderately_Active_Distance  Light_Active_Distance  \\\n",
       "0                        0.48                   5.52   \n",
       "1                        0.90                   2.64   \n",
       "2                        0.00                   0.11   \n",
       "3                        0.34                   6.87   \n",
       "4                        0.73                   6.79   \n",
       "\n",
       "   Sedentary_Active_Distance  Very_Active_Minutes  Fairly_Active_Minutes  \\\n",
       "0                        0.0                   26                     10   \n",
       "1                        0.0                   30                     16   \n",
       "2                        0.0                    0                      0   \n",
       "3                        0.0                    0                      7   \n",
       "4                        0.0                    6                     19   \n",
       "\n",
       "   Lightly_Active_Minutes  Sedentary_Minutes  Steps  Calories_Burned  \n",
       "0                     349                587  10449             2536  \n",
       "1                     135               1259   8001             2902  \n",
       "2                      12               1303    152             2100  \n",
       "3                     352               1077   9543             2450  \n",
       "4                     258               1020  10218             3013  "
      ]
     },
     "execution_count": 4,
     "metadata": {},
     "output_type": "execute_result"
    }
   ],
   "source": [
    "# Step 1: Correct path to the dataset\n",
    "IMPROVED_XLSX = Path(\"Data\") / \"ImprovedData.xlsx\"\n",
    "\n",
    "# Step 2: Load the Activity Dataset\n",
    "df = pd.read_excel(IMPROVED_XLSX)\n",
    "\n",
    "# Step 3: Inspect first 5 rows\n",
    "df.head()\n"
   ]
  },
  {
   "cell_type": "code",
   "execution_count": 5,
   "id": "77e7a975",
   "metadata": {},
   "outputs": [
    {
     "name": "stdout",
     "output_type": "stream",
     "text": [
      "<class 'pandas.core.frame.DataFrame'>\n",
      "RangeIndex: 863 entries, 0 to 862\n",
      "Data columns (total 14 columns):\n",
      " #   Column                      Non-Null Count  Dtype  \n",
      "---  ------                      --------------  -----  \n",
      " 0   UserID                      863 non-null    int64  \n",
      " 1   Name                        863 non-null    object \n",
      " 2   Location                    863 non-null    object \n",
      " 3   Total_Distance              863 non-null    float64\n",
      " 4   Very_Active_Distance        863 non-null    float64\n",
      " 5   Moderately_Active_Distance  863 non-null    float64\n",
      " 6   Light_Active_Distance       863 non-null    float64\n",
      " 7   Sedentary_Active_Distance   863 non-null    float64\n",
      " 8   Very_Active_Minutes         863 non-null    int64  \n",
      " 9   Fairly_Active_Minutes       863 non-null    int64  \n",
      " 10  Lightly_Active_Minutes      863 non-null    int64  \n",
      " 11  Sedentary_Minutes           863 non-null    int64  \n",
      " 12  Steps                       863 non-null    int64  \n",
      " 13  Calories_Burned             863 non-null    int64  \n",
      "dtypes: float64(5), int64(7), object(2)\n",
      "memory usage: 94.5+ KB\n"
     ]
    }
   ],
   "source": [
    "# Step 3: Dataset Info\n",
    "# This will show me the column names, their types, and whether there are any missing values.\n",
    "df.info()  "
   ]
  },
  {
   "cell_type": "code",
   "execution_count": 6,
   "id": "1961bddc",
   "metadata": {},
   "outputs": [
    {
     "name": "stdout",
     "output_type": "stream",
     "text": [
      "Missing Values Before Cleaning:\n",
      "UserID                        0\n",
      "Name                          0\n",
      "Location                      0\n",
      "Total_Distance                0\n",
      "Very_Active_Distance          0\n",
      "Moderately_Active_Distance    0\n",
      "Light_Active_Distance         0\n",
      "Sedentary_Active_Distance     0\n",
      "Very_Active_Minutes           0\n",
      "Fairly_Active_Minutes         0\n",
      "Lightly_Active_Minutes        0\n",
      "Sedentary_Minutes             0\n",
      "Steps                         0\n",
      "Calories_Burned               0\n",
      "dtype: int64\n"
     ]
    }
   ],
   "source": [
    "# Step 4: Check for Missing Values\n",
    "print(\"Missing Values Before Cleaning:\")\n",
    "print(df.isnull().sum())  \n"
   ]
  },
  {
   "cell_type": "code",
   "execution_count": 7,
   "id": "71c09cb1",
   "metadata": {
    "scrolled": true
   },
   "outputs": [
    {
     "name": "stdout",
     "output_type": "stream",
     "text": [
      "\n",
      "Missing Values After Cleaning:\n",
      "UserID                        0\n",
      "Name                          0\n",
      "Location                      0\n",
      "Total_Distance                0\n",
      "Very_Active_Distance          0\n",
      "Moderately_Active_Distance    0\n",
      "Light_Active_Distance         0\n",
      "Sedentary_Active_Distance     0\n",
      "Very_Active_Minutes           0\n",
      "Fairly_Active_Minutes         0\n",
      "Lightly_Active_Minutes        0\n",
      "Sedentary_Minutes             0\n",
      "Steps                         0\n",
      "Calories_Burned               0\n",
      "dtype: int64\n"
     ]
    }
   ],
   "source": [
    "# Step 5: Clean Data \n",
    "# For early analysis, I am filling missing numeric values with the column mean.\n",
    "# This keeps the dataset usable for the modelling without having removing rows.\n",
    "df = df.fillna(df.mean(numeric_only=True))\n",
    "\n",
    "print(\"\\nMissing Values After Cleaning:\")\n",
    "print(df.isnull().sum())  "
   ]
  },
  {
   "cell_type": "code",
   "execution_count": 8,
   "id": "4515b3d7",
   "metadata": {},
   "outputs": [
    {
     "data": {
      "text/html": [
       "<div>\n",
       "<style scoped>\n",
       "    .dataframe tbody tr th:only-of-type {\n",
       "        vertical-align: middle;\n",
       "    }\n",
       "\n",
       "    .dataframe tbody tr th {\n",
       "        vertical-align: top;\n",
       "    }\n",
       "\n",
       "    .dataframe thead th {\n",
       "        text-align: right;\n",
       "    }\n",
       "</style>\n",
       "<table border=\"1\" class=\"dataframe\">\n",
       "  <thead>\n",
       "    <tr style=\"text-align: right;\">\n",
       "      <th></th>\n",
       "      <th>UserID</th>\n",
       "      <th>Name</th>\n",
       "      <th>Location</th>\n",
       "      <th>Total_Distance</th>\n",
       "      <th>Very_Active_Distance</th>\n",
       "      <th>Moderately_Active_Distance</th>\n",
       "      <th>Light_Active_Distance</th>\n",
       "      <th>Sedentary_Active_Distance</th>\n",
       "      <th>Very_Active_Minutes</th>\n",
       "      <th>Fairly_Active_Minutes</th>\n",
       "      <th>Lightly_Active_Minutes</th>\n",
       "      <th>Sedentary_Minutes</th>\n",
       "      <th>Steps</th>\n",
       "      <th>Calories_Burned</th>\n",
       "      <th>Temperature</th>\n",
       "      <th>Humidity</th>\n",
       "      <th>WindSpeed</th>\n",
       "    </tr>\n",
       "  </thead>\n",
       "  <tbody>\n",
       "    <tr>\n",
       "      <th>0</th>\n",
       "      <td>7423388</td>\n",
       "      <td>Danielle</td>\n",
       "      <td>QLD</td>\n",
       "      <td>8.02</td>\n",
       "      <td>2.03</td>\n",
       "      <td>0.48</td>\n",
       "      <td>5.52</td>\n",
       "      <td>0.0</td>\n",
       "      <td>26</td>\n",
       "      <td>10</td>\n",
       "      <td>349</td>\n",
       "      <td>587</td>\n",
       "      <td>10449</td>\n",
       "      <td>2536</td>\n",
       "      <td>22.483571</td>\n",
       "      <td>73</td>\n",
       "      <td>4.779121</td>\n",
       "    </tr>\n",
       "    <tr>\n",
       "      <th>1</th>\n",
       "      <td>7550634</td>\n",
       "      <td>Angel</td>\n",
       "      <td>NSW</td>\n",
       "      <td>5.82</td>\n",
       "      <td>2.28</td>\n",
       "      <td>0.90</td>\n",
       "      <td>2.64</td>\n",
       "      <td>0.0</td>\n",
       "      <td>30</td>\n",
       "      <td>16</td>\n",
       "      <td>135</td>\n",
       "      <td>1259</td>\n",
       "      <td>8001</td>\n",
       "      <td>2902</td>\n",
       "      <td>19.308678</td>\n",
       "      <td>50</td>\n",
       "      <td>1.893271</td>\n",
       "    </tr>\n",
       "    <tr>\n",
       "      <th>2</th>\n",
       "      <td>5304572</td>\n",
       "      <td>Joshua</td>\n",
       "      <td>NSW</td>\n",
       "      <td>0.11</td>\n",
       "      <td>0.00</td>\n",
       "      <td>0.00</td>\n",
       "      <td>0.11</td>\n",
       "      <td>0.0</td>\n",
       "      <td>0</td>\n",
       "      <td>0</td>\n",
       "      <td>12</td>\n",
       "      <td>1303</td>\n",
       "      <td>152</td>\n",
       "      <td>2100</td>\n",
       "      <td>23.238443</td>\n",
       "      <td>80</td>\n",
       "      <td>3.529471</td>\n",
       "    </tr>\n",
       "    <tr>\n",
       "      <th>3</th>\n",
       "      <td>3234489</td>\n",
       "      <td>Jeffrey</td>\n",
       "      <td>NSW</td>\n",
       "      <td>7.21</td>\n",
       "      <td>0.00</td>\n",
       "      <td>0.34</td>\n",
       "      <td>6.87</td>\n",
       "      <td>0.0</td>\n",
       "      <td>0</td>\n",
       "      <td>7</td>\n",
       "      <td>352</td>\n",
       "      <td>1077</td>\n",
       "      <td>9543</td>\n",
       "      <td>2450</td>\n",
       "      <td>27.615149</td>\n",
       "      <td>42</td>\n",
       "      <td>6.820719</td>\n",
       "    </tr>\n",
       "    <tr>\n",
       "      <th>4</th>\n",
       "      <td>8204212</td>\n",
       "      <td>Jill</td>\n",
       "      <td>QLD</td>\n",
       "      <td>7.86</td>\n",
       "      <td>0.34</td>\n",
       "      <td>0.73</td>\n",
       "      <td>6.79</td>\n",
       "      <td>0.0</td>\n",
       "      <td>6</td>\n",
       "      <td>19</td>\n",
       "      <td>258</td>\n",
       "      <td>1020</td>\n",
       "      <td>10218</td>\n",
       "      <td>3013</td>\n",
       "      <td>18.829233</td>\n",
       "      <td>67</td>\n",
       "      <td>10.250235</td>\n",
       "    </tr>\n",
       "  </tbody>\n",
       "</table>\n",
       "</div>"
      ],
      "text/plain": [
       "    UserID      Name Location  Total_Distance  Very_Active_Distance  \\\n",
       "0  7423388  Danielle      QLD            8.02                  2.03   \n",
       "1  7550634     Angel      NSW            5.82                  2.28   \n",
       "2  5304572    Joshua      NSW            0.11                  0.00   \n",
       "3  3234489   Jeffrey      NSW            7.21                  0.00   \n",
       "4  8204212      Jill      QLD            7.86                  0.34   \n",
       "\n",
       "   Moderately_Active_Distance  Light_Active_Distance  \\\n",
       "0                        0.48                   5.52   \n",
       "1                        0.90                   2.64   \n",
       "2                        0.00                   0.11   \n",
       "3                        0.34                   6.87   \n",
       "4                        0.73                   6.79   \n",
       "\n",
       "   Sedentary_Active_Distance  Very_Active_Minutes  Fairly_Active_Minutes  \\\n",
       "0                        0.0                   26                     10   \n",
       "1                        0.0                   30                     16   \n",
       "2                        0.0                    0                      0   \n",
       "3                        0.0                    0                      7   \n",
       "4                        0.0                    6                     19   \n",
       "\n",
       "   Lightly_Active_Minutes  Sedentary_Minutes  Steps  Calories_Burned  \\\n",
       "0                     349                587  10449             2536   \n",
       "1                     135               1259   8001             2902   \n",
       "2                      12               1303    152             2100   \n",
       "3                     352               1077   9543             2450   \n",
       "4                     258               1020  10218             3013   \n",
       "\n",
       "   Temperature  Humidity  WindSpeed  \n",
       "0    22.483571        73   4.779121  \n",
       "1    19.308678        50   1.893271  \n",
       "2    23.238443        80   3.529471  \n",
       "3    27.615149        42   6.820719  \n",
       "4    18.829233        67  10.250235  "
      ]
     },
     "execution_count": 8,
     "metadata": {},
     "output_type": "execute_result"
    }
   ],
   "source": [
    "# Step 6: Simulate Environmental Data\n",
    "# Since the current dataset does not have Temperature, Humidity, or Wind Speed,\n",
    "# I am generating placeholder values. This lets me design the correlation analysis now so it will work the same way when real data is available.\n",
    "np.random.seed(42)  # for reproducibility\n",
    "df[\"Temperature\"] = np.random.normal(20, 5, len(df))  # mean 20°C\n",
    "df[\"Humidity\"] = np.random.randint(40, 90, len(df))   # 40-90%\n",
    "df[\"WindSpeed\"] = np.random.uniform(0, 30, len(df))   # 0-30 km/h\n",
    "\n",
    "df.head()"
   ]
  },
  {
   "cell_type": "code",
   "execution_count": 9,
   "id": "b12dd24e",
   "metadata": {},
   "outputs": [
    {
     "data": {
      "image/png": "[encoded data removed]",
      "text/plain": [
       "<Figure size 432x288 with 1 Axes>"
      ]
     },
     "metadata": {
      "needs_background": "light"
     },
     "output_type": "display_data"
    }
   ],
   "source": [
    "# Step 7: Scatter Plot - Temperature vs Calories Burned\n",
    "# Plotting Temperature vs Calories Burned to see if there is any relationship\n",
    "sns.scatterplot(data=df, x=\"Temperature\", y=\"Calories_Burned\")\n",
    "plt.title(\"Temperature vs Calories Burned\")\n",
    "plt.show()  # Screenshot for Evidence 4"
   ]
  },
  {
   "cell_type": "code",
   "execution_count": 10,
   "id": "ab69f093",
   "metadata": {},
   "outputs": [
    {
     "data": {
      "image/png": "[encoded data removed]",
      "text/plain": [
       "<Figure size 432x288 with 2 Axes>"
      ]
     },
     "metadata": {
      "needs_background": "light"
     },
     "output_type": "display_data"
    }
   ],
   "source": [
    "# Step 8: Correlation Heatmap\n",
    "# This shows how environmental and activity metrics relate to each other.\n",
    "# This will be repeated with real data for more accurate insights.\n",
    "env_cols = [\"Temperature\", \"Humidity\", \"WindSpeed\", \"Calories_Burned\", \"Steps\", \"Total_Distance\"]\n",
    "corr = df[env_cols].corr()\n",
    "sns.heatmap(corr, annot=True, cmap=\"coolwarm\")\n",
    "plt.title(\"Environmental Factors & Activity Metrics\")\n",
    "plt.show()  # Screenshot for Evidence 4"
   ]
  },
  {
   "cell_type": "code",
   "execution_count": 11,
   "id": "4048a128",
   "metadata": {},
   "outputs": [],
   "source": [
    "# Step 9: Simulate Fatigue Level for Baseline Model\n",
    "# Fatigue is one of the key performance metrics I will model in this project.\n",
    "# For now, I am creating a fake random target variable to allow model pipeline testing.\n",
    "df[\"FatigueLevel\"] = np.random.uniform(0, 10, len(df))"
   ]
  },
  {
   "cell_type": "code",
   "execution_count": 12,
   "id": "2f629bb8",
   "metadata": {},
   "outputs": [],
   "source": [
    "# Step 10: Prepare Model Data\n",
    "# Using activity metrics as features; target is FatigueLevel.\n",
    "X = df[[\"Total_Distance\", \"Very_Active_Minutes\", \"Steps\"]]\n",
    "y = df[\"FatigueLevel\"]\n"
   ]
  },
  {
   "cell_type": "code",
   "execution_count": 13,
   "id": "d32dea29",
   "metadata": {},
   "outputs": [],
   "source": [
    "# Step 11: Train-Test Split\n",
    "# This is to ensures the model is tested on unseen data.\n",
    "X_train, X_test, y_train, y_test = train_test_split(X, y, test_size=0.2, random_state=42)"
   ]
  },
  {
   "cell_type": "code",
   "execution_count": 14,
   "id": "f4e3c25d",
   "metadata": {},
   "outputs": [
    {
     "data": {
      "text/plain": [
       "LinearRegression()"
      ]
     },
     "execution_count": 14,
     "metadata": {},
     "output_type": "execute_result"
    }
   ],
   "source": [
    "# Step 12: Train Baseline Model\n",
    "# Using this as a baseline performance.\n",
    "model = LinearRegression()\n",
    "model.fit(X_train, y_train)\n",
    "\n"
   ]
  },
  {
   "cell_type": "code",
   "execution_count": 15,
   "id": "2c11de0e",
   "metadata": {},
   "outputs": [
    {
     "name": "stdout",
     "output_type": "stream",
     "text": [
      "Baseline Fatigue Prediction MSE: 8.22249300032724\n"
     ]
    }
   ],
   "source": [
    "# Step 13: Evaluate Model\n",
    "# Using Mean Squared Error (MSE) as the evaluation metric.\n",
    "y_pred = model.predict(X_test)\n",
    "mse = mean_squared_error(y_test, y_pred)\n",
    "print(\"Baseline Fatigue Prediction MSE:\", mse) "
   ]
  },
  {
   "cell_type": "code",
   "execution_count": null,
   "id": "07e0082f",
   "metadata": {},
   "outputs": [],
   "source": []
  },
  {
   "cell_type": "markdown",
   "id": "af69a706",
   "metadata": {},
   "source": [
    "### Imported cells — Minimal Visualisations"
   ]
  },
  {
   "cell_type": "markdown",
   "id": "ae2a1c93",
   "metadata": {},
   "source": [
    "# SIT378 – Minimal Visualisations (Flat) — Inline + Saved\n",
    "\n",
    "Plots **display inline** and are **saved** to `Data/output/figures/`."
   ]
  },
  {
   "cell_type": "code",
   "execution_count": 16,
   "id": "dbb50b81",
   "metadata": {
    "tags": []
   },
   "outputs": [
    {
     "name": "stdout",
     "output_type": "stream",
     "text": [
      "DATA_DIR: C:\\Users\\bmcol\\University\\SIT378\\Data\n",
      "OUT_DIR : C:\\Users\\bmcol\\University\\SIT378\\Data\\output\n",
      "FIG_DIR : C:\\Users\\bmcol\\University\\SIT378\\Data\\output\\figures\n"
     ]
    }
   ],
   "source": [
    "# [0] Setup\n",
    "%matplotlib inline\n",
    "import matplotlib.pyplot as plt\n",
    "import pandas as pd\n",
    "import numpy as np\n",
    "from pathlib import Path\n",
    "\n",
    "# Paths (flat structure)\n",
    "ROOT = Path.cwd()\n",
    "DATA_DIR = ROOT / \"Data\"\n",
    "OUT_DIR = DATA_DIR / \"output\"\n",
    "FIG_DIR = OUT_DIR / \"figures\"\n",
    "OUT_DIR.mkdir(parents=True, exist_ok=True)\n",
    "FIG_DIR.mkdir(parents=True, exist_ok=True)\n",
    "\n",
    "print(\"DATA_DIR:\", DATA_DIR.resolve())\n",
    "print(\"OUT_DIR :\", OUT_DIR.resolve())\n",
    "print(\"FIG_DIR :\", FIG_DIR.resolve())"
   ]
  },
  {
   "cell_type": "code",
   "execution_count": 17,
   "id": "ca961405",
   "metadata": {
    "tags": []
   },
   "outputs": [
    {
     "name": "stdout",
     "output_type": "stream",
     "text": [
      "cycling  -> shape=(181, 42) | source=C:\\Users\\bmcol\\University\\SIT378\\Data\\Cycling.csv\n",
      "cycling  cols: ['Activity Date', 'Elapsed Time', 'Distance', 'Max Heart Rate', 'Relative Effort', 'Athlete Weight', 'Bike Weight', 'Moving Time', 'Max Speed', 'Average Speed', 'Elevation Gain', 'Elevation Loss', 'Elevation Low', 'Elevation High', 'Max Grade', 'Average Grade', 'Max Cadence', 'Average Cadence', 'Average Heart Rate', 'Average Watts', 'Calories', 'Average Temperature', 'Total Work', 'Perceived Exertion', 'Weighted Average Power', 'Power Count', 'Prefer Perceived Exertion', 'Perceived Relative Effort', 'Grade Adjusted Distance', 'Average Elapsed Speed', '60 Day Maximum Power 5s', '60 Day Maximum Power 10s', '60 Day Maximum Power 30s', '60 Day Maximum Power 1.0min', '60 Day Maximum Power 5.0min', '60 Day Maximum Power 10.0min', '60 Day Maximum Power 20.0min', '60 Day Maximum Power 30.0min', '60 Day Maximum Power 1.0 hr', '60 Day Maximum Power 1.5 hr', '60 Day Maximum Power 2.0 hr', 'FTP']\n",
      "running  -> shape=(863, 14) | source=C:\\Users\\bmcol\\University\\SIT378\\Data\\ImprovedData.xlsx\n",
      "running  cols: ['UserID', 'Name', 'Location', 'Total_Distance', 'Very_Active_Distance', 'Moderately_Active_Distance', 'Light_Active_Distance', 'Sedentary_Active_Distance', 'Very_Active_Minutes', 'Fairly_Active_Minutes', 'Lightly_Active_Minutes', 'Sedentary_Minutes', 'Steps', 'Calories_Burned']\n",
      "football -> shape=(380, 108) | source=C:\\Users\\bmcol\\University\\SIT378\\Data\\Football.csv\n",
      "football cols: ['Div', 'Date', 'Time', 'HomeTeam', 'AwayTeam', 'H_Ranking_Prior_Season', 'A_Ranking_Prior_Season', 'FTHG', 'FTAG', 'FTR', 'HTHG', 'HTAG', 'HTR', 'Referee', 'HS', 'AS', 'HST', 'AST', 'HF', 'AF', 'HC', 'AC', 'HY', 'AY', 'HR', 'AR', 'B365H', 'B365D', 'B365A', 'BWH', 'BWD', 'BWA', 'IWH', 'IWD', 'IWA', 'PSH', 'PSD', 'PSA', 'WHH', 'WHD', 'WHA', 'VCH', 'VCD', 'VCA', 'MaxH', 'MaxD', 'MaxA', 'AvgH', 'AvgD', 'AvgA', 'B365>2.5', 'B365<2.5', 'P>2.5', 'P<2.5', 'Max>2.5', 'Max<2.5', 'Avg>2.5', 'Avg<2.5', 'AHh', 'B365AHH', 'B365AHA', 'PAHH', 'PAHA', 'MaxAHH', 'MaxAHA', 'AvgAHH', 'AvgAHA', 'B365CH', 'B365CD', 'B365CA', 'BWCH', 'BWCD', 'BWCA', 'IWCH', 'IWCD', 'IWCA', 'PSCH', 'PSCD', 'PSCA', 'WHCH', 'WHCD', 'WHCA', 'VCCH', 'VCCD', 'VCCA', 'MaxCH', 'MaxCD', 'MaxCA', 'AvgCH', 'AvgCD', 'AvgCA', 'B365C>2.5', 'B365C<2.5', 'PC>2.5', 'PC<2.5', 'MaxC>2.5', 'MaxC<2.5', 'AvgC>2.5', 'AvgC<2.5', 'AHCh', 'B365CAHH', 'B365CAHA', 'PCAHH', 'PCAHA', 'MaxCAHH', 'MaxCAHA', 'AvgCAHH', 'AvgCAHA']\n"
     ]
    }
   ],
   "source": [
    "# [1] Load the three spreadsheets from Data/\n",
    "def _read_any(p: Path) -> pd.DataFrame:\n",
    "    try:\n",
    "        if p.suffix.lower()==\".csv\":\n",
    "            return pd.read_csv(p)\n",
    "        else:\n",
    "            return pd.read_excel(p)\n",
    "    except Exception as e:\n",
    "        print(f\"[WARN] Failed to read {p}: {e}\")\n",
    "        return pd.DataFrame()\n",
    "\n",
    "cycling_path  = (DATA_DIR / \"Cycling.csv\")\n",
    "running_path  = (DATA_DIR / \"ImprovedData.xlsx\")\n",
    "football_path = (DATA_DIR / \"Football.csv\")\n",
    "\n",
    "# Fallbacks for this environment preview; ignore on your machine if not needed\n",
    "if not cycling_path.exists():  cycling_path  = Path(\"/mnt/data/Cycling.csv\")\n",
    "if not running_path.exists():  running_path  = Path(\"/mnt/data/ImprovedData.xlsx\")\n",
    "if not football_path.exists(): football_path = Path(\"/mnt/data/Football.csv\")\n",
    "\n",
    "dfs = {\n",
    "    \"cycling\":  _read_any(cycling_path),\n",
    "    \"running\":  _read_any(running_path),\n",
    "    \"football\": _read_any(football_path),\n",
    "}\n",
    "sources = {\n",
    "    \"cycling\":  str(cycling_path),\n",
    "    \"running\":  str(running_path),\n",
    "    \"football\": str(football_path),\n",
    "}\n",
    "\n",
    "for k,df in dfs.items():\n",
    "    print(f\"{k:8s} -> shape={df.shape} | source={sources[k]}\")\n",
    "    print(f\"{k:8s} cols:\", list(df.columns))"
   ]
  },
  {
   "cell_type": "code",
   "execution_count": 18,
   "id": "7c2996a4",
   "metadata": {
    "tags": []
   },
   "outputs": [],
   "source": [
    "# [2] Save+Show helper\n",
    "def save_and_show(name):\n",
    "    # Save current figure and also show inline\n",
    "    p = FIG_DIR / name\n",
    "    plt.tight_layout()\n",
    "    plt.savefig(p, dpi=150, bbox_inches='tight')\n",
    "    plt.show()\n",
    "    plt.close()\n",
    "    print(\"Saved:\", p)"
   ]
  },
  {
   "cell_type": "code",
   "execution_count": 19,
   "id": "4e7fb62d",
   "metadata": {
    "tags": []
   },
   "outputs": [
    {
     "name": "stdout",
     "output_type": "stream",
     "text": [
      "Running columns: ['UserID', 'Name', 'Location', 'Total_Distance', 'Very_Active_Distance', 'Moderately_Active_Distance', 'Light_Active_Distance', 'Sedentary_Active_Distance', 'Very_Active_Minutes', 'Fairly_Active_Minutes', 'Lightly_Active_Minutes', 'Sedentary_Minutes', 'Steps', 'Calories_Burned']\n"
     ]
    },
    {
     "data": {
      "image/png": "[encoded data removed]",
      "text/plain": [
       "<Figure size 432x288 with 1 Axes>"
      ]
     },
     "metadata": {
      "needs_background": "light"
     },
     "output_type": "display_data"
    },
    {
     "name": "stdout",
     "output_type": "stream",
     "text": [
      "Saved: C:\\Users\\bmcol\\University\\SIT378\\Data\\output\\figures\\run_hist_distance.png\n"
     ]
    },
    {
     "data": {
      "image/png": "[encoded data removed]",
      "text/plain": [
       "<Figure size 432x288 with 1 Axes>"
      ]
     },
     "metadata": {
      "needs_background": "light"
     },
     "output_type": "display_data"
    },
    {
     "name": "stdout",
     "output_type": "stream",
     "text": [
      "Saved: C:\\Users\\bmcol\\University\\SIT378\\Data\\output\\figures\\run_hist_steps.png\n"
     ]
    },
    {
     "data": {
      "image/png": "[encoded data removed]",
      "text/plain": [
       "<Figure size 432x288 with 1 Axes>"
      ]
     },
     "metadata": {
      "needs_background": "light"
     },
     "output_type": "display_data"
    },
    {
     "name": "stdout",
     "output_type": "stream",
     "text": [
      "Saved: C:\\Users\\bmcol\\University\\SIT378\\Data\\output\\figures\\run_hist_calories.png\n"
     ]
    },
    {
     "data": {
      "image/png": "[encoded data removed]",
      "text/plain": [
       "<Figure size 432x288 with 1 Axes>"
      ]
     },
     "metadata": {
      "needs_background": "light"
     },
     "output_type": "display_data"
    },
    {
     "name": "stdout",
     "output_type": "stream",
     "text": [
      "Saved: C:\\Users\\bmcol\\University\\SIT378\\Data\\output\\figures\\run_steps_vs_calories.png\n"
     ]
    },
    {
     "data": {
      "image/png": "[encoded data removed]",
      "text/plain": [
       "<Figure size 432x288 with 1 Axes>"
      ]
     },
     "metadata": {
      "needs_background": "light"
     },
     "output_type": "display_data"
    },
    {
     "name": "stdout",
     "output_type": "stream",
     "text": [
      "Saved: C:\\Users\\bmcol\\University\\SIT378\\Data\\output\\figures\\run_distance_vs_calories.png\n"
     ]
    }
   ],
   "source": [
    "# [3] Running visuals (ImprovedData.xlsx)\n",
    "run = dfs[\"running\"].copy()\n",
    "print(\"Running columns:\", list(run.columns))\n",
    "\n",
    "# Light column mapping\n",
    "colmap = {\n",
    "    'Total_Distance': 'distance_km',\n",
    "    'Distance_km': 'distance_km',\n",
    "    'Steps': 'steps',\n",
    "    'Calories_Burned': 'calories',\n",
    "    'Calories': 'calories',\n",
    "}\n",
    "for a,b in colmap.items():\n",
    "    if a in run.columns: run.rename(columns={a:b}, inplace=True)\n",
    "\n",
    "if not run.empty:\n",
    "    # Histograms\n",
    "    if 'distance_km' in run and run['distance_km'].notna().sum() >= 5:\n",
    "        run['distance_km'].plot(kind='hist', bins=20, title='Running – Distance (km)'); plt.xlabel('Distance (km)')\n",
    "        save_and_show('run_hist_distance.png')\n",
    "    if 'steps' in run and run['steps'].notna().sum() >= 5:\n",
    "        run['steps'].plot(kind='hist', bins=20, title='Running – Steps'); plt.xlabel('Steps')\n",
    "        save_and_show('run_hist_steps.png')\n",
    "    if 'calories' in run and run['calories'].notna().sum() >= 5:\n",
    "        run['calories'].plot(kind='hist', bins=20, title='Running – Calories'); plt.xlabel('Calories')\n",
    "        save_and_show('run_hist_calories.png')\n",
    "    # Scatters\n",
    "    if {'steps','calories'}.issubset(run.columns):\n",
    "        d = run[['steps','calories']].dropna()\n",
    "        if len(d) >= 10:\n",
    "            plt.figure(); plt.scatter(d['steps'], d['calories'], s=10, alpha=0.6)\n",
    "            plt.xlabel('Steps'); plt.ylabel('Calories'); plt.title('Running – Steps vs Calories')\n",
    "            save_and_show('run_steps_vs_calories.png')\n",
    "    if {'distance_km','calories'}.issubset(run.columns):\n",
    "        d = run[['distance_km','calories']].dropna()\n",
    "        if len(d) >= 10:\n",
    "            plt.figure(); plt.scatter(d['distance_km'], d['calories'], s=10, alpha=0.6)\n",
    "            plt.xlabel('Distance (km)'); plt.ylabel('Calories'); plt.title('Running – Distance vs Calories')\n",
    "            save_and_show('run_distance_vs_calories.png')\n",
    "else:\n",
    "    print(\"[3] Running: no data or columns not present — skipped\")"
   ]
  },
  {
   "cell_type": "code",
   "execution_count": 20,
   "id": "efdf25b1",
   "metadata": {
    "tags": []
   },
   "outputs": [
    {
     "name": "stdout",
     "output_type": "stream",
     "text": [
      "Cycling columns: ['Activity Date', 'Elapsed Time', 'Distance', 'Max Heart Rate', 'Relative Effort', 'Athlete Weight', 'Bike Weight', 'Moving Time', 'Max Speed', 'Average Speed', 'Elevation Gain', 'Elevation Loss', 'Elevation Low', 'Elevation High', 'Max Grade', 'Average Grade', 'Max Cadence', 'Average Cadence', 'Average Heart Rate', 'Average Watts', 'Calories', 'Average Temperature', 'Total Work', 'Perceived Exertion', 'Weighted Average Power', 'Power Count', 'Prefer Perceived Exertion', 'Perceived Relative Effort', 'Grade Adjusted Distance', 'Average Elapsed Speed', '60 Day Maximum Power 5s', '60 Day Maximum Power 10s', '60 Day Maximum Power 30s', '60 Day Maximum Power 1.0min', '60 Day Maximum Power 5.0min', '60 Day Maximum Power 10.0min', '60 Day Maximum Power 20.0min', '60 Day Maximum Power 30.0min', '60 Day Maximum Power 1.0 hr', '60 Day Maximum Power 1.5 hr', '60 Day Maximum Power 2.0 hr', 'FTP']\n"
     ]
    },
    {
     "data": {
      "image/png": "[encoded data removed]",
      "text/plain": [
       "<Figure size 432x288 with 1 Axes>"
      ]
     },
     "metadata": {
      "needs_background": "light"
     },
     "output_type": "display_data"
    },
    {
     "name": "stdout",
     "output_type": "stream",
     "text": [
      "Saved: C:\\Users\\bmcol\\University\\SIT378\\Data\\output\\figures\\cyc_hist_avg_speed.png\n"
     ]
    },
    {
     "data": {
      "image/png": "[encoded data removed]",
      "text/plain": [
       "<Figure size 432x288 with 1 Axes>"
      ]
     },
     "metadata": {
      "needs_background": "light"
     },
     "output_type": "display_data"
    },
    {
     "name": "stdout",
     "output_type": "stream",
     "text": [
      "Saved: C:\\Users\\bmcol\\University\\SIT378\\Data\\output\\figures\\cyc_hist_elev_gain.png\n"
     ]
    },
    {
     "data": {
      "image/png": "[encoded data removed]",
      "text/plain": [
       "<Figure size 432x288 with 1 Axes>"
      ]
     },
     "metadata": {
      "needs_background": "light"
     },
     "output_type": "display_data"
    },
    {
     "name": "stdout",
     "output_type": "stream",
     "text": [
      "Saved: C:\\Users\\bmcol\\University\\SIT378\\Data\\output\\figures\\cyc_distance_vs_avg_speed.png\n"
     ]
    },
    {
     "data": {
      "image/png": "[encoded data removed]",
      "text/plain": [
       "<Figure size 432x288 with 1 Axes>"
      ]
     },
     "metadata": {
      "needs_background": "light"
     },
     "output_type": "display_data"
    },
    {
     "name": "stdout",
     "output_type": "stream",
     "text": [
      "Saved: C:\\Users\\bmcol\\University\\SIT378\\Data\\output\\figures\\cyc_elev_vs_avg_speed.png\n"
     ]
    },
    {
     "data": {
      "image/png": "[encoded data removed]",
      "text/plain": [
       "<Figure size 720x360 with 1 Axes>"
      ]
     },
     "metadata": {
      "needs_background": "light"
     },
     "output_type": "display_data"
    },
    {
     "name": "stdout",
     "output_type": "stream",
     "text": [
      "Saved: C:\\Users\\bmcol\\University\\SIT378\\Data\\output\\figures\\cyc_weekly_distance.png\n"
     ]
    }
   ],
   "source": [
    "# [4] Cycling visuals (Cycling.csv)\n",
    "cyc = dfs[\"cycling\"].copy()\n",
    "print(\"Cycling columns:\", list(cyc.columns))\n",
    "\n",
    "# Rename if present\n",
    "cmap = {\n",
    "    'Activity Date': 'date',\n",
    "    'Date': 'date',\n",
    "    'Distance': 'distance_km',\n",
    "    'Average Speed': 'avg_speed',\n",
    "    'Avg Speed': 'avg_speed',\n",
    "    'Elevation Gain': 'elev_gain',\n",
    "    'Elev Gain': 'elev_gain',\n",
    "}\n",
    "for a, b in cmap.items():\n",
    "    if a in cyc.columns:\n",
    "        cyc.rename(columns={a: b}, inplace=True)\n",
    "\n",
    "if not cyc.empty:\n",
    "    # --- Histograms ---\n",
    "    if 'avg_speed' in cyc and cyc['avg_speed'].notna().sum() >= 5:\n",
    "        cyc['avg_speed'].plot(kind='hist', bins=20, title='Cycling – Average Speed')\n",
    "        plt.xlabel('Average Speed')\n",
    "        save_and_show('cyc_hist_avg_speed.png')\n",
    "\n",
    "    if 'elev_gain' in cyc and cyc['elev_gain'].notna().sum() >= 5:\n",
    "        cyc['elev_gain'].plot(kind='hist', bins=20, title='Cycling – Elevation Gain')\n",
    "        plt.xlabel('Elevation Gain (m)')\n",
    "        save_and_show('cyc_hist_elev_gain.png')\n",
    "\n",
    "    # --- Scatters ---\n",
    "    if {'distance_km', 'avg_speed'}.issubset(cyc.columns):\n",
    "        d = cyc[['distance_km', 'avg_speed']].dropna()\n",
    "        if len(d) >= 10:\n",
    "            plt.figure()\n",
    "            plt.scatter(d['distance_km'], d['avg_speed'], s=10, alpha=0.6)\n",
    "            plt.xlabel('Distance (km)'); plt.ylabel('Avg Speed'); plt.title('Cycling – Distance vs Avg Speed')\n",
    "            save_and_show('cyc_distance_vs_avg_speed.png')\n",
    "\n",
    "    if {'elev_gain', 'avg_speed'}.issubset(cyc.columns):\n",
    "        d = cyc[['elev_gain', 'avg_speed']].dropna()\n",
    "        if len(d) >= 10:\n",
    "            plt.figure()\n",
    "            plt.scatter(d['elev_gain'], d['avg_speed'], s=10, alpha=0.6)\n",
    "            plt.xlabel('Elevation Gain (m)'); plt.ylabel('Avg Speed'); plt.title('Cycling – Elevation Gain vs Avg Speed')\n",
    "            save_and_show('cyc_elev_vs_avg_speed.png')\n",
    "\n",
    "    # --- Weekly distance (improved ticks) ---\n",
    "    if {'date', 'distance_km'}.issubset(cyc.columns):\n",
    "        try:\n",
    "            cyc['date'] = pd.to_datetime(cyc['date'], errors='coerce')\n",
    "            d = cyc.dropna(subset=['date', 'distance_km']).copy()\n",
    "            if len(d) >= 5:\n",
    "                d['week'] = d['date'].dt.to_period('W').dt.start_time\n",
    "                weekly = d.groupby('week', as_index=True)['distance_km'].sum().sort_index()\n",
    "\n",
    "                if len(weekly) >= 2:\n",
    "                    fig, ax = plt.subplots(figsize=(10, 5))\n",
    "                    weekly.plot(kind='bar', ax=ax, title='Cycling – Weekly Distance')\n",
    "                    ax.set_ylabel('Distance (km)')\n",
    "                    ax.set_xlabel('Week')\n",
    "\n",
    "                    # show ~12 evenly spaced labels (adjusts automatically for data length)\n",
    "                    step = max(1, len(weekly) // 12)\n",
    "                    ticks = list(range(0, len(weekly), step))\n",
    "                    ax.set_xticks(ticks)\n",
    "                    ax.set_xticklabels(\n",
    "                        [weekly.index[i].strftime('%Y-%m-%d') for i in ticks],\n",
    "                        rotation=45, ha='right'\n",
    "                    )\n",
    "\n",
    "                    save_and_show('cyc_weekly_distance.png')\n",
    "        except Exception as e:\n",
    "            print(\"[INFO] Skipped weekly distance (date parse failed):\", e)\n",
    "else:\n",
    "    print(\"[4] Cycling: no data — skipped\")\n"
   ]
  },
  {
   "cell_type": "code",
   "execution_count": 21,
   "id": "6d9fa7cd",
   "metadata": {
    "tags": []
   },
   "outputs": [
    {
     "name": "stdout",
     "output_type": "stream",
     "text": [
      "Football columns: ['Div', 'Date', 'Time', 'HomeTeam', 'AwayTeam', 'H_Ranking_Prior_Season', 'A_Ranking_Prior_Season', 'FTHG', 'FTAG', 'FTR', 'HTHG', 'HTAG', 'HTR', 'Referee', 'HS', 'AS', 'HST', 'AST', 'HF', 'AF', 'HC', 'AC', 'HY', 'AY', 'HR', 'AR', 'B365H', 'B365D', 'B365A', 'BWH', 'BWD', 'BWA', 'IWH', 'IWD', 'IWA', 'PSH', 'PSD', 'PSA', 'WHH', 'WHD', 'WHA', 'VCH', 'VCD', 'VCA', 'MaxH', 'MaxD', 'MaxA', 'AvgH', 'AvgD', 'AvgA', 'B365>2.5', 'B365<2.5', 'P>2.5', 'P<2.5', 'Max>2.5', 'Max<2.5', 'Avg>2.5', 'Avg<2.5', 'AHh', 'B365AHH', 'B365AHA', 'PAHH', 'PAHA', 'MaxAHH', 'MaxAHA', 'AvgAHH', 'AvgAHA', 'B365CH', 'B365CD', 'B365CA', 'BWCH', 'BWCD', 'BWCA', 'IWCH', 'IWCD', 'IWCA', 'PSCH', 'PSCD', 'PSCA', 'WHCH', 'WHCD', 'WHCA', 'VCCH', 'VCCD', 'VCCA', 'MaxCH', 'MaxCD', 'MaxCA', 'AvgCH', 'AvgCD', 'AvgCA', 'B365C>2.5', 'B365C<2.5', 'PC>2.5', 'PC<2.5', 'MaxC>2.5', 'MaxC<2.5', 'AvgC>2.5', 'AvgC<2.5', 'AHCh', 'B365CAHH', 'B365CAHA', 'PCAHH', 'PCAHA', 'MaxCAHH', 'MaxCAHA', 'AvgCAHH', 'AvgCAHA']\n"
     ]
    },
    {
     "data": {
      "image/png": "[encoded data removed]",
      "text/plain": [
       "<Figure size 432x288 with 1 Axes>"
      ]
     },
     "metadata": {
      "needs_background": "light"
     },
     "output_type": "display_data"
    },
    {
     "name": "stdout",
     "output_type": "stream",
     "text": [
      "Saved: C:\\Users\\bmcol\\University\\SIT378\\Data\\output\\figures\\ftb_results_counts.png\n"
     ]
    },
    {
     "data": {
      "image/png": "[encoded data removed]",
      "text/plain": [
       "<Figure size 432x288 with 1 Axes>"
      ]
     },
     "metadata": {
      "needs_background": "light"
     },
     "output_type": "display_data"
    },
    {
     "name": "stdout",
     "output_type": "stream",
     "text": [
      "Saved: C:\\Users\\bmcol\\University\\SIT378\\Data\\output\\figures\\ftb_total_goals_hist.png\n"
     ]
    },
    {
     "data": {
      "image/png": "[encoded data removed]",
      "text/plain": [
       "<Figure size 432x288 with 1 Axes>"
      ]
     },
     "metadata": {
      "needs_background": "light"
     },
     "output_type": "display_data"
    },
    {
     "name": "stdout",
     "output_type": "stream",
     "text": [
      "Saved: C:\\Users\\bmcol\\University\\SIT378\\Data\\output\\figures\\ftb_home_vs_away_goals.png\n"
     ]
    }
   ],
   "source": [
    "# [5] Football visuals (Football.csv)\n",
    "ftb = dfs[\"football\"].copy()\n",
    "print(\"Football columns:\", list(ftb.columns))\n",
    "\n",
    "if not ftb.empty and {'FTR','FTHG','FTAG'}.issubset(ftb.columns):\n",
    "    ftb['FTR'].value_counts().sort_index().plot(kind='bar', title='Football – Match Results (FTR)')\n",
    "    plt.xlabel('Result (H/D/A)'); plt.ylabel('Count')\n",
    "    save_and_show('ftb_results_counts.png')\n",
    "    \n",
    "    (ftb['FTHG'] + ftb['FTAG']).plot(kind='hist', bins=15, title='Football – Total Goals per Match')\n",
    "    plt.xlabel('Total Goals')\n",
    "    save_and_show('ftb_total_goals_hist.png')\n",
    "    \n",
    "    d = ftb[['FTHG','FTAG']].dropna()\n",
    "    if len(d) >= 10:\n",
    "        plt.figure(); plt.scatter(d['FTHG'], d['FTAG'], s=12, alpha=0.6)\n",
    "        plt.xlabel('Home Goals'); plt.ylabel('Away Goals'); plt.title('Football – Home vs Away Goals')\n",
    "        save_and_show('ftb_home_vs_away_goals.png')\n",
    "else:\n",
    "    print(\"[5] Football: missing FTR/FTHG/FTAG or no data — skipped\")"
   ]
  },
  {
   "cell_type": "code",
   "execution_count": 22,
   "id": "a73a3cff",
   "metadata": {
    "tags": []
   },
   "outputs": [
    {
     "data": {
      "text/html": [
       "<div>\n",
       "<style scoped>\n",
       "    .dataframe tbody tr th:only-of-type {\n",
       "        vertical-align: middle;\n",
       "    }\n",
       "\n",
       "    .dataframe tbody tr th {\n",
       "        vertical-align: top;\n",
       "    }\n",
       "\n",
       "    .dataframe thead th {\n",
       "        text-align: right;\n",
       "    }\n",
       "</style>\n",
       "<table border=\"1\" class=\"dataframe\">\n",
       "  <thead>\n",
       "    <tr style=\"text-align: right;\">\n",
       "      <th></th>\n",
       "      <th>figure</th>\n",
       "      <th>exists</th>\n",
       "      <th>path</th>\n",
       "    </tr>\n",
       "  </thead>\n",
       "  <tbody>\n",
       "    <tr>\n",
       "      <th>0</th>\n",
       "      <td>run_hist_distance.png</td>\n",
       "      <td>✅</td>\n",
       "      <td>C:\\Users\\bmcol\\University\\SIT378\\Data\\output\\f...</td>\n",
       "    </tr>\n",
       "    <tr>\n",
       "      <th>1</th>\n",
       "      <td>run_hist_steps.png</td>\n",
       "      <td>✅</td>\n",
       "      <td>C:\\Users\\bmcol\\University\\SIT378\\Data\\output\\f...</td>\n",
       "    </tr>\n",
       "    <tr>\n",
       "      <th>2</th>\n",
       "      <td>run_hist_calories.png</td>\n",
       "      <td>✅</td>\n",
       "      <td>C:\\Users\\bmcol\\University\\SIT378\\Data\\output\\f...</td>\n",
       "    </tr>\n",
       "    <tr>\n",
       "      <th>3</th>\n",
       "      <td>run_steps_vs_calories.png</td>\n",
       "      <td>✅</td>\n",
       "      <td>C:\\Users\\bmcol\\University\\SIT378\\Data\\output\\f...</td>\n",
       "    </tr>\n",
       "    <tr>\n",
       "      <th>4</th>\n",
       "      <td>run_distance_vs_calories.png</td>\n",
       "      <td>✅</td>\n",
       "      <td>C:\\Users\\bmcol\\University\\SIT378\\Data\\output\\f...</td>\n",
       "    </tr>\n",
       "    <tr>\n",
       "      <th>5</th>\n",
       "      <td>cyc_hist_avg_speed.png</td>\n",
       "      <td>✅</td>\n",
       "      <td>C:\\Users\\bmcol\\University\\SIT378\\Data\\output\\f...</td>\n",
       "    </tr>\n",
       "    <tr>\n",
       "      <th>6</th>\n",
       "      <td>cyc_hist_elev_gain.png</td>\n",
       "      <td>✅</td>\n",
       "      <td>C:\\Users\\bmcol\\University\\SIT378\\Data\\output\\f...</td>\n",
       "    </tr>\n",
       "    <tr>\n",
       "      <th>7</th>\n",
       "      <td>cyc_distance_vs_avg_speed.png</td>\n",
       "      <td>✅</td>\n",
       "      <td>C:\\Users\\bmcol\\University\\SIT378\\Data\\output\\f...</td>\n",
       "    </tr>\n",
       "    <tr>\n",
       "      <th>8</th>\n",
       "      <td>cyc_elev_vs_avg_speed.png</td>\n",
       "      <td>✅</td>\n",
       "      <td>C:\\Users\\bmcol\\University\\SIT378\\Data\\output\\f...</td>\n",
       "    </tr>\n",
       "    <tr>\n",
       "      <th>9</th>\n",
       "      <td>cyc_weekly_distance.png</td>\n",
       "      <td>✅</td>\n",
       "      <td>C:\\Users\\bmcol\\University\\SIT378\\Data\\output\\f...</td>\n",
       "    </tr>\n",
       "    <tr>\n",
       "      <th>10</th>\n",
       "      <td>ftb_results_counts.png</td>\n",
       "      <td>✅</td>\n",
       "      <td>C:\\Users\\bmcol\\University\\SIT378\\Data\\output\\f...</td>\n",
       "    </tr>\n",
       "    <tr>\n",
       "      <th>11</th>\n",
       "      <td>ftb_total_goals_hist.png</td>\n",
       "      <td>✅</td>\n",
       "      <td>C:\\Users\\bmcol\\University\\SIT378\\Data\\output\\f...</td>\n",
       "    </tr>\n",
       "    <tr>\n",
       "      <th>12</th>\n",
       "      <td>ftb_home_vs_away_goals.png</td>\n",
       "      <td>✅</td>\n",
       "      <td>C:\\Users\\bmcol\\University\\SIT378\\Data\\output\\f...</td>\n",
       "    </tr>\n",
       "  </tbody>\n",
       "</table>\n",
       "</div>"
      ],
      "text/plain": [
       "                           figure exists  \\\n",
       "0           run_hist_distance.png      ✅   \n",
       "1              run_hist_steps.png      ✅   \n",
       "2           run_hist_calories.png      ✅   \n",
       "3       run_steps_vs_calories.png      ✅   \n",
       "4    run_distance_vs_calories.png      ✅   \n",
       "5          cyc_hist_avg_speed.png      ✅   \n",
       "6          cyc_hist_elev_gain.png      ✅   \n",
       "7   cyc_distance_vs_avg_speed.png      ✅   \n",
       "8       cyc_elev_vs_avg_speed.png      ✅   \n",
       "9         cyc_weekly_distance.png      ✅   \n",
       "10         ftb_results_counts.png      ✅   \n",
       "11       ftb_total_goals_hist.png      ✅   \n",
       "12     ftb_home_vs_away_goals.png      ✅   \n",
       "\n",
       "                                                 path  \n",
       "0   C:\\Users\\bmcol\\University\\SIT378\\Data\\output\\f...  \n",
       "1   C:\\Users\\bmcol\\University\\SIT378\\Data\\output\\f...  \n",
       "2   C:\\Users\\bmcol\\University\\SIT378\\Data\\output\\f...  \n",
       "3   C:\\Users\\bmcol\\University\\SIT378\\Data\\output\\f...  \n",
       "4   C:\\Users\\bmcol\\University\\SIT378\\Data\\output\\f...  \n",
       "5   C:\\Users\\bmcol\\University\\SIT378\\Data\\output\\f...  \n",
       "6   C:\\Users\\bmcol\\University\\SIT378\\Data\\output\\f...  \n",
       "7   C:\\Users\\bmcol\\University\\SIT378\\Data\\output\\f...  \n",
       "8   C:\\Users\\bmcol\\University\\SIT378\\Data\\output\\f...  \n",
       "9   C:\\Users\\bmcol\\University\\SIT378\\Data\\output\\f...  \n",
       "10  C:\\Users\\bmcol\\University\\SIT378\\Data\\output\\f...  \n",
       "11  C:\\Users\\bmcol\\University\\SIT378\\Data\\output\\f...  \n",
       "12  C:\\Users\\bmcol\\University\\SIT378\\Data\\output\\f...  "
      ]
     },
     "execution_count": 22,
     "metadata": {},
     "output_type": "execute_result"
    }
   ],
   "source": [
    "# [6] Figure checklist\n",
    "expected = [\n",
    "    'run_hist_distance.png','run_hist_steps.png','run_hist_calories.png',\n",
    "    'run_steps_vs_calories.png','run_distance_vs_calories.png',\n",
    "    'cyc_hist_avg_speed.png','cyc_hist_elev_gain.png','cyc_distance_vs_avg_speed.png',\n",
    "    'cyc_elev_vs_avg_speed.png','cyc_weekly_distance.png',\n",
    "    'ftb_results_counts.png','ftb_total_goals_hist.png','ftb_home_vs_away_goals.png',\n",
    "]\n",
    "rows = []\n",
    "for name in expected:\n",
    "    p = FIG_DIR / name\n",
    "    rows.append({\"figure\": name, \"exists\": \"✅\" if p.exists() else \"❌\", \"path\": str(p if p.exists() else FIG_DIR)})\n",
    "import pandas as pd\n",
    "pd.DataFrame(rows)"
   ]
  },
  {
   "cell_type": "markdown",
   "id": "0295b5d8",
   "metadata": {},
   "source": [
    "### Dataset familiarisation & cleaning (no weekly headings)\n",
    "\n",
    "Update the `IMPROVED_XLSX` path and run the inspection and basic cleaning blocks. Outputs go to `outputs/csv/`.\n"
   ]
  },
  {
   "cell_type": "code",
   "execution_count": 23,
   "id": "3106d141",
   "metadata": {},
   "outputs": [
    {
     "name": "stdout",
     "output_type": "stream",
     "text": [
      "Configured paths:\n",
      "  IMPROVED_XLSX: C:\\Users\\bmcol\\University\\SIT378\\Data\\ImprovedData.xlsx\n",
      "  OUTPUTS_CSV: C:\\Users\\bmcol\\University\\SIT378\\Data\\output\\csv\n",
      "  OUTPUTS_FIG: C:\\Users\\bmcol\\University\\SIT378\\Data\\output\\figures\n"
     ]
    }
   ],
   "source": [
    "\n",
    "from pathlib import Path\n",
    "import pandas as pd\n",
    "import numpy as np\n",
    "\n",
    "# --- Paths: UPDATE as needed ---\n",
    "DATA_DIR = Path(\"Data\")  # using your provided tree\n",
    "IMPROVED_XLSX = DATA_DIR / \"ImprovedData.xlsx\"  # e.g., r\"C:\\...\\ImprovedData.xlsx\"\n",
    "OUTPUTS_CSV = Path(\"Data/output/csv\"); OUTPUTS_FIG = Path(\"Data/output/figures\")\n",
    "OUTPUTS_CSV.mkdir(parents=True, exist_ok=True); OUTPUTS_FIG.mkdir(parents=True, exist_ok=True)\n",
    "\n",
    "print(\"Configured paths:\")\n",
    "print(\"  IMPROVED_XLSX:\", IMPROVED_XLSX.resolve())\n",
    "print(\"  OUTPUTS_CSV:\", OUTPUTS_CSV.resolve())\n",
    "print(\"  OUTPUTS_FIG:\", OUTPUTS_FIG.resolve())\n"
   ]
  },
  {
   "cell_type": "code",
   "execution_count": 24,
   "id": "985fc627",
   "metadata": {},
   "outputs": [
    {
     "name": "stdout",
     "output_type": "stream",
     "text": [
      "Sheets: ['Sheet1']\n",
      "    UserID      Name Location  Total_Distance  Very_Active_Distance  \\\n",
      "0  7423388  Danielle      QLD            8.02                  2.03   \n",
      "1  7550634     Angel      NSW            5.82                  2.28   \n",
      "2  5304572    Joshua      NSW            0.11                  0.00   \n",
      "\n",
      "   Moderately_Active_Distance  Light_Active_Distance  \\\n",
      "0                        0.48                   5.52   \n",
      "1                        0.90                   2.64   \n",
      "2                        0.00                   0.11   \n",
      "\n",
      "   Sedentary_Active_Distance  Very_Active_Minutes  Fairly_Active_Minutes  \\\n",
      "0                        0.0                   26                     10   \n",
      "1                        0.0                   30                     16   \n",
      "2                        0.0                    0                      0   \n",
      "\n",
      "   Lightly_Active_Minutes  Sedentary_Minutes  Steps  Calories_Burned  \n",
      "0                     349                587  10449             2536  \n",
      "1                     135               1259   8001             2902  \n",
      "2                      12               1303    152             2100  \n",
      "<class 'pandas.core.frame.DataFrame'>\n",
      "RangeIndex: 863 entries, 0 to 862\n",
      "Data columns (total 14 columns):\n",
      " #   Column                      Non-Null Count  Dtype  \n",
      "---  ------                      --------------  -----  \n",
      " 0   UserID                      863 non-null    int64  \n",
      " 1   Name                        863 non-null    object \n",
      " 2   Location                    863 non-null    object \n",
      " 3   Total_Distance              863 non-null    float64\n",
      " 4   Very_Active_Distance        863 non-null    float64\n",
      " 5   Moderately_Active_Distance  863 non-null    float64\n",
      " 6   Light_Active_Distance       863 non-null    float64\n",
      " 7   Sedentary_Active_Distance   863 non-null    float64\n",
      " 8   Very_Active_Minutes         863 non-null    int64  \n",
      " 9   Fairly_Active_Minutes       863 non-null    int64  \n",
      " 10  Lightly_Active_Minutes      863 non-null    int64  \n",
      " 11  Sedentary_Minutes           863 non-null    int64  \n",
      " 12  Steps                       863 non-null    int64  \n",
      " 13  Calories_Burned             863 non-null    int64  \n",
      "dtypes: float64(5), int64(7), object(2)\n",
      "memory usage: 94.5+ KB\n",
      "None\n",
      "Missingness (top 20):\n",
      " UserID                        0.0\n",
      "Name                          0.0\n",
      "Location                      0.0\n",
      "Total_Distance                0.0\n",
      "Very_Active_Distance          0.0\n",
      "Moderately_Active_Distance    0.0\n",
      "Light_Active_Distance         0.0\n",
      "Sedentary_Active_Distance     0.0\n",
      "Very_Active_Minutes           0.0\n",
      "Fairly_Active_Minutes         0.0\n",
      "Lightly_Active_Minutes        0.0\n",
      "Sedentary_Minutes             0.0\n",
      "Steps                         0.0\n",
      "Calories_Burned               0.0\n",
      "dtype: float64\n"
     ]
    }
   ],
   "source": [
    "\n",
    "# Load & inspect\n",
    "try:\n",
    "    xls = pd.ExcelFile(IMPROVED_XLSX)\n",
    "    print(\"Sheets:\", xls.sheet_names)\n",
    "    # If multiple sheets, pick the first by default:\n",
    "    df = xls.parse(xls.sheet_names[0])\n",
    "    print(df.head(3))\n",
    "    print(df.info())\n",
    "    na_rate = df.isna().mean().sort_values(ascending=False)\n",
    "    print(\"Missingness (top 20):\\n\", na_rate.head(20))\n",
    "except Exception as e:\n",
    "    print(\"Could not load ImprovedData.xlsx:\", e)\n",
    "    df = pd.DataFrame()\n"
   ]
  },
  {
   "cell_type": "code",
   "execution_count": 25,
   "id": "6d9a1531",
   "metadata": {},
   "outputs": [
    {
     "name": "stdout",
     "output_type": "stream",
     "text": [
      "After standardisation:\n",
      "     userid  name  location  total_distance  very_active_distance  \\\n",
      "0  7423388   NaN       NaN            8.02                  2.03   \n",
      "1  7550634   NaN       NaN            5.82                  2.28   \n",
      "2  5304572   NaN       NaN            0.11                  0.00   \n",
      "\n",
      "   moderately_active_distance  light_active_distance  \\\n",
      "0                        0.48                   5.52   \n",
      "1                        0.90                   2.64   \n",
      "2                        0.00                   0.11   \n",
      "\n",
      "   sedentary_active_distance  very_active_minutes  fairly_active_minutes  \\\n",
      "0                        0.0                   26                     10   \n",
      "1                        0.0                   30                     16   \n",
      "2                        0.0                    0                      0   \n",
      "\n",
      "   lightly_active_minutes  sedentary_minutes  steps  calories_burned  \n",
      "0                     349                587  10449             2536  \n",
      "1                     135               1259   8001             2902  \n",
      "2                      12               1303    152             2100  \n"
     ]
    }
   ],
   "source": [
    "\n",
    "# Standardise columns: lowercase snake_case, parse timestamps, coerce numerics where obvious\n",
    "def to_snake(s):\n",
    "    return (s.strip()\n",
    "              .replace(\" \", \"_\")\n",
    "              .replace(\"-\", \"_\")\n",
    "              .replace(\"/\", \"_\")\n",
    "              .lower())\n",
    "\n",
    "def coerce_numeric(series):\n",
    "    try:\n",
    "        return pd.to_numeric(series, errors=\"coerce\")\n",
    "    except Exception:\n",
    "        return series\n",
    "\n",
    "if not df.empty:\n",
    "    df.columns = [to_snake(c) for c in df.columns]\n",
    "    # Try common timestamp columns\n",
    "    for c in [\"timestamp\",\"date\",\"activity_date\",\"start_time\",\"start_datetime\"]:\n",
    "        if c in df.columns:\n",
    "            df[c] = pd.to_datetime(df[c], errors=\"coerce\")\n",
    "    # Coerce numerics for common metrics\n",
    "    for c in df.columns:\n",
    "        if c not in [\"timestamp\",\"date\",\"activity_date\",\"start_time\",\"start_datetime\"]:\n",
    "            if df[c].dtype == object:\n",
    "                df[c] = coerce_numeric(df[c])\n",
    "    print(\"After standardisation:\\n\", df.head(3))\n",
    "else:\n",
    "    print(\"df is empty; skip standardisation.\")\n"
   ]
  },
  {
   "cell_type": "code",
   "execution_count": 26,
   "id": "560745fc",
   "metadata": {},
   "outputs": [
    {
     "name": "stdout",
     "output_type": "stream",
     "text": [
      "Saved: C:\\Users\\bmcol\\University\\SIT378\\Data\\output\\csv\\activities_w1to3_clean.csv shape: (863, 12)\n"
     ]
    }
   ],
   "source": [
    "\n",
    "# Basic cleaning: drop mostly empty columns, simple imputations for numerics\n",
    "if not df.empty:\n",
    "    # Drop columns with >95% missing\n",
    "    keep_cols = [c for c in df.columns if df[c].isna().mean() < 0.95]\n",
    "    df = df[keep_cols].copy()\n",
    "    # Simple imputations\n",
    "    num_cols = df.select_dtypes(include=[np.number]).columns\n",
    "    for c in num_cols:\n",
    "        if df[c].isna().any():\n",
    "            df[c] = df[c].fillna(df[c].mean())\n",
    "    # Export\n",
    "    out_file = OUTPUTS_CSV / \"activities_w1to3_clean.csv\"\n",
    "    df.to_csv(out_file, index=False)\n",
    "    print(\"Saved:\", out_file.resolve(), \"shape:\", df.shape)\n",
    "else:\n",
    "    print(\"df is empty; skip cleaning/export.\")\n"
   ]
  },
  {
   "cell_type": "markdown",
   "id": "da439cb4",
   "metadata": {},
   "source": [
    "### Baselines and environment placeholders\n",
    "\n",
    "Define target columns if present. Add lightweight baselines for fatigue (regression), injury risk (classification), and recovery time (regression). If environmental data is missing, generate synthetic placeholders with a fixed seed so results are reproducible.\n"
   ]
  },
  {
   "cell_type": "code",
   "execution_count": 27,
   "id": "e79a3af5",
   "metadata": {},
   "outputs": [
    {
     "name": "stdout",
     "output_type": "stream",
     "text": [
      "Fatigue baseline — MAE: 1.6816110070234405 MSE: 4.512897774655495 R2: -0.05815566193872024\n",
      "Injury baseline — Acc: 0.7037037037037037 ROC-AUC: 0.45641447368421056\n",
      "Recovery baseline — MAE: 1.5227712749207325 MSE: 3.6769177806330533 R2: -0.010361133257659638\n"
     ]
    }
   ],
   "source": [
    "\n",
    "from sklearn.model_selection import train_test_split\n",
    "from sklearn.metrics import mean_absolute_error, mean_squared_error, r2_score, roc_auc_score, accuracy_score\n",
    "from sklearn.linear_model import LinearRegression, LogisticRegression\n",
    "import numpy as np\n",
    "import pandas as pd\n",
    "\n",
    "# Targets: update if your columns differ\n",
    "target_fatigue = \"fatigue_score\"      # e.g., 0-10 scale\n",
    "target_injury  = \"injury_flag\"        # 0/1\n",
    "target_recover = \"recovery_hours\"     # continuous\n",
    "\n",
    "rng = np.random.default_rng(42)\n",
    "\n",
    "if not df.empty:\n",
    "    work = df.copy()\n",
    "    # Synthetic env if missing\n",
    "    for col in [\"temp_c\",\"humidity_pct\",\"wind_kph\"]:\n",
    "        if col not in work.columns:\n",
    "            work[col] = rng.normal(loc=20 if col==\"temp_c\" else (60 if col==\"humidity_pct\" else 10), scale=5, size=len(work))\n",
    "    # Simple feature guess: all numerics except targets\n",
    "    num_cols = work.select_dtypes(include=[np.number]).columns.tolist()\n",
    "    for t in [target_fatigue, target_injury, target_recover]:\n",
    "        if t not in work.columns:\n",
    "            # create dummy targets for scaffolding\n",
    "            if t == target_injury:\n",
    "                work[t] = (rng.random(len(work)) > 0.7).astype(int)\n",
    "            else:\n",
    "                work[t] = np.clip(rng.normal(5, 2, len(work)), 0, None)\n",
    "\n",
    "    # Fatigue baseline (LinearRegression)\n",
    "    X = work[[c for c in num_cols if c not in [target_fatigue, target_injury, target_recover]]].fillna(0)\n",
    "    y = work[target_fatigue]\n",
    "    X_train, X_test, y_train, y_test = train_test_split(X, y, test_size=0.25, random_state=42)\n",
    "    lr = LinearRegression().fit(X_train, y_train)\n",
    "    pred = lr.predict(X_test)\n",
    "    print(\"Fatigue baseline — MAE:\", mean_absolute_error(y_test, pred),\n",
    "          \"MSE:\", mean_squared_error(y_test, pred),\n",
    "          \"R2:\", r2_score(y_test, pred))\n",
    "\n",
    "    # Injury baseline (LogisticRegression)\n",
    "    y2 = work[target_injury].astype(int)\n",
    "    X_train, X_test, y_train, y_test = train_test_split(X, y2, test_size=0.25, random_state=42, stratify=y2)\n",
    "    logit = LogisticRegression(max_iter=1000).fit(X_train, y_train)\n",
    "    p = logit.predict_proba(X_test)[:,1]\n",
    "    yhat = (p > 0.5).astype(int)\n",
    "    try:\n",
    "        auc = roc_auc_score(y_test, p)\n",
    "    except Exception:\n",
    "        auc = float(\"nan\")\n",
    "    print(\"Injury baseline — Acc:\", accuracy_score(y_test, yhat), \"ROC-AUC:\", auc)\n",
    "\n",
    "    # Recovery baseline (LinearRegression)\n",
    "    y3 = work[target_recover]\n",
    "    X_train, X_test, y_train, y_test = train_test_split(X, y3, test_size=0.25, random_state=42)\n",
    "    lr2 = LinearRegression().fit(X_train, y_train)\n",
    "    pred2 = lr2.predict(X_test)\n",
    "    print(\"Recovery baseline — MAE:\", mean_absolute_error(y_test, pred2),\n",
    "          \"MSE:\", mean_squared_error(y_test, pred2),\n",
    "          \"R2:\", r2_score(y_test, pred2))\n",
    "else:\n",
    "    print(\"df is empty; skipped baselines.\")\n"
   ]
  },
  {
   "cell_type": "markdown",
   "id": "dce0a1ea",
   "metadata": {},
   "source": [
    "### Multi-sport schema mapping and derived metrics\n",
    "\n",
    "Maps running, cycling, and football files (if available) to a unified schema and exports a combined CSV.\n"
   ]
  },
  {
   "cell_type": "code",
   "execution_count": 34,
   "id": "97e39ea8",
   "metadata": {},
   "outputs": [
    {
     "name": "stdout",
     "output_type": "stream",
     "text": [
      "Combined shape: (561, 11)\n",
      "Saved: C:\\Users\\bmcol\\University\\SIT378\\Data\\output\\csv\\combined_sports_clean.csv\n"
     ]
    }
   ],
   "source": [
    "import pandas as pd\n",
    "from pathlib import Path\n",
    "\n",
    "def load_if_exists(path):\n",
    "    try:\n",
    "        return pd.read_csv(path) if path.suffix.lower() == \".csv\" else pd.read_excel(path)\n",
    "    except Exception:\n",
    "        return pd.DataFrame()\n",
    "\n",
    "# Candidate file locations (update as needed)\n",
    "RUN1 = Path(\"Data/ImprovedData.xlsx\")  # using the same running file\n",
    "CYC1 = Path(\"Data/Cycling.csv\")\n",
    "FB1  = Path(\"Data/Football.csv\")\n",
    "\n",
    "dfs = {\n",
    "    \"running\": load_if_exists(RUN1) if RUN1.exists() else load_if_exists(Path(\"Data/running/ImprovedData.xlsx\")),\n",
    "    \"cycling\": load_if_exists(CYC1),\n",
    "    \"football\": load_if_exists(FB1)\n",
    "}\n",
    "\n",
    "def to_snake(s):\n",
    "    return (s.strip().replace(\" \", \"_\").replace(\"-\", \"_\").replace(\"/\", \"_\").lower())\n",
    "\n",
    "def schema_map(df, sport):\n",
    "    if df is None or df.empty: \n",
    "        return pd.DataFrame()\n",
    "\n",
    "    d = df.copy()\n",
    "    d.columns = [to_snake(c) for c in d.columns]\n",
    "    out = pd.DataFrame()\n",
    "\n",
    "    # Timestamps\n",
    "    for c in [\"timestamp\", \"date\", \"activity_date\", \"start_time\", \"start_datetime\"]:\n",
    "        if c in d.columns:\n",
    "            out[\"timestamp\"] = pd.to_datetime(d[c], errors=\"coerce\")\n",
    "            break\n",
    "    if \"timestamp\" not in out: \n",
    "        out[\"timestamp\"] = pd.NaT\n",
    "\n",
    "    # Core metrics (best-effort mapping)\n",
    "    name_map = {\n",
    "        \"distance_km\": [\"distance_km\",\"distance\",\"dist_km\"],\n",
    "        \"duration_min\": [\"duration_min\",\"duration\",\"time_min\",\"activity_duration_min\"],\n",
    "        \"elev_gain_m\": [\"elev_gain\",\"elevation_gain\",\"elevation_gain_m\"],\n",
    "        \"avg_hr\": [\"avg_hr\",\"average_heart_rate\",\"avg_heart_rate\"],\n",
    "        \"max_hr\": [\"max_hr\",\"max_heart_rate\"],\n",
    "        \"cadence_spm\": [\"cadence_spm\",\"run_cadence\",\"avg_cadence_spm\"],\n",
    "        \"cadence_rpm\": [\"cadence_rpm\",\"avg_cadence_rpm\"],\n",
    "        \"speed_kph\": [\"speed_kph\",\"avg_speed\",\"average_speed_kph\"],\n",
    "        \"calories\": [\"cal\",\"calories\",\"kcal\"]\n",
    "    }\n",
    "\n",
    "    for std, candidates in name_map.items():\n",
    "        for c in candidates:\n",
    "            if c in d.columns:\n",
    "                out[std] = pd.to_numeric(d[c], errors=\"coerce\")\n",
    "                break\n",
    "        if std not in out: \n",
    "            out[std] = pd.NA\n",
    "\n",
    "    out[\"sport\"] = sport\n",
    "    return out\n",
    "\n",
    "mapped = []\n",
    "for k, v in dfs.items():\n",
    "    mapped.append(schema_map(v, k))\n",
    "\n",
    "combined = pd.concat(mapped, ignore_index=True) if mapped else pd.DataFrame()\n",
    "print(\"Combined shape:\", combined.shape)\n",
    "\n",
    "# Derived metrics\n",
    "if not combined.empty:\n",
    "    # pace for running\n",
    "    is_run = combined[\"sport\"] == \"running\"\n",
    "    if \"distance_km\" in combined and \"duration_min\" in combined:\n",
    "        combined.loc[\n",
    "            is_run & combined[\"distance_km\"].notna() & (combined[\"distance_km\"] > 0),\n",
    "            \"pace_min_per_km\"\n",
    "        ] = combined.loc[is_run, \"duration_min\"] / combined.loc[is_run, \"distance_km\"]\n",
    "\n",
    "    # speed for cycling (if missing)\n",
    "    is_cyc = combined[\"sport\"] == \"cycling\"\n",
    "    need_speed = (\n",
    "        is_cyc & combined[\"speed_kph\"].isna() &\n",
    "        combined[\"distance_km\"].notna() &\n",
    "        combined[\"duration_min\"].notna() & (combined[\"duration_min\"] > 0)\n",
    "    )\n",
    "    combined.loc[need_speed, \"speed_kph\"] = (\n",
    "        combined.loc[need_speed, \"distance_km\"] /\n",
    "        (combined.loc[need_speed, \"duration_min\"] / 60.0)\n",
    "    )\n",
    "\n",
    "    # Save output\n",
    "    OUTPUTS_CSV = Path(\"Data/output/csv\")\n",
    "    OUTPUTS_CSV.mkdir(parents=True, exist_ok=True)\n",
    "    out_file = OUTPUTS_CSV / \"combined_sports_clean.csv\"\n",
    "    combined.to_csv(out_file, index=False)\n",
    "    print(\"Saved:\", out_file.resolve())\n",
    "else:\n",
    "    print(\"No combined data to export.\")\n"
   ]
  },
  {
   "cell_type": "markdown",
   "id": "877d0726",
   "metadata": {},
   "source": [
    "### Environment-aware merge & quick experiments\n",
    "\n",
    "Attempts to join environment data by date/time (or creates synthetic env data if none available) and compares models **with vs without** env features.\n"
   ]
  },
  {
   "cell_type": "code",
   "execution_count": 35,
   "id": "8410e373",
   "metadata": {},
   "outputs": [
    {
     "name": "stdout",
     "output_type": "stream",
     "text": [
      "Merged shape: (2169, 16)\n",
      "MAE without env: 35.444  | with env: 40.128  (lower is better)\n"
     ]
    }
   ],
   "source": [
    "# TODO: Replace this synthetic env generator with your real weather data merge when available.\n",
    "\n",
    "import pandas as pd\n",
    "import numpy as np\n",
    "from pathlib import Path\n",
    "from sklearn.model_selection import train_test_split\n",
    "from sklearn.linear_model import LinearRegression\n",
    "from sklearn.metrics import mean_absolute_error, mean_squared_error, r2_score\n",
    "\n",
    "ENV_CSV = Path(\"Data/env/environment.csv\")  # update if you have one\n",
    "\n",
    "def ensure_env(df, rng=np.random.default_rng(7)):\n",
    "    env = None\n",
    "    if ENV_CSV.exists():\n",
    "        try:\n",
    "            env = pd.read_csv(ENV_CSV)\n",
    "        except Exception:\n",
    "            env = None\n",
    "    if env is None:\n",
    "        # create synthetic env matching df length\n",
    "        env = pd.DataFrame({\n",
    "            \"timestamp\": pd.to_datetime(df[\"timestamp\"], errors=\"coerce\") if \"timestamp\" in df else pd.date_range(\"2024-01-01\", periods=len(df), freq=\"D\"),\n",
    "            \"temp_c\": rng.normal(18, 6, len(df)),\n",
    "            \"humidity_pct\": np.clip(rng.normal(55, 15, len(df)), 10, 100),\n",
    "            \"wind_kph\": np.abs(rng.normal(12, 5, len(df)))\n",
    "        })\n",
    "    # round to date for a simple join\n",
    "    env[\"date\"] = pd.to_datetime(env[\"timestamp\"], errors=\"coerce\").dt.date\n",
    "    return env\n",
    "\n",
    "# Use the previously exported combined or fallback to df\n",
    "base = None\n",
    "try:\n",
    "    base = pd.read_csv(OUTPUTS_CSV / \"combined_sports_clean.csv\")\n",
    "except Exception:\n",
    "    base = df.copy()\n",
    "\n",
    "if base is not None and not base.empty:\n",
    "    base[\"timestamp\"] = pd.to_datetime(base.get(\"timestamp\"), errors=\"coerce\")\n",
    "    base[\"date\"] = base[\"timestamp\"].dt.date\n",
    "    env = ensure_env(base)\n",
    "    merged = pd.merge(base, env[[\"date\",\"temp_c\",\"humidity_pct\",\"wind_kph\"]], on=\"date\", how=\"left\")\n",
    "    print(\"Merged shape:\", merged.shape)\n",
    "    # Quick comparison on a proxy target (calories if present, else speed_kph)\n",
    "    target = \"calories\" if \"calories\" in merged.columns else (\"speed_kph\" if \"speed_kph\" in merged.columns else None)\n",
    "    if target and merged[target].notna().sum() > 20:\n",
    "        feat_base = merged.select_dtypes(include=[np.number]).drop(columns=[target], errors=\"ignore\")\n",
    "        feat_base = feat_base[[c for c in feat_base.columns if c not in [\"temp_c\",\"humidity_pct\",\"wind_kph\"]]].fillna(0)\n",
    "        y = merged[target].fillna(0)\n",
    "        X_tr, X_te, y_tr, y_te = train_test_split(feat_base, y, test_size=0.25, random_state=42)\n",
    "        m0 = LinearRegression().fit(X_tr, y_tr)\n",
    "        p0 = m0.predict(X_te)\n",
    "        mae0 = mean_absolute_error(y_te, p0)\n",
    "\n",
    "        # with env\n",
    "        feat_env = merged.select_dtypes(include=[np.number]).drop(columns=[target], errors=\"ignore\").fillna(0)\n",
    "        X_tr2, X_te2, y_tr2, y_te2 = train_test_split(feat_env, y, test_size=0.25, random_state=42)\n",
    "        m1 = LinearRegression().fit(X_tr2, y_tr2)\n",
    "        p1 = m1.predict(X_te2)\n",
    "        mae1 = mean_absolute_error(y_te2, p1)\n",
    "\n",
    "        print(\"MAE without env:\", round(mae0,3), \" | with env:\", round(mae1,3), \" (lower is better)\")\n",
    "    else:\n",
    "        print(\"No suitable numeric target found for quick comparison.\")\n",
    "else:\n",
    "    print(\"No base data to merge with environment.\")\n"
   ]
  },
  {
   "cell_type": "markdown",
   "id": "f8564ef6",
   "metadata": {},
   "source": [
    "### Visual checks (inline + saved PNGs)\n",
    "\n",
    "Generates correlation heatmap and a few scatter plots (matplotlib only)."
   ]
  },
  {
   "cell_type": "code",
   "execution_count": 36,
   "id": "26712faf",
   "metadata": {},
   "outputs": [
    {
     "name": "stdout",
     "output_type": "stream",
     "text": [
      "Loaded: C:\\Users\\bmcol\\University\\SIT378\\Data\\output\\csv\\combined_sports_clean.csv shape: (561, 12)\n",
      "Saved figure: C:\\Users\\bmcol\\University\\SIT378\\Data\\output\\figures\\corr_heatmap.png\n"
     ]
    },
    {
     "data": {
      "image/png": "[encoded data removed]",
      "text/plain": [
       "<Figure size 576x432 with 2 Axes>"
      ]
     },
     "metadata": {
      "needs_background": "light"
     },
     "output_type": "display_data"
    },
    {
     "name": "stdout",
     "output_type": "stream",
     "text": [
      "Saved figure: C:\\Users\\bmcol\\University\\SIT378\\Data\\output\\figures\\temp_vs_calories.png\n"
     ]
    },
    {
     "data": {
      "image/png": "[encoded data removed]",
      "text/plain": [
       "<Figure size 432x288 with 1 Axes>"
      ]
     },
     "metadata": {
      "needs_background": "light"
     },
     "output_type": "display_data"
    }
   ],
   "source": [
    "# --- Define and ensure output folders ---\n",
    "OUTPUTS_CSV = Path(\"Data/output/csv\")\n",
    "OUTPUTS_FIG = Path(\"Data/output/figures\")\n",
    "OUTPUTS_CSV.mkdir(parents=True, exist_ok=True)\n",
    "OUTPUTS_FIG.mkdir(parents=True, exist_ok=True)\n",
    "\n",
    "def save_and_show(fig, name):\n",
    "    out = OUTPUTS_FIG / name\n",
    "    fig.savefig(out, bbox_inches=\"tight\")\n",
    "    print(\"Saved figure:\", out.resolve())\n",
    "    plt.show()\n",
    "    plt.close(fig)\n",
    "\n",
    "# --- Load combined data if available; else fall back to df (assumes df exists from your earlier cell) ---\n",
    "combined_path = OUTPUTS_CSV / \"combined_sports_clean.csv\"\n",
    "if combined_path.exists():\n",
    "    data = pd.read_csv(combined_path)\n",
    "    print(\"Loaded:\", combined_path.resolve(), \"shape:\", data.shape)\n",
    "else:\n",
    "    try:\n",
    "        data = df.copy()\n",
    "        print(\"Using in-memory df (no combined_sports_clean.csv found). Shape:\", data.shape)\n",
    "    except NameError:\n",
    "        raise FileNotFoundError(\n",
    "            \"No combined_sports_clean.csv at Data/output/csv and no in-memory 'df'. \"\n",
    "            \"Run the cleaning/combining cell first or load your dataset into df.\"\n",
    "        )\n",
    "\n",
    "# --- Ensure env columns exist (synthetic if missing) ---\n",
    "rng = np.random.default_rng(42)\n",
    "if \"temp_c\" not in data.columns:\n",
    "    data[\"temp_c\"] = rng.normal(18, 6, len(data))\n",
    "if \"humidity_pct\" not in data.columns:\n",
    "    data[\"humidity_pct\"] = np.clip(rng.normal(55, 15, len(data)), 10, 100)\n",
    "if \"wind_kph\" not in data.columns:\n",
    "    data[\"wind_kph\"] = np.abs(rng.normal(12, 5, len(data)))\n",
    "\n",
    "# --- Plots ---\n",
    "if data is not None and not data.empty:\n",
    "    # Correlation heatmap (numeric only)\n",
    "    num = data.select_dtypes(include=[np.number])\n",
    "    if not num.empty:\n",
    "        corr = num.corr()  # <-- removed numeric_only for older pandas\n",
    "        # If all-NaN (can happen if constant columns), skip safely\n",
    "        if not corr.isna().all().all():\n",
    "            fig = plt.figure(figsize=(8, 6))\n",
    "            plt.imshow(corr, interpolation=\"nearest\")\n",
    "            plt.xticks(range(corr.shape[1]), corr.columns, rotation=90)\n",
    "            plt.yticks(range(corr.shape[0]), corr.index)\n",
    "            plt.colorbar()\n",
    "            plt.title(\"Correlation heatmap (numeric features)\")\n",
    "            save_and_show(fig, \"corr_heatmap.png\")\n",
    "        else:\n",
    "            print(\"Correlation matrix all-NaN; skipping heatmap (likely constant/empty numeric columns).\")\n",
    "\n",
    "    # Scatter: Temp vs Calories (only if calories present)\n",
    "    if {\"temp_c\", \"calories\"}.issubset(data.columns) and data[\"calories\"].notna().any():\n",
    "        fig = plt.figure(figsize=(6, 4))\n",
    "        plt.scatter(data[\"temp_c\"], data[\"calories\"], alpha=0.6)\n",
    "        plt.xlabel(\"Temperature (°C)\"); plt.ylabel(\"Calories\")\n",
    "        plt.title(\"Temperature vs Calories\")\n",
    "        save_and_show(fig, \"temp_vs_calories.png\")\n",
    "\n",
    "    # Scatter: Wind vs Speed (only if speed_kph present)\n",
    "    if {\"wind_kph\", \"speed_kph\"}.issubset(data.columns) and data[\"speed_kph\"].notna().any():\n",
    "        fig = plt.figure(figsize=(6, 4))\n",
    "        plt.scatter(data[\"wind_kph\"], data[\"speed_kph\"], alpha=0.6)\n",
    "        plt.xlabel(\"Wind (kph)\"); plt.ylabel(\"Speed (kph)\")\n",
    "        plt.title(\"Wind vs Speed\")\n",
    "        save_and_show(fig, \"wind_vs_speed.png\")\n",
    "else:\n",
    "    print(\"No data available for visual checks.\")\n"
   ]
  },
  {
   "cell_type": "markdown",
   "id": "8b857b87",
   "metadata": {},
   "source": [
    "### Power BI export CSVs\n",
    "\n",
    "Creates tidy CSVs for Power BI if data is available.\n"
   ]
  },
  {
   "cell_type": "code",
   "execution_count": 37,
   "id": "6433f7a2",
   "metadata": {},
   "outputs": [
    {
     "name": "stdout",
     "output_type": "stream",
     "text": [
      "Saved activity_summary.csv\n"
     ]
    }
   ],
   "source": [
    "\n",
    "import pandas as pd\n",
    "\n",
    "try:\n",
    "    data = pd.read_csv(OUTPUTS_CSV / \"combined_sports_clean.csv\")\n",
    "except Exception:\n",
    "    data = df.copy()\n",
    "\n",
    "if data is not None and not data.empty:\n",
    "    # activity_summary\n",
    "    cols = [\"timestamp\",\"sport\",\"distance_km\",\"duration_min\",\"speed_kph\",\"pace_min_per_km\",\"elev_gain_m\",\"avg_hr\",\"max_hr\",\"cadence_spm\",\"cadence_rpm\",\"calories\"]\n",
    "    activity_summary = data[[c for c in cols if c in data.columns]].copy()\n",
    "    activity_summary.to_csv(OUTPUTS_CSV / \"activity_summary.csv\", index=False)\n",
    "    print(\"Saved activity_summary.csv\")\n",
    "\n",
    "    # terrain_pace_summary (if you have terrain)\n",
    "    if \"terrain\" in data.columns and \"pace_min_per_km\" in data.columns:\n",
    "        tps = data.loc[(data[\"sport\"]==\"running\") & data[\"pace_min_per_km\"].notna(), [\"terrain\",\"pace_min_per_km\"]].copy()\n",
    "        tps.to_csv(OUTPUTS_CSV / \"terrain_pace_summary.csv\", index=False)\n",
    "        print(\"Saved terrain_pace_summary.csv\")\n",
    "else:\n",
    "    print(\"No data available to create PBI exports.\")\n"
   ]
  },
  {
   "cell_type": "markdown",
   "id": "4841d094",
   "metadata": {},
   "source": [
    "### Model cards\n",
    "\n",
    "**Fatigue (baseline):**\n",
    "- **Data:** ImprovedData.xlsx (cleaned)\n",
    "- **Features:** numeric exercise + env placeholders\n",
    "- **Target:** `fatigue_score` (scaffold if missing)\n",
    "- **Metrics:** MAE/MSE/R² (baseline)\n",
    "- **Limitations:** synthetic env until real data is used\n",
    "\n",
    "**Injury (baseline):**\n",
    "- **Target:** `injury_flag` (0/1; scaffold if missing)\n",
    "- **Metrics:** Accuracy, ROC-AUC\n",
    "- **Note:** Class balance and event rarity likely affect metrics\n",
    "\n",
    "**Recovery (baseline):**\n",
    "- **Target:** `recovery_hours`\n",
    "- **Metrics:** MAE/MSE/R²\n",
    "- **Note:** Improve with richer feature engineering and proper CV\n"
   ]
  },
  {
   "cell_type": "code",
   "execution_count": null,
   "id": "1a953f9d",
   "metadata": {},
   "outputs": [],
   "source": []
  },
  {
   "cell_type": "markdown",
   "id": "5722a081",
   "metadata": {},
   "source": [
    "\n",
    "### Dataset Familiarisation & Cleaning (Export Evidence)\n",
    "\n",
    "This section exports the cleaned running dataset for evidence, aligning with the early deliverables.\n",
    "- Confirms schema standardisation (lowercase, timestamps, numerics).\n",
    "- Saves a reproducible CSV under `Data/output/csv/activities_w1to3_clean.csv`.\n"
   ]
  },
  {
   "cell_type": "code",
   "execution_count": 38,
   "id": "2ddf04ad",
   "metadata": {},
   "outputs": [
    {
     "name": "stdout",
     "output_type": "stream",
     "text": [
      "Exported: C:\\Users\\bmcol\\University\\SIT378\\Data\\output\\csv\\activities_w1to3_clean.csv shape: (863, 12)\n"
     ]
    }
   ],
   "source": [
    "# NOTE: This export assumes you've loaded 'df' from ImprovedData.xlsx and that\n",
    "# column names have been standardised (lowercase, snake_case). If your timestamps or\n",
    "# numerics use different names, adjust the lists below. This is a **non-destructive**\n",
    "# tidy pass and safe to run multiple times.\n",
    "\n",
    "\n",
    "# --- Export cleaned running dataset for evidence ---\n",
    "# Assumes a DataFrame 'df' is already loaded from ImprovedData.xlsx and cleaned earlier.\n",
    "from pathlib import Path\n",
    "import pandas as pd\n",
    "import numpy as np\n",
    "\n",
    "OUTPUTS_CSV = Path(\"Data/output/csv\")\n",
    "OUTPUTS_CSV.mkdir(parents=True, exist_ok=True)\n",
    "\n",
    "if 'df' in globals() and isinstance(df, pd.DataFrame) and not df.empty:\n",
    "    # 1) Simple sanity clean (safe if already cleaned)\n",
    "    work = df.copy()\n",
    "    # Lowercase snake_case (idempotent if already done)\n",
    "    def to_snake(s): \n",
    "        return (str(s).strip().replace(\" \", \"_\").replace(\"-\", \"_\").replace(\"/\", \"_\").lower())\n",
    "    work.columns = [to_snake(c) for c in work.columns]\n",
    "    # Parse common timestamp columns\n",
    "    for c in [\"timestamp\",\"date\",\"activity_date\",\"start_time\",\"start_datetime\"]:\n",
    "        if c in work.columns:\n",
    "            work[c] = pd.to_datetime(work[c], errors=\"coerce\")\n",
    "    # Coerce numerics; mean-fill missing numerics for clean export\n",
    "    num_cols = work.select_dtypes(include=[np.number]).columns\n",
    "    for c in num_cols:\n",
    "        if work[c].isna().any():\n",
    "            work[c] = work[c].fillna(work[c].mean())\n",
    "    # Drop columns with >95% missingness (if any remain)\n",
    "    keep_cols = [c for c in work.columns if work[c].isna().mean() < 0.95]\n",
    "    work = work[keep_cols].copy()\n",
    "\n",
    "    out_file = OUTPUTS_CSV / \"activities_w1to3_clean.csv\"\n",
    "    work.to_csv(out_file, index=False)\n",
    "    print(\"Exported:\", out_file.resolve(), \"shape:\", work.shape)\n",
    "else:\n",
    "    print(\"No in-memory 'df' found. Please run the ImprovedData.xlsx loading cell first.\")\n"
   ]
  },
  {
   "cell_type": "markdown",
   "id": "d9dbef56",
   "metadata": {},
   "source": [
    "\n",
    "### Baseline Models (Fatigue, Injury, Recovery) — With Comments\n",
    "\n",
    "We create simple baseline models using readily available activity features. Since we lack true labels, we **scaffold synthetic targets** for demonstration:\n",
    "- **Fatigue (regression):** Linear Regression → MAE/MSE/R²\n",
    "- **Injury (classification):** Logistic Regression → Accuracy/ROC-AUC\n",
    "- **Recovery (regression):** Linear Regression → MAE/MSE/R²\n",
    "\n",
    "All steps are commented for clarity so teammates can follow the pipeline.\n"
   ]
  },
  {
   "cell_type": "code",
   "execution_count": 39,
   "id": "c3a59259",
   "metadata": {},
   "outputs": [
    {
     "name": "stdout",
     "output_type": "stream",
     "text": [
      "Baseline metrics:\n",
      "                     task       MAE        MSE        R2  Accuracy   ROC_AUC\n",
      "0     fatigue_regression  1.589987   3.783939 -0.012704       NaN       NaN\n",
      "1  injury_classification       NaN        NaN       NaN  0.768519  0.529639\n",
      "2    recovery_regression  4.599033  33.700206 -0.035570       NaN       NaN\n",
      "Saved: C:\\Users\\bmcol\\University\\SIT378\\Data\\output\\csv\\baseline_metrics.csv\n"
     ]
    }
   ],
   "source": [
    "# NOTE: We **simulate** targets because real labels may not exist. Replace the synthetic\n",
    "# generation with your real target columns when available, e.g.:\n",
    "#   data['fatigue_score'] = your_real_fatigue_column\n",
    "# If your dataset contains non-numeric fields you want as features, encode them first.\n",
    "# The feature list intentionally excludes the target columns.\n",
    "\n",
    "\n",
    "from pathlib import Path\n",
    "import numpy as np\n",
    "import pandas as pd\n",
    "from sklearn.model_selection import train_test_split\n",
    "from sklearn.metrics import mean_absolute_error, mean_squared_error, r2_score, roc_auc_score, accuracy_score\n",
    "from sklearn.linear_model import LinearRegression, LogisticRegression\n",
    "\n",
    "# Ensure outputs exist\n",
    "OUTPUTS_CSV = Path(\"Data/output/csv\")\n",
    "OUTPUTS_CSV.mkdir(parents=True, exist_ok=True)\n",
    "\n",
    "# Use cleaned running df if available; otherwise try combined data (if created later)\n",
    "base_df = None\n",
    "if 'df' in globals() and isinstance(df, pd.DataFrame) and not df.empty:\n",
    "    base_df = df.copy()\n",
    "else:\n",
    "    try:\n",
    "        base_df = pd.read_csv(OUTPUTS_CSV / \"combined_sports_clean.csv\")\n",
    "    except Exception:\n",
    "        base_df = None\n",
    "\n",
    "if base_df is None or base_df.empty:\n",
    "    raise RuntimeError(\"No data found for baselines. Load ImprovedData.xlsx into 'df' or run multi-sport combine step.\")\n",
    "\n",
    "# 1) Ensure numerics\n",
    "data = base_df.select_dtypes(include=[np.number]).copy()\n",
    "if data.empty:\n",
    "    # attempt to coerce all non-numeric to numeric where possible\n",
    "    data = base_df.copy()\n",
    "    for c in data.columns:\n",
    "        data[c] = pd.to_numeric(data[c], errors=\"coerce\")\n",
    "    data = data.select_dtypes(include=[np.number]).copy()\n",
    "\n",
    "# 2) Synthetic targets (reproducible)\n",
    "rng = np.random.default_rng(123)\n",
    "n = len(data)\n",
    "data['fatigue_score'] = np.clip(rng.normal(5.0, 2.0, n), 0, 10)     # 0-10 scale\n",
    "data['injury_flag']   = (rng.random(n) > 0.75).astype(int)          # ~25% positives\n",
    "data['recovery_hours']= np.clip(rng.normal(24.0, 6.0, n), 1, 72)    # 1-72 hours\n",
    "\n",
    "# 3) Features: all numerics except targets\n",
    "features = [c for c in data.columns if c not in ['fatigue_score','injury_flag','recovery_hours']]\n",
    "X_full = data[features].fillna(0)\n",
    "\n",
    "results = []\n",
    "\n",
    "# --- Fatigue (regression) ---\n",
    "X_train, X_test, y_train, y_test = train_test_split(X_full, data['fatigue_score'], test_size=0.25, random_state=42)\n",
    "m_fatigue = LinearRegression().fit(X_train, y_train)\n",
    "y_pred = m_fatigue.predict(X_test)\n",
    "results.append({\n",
    "    \"task\": \"fatigue_regression\",\n",
    "    \"MAE\": mean_absolute_error(y_test, y_pred),\n",
    "    \"MSE\": mean_squared_error(y_test, y_pred),\n",
    "    \"R2\":  r2_score(y_test, y_pred)\n",
    "})\n",
    "\n",
    "# --- Injury (classification) ---\n",
    "X_train, X_test, y_train, y_test = train_test_split(X_full, data['injury_flag'].astype(int), test_size=0.25, random_state=42, stratify=data['injury_flag'].astype(int))\n",
    "m_injury = LogisticRegression(max_iter=1000).fit(X_train, y_train)\n",
    "proba = m_injury.predict_proba(X_test)[:,1]\n",
    "pred  = (proba > 0.5).astype(int)\n",
    "try:\n",
    "    auc = roc_auc_score(y_test, proba)\n",
    "except Exception:\n",
    "    auc = float(\"nan\")\n",
    "results.append({\n",
    "    \"task\": \"injury_classification\",\n",
    "    \"Accuracy\": accuracy_score(y_test, pred),\n",
    "    \"ROC_AUC\": auc\n",
    "})\n",
    "\n",
    "# --- Recovery (regression) ---\n",
    "X_train, X_test, y_train, y_test = train_test_split(X_full, data['recovery_hours'], test_size=0.25, random_state=42)\n",
    "m_recovery = LinearRegression().fit(X_train, y_train)\n",
    "y_pred = m_recovery.predict(X_test)\n",
    "results.append({\n",
    "    \"task\": \"recovery_regression\",\n",
    "    \"MAE\": mean_absolute_error(y_test, y_pred),\n",
    "    \"MSE\": mean_squared_error(y_test, y_pred),\n",
    "    \"R2\":  r2_score(y_test, y_pred)\n",
    "})\n",
    "\n",
    "metrics_df = pd.DataFrame(results)\n",
    "metrics_path = OUTPUTS_CSV / \"baseline_metrics.csv\"\n",
    "metrics_df.to_csv(metrics_path, index=False)\n",
    "print(\"Baseline metrics:\\n\", metrics_df)\n",
    "print(\"Saved:\", metrics_path.resolve())\n"
   ]
  },
  {
   "cell_type": "markdown",
   "id": "d70a86b5",
   "metadata": {},
   "source": [
    "\n",
    "### Environment-Aware Comparison (With vs Without Env Features)\n",
    "\n",
    "We compare baseline models trained **without** environment features vs **with** synthetic environment features (`temp_c`, `humidity_pct`, `wind_kph`).  \n",
    "This demonstrates the potential uplift when including environmental context.\n"
   ]
  },
  {
   "cell_type": "code",
   "execution_count": 40,
   "id": "b5858be8",
   "metadata": {},
   "outputs": [
    {
     "name": "stdout",
     "output_type": "stream",
     "text": [
      "Env comparison metrics:\n",
      "                     task  MAE_wo_env  MSE_wo_env  R2_wo_env  MAE_w_env  \\\n",
      "0     fatigue_regression     1.61242    3.807146  -0.012081   1.617955   \n",
      "1  injury_classification         NaN         NaN        NaN        NaN   \n",
      "2    recovery_regression     4.63709   36.665287  -0.025152   4.624381   \n",
      "\n",
      "   MSE_w_env  R2_w_env  ACC_wo_env  AUC_wo_env  ACC_w_env  AUC_w_env  \n",
      "0   3.874928 -0.030100         NaN         NaN        NaN        NaN  \n",
      "1        NaN       NaN    0.723404    0.470588    0.70922   0.559829  \n",
      "2  36.381090 -0.017206         NaN         NaN        NaN        NaN  \n",
      "Saved: C:\\Users\\bmcol\\University\\SIT378\\Data\\output\\csv\\env_comparison_metrics.csv\n"
     ]
    }
   ],
   "source": [
    "# NOTE: This comparison expects environment features `temp_c`, `humidity_pct`, `wind_kph`.\n",
    "# If you have REAL env data, load and merge it to your base dataframe, then **remove** the\n",
    "# synthetic generation here. Ensure units are consistent (°C, %, kph). Change `env_cols` if\n",
    "# your column names differ.\n",
    "\n",
    "\n",
    "from pathlib import Path\n",
    "import numpy as np\n",
    "import pandas as pd\n",
    "from sklearn.model_selection import train_test_split\n",
    "from sklearn.linear_model import LinearRegression, LogisticRegression\n",
    "from sklearn.metrics import mean_absolute_error, mean_squared_error, r2_score, roc_auc_score, accuracy_score\n",
    "\n",
    "OUTPUTS_CSV = Path(\"Data/output/csv\")\n",
    "OUTPUTS_CSV.mkdir(parents=True, exist_ok=True)\n",
    "\n",
    "# Prefer combined dataset if available for richer features; else fallback to df\n",
    "try:\n",
    "    merged = pd.read_csv(OUTPUTS_CSV / \"combined_sports_clean.csv\")\n",
    "except Exception:\n",
    "    merged = 'df' in globals() and df.copy() or None\n",
    "\n",
    "if merged is None or (isinstance(merged, pd.DataFrame) and merged.empty):\n",
    "    raise RuntimeError(\"No dataset found for env comparison. Create combined_sports_clean.csv or load 'df'.\")\n",
    "\n",
    "if isinstance(merged, pd.DataFrame):\n",
    "    data = merged.copy()\n",
    "else:\n",
    "    data = merged\n",
    "\n",
    "# Ensure synthetic env columns exist\n",
    "rng = np.random.default_rng(7)\n",
    "if \"temp_c\" not in data.columns:\n",
    "    data[\"temp_c\"] = rng.normal(18, 6, len(data))\n",
    "if \"humidity_pct\" not in data.columns:\n",
    "    data[\"humidity_pct\"] = np.clip(rng.normal(55, 15, len(data)), 10, 100)\n",
    "if \"wind_kph\" not in data.columns:\n",
    "    data[\"wind_kph\"] = np.abs(rng.normal(12, 5, len(data)))\n",
    "\n",
    "# Numerics only for features\n",
    "full = data.copy()\n",
    "for c in full.columns:\n",
    "    full[c] = pd.to_numeric(full[c], errors=\"coerce\")\n",
    "num = full.select_dtypes(include=[np.number]).fillna(0)\n",
    "\n",
    "# Synthetic targets (consistent)\n",
    "n = len(num)\n",
    "num['fatigue_score'] = np.clip(rng.normal(5.0, 2.0, n), 0, 10)\n",
    "num['injury_flag']   = (rng.random(n) > 0.75).astype(int)\n",
    "num['recovery_hours']= np.clip(rng.normal(24.0, 6.0, n), 1, 72)\n",
    "\n",
    "# Split feature sets\n",
    "env_cols = ['temp_c','humidity_pct','wind_kph']\n",
    "feat_wo = [c for c in num.columns if c not in env_cols + ['fatigue_score','injury_flag','recovery_hours']]\n",
    "feat_w  = [c for c in num.columns if c not in ['fatigue_score','injury_flag','recovery_hours']]\n",
    "\n",
    "def eval_reg(X, y):\n",
    "    Xtr, Xte, ytr, yte = train_test_split(X, y, test_size=0.25, random_state=42)\n",
    "    m = LinearRegression().fit(Xtr, ytr)\n",
    "    pred = m.predict(Xte)\n",
    "    return mean_absolute_error(yte, pred), mean_squared_error(yte, pred), r2_score(yte, pred)\n",
    "\n",
    "def eval_cls(X, y):\n",
    "    Xtr, Xte, ytr, yte = train_test_split(X, y.astype(int), test_size=0.25, random_state=42, stratify=y.astype(int))\n",
    "    clf = LogisticRegression(max_iter=1000).fit(Xtr, ytr)\n",
    "    proba = clf.predict_proba(Xte)[:,1]\n",
    "    pred  = (proba > 0.5).astype(int)\n",
    "    try:\n",
    "        auc = roc_auc_score(yte, proba)\n",
    "    except Exception:\n",
    "        auc = float(\"nan\")\n",
    "    return accuracy_score(yte, pred), auc\n",
    "\n",
    "rows = []\n",
    "# Fatigue\n",
    "mae0, mse0, r20 = eval_reg(num[feat_wo], num['fatigue_score'])\n",
    "mae1, mse1, r21 = eval_reg(num[feat_w],  num['fatigue_score'])\n",
    "rows.append({\"task\":\"fatigue_regression\",\"MAE_wo_env\":mae0,\"MSE_wo_env\":mse0,\"R2_wo_env\":r20,\n",
    "             \"MAE_w_env\":mae1,\"MSE_w_env\":mse1,\"R2_w_env\":r21})\n",
    "# Injury\n",
    "acc0, auc0 = eval_cls(num[feat_wo], num['injury_flag'])\n",
    "acc1, auc1 = eval_cls(num[feat_w],  num['injury_flag'])\n",
    "rows.append({\"task\":\"injury_classification\",\"ACC_wo_env\":acc0,\"AUC_wo_env\":auc0,\n",
    "             \"ACC_w_env\":acc1,\"AUC_w_env\":auc1})\n",
    "# Recovery\n",
    "mae0, mse0, r20 = eval_reg(num[feat_wo], num['recovery_hours'])\n",
    "mae1, mse1, r21 = eval_reg(num[feat_w],  num['recovery_hours'])\n",
    "rows.append({\"task\":\"recovery_regression\",\"MAE_wo_env\":mae0,\"MSE_wo_env\":mse0,\"R2_wo_env\":r20,\n",
    "             \"MAE_w_env\":mae1,\"MSE_w_env\":mse1,\"R2_w_env\":r21})\n",
    "\n",
    "cmp_df = pd.DataFrame(rows)\n",
    "cmp_path = OUTPUTS_CSV / \"env_comparison_metrics.csv\"\n",
    "cmp_df.to_csv(cmp_path, index=False)\n",
    "print(\"Env comparison metrics:\\n\", cmp_df)\n",
    "print(\"Saved:\", cmp_path.resolve())\n"
   ]
  },
  {
   "cell_type": "markdown",
   "id": "d4202590",
   "metadata": {},
   "source": [
    "\n",
    "### Visual Approximations for Power BI (Matplotlib)\n",
    "\n",
    "These plots mirror the Power BI visuals (to provide immediate evidence in the notebook):\n",
    "- **Distance vs Duration** (by sport)\n",
    "- **Heart Rate vs Pace** (by sport)\n",
    "\n",
    "The actual Power BI `.pbix` with slicers/filters will be produced separately.\n"
   ]
  },
  {
   "cell_type": "code",
   "execution_count": 41,
   "id": "468e2009",
   "metadata": {},
   "outputs": [
    {
     "name": "stdout",
     "output_type": "stream",
     "text": [
      "Saved: C:\\Users\\bmcol\\University\\SIT378\\Data\\output\\figures\\pbi_distance_vs_duration.png\n"
     ]
    },
    {
     "data": {
      "image/png": "[encoded data removed]",
      "text/plain": [
       "<Figure size 504x360 with 1 Axes>"
      ]
     },
     "metadata": {
      "needs_background": "light"
     },
     "output_type": "display_data"
    }
   ],
   "source": [
    "# NOTE: These matplotlib plots are evidence-only. Power BI visuals will differ in styling\n",
    "# and interactivity. Ensure the required columns exist; otherwise adjust the field names in\n",
    "# the subset checks (e.g., rename 'Average Speed' → 'speed_kph').\n",
    "\n",
    "\n",
    "from pathlib import Path\n",
    "import pandas as pd\n",
    "import matplotlib.pyplot as plt\n",
    "\n",
    "OUTPUTS_CSV = Path(\"Data/output/csv\")\n",
    "OUTPUTS_FIG = Path(\"Data/output/figures\")\n",
    "OUTPUTS_CSV.mkdir(parents=True, exist_ok=True)\n",
    "OUTPUTS_FIG.mkdir(parents=True, exist_ok=True)\n",
    "\n",
    "# Load combined data\n",
    "try:\n",
    "    data = pd.read_csv(OUTPUTS_CSV / \"combined_sports_clean.csv\")\n",
    "except Exception:\n",
    "    # Fallback: try running-only df if present\n",
    "    data = 'df' in globals() and df.copy() or pd.DataFrame()\n",
    "\n",
    "if data is None or data.empty:\n",
    "    raise RuntimeError(\"No dataset found for plotting. Create combined_sports_clean.csv or load 'df'.\")\n",
    "\n",
    "# Distance vs Duration by sport\n",
    "# If your fields are named differently, rename below or adjust column checks.\n",
    "if {\"distance_km\",\"duration_min\",\"sport\"}.issubset(data.columns):\n",
    "    fig = plt.figure(figsize=(7,5))\n",
    "    for sp in sorted(set(data[\"sport\"].dropna())):\n",
    "        sub = data[data[\"sport\"]==sp]\n",
    "        plt.scatter(sub[\"distance_km\"], sub[\"duration_min\"], alpha=0.6, label=sp)\n",
    "    plt.xlabel(\"Distance (km)\"); plt.ylabel(\"Duration (min)\"); plt.title(\"Distance vs Duration (by sport)\")\n",
    "    plt.legend()\n",
    "    fig.savefig(OUTPUTS_FIG / \"pbi_distance_vs_duration.png\", bbox_inches=\"tight\")\n",
    "    print(\"Saved:\", (OUTPUTS_FIG / \"pbi_distance_vs_duration.png\").resolve())\n",
    "\n",
    "# HR vs Pace (running only)\n",
    "# If your HR column is named like \"Average Heart Rate\", map it to avg_hr earlier.\n",
    "if {\"avg_hr\",\"pace_min_per_km\",\"sport\"}.issubset(data.columns):\n",
    "    run = data[data[\"sport\"]==\"running\"].copy()\n",
    "    if not run.empty and run[\"pace_min_per_km\"].notna().any():\n",
    "        fig = plt.figure(figsize=(7,5))\n",
    "        plt.scatter(run[\"avg_hr\"], run[\"pace_min_per_km\"], alpha=0.6)\n",
    "        plt.xlabel(\"Average HR (bpm)\"); plt.ylabel(\"Pace (min/km)\"); plt.title(\"HR vs Pace (running)\")\n",
    "        fig.savefig(OUTPUTS_FIG / \"pbi_hr_vs_pace_running.png\", bbox_inches=\"tight\")\n",
    "        print(\"Saved:\", (OUTPUTS_FIG / \"pbi_hr_vs_pace_running.png\").resolve())\n"
   ]
  },
  {
   "cell_type": "markdown",
   "id": "7aad81fa",
   "metadata": {},
   "source": [
    "\n",
    "### Model Cards (Templates)\n",
    "\n",
    "**Fatigue (Baseline)**\n",
    "- **Data:** ImprovedData.xlsx (cleaned)\n",
    "- **Features:** Core numeric exercise metrics (distance, duration, HR, cadence) ± env placeholders\n",
    "- **Target:** `fatigue_score` (synthetic scaffold)\n",
    "- **Metrics:** MAE/MSE/R² (see `baseline_metrics.csv` and `env_comparison_metrics.csv`)\n",
    "- **Limitations:** Synthetic targets; no K-fold CV yet; environment variables synthetic\n",
    "\n",
    "**Injury (Baseline)**\n",
    "- **Data:** Combined or running-only numeric features\n",
    "- **Target:** `injury_flag` (synthetic scaffold)\n",
    "- **Metrics:** Accuracy / ROC-AUC\n",
    "- **Limitations:** Class imbalance, synthetic labels; requires real outcomes to be meaningful\n",
    "\n",
    "**Recovery (Baseline)**\n",
    "- **Data:** Combined or running-only numeric features\n",
    "- **Target:** `recovery_hours` (synthetic scaffold)\n",
    "- **Metrics:** MAE/MSE/R²\n",
    "- **Limitations:** Synthetic labels; expand features (e.g., sleep, soreness) when available\n"
   ]
  },
  {
   "cell_type": "markdown",
   "id": "b2722964",
   "metadata": {},
   "source": [
    "\n",
    "### Adapting This Notebook to Different Data\n",
    "\n",
    "- **Different folder layout?** Change the three paths near the **Quick Helper** cell or the global config cell.\n",
    "- **Different column names?** Update the `name_map` in the schema mapper code so your raw columns map into the unified schema.\n",
    "- **Missing key metrics?** Comment-out blocks that depend on them (e.g., HR vs Pace), or create placeholders until data is available.\n",
    "- **Have real labels (fatigue/injury/recovery)?** Remove the synthetic target generation and point the models to your real columns.\n",
    "- **Have real environment data?** Replace the synthetic env generator with your merged weather dataset and verify units/time alignment.\n",
    "\n"
   ]
  }
 ],
 "metadata": {
  "kernelspec": {
   "display_name": "Python 3 (ipykernel)",
   "language": "python",
   "name": "python3"
  },
  "language_info": {
   "codemirror_mode": {
    "name": "ipython",
    "version": 3
   },
   "file_extension": ".py",
   "mimetype": "text/x-python",
   "name": "python",
   "nbconvert_exporter": "python",
   "pygments_lexer": "ipython3",
   "version": "3.9.7"
  }
 },
 "nbformat": 4,
 "nbformat_minor": 5
}
