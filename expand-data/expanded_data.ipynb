{
 "cells": [
  {
   "cell_type": "code",
   "execution_count": 3,
   "id": "74eb19b9-3439-48fb-91ba-b2604d9eba69",
   "metadata": {},
   "outputs": [],
   "source": [
    "import pandas as pd\n",
    "import numpy as np\n",
    "from math import radians, sin, cos, asin, sqrt\n",
    "\n",
    "# Define function \n",
    "\n",
    "def hms_to_sec(hms: str) -> float:\n",
    "    \"\"\"Convert 'HH:MM:SS' → total seconds (or NaN if invalid).\"\"\"\n",
    "    try:\n",
    "        h, m, s = map(int, hms.split(':'))\n",
    "        return h * 3600 + m * 60 + s\n",
    "    except:\n",
    "        return np.nan\n",
    "\n",
    "def haversine_km(lat1, lon1, lat2, lon2) -> float:\n",
    "    \"\"\"Great-circle distance (km) between two lat/lon points.\"\"\"\n",
    "    lat1, lon1, lat2, lon2 = map(radians, [lat1, lon1, lat2, lon2])\n",
    "    dlat, dlon = lat2 - lat1, lon2 - lon1\n",
    "    a = sin(dlat/2)**2 + cos(lat1)*cos(lat2)*sin(dlon/2)**2\n",
    "    return 2 * 6371 * asin(sqrt(a))\n",
    "\n",
    "def heat_index_c(temp_c: float, humidity: float) -> float:\n",
    "    \"\"\"Approximate 'feels-like' temperature in °C.\"\"\"\n",
    "    return 0.5 * (temp_c + 61 + (temp_c - 68)*1.2 + humidity*0.094)\n"
   ]
  },
  {
   "cell_type": "code",
   "execution_count": 4,
   "id": "6050ce8c-3195-419a-a476-646b83127e39",
   "metadata": {},
   "outputs": [
    {
     "name": "stdout",
     "output_type": "stream",
     "text": [
      "✅ activities_expanded.csv written\n"
     ]
    },
    {
     "name": "stderr",
     "output_type": "stream",
     "text": [
      "C:\\Users\\billt\\AppData\\Local\\Temp\\ipykernel_15232\\1489096739.py:13: FutureWarning: A value is trying to be set on a copy of a DataFrame or Series through chained assignment using an inplace method.\n",
      "The behavior will change in pandas 3.0. This inplace method will never work because the intermediate object on which we are setting values always behaves as a copy.\n",
      "\n",
      "For example, when doing 'df[col].method(value, inplace=True)', try using 'df.method({col: value}, inplace=True)' or df[col] = df[col].method(value) instead, to perform the operation inplace on the original object.\n",
      "\n",
      "\n",
      "  df[\"pace_s_per_km\"].replace([np.inf, -np.inf], np.nan, inplace=True)\n",
      "C:\\Users\\billt\\AppData\\Local\\Temp\\ipykernel_15232\\1489096739.py:17: FutureWarning: A value is trying to be set on a copy of a DataFrame or Series through chained assignment using an inplace method.\n",
      "The behavior will change in pandas 3.0. This inplace method will never work because the intermediate object on which we are setting values always behaves as a copy.\n",
      "\n",
      "For example, when doing 'df[col].method(value, inplace=True)', try using 'df.method({col: value}, inplace=True)' or df[col] = df[col].method(value) instead, to perform the operation inplace on the original object.\n",
      "\n",
      "\n",
      "  df[\"elev_gain_per_km\"].replace([np.inf, -np.inf], np.nan, inplace=True)\n"
     ]
    }
   ],
   "source": [
    "# Load your data\n",
    "df = pd.read_csv(\"activities_cleaned.csv\")\n",
    "\n",
    "# Time‐based features\n",
    "df[\"Begin Timestamp\"] = pd.to_datetime(df[\"Begin Timestamp\"], dayfirst=True)\n",
    "df[\"dow\"]          = df[\"Begin Timestamp\"].dt.weekday\n",
    "df[\"hour_of_day\"]  = df[\"Begin Timestamp\"].dt.hour\n",
    "df[\"is_weekend\"]   = df[\"dow\"] >= 5\n",
    "\n",
    "# Duration & pace\n",
    "df[\"duration_s\"]        = df[\"Duration (h:m:s)\"].apply(hms_to_sec)\n",
    "df[\"pace_s_per_km\"]     = df[\"duration_s\"] / df[\"Distance (Raw)\"]\n",
    "df[\"pace_s_per_km\"].replace([np.inf, -np.inf], np.nan, inplace=True)\n",
    "\n",
    "# Elevation\n",
    "df[\"elev_gain_per_km\"]  = df[\"Elevation Gain (Raw)\"] / df[\"Distance (Raw)\"]\n",
    "df[\"elev_gain_per_km\"].replace([np.inf, -np.inf], np.nan, inplace=True)\n",
    "df[\"net_elev_change\"]   = df[\"Elevation Gain (Raw)\"] - df[\"Elevation Loss (Raw)\"]\n",
    "\n",
    "# Geometry\n",
    "df[\"start_end_dist_km\"] = df.apply(\n",
    "    lambda r: haversine_km(\n",
    "        r[\"Begin Latitude (Decimal Degrees Raw)\"],\n",
    "        r[\"Begin Longitude (Decimal Degrees Raw)\"],\n",
    "        r[\"End Latitude (Decimal Degrees Raw)\"],\n",
    "        r[\"End Longitude (Decimal Degrees Raw)\"],\n",
    "    ), axis=1\n",
    ")\n",
    "\n",
    "# Weather “feels like”\n",
    "df[\"heat_index\"]       = df.apply(\n",
    "    lambda r: heat_index_c(r[\"Temperature (Raw)\"], r[\"Humidity (Raw)\"]),\n",
    "    axis=1\n",
    ")\n",
    "\n",
    "# Save\n",
    "df.to_csv(\"activities_expanded.csv\", index=False)\n",
    "print(\"✅ activities_expanded.csv written\")\n"
   ]
  },
  {
   "cell_type": "code",
   "execution_count": null,
   "id": "88f07807-a4ad-4743-bc64-7f895930cf95",
   "metadata": {},
   "outputs": [],
   "source": []
  }
 ],
 "metadata": {
  "kernelspec": {
   "display_name": "Python 3 (ipykernel)",
   "language": "python",
   "name": "python3"
  },
  "language_info": {
   "codemirror_mode": {
    "name": "ipython",
    "version": 3
   },
   "file_extension": ".py",
   "mimetype": "text/x-python",
   "name": "python",
   "nbconvert_exporter": "python",
   "pygments_lexer": "ipython3",
   "version": "3.11.9"
  }
 },
 "nbformat": 4,
 "nbformat_minor": 5
}
