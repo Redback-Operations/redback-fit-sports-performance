{
 "cells": [
  {
   "cell_type": "markdown",
   "id": "8d7b7403-04ab-4f48-adc5-ce3bd302ce54",
   "metadata": {},
   "source": [
    "## Prediction\n",
    "\n",
    "This code provides a command-line interface for predicting recovery time based on exercise and sleep metrics. It begins by loading a pre-trained model from a file (`svr_model.pkl`) and defining a list of required features, including exercise duration, steps, calories, heart rate, and sleep efficiency. The `standardize()` function scales each feature using pre-defined training means and standard deviations to ensure consistency with the model's expectations. \n",
    "\n",
    "The main function, `predict_recovery()`, prompts the user to enter values for each feature, converting durations from minutes to milliseconds where necessary. It then standardizes the inputs and generates a recovery time prediction. The prediction is classified as faster, average, or slower recovery based on predefined thresholds. The code continuously runs this prediction loop until the user opts to exit.\n"
   ]
  },
  {
   "cell_type": "code",
   "execution_count": 1,
   "id": "098b99b7-8308-4d62-9d9c-5252df7788f6",
   "metadata": {},
   "outputs": [
    {
     "name": "stdout",
     "output_type": "stream",
     "text": [
      "Enter values for each feature (press Enter after each):\n"
     ]
    },
    {
     "name": "stdin",
     "output_type": "stream",
     "text": [
      "exercise_activeDuration_in_min:  41\n",
      "exercise_steps:  3035\n",
      "exercise_calories:  354\n",
      "exercise_elevationGain_in_m:  21.34\n",
      "exercise_averageHeartRate:  98\n",
      "sleep_duration_in_min:  430\n",
      "sleep_minutesAsleep:  378\n",
      "sleep_minutesAwake:  52\n",
      "sleep_efficiency:  97\n"
     ]
    },
    {
     "name": "stdout",
     "output_type": "stream",
     "text": [
      "\n",
      "Predicted Recovery Time: 20.65 hours\n",
      "(Average recovery time)\n",
      "\n",
      "==================================================\n",
      "\n"
     ]
    },
    {
     "name": "stdin",
     "output_type": "stream",
     "text": [
      "Make another prediction? (y/n):  n\n"
     ]
    }
   ],
   "source": [
    "import joblib\n",
    "import numpy as np\n",
    "import warnings\n",
    "from sklearn.exceptions import DataConversionWarning\n",
    "\n",
    "\n",
    "# Load the pre-trained model\n",
    "model = joblib.load('../3.ModelSelectionAndTraining/svr_model.pkl')\n",
    "\n",
    "# Feature names in the correct order\n",
    "features = [\n",
    "    'exercise_activeDuration_in_min',\n",
    "    'exercise_steps',\n",
    "    'exercise_calories',\n",
    "    'exercise_elevationGain_in_m',\n",
    "    'exercise_averageHeartRate',\n",
    "    'sleep_duration_in_min',\n",
    "    'sleep_minutesAsleep',\n",
    "    'sleep_minutesAwake',\n",
    "    'sleep_efficiency'\n",
    "]\n",
    "\n",
    "\n",
    "def standardize(values):\n",
    "    TRAINING_MEAN = [4410746.42, 6234.74, 637.47, 109.07, 114.49, 29467008.0, 428.43, 62.32, 94.56]\n",
    "    TRAINING_STD = [3991314.52, 4589.22, 479.17, 172.94, 18.41, 7647729.37, 109.3, 25.17, 4.99]\n",
    "    return np.array([(v - m)/s for v,m,s in zip(values, TRAINING_MEAN, TRAINING_STD)]).reshape(1, -1)\n",
    "\n",
    "def predict_recovery():\n",
    "    print(\"Enter values for each feature (press Enter after each):\")\n",
    "    \n",
    "    # Collect raw inputs\n",
    "    raw_values = []\n",
    "    for feature in features:\n",
    "        while True:\n",
    "            try:\n",
    "                if feature == \"exercise_activeDuration_in_min\" or feature == \"sleep_duration_in_min\":   \n",
    "                    value = float(input(f\"{feature}: \"))\n",
    "                    value = value * 60 * 1000 # Convert to ms\n",
    "                else:\n",
    "                    value = float(input(f\"{feature}: \"))\n",
    "                    \n",
    "                raw_values.append(value)\n",
    "                break\n",
    "            except ValueError:\n",
    "                print(\"Please enter a valid number\")\n",
    "    \n",
    "    # standardize\n",
    "    scaled_data = standardize(raw_values)\n",
    "    \n",
    "    # Make prediction\n",
    "    prediction = model.predict(scaled_data)[0]\n",
    "    \n",
    "    print(f\"\\nPredicted Recovery Time: {prediction:.2f} hours\")\n",
    "    \n",
    "    \n",
    "    # Simple interpretation\n",
    "    if prediction < 18:\n",
    "        print(\"(Faster than average recovery)\")\n",
    "    elif prediction > 25:\n",
    "        print(\"(Slower than average recovery)\")\n",
    "    else:\n",
    "        print(\"(Average recovery time)\")\n",
    "\n",
    "warnings.filterwarnings(\"ignore\", category=UserWarning)\n",
    "\n",
    "# Run Predictions\n",
    "while True:\n",
    "    predict_recovery()\n",
    "    print(\"\\n\" + \"=\"*50 + \"\\n\")\n",
    "    if input(\"Make another prediction? (y/n): \").lower() != 'y':\n",
    "        break"
   ]
  }
 ],
 "metadata": {
  "kernelspec": {
   "display_name": "Python 3 (ipykernel)",
   "language": "python",
   "name": "python3"
  },
  "language_info": {
   "codemirror_mode": {
    "name": "ipython",
    "version": 3
   },
   "file_extension": ".py",
   "mimetype": "text/x-python",
   "name": "python",
   "nbconvert_exporter": "python",
   "pygments_lexer": "ipython3",
   "version": "3.13.1"
  }
 },
 "nbformat": 4,
 "nbformat_minor": 5
}
