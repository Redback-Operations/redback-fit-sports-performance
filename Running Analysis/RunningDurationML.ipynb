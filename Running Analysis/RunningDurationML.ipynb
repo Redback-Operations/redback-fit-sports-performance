{
  "nbformat": 4,
  "nbformat_minor": 0,
  "metadata": {
    "colab": {
      "provenance": []
    },
    "kernelspec": {
      "name": "python3",
      "display_name": "Python 3"
    },
    "language_info": {
      "name": "python"
    }
  },
  "cells": [
    {
      "cell_type": "markdown",
      "source": [
        "**Predictive analysis for running duration using Pace, Elevation gain and Distance as the inputs**"
      ],
      "metadata": {
        "id": "OJKb4pqDqe5Z"
      }
    },
    {
      "cell_type": "markdown",
      "source": [
        "**Loading the necessary Libraries**"
      ],
      "metadata": {
        "id": "GiGeDL63rAWK"
      }
    },
    {
      "cell_type": "code",
      "execution_count": 80,
      "metadata": {
        "id": "n7i91bmuN_7G"
      },
      "outputs": [],
      "source": [
        "# We start by loading all the necessary libraries which will be used in this file\n",
        "import warnings\n",
        "warnings.filterwarnings('ignore')\n",
        "\n",
        "import pandas as pd\n",
        "import numpy as np\n",
        "import matplotlib.pyplot as plt\n",
        "from sklearn.model_selection import train_test_split\n",
        "from sklearn.preprocessing import StandardScaler\n",
        "from sklearn.metrics import mean_squared_error, r2_score\n",
        "from sklearn.ensemble import RandomForestRegressor\n",
        "from sklearn.linear_model import LinearRegression\n",
        "from sklearn.ensemble import GradientBoostingRegressor\n",
        "from sklearn.tree import DecisionTreeRegressor\n",
        "from sklearn.neighbors import KNeighborsRegressor"
      ]
    },
    {
      "cell_type": "markdown",
      "source": [
        "**Reading in our Dataset**"
      ],
      "metadata": {
        "id": "zQcMC9LyrGeE"
      }
    },
    {
      "cell_type": "code",
      "source": [
        "# We read in the CSV file using its URL as a dataframe\n",
        "url = 'https://raw.githubusercontent.com/redbackoperations/Projects/main/Sports%20Performance%20Analysis/frontend/Cycling%20Analysis/data/extended_activities.csv'\n",
        "df = pd.read_csv(url)\n",
        "\n",
        "# we print out the first few rows of the dataframe\n",
        "df.head()"
      ],
      "metadata": {
        "colab": {
          "base_uri": "https://localhost:8080/",
          "height": 457
        },
        "id": "Z9qtpdMMOSig",
        "outputId": "ad997f93-5a52-4754-e188-48a5d170e0f3"
      },
      "execution_count": 81,
      "outputs": [
        {
          "output_type": "execute_result",
          "data": {
            "text/plain": [
              "   Activity ID          Activity Date Activity Name Activity Type  \\\n",
              "0   2929442069  13 Dec 2019, 01:46:07    Lunch Ride          Ride   \n",
              "1   2945780637  20 Dec 2019, 23:05:01  Morning Ride          Ride   \n",
              "2   2948028275  21 Dec 2019, 23:25:29  Morning Ride          Ride   \n",
              "3   2952462113  24 Dec 2019, 01:19:17    Lunch Ride          Ride   \n",
              "4   2956494096  26 Dec 2019, 00:09:08    Lunch Ride          Ride   \n",
              "\n",
              "   Elapsed Time  Distance  Max Heart Rate  Relative Effort  Commute  \\\n",
              "0          3859     22.97           139.0             11.0    False   \n",
              "1          4852     29.65           133.0             12.0    False   \n",
              "2          5817     32.38           139.0             19.0    False   \n",
              "3          3851     21.68           140.0             11.0    False   \n",
              "4          5843     32.36           131.0             14.0    False   \n",
              "\n",
              "  Activity Gear  ... Maximum Power 10s  Maximum Power 30s  \\\n",
              "0           NaN  ...             412.9              342.1   \n",
              "1           NaN  ...             342.1              236.1   \n",
              "2           NaN  ...             390.5              265.1   \n",
              "3           NaN  ...             452.0              303.1   \n",
              "4           NaN  ...             342.9              243.9   \n",
              "\n",
              "   Maximum Power 1.0min  Maximum Power 5.0min  Maximum Power 10.0min  \\\n",
              "0                 221.2                 162.2                  136.3   \n",
              "1                 184.3                 150.6                  131.4   \n",
              "2                 213.3                 146.2                  135.1   \n",
              "3                 262.0                 161.9                  146.7   \n",
              "4                 208.3                 134.7                  124.0   \n",
              "\n",
              "   Maximum Power 20.0min  Maximum Power 30.0min  Maximum Power 1.0 hr  \\\n",
              "0                  120.8                  109.8                 105.4   \n",
              "1                  122.1                  120.3                 115.6   \n",
              "2                  127.5                  125.5                 110.2   \n",
              "3                  139.7                  134.0                 112.3   \n",
              "4                  119.4                  115.5                  99.8   \n",
              "\n",
              "   Maximum Power 1.5 hr  Maximum Power 2.0 hr  \n",
              "0                   0.0                   0.0  \n",
              "1                   0.0                   0.0  \n",
              "2                 104.7                   0.0  \n",
              "3                   0.0                   0.0  \n",
              "4                  96.9                   0.0  \n",
              "\n",
              "[5 rows x 49 columns]"
            ],
            "text/html": [
              "\n",
              "  <div id=\"df-e5af197d-4c13-4e30-b82a-fe392e2cd41f\" class=\"colab-df-container\">\n",
              "    <div>\n",
              "<style scoped>\n",
              "    .dataframe tbody tr th:only-of-type {\n",
              "        vertical-align: middle;\n",
              "    }\n",
              "\n",
              "    .dataframe tbody tr th {\n",
              "        vertical-align: top;\n",
              "    }\n",
              "\n",
              "    .dataframe thead th {\n",
              "        text-align: right;\n",
              "    }\n",
              "</style>\n",
              "<table border=\"1\" class=\"dataframe\">\n",
              "  <thead>\n",
              "    <tr style=\"text-align: right;\">\n",
              "      <th></th>\n",
              "      <th>Activity ID</th>\n",
              "      <th>Activity Date</th>\n",
              "      <th>Activity Name</th>\n",
              "      <th>Activity Type</th>\n",
              "      <th>Elapsed Time</th>\n",
              "      <th>Distance</th>\n",
              "      <th>Max Heart Rate</th>\n",
              "      <th>Relative Effort</th>\n",
              "      <th>Commute</th>\n",
              "      <th>Activity Gear</th>\n",
              "      <th>...</th>\n",
              "      <th>Maximum Power 10s</th>\n",
              "      <th>Maximum Power 30s</th>\n",
              "      <th>Maximum Power 1.0min</th>\n",
              "      <th>Maximum Power 5.0min</th>\n",
              "      <th>Maximum Power 10.0min</th>\n",
              "      <th>Maximum Power 20.0min</th>\n",
              "      <th>Maximum Power 30.0min</th>\n",
              "      <th>Maximum Power 1.0 hr</th>\n",
              "      <th>Maximum Power 1.5 hr</th>\n",
              "      <th>Maximum Power 2.0 hr</th>\n",
              "    </tr>\n",
              "  </thead>\n",
              "  <tbody>\n",
              "    <tr>\n",
              "      <th>0</th>\n",
              "      <td>2929442069</td>\n",
              "      <td>13 Dec 2019, 01:46:07</td>\n",
              "      <td>Lunch Ride</td>\n",
              "      <td>Ride</td>\n",
              "      <td>3859</td>\n",
              "      <td>22.97</td>\n",
              "      <td>139.0</td>\n",
              "      <td>11.0</td>\n",
              "      <td>False</td>\n",
              "      <td>NaN</td>\n",
              "      <td>...</td>\n",
              "      <td>412.9</td>\n",
              "      <td>342.1</td>\n",
              "      <td>221.2</td>\n",
              "      <td>162.2</td>\n",
              "      <td>136.3</td>\n",
              "      <td>120.8</td>\n",
              "      <td>109.8</td>\n",
              "      <td>105.4</td>\n",
              "      <td>0.0</td>\n",
              "      <td>0.0</td>\n",
              "    </tr>\n",
              "    <tr>\n",
              "      <th>1</th>\n",
              "      <td>2945780637</td>\n",
              "      <td>20 Dec 2019, 23:05:01</td>\n",
              "      <td>Morning Ride</td>\n",
              "      <td>Ride</td>\n",
              "      <td>4852</td>\n",
              "      <td>29.65</td>\n",
              "      <td>133.0</td>\n",
              "      <td>12.0</td>\n",
              "      <td>False</td>\n",
              "      <td>NaN</td>\n",
              "      <td>...</td>\n",
              "      <td>342.1</td>\n",
              "      <td>236.1</td>\n",
              "      <td>184.3</td>\n",
              "      <td>150.6</td>\n",
              "      <td>131.4</td>\n",
              "      <td>122.1</td>\n",
              "      <td>120.3</td>\n",
              "      <td>115.6</td>\n",
              "      <td>0.0</td>\n",
              "      <td>0.0</td>\n",
              "    </tr>\n",
              "    <tr>\n",
              "      <th>2</th>\n",
              "      <td>2948028275</td>\n",
              "      <td>21 Dec 2019, 23:25:29</td>\n",
              "      <td>Morning Ride</td>\n",
              "      <td>Ride</td>\n",
              "      <td>5817</td>\n",
              "      <td>32.38</td>\n",
              "      <td>139.0</td>\n",
              "      <td>19.0</td>\n",
              "      <td>False</td>\n",
              "      <td>NaN</td>\n",
              "      <td>...</td>\n",
              "      <td>390.5</td>\n",
              "      <td>265.1</td>\n",
              "      <td>213.3</td>\n",
              "      <td>146.2</td>\n",
              "      <td>135.1</td>\n",
              "      <td>127.5</td>\n",
              "      <td>125.5</td>\n",
              "      <td>110.2</td>\n",
              "      <td>104.7</td>\n",
              "      <td>0.0</td>\n",
              "    </tr>\n",
              "    <tr>\n",
              "      <th>3</th>\n",
              "      <td>2952462113</td>\n",
              "      <td>24 Dec 2019, 01:19:17</td>\n",
              "      <td>Lunch Ride</td>\n",
              "      <td>Ride</td>\n",
              "      <td>3851</td>\n",
              "      <td>21.68</td>\n",
              "      <td>140.0</td>\n",
              "      <td>11.0</td>\n",
              "      <td>False</td>\n",
              "      <td>NaN</td>\n",
              "      <td>...</td>\n",
              "      <td>452.0</td>\n",
              "      <td>303.1</td>\n",
              "      <td>262.0</td>\n",
              "      <td>161.9</td>\n",
              "      <td>146.7</td>\n",
              "      <td>139.7</td>\n",
              "      <td>134.0</td>\n",
              "      <td>112.3</td>\n",
              "      <td>0.0</td>\n",
              "      <td>0.0</td>\n",
              "    </tr>\n",
              "    <tr>\n",
              "      <th>4</th>\n",
              "      <td>2956494096</td>\n",
              "      <td>26 Dec 2019, 00:09:08</td>\n",
              "      <td>Lunch Ride</td>\n",
              "      <td>Ride</td>\n",
              "      <td>5843</td>\n",
              "      <td>32.36</td>\n",
              "      <td>131.0</td>\n",
              "      <td>14.0</td>\n",
              "      <td>False</td>\n",
              "      <td>NaN</td>\n",
              "      <td>...</td>\n",
              "      <td>342.9</td>\n",
              "      <td>243.9</td>\n",
              "      <td>208.3</td>\n",
              "      <td>134.7</td>\n",
              "      <td>124.0</td>\n",
              "      <td>119.4</td>\n",
              "      <td>115.5</td>\n",
              "      <td>99.8</td>\n",
              "      <td>96.9</td>\n",
              "      <td>0.0</td>\n",
              "    </tr>\n",
              "  </tbody>\n",
              "</table>\n",
              "<p>5 rows × 49 columns</p>\n",
              "</div>\n",
              "    <div class=\"colab-df-buttons\">\n",
              "\n",
              "  <div class=\"colab-df-container\">\n",
              "    <button class=\"colab-df-convert\" onclick=\"convertToInteractive('df-e5af197d-4c13-4e30-b82a-fe392e2cd41f')\"\n",
              "            title=\"Convert this dataframe to an interactive table.\"\n",
              "            style=\"display:none;\">\n",
              "\n",
              "  <svg xmlns=\"http://www.w3.org/2000/svg\" height=\"24px\" viewBox=\"0 -960 960 960\">\n",
              "    <path d=\"M120-120v-720h720v720H120Zm60-500h600v-160H180v160Zm220 220h160v-160H400v160Zm0 220h160v-160H400v160ZM180-400h160v-160H180v160Zm440 0h160v-160H620v160ZM180-180h160v-160H180v160Zm440 0h160v-160H620v160Z\"/>\n",
              "  </svg>\n",
              "    </button>\n",
              "\n",
              "  <style>\n",
              "    .colab-df-container {\n",
              "      display:flex;\n",
              "      gap: 12px;\n",
              "    }\n",
              "\n",
              "    .colab-df-convert {\n",
              "      background-color: #E8F0FE;\n",
              "      border: none;\n",
              "      border-radius: 50%;\n",
              "      cursor: pointer;\n",
              "      display: none;\n",
              "      fill: #1967D2;\n",
              "      height: 32px;\n",
              "      padding: 0 0 0 0;\n",
              "      width: 32px;\n",
              "    }\n",
              "\n",
              "    .colab-df-convert:hover {\n",
              "      background-color: #E2EBFA;\n",
              "      box-shadow: 0px 1px 2px rgba(60, 64, 67, 0.3), 0px 1px 3px 1px rgba(60, 64, 67, 0.15);\n",
              "      fill: #174EA6;\n",
              "    }\n",
              "\n",
              "    .colab-df-buttons div {\n",
              "      margin-bottom: 4px;\n",
              "    }\n",
              "\n",
              "    [theme=dark] .colab-df-convert {\n",
              "      background-color: #3B4455;\n",
              "      fill: #D2E3FC;\n",
              "    }\n",
              "\n",
              "    [theme=dark] .colab-df-convert:hover {\n",
              "      background-color: #434B5C;\n",
              "      box-shadow: 0px 1px 3px 1px rgba(0, 0, 0, 0.15);\n",
              "      filter: drop-shadow(0px 1px 2px rgba(0, 0, 0, 0.3));\n",
              "      fill: #FFFFFF;\n",
              "    }\n",
              "  </style>\n",
              "\n",
              "    <script>\n",
              "      const buttonEl =\n",
              "        document.querySelector('#df-e5af197d-4c13-4e30-b82a-fe392e2cd41f button.colab-df-convert');\n",
              "      buttonEl.style.display =\n",
              "        google.colab.kernel.accessAllowed ? 'block' : 'none';\n",
              "\n",
              "      async function convertToInteractive(key) {\n",
              "        const element = document.querySelector('#df-e5af197d-4c13-4e30-b82a-fe392e2cd41f');\n",
              "        const dataTable =\n",
              "          await google.colab.kernel.invokeFunction('convertToInteractive',\n",
              "                                                    [key], {});\n",
              "        if (!dataTable) return;\n",
              "\n",
              "        const docLinkHtml = 'Like what you see? Visit the ' +\n",
              "          '<a target=\"_blank\" href=https://colab.research.google.com/notebooks/data_table.ipynb>data table notebook</a>'\n",
              "          + ' to learn more about interactive tables.';\n",
              "        element.innerHTML = '';\n",
              "        dataTable['output_type'] = 'display_data';\n",
              "        await google.colab.output.renderOutput(dataTable, element);\n",
              "        const docLink = document.createElement('div');\n",
              "        docLink.innerHTML = docLinkHtml;\n",
              "        element.appendChild(docLink);\n",
              "      }\n",
              "    </script>\n",
              "  </div>\n",
              "\n",
              "\n",
              "<div id=\"df-fa554eea-1c5a-42aa-b80c-810cabac3dc8\">\n",
              "  <button class=\"colab-df-quickchart\" onclick=\"quickchart('df-fa554eea-1c5a-42aa-b80c-810cabac3dc8')\"\n",
              "            title=\"Suggest charts\"\n",
              "            style=\"display:none;\">\n",
              "\n",
              "<svg xmlns=\"http://www.w3.org/2000/svg\" height=\"24px\"viewBox=\"0 0 24 24\"\n",
              "     width=\"24px\">\n",
              "    <g>\n",
              "        <path d=\"M19 3H5c-1.1 0-2 .9-2 2v14c0 1.1.9 2 2 2h14c1.1 0 2-.9 2-2V5c0-1.1-.9-2-2-2zM9 17H7v-7h2v7zm4 0h-2V7h2v10zm4 0h-2v-4h2v4z\"/>\n",
              "    </g>\n",
              "</svg>\n",
              "  </button>\n",
              "\n",
              "<style>\n",
              "  .colab-df-quickchart {\n",
              "      --bg-color: #E8F0FE;\n",
              "      --fill-color: #1967D2;\n",
              "      --hover-bg-color: #E2EBFA;\n",
              "      --hover-fill-color: #174EA6;\n",
              "      --disabled-fill-color: #AAA;\n",
              "      --disabled-bg-color: #DDD;\n",
              "  }\n",
              "\n",
              "  [theme=dark] .colab-df-quickchart {\n",
              "      --bg-color: #3B4455;\n",
              "      --fill-color: #D2E3FC;\n",
              "      --hover-bg-color: #434B5C;\n",
              "      --hover-fill-color: #FFFFFF;\n",
              "      --disabled-bg-color: #3B4455;\n",
              "      --disabled-fill-color: #666;\n",
              "  }\n",
              "\n",
              "  .colab-df-quickchart {\n",
              "    background-color: var(--bg-color);\n",
              "    border: none;\n",
              "    border-radius: 50%;\n",
              "    cursor: pointer;\n",
              "    display: none;\n",
              "    fill: var(--fill-color);\n",
              "    height: 32px;\n",
              "    padding: 0;\n",
              "    width: 32px;\n",
              "  }\n",
              "\n",
              "  .colab-df-quickchart:hover {\n",
              "    background-color: var(--hover-bg-color);\n",
              "    box-shadow: 0 1px 2px rgba(60, 64, 67, 0.3), 0 1px 3px 1px rgba(60, 64, 67, 0.15);\n",
              "    fill: var(--button-hover-fill-color);\n",
              "  }\n",
              "\n",
              "  .colab-df-quickchart-complete:disabled,\n",
              "  .colab-df-quickchart-complete:disabled:hover {\n",
              "    background-color: var(--disabled-bg-color);\n",
              "    fill: var(--disabled-fill-color);\n",
              "    box-shadow: none;\n",
              "  }\n",
              "\n",
              "  .colab-df-spinner {\n",
              "    border: 2px solid var(--fill-color);\n",
              "    border-color: transparent;\n",
              "    border-bottom-color: var(--fill-color);\n",
              "    animation:\n",
              "      spin 1s steps(1) infinite;\n",
              "  }\n",
              "\n",
              "  @keyframes spin {\n",
              "    0% {\n",
              "      border-color: transparent;\n",
              "      border-bottom-color: var(--fill-color);\n",
              "      border-left-color: var(--fill-color);\n",
              "    }\n",
              "    20% {\n",
              "      border-color: transparent;\n",
              "      border-left-color: var(--fill-color);\n",
              "      border-top-color: var(--fill-color);\n",
              "    }\n",
              "    30% {\n",
              "      border-color: transparent;\n",
              "      border-left-color: var(--fill-color);\n",
              "      border-top-color: var(--fill-color);\n",
              "      border-right-color: var(--fill-color);\n",
              "    }\n",
              "    40% {\n",
              "      border-color: transparent;\n",
              "      border-right-color: var(--fill-color);\n",
              "      border-top-color: var(--fill-color);\n",
              "    }\n",
              "    60% {\n",
              "      border-color: transparent;\n",
              "      border-right-color: var(--fill-color);\n",
              "    }\n",
              "    80% {\n",
              "      border-color: transparent;\n",
              "      border-right-color: var(--fill-color);\n",
              "      border-bottom-color: var(--fill-color);\n",
              "    }\n",
              "    90% {\n",
              "      border-color: transparent;\n",
              "      border-bottom-color: var(--fill-color);\n",
              "    }\n",
              "  }\n",
              "</style>\n",
              "\n",
              "  <script>\n",
              "    async function quickchart(key) {\n",
              "      const quickchartButtonEl =\n",
              "        document.querySelector('#' + key + ' button');\n",
              "      quickchartButtonEl.disabled = true;  // To prevent multiple clicks.\n",
              "      quickchartButtonEl.classList.add('colab-df-spinner');\n",
              "      try {\n",
              "        const charts = await google.colab.kernel.invokeFunction(\n",
              "            'suggestCharts', [key], {});\n",
              "      } catch (error) {\n",
              "        console.error('Error during call to suggestCharts:', error);\n",
              "      }\n",
              "      quickchartButtonEl.classList.remove('colab-df-spinner');\n",
              "      quickchartButtonEl.classList.add('colab-df-quickchart-complete');\n",
              "    }\n",
              "    (() => {\n",
              "      let quickchartButtonEl =\n",
              "        document.querySelector('#df-fa554eea-1c5a-42aa-b80c-810cabac3dc8 button');\n",
              "      quickchartButtonEl.style.display =\n",
              "        google.colab.kernel.accessAllowed ? 'block' : 'none';\n",
              "    })();\n",
              "  </script>\n",
              "</div>\n",
              "\n",
              "    </div>\n",
              "  </div>\n"
            ],
            "application/vnd.google.colaboratory.intrinsic+json": {
              "type": "dataframe",
              "variable_name": "df"
            }
          },
          "metadata": {},
          "execution_count": 81
        }
      ]
    },
    {
      "cell_type": "markdown",
      "source": [
        "**Creating a new dataframe for Running data**"
      ],
      "metadata": {
        "id": "PzjrdC-UrLG9"
      }
    },
    {
      "cell_type": "code",
      "source": [
        "# We create a new dataframe out of the actual one where we only store the relevant running data and display the variable information\n",
        "df_run = df[df['Activity Type'] == 'Run']\n",
        "df_run.info()"
      ],
      "metadata": {
        "colab": {
          "base_uri": "https://localhost:8080/"
        },
        "id": "fuHuqNv6Olbm",
        "outputId": "e6530fa6-3eef-4516-9085-207e9430f2fa"
      },
      "execution_count": 82,
      "outputs": [
        {
          "output_type": "stream",
          "name": "stdout",
          "text": [
            "<class 'pandas.core.frame.DataFrame'>\n",
            "Index: 164 entries, 89 to 344\n",
            "Data columns (total 49 columns):\n",
            " #   Column                     Non-Null Count  Dtype  \n",
            "---  ------                     --------------  -----  \n",
            " 0   Activity ID                164 non-null    int64  \n",
            " 1   Activity Date              164 non-null    object \n",
            " 2   Activity Name              164 non-null    object \n",
            " 3   Activity Type              164 non-null    object \n",
            " 4   Elapsed Time               164 non-null    int64  \n",
            " 5   Distance                   164 non-null    float64\n",
            " 6   Max Heart Rate             164 non-null    float64\n",
            " 7   Relative Effort            164 non-null    float64\n",
            " 8   Commute                    164 non-null    bool   \n",
            " 9   Activity Gear              0 non-null      object \n",
            " 10  Filename                   164 non-null    object \n",
            " 11  Athlete Weight             0 non-null      float64\n",
            " 12  Bike Weight                0 non-null      float64\n",
            " 13  Moving Time                164 non-null    float64\n",
            " 14  Max Speed                  164 non-null    float64\n",
            " 15  Average Speed              164 non-null    float64\n",
            " 16  Elevation Gain             164 non-null    float64\n",
            " 17  Elevation Loss             163 non-null    float64\n",
            " 18  Elevation Low              163 non-null    float64\n",
            " 19  Elevation High             163 non-null    float64\n",
            " 20  Max Grade                  164 non-null    float64\n",
            " 21  Average Grade              164 non-null    float64\n",
            " 22  Max Cadence                164 non-null    float64\n",
            " 23  Average Cadence            164 non-null    float64\n",
            " 24  Average Heart Rate         164 non-null    float64\n",
            " 25  Average Watts              164 non-null    float64\n",
            " 26  Calories                   164 non-null    float64\n",
            " 27  Average Temperature        9 non-null      float64\n",
            " 28  Total Work                 17 non-null     float64\n",
            " 29  Perceived Exertion         0 non-null      float64\n",
            " 30  Weighted Average Power     164 non-null    float64\n",
            " 31  Power Count                164 non-null    float64\n",
            " 32  Prefer Perceived Exertion  0 non-null      float64\n",
            " 33  Perceived Relative Effort  0 non-null      float64\n",
            " 34  Grade Adjusted Distance    163 non-null    float64\n",
            " 35  Average Elapsed Speed      164 non-null    float64\n",
            " 36  Dirt Distance              164 non-null    float64\n",
            " 37  Total Steps                8 non-null      float64\n",
            " 38  Maximum Power 5s           164 non-null    float64\n",
            " 39  Maximum Power 10s          164 non-null    float64\n",
            " 40  Maximum Power 30s          164 non-null    float64\n",
            " 41  Maximum Power 1.0min       164 non-null    float64\n",
            " 42  Maximum Power 5.0min       164 non-null    float64\n",
            " 43  Maximum Power 10.0min      164 non-null    float64\n",
            " 44  Maximum Power 20.0min      164 non-null    float64\n",
            " 45  Maximum Power 30.0min      164 non-null    float64\n",
            " 46  Maximum Power 1.0 hr       164 non-null    float64\n",
            " 47  Maximum Power 1.5 hr       164 non-null    float64\n",
            " 48  Maximum Power 2.0 hr       164 non-null    float64\n",
            "dtypes: bool(1), float64(41), int64(2), object(5)\n",
            "memory usage: 62.9+ KB\n"
          ]
        }
      ]
    },
    {
      "cell_type": "markdown",
      "source": [
        "**Calculating the Pace and splitting the data for Training and Testing**"
      ],
      "metadata": {
        "id": "WQovJJxjrTkp"
      }
    },
    {
      "cell_type": "code",
      "source": [
        "# We calculate the pace using the elapsed time divided by the distance run in Minutes per kilometer\n",
        "df_run['Pace'] = (df_run['Elapsed Time'] / 60) / df_run['Distance']\n",
        "\n",
        "# We split our features and the targets and create the training and testing sets\n",
        "X = df_run[['Distance', 'Pace']]\n",
        "y = df_run['Moving Time']\n",
        "X_train, X_test, y_train, y_test = train_test_split(X, y, test_size=0.2, random_state=1)\n",
        "\n",
        "# We use a standard scaler on our sets created above\n",
        "scaler = StandardScaler()\n",
        "X_train_scaled = scaler.fit_transform(X_train)\n",
        "X_test_scaled = scaler.transform(X_test)"
      ],
      "metadata": {
        "id": "ocZ6qMnXYXg3"
      },
      "execution_count": 83,
      "outputs": []
    },
    {
      "cell_type": "markdown",
      "source": [
        "**Linear Regression Model**"
      ],
      "metadata": {
        "id": "uYVnwlpyrcBk"
      }
    },
    {
      "cell_type": "markdown",
      "source": [
        "A linear regression model is a statistical technique used for modeling the relationship between a dependent variable and one or more independent variables by fitting a linear equation to observed data. The model assumes a linear relationship between the independent variables and the dependent variable, represented by a straight line in a multidimensional space. The goal of linear regression is to find the coefficients of the linear equation that best fit the observed data, minimizing the difference between the actual and predicted values."
      ],
      "metadata": {
        "id": "0HuJeJf9svuW"
      }
    },
    {
      "cell_type": "code",
      "source": [
        "# We initialize the LinearRegression model\n",
        "linear_model = LinearRegression()\n",
        "\n",
        "# We fit the model to the training data\n",
        "linear_model.fit(X_train, y_train)\n",
        "\n",
        "# We make predictions on the testing set\n",
        "linear_y_pred = linear_model.predict(X_test)\n",
        "\n",
        "# We calculate evaluation metrics\n",
        "linear_mse = mean_squared_error(y_test, linear_y_pred)\n",
        "linear_rmse = np.sqrt(linear_mse)\n",
        "linear_r2 = r2_score(y_test, linear_y_pred)\n",
        "\n",
        "# We print out the key metrics\n",
        "print(f\"Linear Regression RMSE: {round(linear_rmse, 4)}\")\n",
        "print(f\"Linear Regression R2: {round(linear_r2, 4)}\")"
      ],
      "metadata": {
        "colab": {
          "base_uri": "https://localhost:8080/"
        },
        "id": "XejC8I3xYaOQ",
        "outputId": "c95d3865-b461-43be-e18a-9722ba9e8bd9"
      },
      "execution_count": 84,
      "outputs": [
        {
          "output_type": "stream",
          "name": "stdout",
          "text": [
            "Linear Regression RMSE: 120.8813\n",
            "Linear Regression R2: 0.9955\n"
          ]
        }
      ]
    },
    {
      "cell_type": "markdown",
      "source": [
        "**Random Forest Model**"
      ],
      "metadata": {
        "id": "Gv2JbDEsrgPZ"
      }
    },
    {
      "cell_type": "markdown",
      "source": [
        "A random forest model is an ensemble learning technique that combines multiple decision trees to create a robust predictive model. Each decision tree is trained on a random subset of the training data and a random subset of features, resulting in a diverse set of trees. During prediction, the random forest aggregates the predictions of individual trees to make a final prediction. This ensemble approach helps to reduce overfitting and improve generalization performance."
      ],
      "metadata": {
        "id": "dJinU--3sx1_"
      }
    },
    {
      "cell_type": "code",
      "source": [
        "# We initialise the RandomForestRegressor\n",
        "rf_model = RandomForestRegressor(random_state=42, n_estimators=100, max_depth=10, min_samples_split=2, min_samples_leaf=1)\n",
        "\n",
        "# We fit the model to the training data\n",
        "rf_model.fit(X_train, y_train)\n",
        "\n",
        "# We make predictions on the testing set\n",
        "rf_y_pred = rf_model.predict(X_test)\n",
        "\n",
        "# We calculate evaluation metrics\n",
        "rf_mse = mean_squared_error(y_test, rf_y_pred)\n",
        "rf_rmse = np.sqrt(rf_mse)\n",
        "rf_r2 = r2_score(y_test, rf_y_pred)\n",
        "\n",
        "# We print out the key metrics\n",
        "print(f\"Random Forest RMSE: {round(rf_rmse, 4)}\")\n",
        "print(f\"Random Forest R2: {round(rf_r2, 4)}\")"
      ],
      "metadata": {
        "colab": {
          "base_uri": "https://localhost:8080/"
        },
        "id": "fHC5irvwYoye",
        "outputId": "8106d784-a441-402f-dd5a-4bb255e0cebf"
      },
      "execution_count": 85,
      "outputs": [
        {
          "output_type": "stream",
          "name": "stdout",
          "text": [
            "Random Forest RMSE: 97.902\n",
            "Random Forest R2: 0.9971\n"
          ]
        }
      ]
    },
    {
      "cell_type": "markdown",
      "source": [
        "**Gradient Boost Regression Model**"
      ],
      "metadata": {
        "id": "Klqc_eEYrkwq"
      }
    },
    {
      "cell_type": "markdown",
      "source": [
        "A gradient boosting model is an ensemble learning technique that combines multiple weak learners, typically decision trees, to create a strong predictive model. Unlike random forests, gradient boosting builds trees sequentially, with each tree trained to correct the errors made by the previous tree. In essence, each new tree focuses on capturing the remaining errors or residuals of the ensemble, gradually improving the overall model's performance."
      ],
      "metadata": {
        "id": "yyUdU9Wds6tp"
      }
    },
    {
      "cell_type": "code",
      "source": [
        "# We initialize the GradientBoostingRegressor\n",
        "gb_model = GradientBoostingRegressor(random_state=42, n_estimators=100, max_depth=3, learning_rate=0.1, min_samples_split=2, min_samples_leaf=1)\n",
        "\n",
        "# We fit the model to the training data\n",
        "gb_model.fit(X_train, y_train)\n",
        "\n",
        "# We make predictions on the testing set\n",
        "gb_y_pred = gb_model.predict(X_test)\n",
        "\n",
        "# We calculate evaluation metrics\n",
        "gb_mse = mean_squared_error(y_test, gb_y_pred)\n",
        "gb_rmse = np.sqrt(gb_mse)\n",
        "gb_r2 = r2_score(y_test, gb_y_pred)\n",
        "\n",
        "# We print out the key metrics\n",
        "print(f\"Gradient Boosting RMSE: {round(gb_rmse, 4)}\")\n",
        "print(f\"Gradient Boosting R2: {round(gb_r2, 4)}\")"
      ],
      "metadata": {
        "colab": {
          "base_uri": "https://localhost:8080/"
        },
        "id": "UsHiY7TyaW_l",
        "outputId": "322b34bb-0c6d-4e66-a4f7-0eae4bec799d"
      },
      "execution_count": 86,
      "outputs": [
        {
          "output_type": "stream",
          "name": "stdout",
          "text": [
            "Gradient Boosting RMSE: 151.57\n",
            "Gradient Boosting R2: 0.993\n"
          ]
        }
      ]
    },
    {
      "cell_type": "markdown",
      "source": [
        "**Decision Tree Model**"
      ],
      "metadata": {
        "id": "h7pp2bJjrqI6"
      }
    },
    {
      "cell_type": "markdown",
      "source": [
        "A decision tree model is a supervised learning algorithm used for both classification and regression tasks. It recursively partitions the feature space into smaller subsets based on the values of input features, aiming to create homogeneous groups with respect to the target variable. Each partitioning decision is made by selecting the feature and split point that maximizes the purity or reduces the impurity of the resulting subsets."
      ],
      "metadata": {
        "id": "dv0KXJZ9tECY"
      }
    },
    {
      "cell_type": "code",
      "source": [
        "# We initialize the DecisionTreeRegressor\n",
        "tree_model = DecisionTreeRegressor(random_state=42, max_depth=5)\n",
        "\n",
        "# We fit the model to the training data\n",
        "tree_model.fit(X_train, y_train)\n",
        "\n",
        "# We make predictions on the testing set\n",
        "tree_y_pred = tree_model.predict(X_test)\n",
        "\n",
        "# We calculate evaluation metrics\n",
        "tree_mse = mean_squared_error(y_test, tree_y_pred)\n",
        "tree_rmse = np.sqrt(tree_mse)\n",
        "tree_r2 = r2_score(y_test, tree_y_pred)\n",
        "\n",
        "# We print out the key metrics\n",
        "print(f\"Decision Tree RMSE: {round(tree_rmse, 4)}\")\n",
        "print(f\"Decision Tree R2: {round(tree_r2, 4)}\")"
      ],
      "metadata": {
        "colab": {
          "base_uri": "https://localhost:8080/"
        },
        "id": "hRS9IJ2FdE7p",
        "outputId": "e4156f66-5810-4290-c59b-69efb123bebe"
      },
      "execution_count": 87,
      "outputs": [
        {
          "output_type": "stream",
          "name": "stdout",
          "text": [
            "Decision Tree RMSE: 280.1819\n",
            "Decision Tree R2: 0.9759\n"
          ]
        }
      ]
    },
    {
      "cell_type": "markdown",
      "source": [
        "**K-Nearest Neighbours Model**"
      ],
      "metadata": {
        "id": "FKqMlg_8rt5z"
      }
    },
    {
      "cell_type": "markdown",
      "source": [
        "A K-Nearest Neighbors (KNN) model is a non-parametric supervised learning algorithm used for both classification and regression tasks. In KNN, the prediction for a new data point is made by averaging or voting among its K nearest neighbors in the feature space, where K is a hyperparameter chosen by the user. The algorithm does not learn a model during training but instead memorizes the training dataset."
      ],
      "metadata": {
        "id": "mUdVouSPtMMY"
      }
    },
    {
      "cell_type": "code",
      "source": [
        "# We initialize the KNeighborsRegressor model\n",
        "knn_model = KNeighborsRegressor(n_neighbors=5)\n",
        "\n",
        "# We fit the model to the training data\n",
        "knn_model.fit(X_train, y_train)\n",
        "\n",
        "# We make predictions on the testing set\n",
        "knn_y_pred = knn_model.predict(X_test)\n",
        "\n",
        "# We calculate evaluation metrics\n",
        "knn_mse = mean_squared_error(y_test, knn_y_pred)\n",
        "knn_rmse = np.sqrt(knn_mse)\n",
        "knn_r2 = r2_score(y_test, knn_y_pred)\n",
        "\n",
        "# We print out the key metrics\n",
        "print(f\"KNN RMSE: {round(knn_rmse, 4)}\")\n",
        "print(f\"KNN R2: {round(knn_r2, 4)}\")"
      ],
      "metadata": {
        "colab": {
          "base_uri": "https://localhost:8080/"
        },
        "id": "vTiUQQcOdXNb",
        "outputId": "30ee089a-984f-4c5e-bbd0-9da9cab388e8"
      },
      "execution_count": 88,
      "outputs": [
        {
          "output_type": "stream",
          "name": "stdout",
          "text": [
            "KNN RMSE: 159.5176\n",
            "KNN R2: 0.9922\n"
          ]
        }
      ]
    },
    {
      "cell_type": "markdown",
      "source": [
        "**Comparing the models using Actual vs Predicted duration and the Residuals**"
      ],
      "metadata": {
        "id": "9mBRFD3nryP5"
      }
    },
    {
      "cell_type": "markdown",
      "source": [
        "The \"Actual vs Predicted\" duration plot visually compares the actual values of the target variable (in this case, running duration) against the predicted values generated by a regression model. Each data point on the plot represents an observation from the test set, where the x-axis represents the actual running duration, and the y-axis represents the predicted running duration. Ideally, in a perfect model, all data points would lie on a diagonal line with a slope of 1, indicating perfect prediction.\n",
        "\n",
        "The \"Residuals\" plot, on the other hand, shows the distribution of the differences between the actual and predicted values, known as residuals. Each residual represents the error in the prediction made by the model for a particular observation. The x-axis of the plot represents the values of the residuals, while the y-axis represents the frequency of occurrence of each residual value. A histogram is often used to visualize the distribution of residuals, providing insights into the model's performance. Ideally, the residuals should be normally distributed around zero."
      ],
      "metadata": {
        "id": "9-O7vpKjuDeW"
      }
    },
    {
      "cell_type": "code",
      "source": [
        "# We create a scatter plot of actual vs predicted running durations\n",
        "plt.figure(figsize=(12, 8))\n",
        "plt.scatter(y_test, linear_y_pred, alpha=0.5, color='blue', label='Linear Regression')\n",
        "plt.scatter(y_test, tree_y_pred, alpha=0.5, color='green', label='Decision Tree')\n",
        "plt.scatter(y_test, rf_y_pred, alpha=0.5, color='red', label='Random Forest')\n",
        "plt.scatter(y_test, gb_y_pred, alpha=0.5, color='orange', label='Gradient Boosting')\n",
        "plt.scatter(y_test, knn_y_pred, alpha=0.5, color='cyan', label='KNN')\n",
        "plt.plot([y_test.min(), y_test.max()], [y_test.min(), y_test.max()], 'k--', lw=2, label='Perfect Prediction Line')\n",
        "plt.xlabel('Actual Running Duration')\n",
        "plt.ylabel('Predicted Running Duration')\n",
        "plt.title('Actual vs Predicted Running Duration for Different Models')\n",
        "plt.legend()\n",
        "plt.grid(True)\n",
        "\n",
        "# We calculate the residuals for each model\n",
        "residuals_linear = y_test - linear_y_pred\n",
        "residuals_tree = y_test - tree_y_pred\n",
        "residuals_rf = y_test - rf_y_pred\n",
        "residuals_gb = y_test - gb_y_pred\n",
        "residuals_knn = y_test - knn_y_pred\n",
        "\n",
        "# We create a residuals histogram\n",
        "plt.figure(figsize=(12, 6))\n",
        "plt.hist(residuals_linear, bins=30, alpha=0.5, color='blue', label='Linear Regression')\n",
        "plt.hist(residuals_tree, bins=30, alpha=0.5, color='green', label='Decision Tree')\n",
        "plt.hist(residuals_rf, bins=30, alpha=0.5, color='red', label='Random Forest')\n",
        "plt.hist(residuals_gb, bins=30, alpha=0.5, color='orange', label='Gradient Boosting')\n",
        "plt.hist(residuals_knn, bins=30, alpha=0.5, color='cyan', label='KNN')\n",
        "plt.xlabel('Residuals (Actual - Predicted)')\n",
        "plt.ylabel('Frequency')\n",
        "plt.title('Histogram of Residuals for Different Models')\n",
        "plt.legend()\n",
        "plt.grid(True)\n",
        "plt.show()"
      ],
      "metadata": {
        "colab": {
          "base_uri": "https://localhost:8080/",
          "height": 1000
        },
        "id": "EBBv_F_vfBbB",
        "outputId": "b95ded26-40b2-4ef9-d8ba-19bb27baf32c"
      },
      "execution_count": 89,
      "outputs": [
        {
          "output_type": "display_data",
          "data": {
            "text/plain": [
              "<Figure size 1200x800 with 1 Axes>"
            ],
            "image/png": "[encoded data removed]"
          },
          "metadata": {}
        },
        {
          "output_type": "display_data",
          "data": {
            "text/plain": [
              "<Figure size 1200x600 with 1 Axes>"
            ],
            "image/png": "[encoded data removed]"
          },
          "metadata": {}
        }
      ]
    },
    {
      "cell_type": "markdown",
      "source": [
        "In examining the residuals and the actual vs predicted graph, we gained valuable insights into the performance of our regression models for predicting running duration. The scatter plot depicting actual versus predicted values revealed a strong linear relationship across all models, with most data points closely clustered around the diagonal line. This suggests that our models generally provide accurate predictions, closely aligning with the true running durations. Additionally, the residuals histogram showcased a symmetrical distribution centered around zero, indicating that the errors in our predictions are unbiased and normally distributed. While minor deviations from this ideal scenario were observed, they were within acceptable limits and did not significantly impact the overall performance of our models."
      ],
      "metadata": {
        "id": "7SipirBquyQn"
      }
    },
    {
      "cell_type": "markdown",
      "source": [
        "**Comparing the Performance Metrics for the models**"
      ],
      "metadata": {
        "id": "FhhiTQpKr9HR"
      }
    },
    {
      "cell_type": "markdown",
      "source": [
        "RMSE (Root Mean Squared Error) is a commonly used metric to evaluate the performance of regression models. It measures the average deviation of predicted values from the actual values. Mathematically, RMSE is calculated by taking the square root of the mean of the squared differences between predicted and actual values\n",
        "\n",
        "R-squared (R2) is another metric used to assess the goodness-of-fit of a regression model. It represents the proportion of the variance in the dependent variable that is explained by the independent variables. R2 values range from 0 to 1, with higher values indicating better fit."
      ],
      "metadata": {
        "id": "9U4udakLteSR"
      }
    },
    {
      "cell_type": "code",
      "source": [
        "# We create a dictionary to store evaluation metrics\n",
        "metrics = {\n",
        "    'Model': ['Linear Regression', 'Decision Tree', 'Random Forest', 'Gradient Boosting', 'KNN'],\n",
        "    'RMSE': [linear_rmse, tree_rmse, rf_rmse, gb_rmse, knn_rmse],\n",
        "    'R2': [linear_r2, tree_r2, rf_r2, gb_r2, knn_r2]\n",
        "}\n",
        "\n",
        "# We create a DataFrame from the dictionary\n",
        "metrics_df = pd.DataFrame(metrics)\n",
        "\n",
        "# We display the DataFrame for comparison\n",
        "print(metrics_df)\n"
      ],
      "metadata": {
        "colab": {
          "base_uri": "https://localhost:8080/"
        },
        "id": "3UEERrKRfzyc",
        "outputId": "624ed946-783b-43a8-8a44-61c1409b422c"
      },
      "execution_count": 90,
      "outputs": [
        {
          "output_type": "stream",
          "name": "stdout",
          "text": [
            "               Model        RMSE        R2\n",
            "0  Linear Regression  120.881274  0.995519\n",
            "1      Decision Tree  280.181929  0.975925\n",
            "2      Random Forest   97.902032  0.997060\n",
            "3  Gradient Boosting  151.570011  0.992954\n",
            "4                KNN  159.517557  0.992196\n"
          ]
        }
      ]
    },
    {
      "cell_type": "markdown",
      "source": [
        "In this analysis, we compared the performance of several regression models in predicting running duration based on features like pace, elevation gain, and distance. Among the models evaluated, Random Forest exhibited the lowest RMSE of 97.90 minutes, indicating its superior accuracy in predicting running durations. Furthermore, Random Forest achieved the highest R-squared value of 0.997, suggesting that approximately 99.7% of the variance in running duration can be explained by the model. These results highlight the effectiveness of Random Forest in capturing the complex relationships within the dataset and its potential for accurate prediction in real-world scenarios. However, it's important to note that Linear Regression also performed remarkably well, demonstrating its simplicity and strong predictive capabilities. Overall, Random Forest emerges as the top-performing model, offering promising prospects for accurate and reliable predictions in the domain of running duration estimation."
      ],
      "metadata": {
        "id": "IP9IUaLYuhyF"
      }
    }
  ]
}