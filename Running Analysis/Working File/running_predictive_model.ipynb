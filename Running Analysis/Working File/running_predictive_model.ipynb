{
  "nbformat": 4,
  "nbformat_minor": 0,
  "metadata": {
    "colab": {
      "provenance": []
    },
    "kernelspec": {
      "name": "python3",
      "display_name": "Python 3"
    },
    "language_info": {
      "name": "python"
    }
  },
  "cells": [
    {
      "cell_type": "markdown",
      "source": [
        "## Predictive Modeling for Running Performance"
      ],
      "metadata": {
        "id": "nhYPXzpXClKF"
      }
    },
    {
      "cell_type": "markdown",
      "source": [
        "This report aims to develop and evaluate machine learning models to predict running performance. By analyzing various features and model types, we strive to provide insights that can help runners and coaches enhance training strategies and optimize performance.\n"
      ],
      "metadata": {
        "id": "5S5OGyiiCr1m"
      }
    },
    {
      "cell_type": "code",
      "execution_count": null,
      "metadata": {
        "colab": {
          "base_uri": "https://localhost:8080/",
          "height": 842
        },
        "id": "C0HTsgA9lYSE",
        "outputId": "5337d4e1-a616-4bbf-9485-b9a7e9f0d476"
      },
      "outputs": [
        {
          "output_type": "display_data",
          "data": {
            "text/plain": [
              "<IPython.core.display.HTML object>"
            ],
            "text/html": [
              "\n",
              "     <input type=\"file\" id=\"files-383253ae-9e01-464f-828a-04a224a89f46\" name=\"files[]\" multiple disabled\n",
              "        style=\"border:none\" />\n",
              "     <output id=\"result-383253ae-9e01-464f-828a-04a224a89f46\">\n",
              "      Upload widget is only available when the cell has been executed in the\n",
              "      current browser session. Please rerun this cell to enable.\n",
              "      </output>\n",
              "      <script>// Copyright 2017 Google LLC\n",
              "//\n",
              "// Licensed under the Apache License, Version 2.0 (the \"License\");\n",
              "// you may not use this file except in compliance with the License.\n",
              "// You may obtain a copy of the License at\n",
              "//\n",
              "//      http://www.apache.org/licenses/LICENSE-2.0\n",
              "//\n",
              "// Unless required by applicable law or agreed to in writing, software\n",
              "// distributed under the License is distributed on an \"AS IS\" BASIS,\n",
              "// WITHOUT WARRANTIES OR CONDITIONS OF ANY KIND, either express or implied.\n",
              "// See the License for the specific language governing permissions and\n",
              "// limitations under the License.\n",
              "\n",
              "/**\n",
              " * @fileoverview Helpers for google.colab Python module.\n",
              " */\n",
              "(function(scope) {\n",
              "function span(text, styleAttributes = {}) {\n",
              "  const element = document.createElement('span');\n",
              "  element.textContent = text;\n",
              "  for (const key of Object.keys(styleAttributes)) {\n",
              "    element.style[key] = styleAttributes[key];\n",
              "  }\n",
              "  return element;\n",
              "}\n",
              "\n",
              "// Max number of bytes which will be uploaded at a time.\n",
              "const MAX_PAYLOAD_SIZE = 100 * 1024;\n",
              "\n",
              "function _uploadFiles(inputId, outputId) {\n",
              "  const steps = uploadFilesStep(inputId, outputId);\n",
              "  const outputElement = document.getElementById(outputId);\n",
              "  // Cache steps on the outputElement to make it available for the next call\n",
              "  // to uploadFilesContinue from Python.\n",
              "  outputElement.steps = steps;\n",
              "\n",
              "  return _uploadFilesContinue(outputId);\n",
              "}\n",
              "\n",
              "// This is roughly an async generator (not supported in the browser yet),\n",
              "// where there are multiple asynchronous steps and the Python side is going\n",
              "// to poll for completion of each step.\n",
              "// This uses a Promise to block the python side on completion of each step,\n",
              "// then passes the result of the previous step as the input to the next step.\n",
              "function _uploadFilesContinue(outputId) {\n",
              "  const outputElement = document.getElementById(outputId);\n",
              "  const steps = outputElement.steps;\n",
              "\n",
              "  const next = steps.next(outputElement.lastPromiseValue);\n",
              "  return Promise.resolve(next.value.promise).then((value) => {\n",
              "    // Cache the last promise value to make it available to the next\n",
              "    // step of the generator.\n",
              "    outputElement.lastPromiseValue = value;\n",
              "    return next.value.response;\n",
              "  });\n",
              "}\n",
              "\n",
              "/**\n",
              " * Generator function which is called between each async step of the upload\n",
              " * process.\n",
              " * @param {string} inputId Element ID of the input file picker element.\n",
              " * @param {string} outputId Element ID of the output display.\n",
              " * @return {!Iterable<!Object>} Iterable of next steps.\n",
              " */\n",
              "function* uploadFilesStep(inputId, outputId) {\n",
              "  const inputElement = document.getElementById(inputId);\n",
              "  inputElement.disabled = false;\n",
              "\n",
              "  const outputElement = document.getElementById(outputId);\n",
              "  outputElement.innerHTML = '';\n",
              "\n",
              "  const pickedPromise = new Promise((resolve) => {\n",
              "    inputElement.addEventListener('change', (e) => {\n",
              "      resolve(e.target.files);\n",
              "    });\n",
              "  });\n",
              "\n",
              "  const cancel = document.createElement('button');\n",
              "  inputElement.parentElement.appendChild(cancel);\n",
              "  cancel.textContent = 'Cancel upload';\n",
              "  const cancelPromise = new Promise((resolve) => {\n",
              "    cancel.onclick = () => {\n",
              "      resolve(null);\n",
              "    };\n",
              "  });\n",
              "\n",
              "  // Wait for the user to pick the files.\n",
              "  const files = yield {\n",
              "    promise: Promise.race([pickedPromise, cancelPromise]),\n",
              "    response: {\n",
              "      action: 'starting',\n",
              "    }\n",
              "  };\n",
              "\n",
              "  cancel.remove();\n",
              "\n",
              "  // Disable the input element since further picks are not allowed.\n",
              "  inputElement.disabled = true;\n",
              "\n",
              "  if (!files) {\n",
              "    return {\n",
              "      response: {\n",
              "        action: 'complete',\n",
              "      }\n",
              "    };\n",
              "  }\n",
              "\n",
              "  for (const file of files) {\n",
              "    const li = document.createElement('li');\n",
              "    li.append(span(file.name, {fontWeight: 'bold'}));\n",
              "    li.append(span(\n",
              "        `(${file.type || 'n/a'}) - ${file.size} bytes, ` +\n",
              "        `last modified: ${\n",
              "            file.lastModifiedDate ? file.lastModifiedDate.toLocaleDateString() :\n",
              "                                    'n/a'} - `));\n",
              "    const percent = span('0% done');\n",
              "    li.appendChild(percent);\n",
              "\n",
              "    outputElement.appendChild(li);\n",
              "\n",
              "    const fileDataPromise = new Promise((resolve) => {\n",
              "      const reader = new FileReader();\n",
              "      reader.onload = (e) => {\n",
              "        resolve(e.target.result);\n",
              "      };\n",
              "      reader.readAsArrayBuffer(file);\n",
              "    });\n",
              "    // Wait for the data to be ready.\n",
              "    let fileData = yield {\n",
              "      promise: fileDataPromise,\n",
              "      response: {\n",
              "        action: 'continue',\n",
              "      }\n",
              "    };\n",
              "\n",
              "    // Use a chunked sending to avoid message size limits. See b/62115660.\n",
              "    let position = 0;\n",
              "    do {\n",
              "      const length = Math.min(fileData.byteLength - position, MAX_PAYLOAD_SIZE);\n",
              "      const chunk = new Uint8Array(fileData, position, length);\n",
              "      position += length;\n",
              "\n",
              "      const base64 = btoa(String.fromCharCode.apply(null, chunk));\n",
              "      yield {\n",
              "        response: {\n",
              "          action: 'append',\n",
              "          file: file.name,\n",
              "          data: base64,\n",
              "        },\n",
              "      };\n",
              "\n",
              "      let percentDone = fileData.byteLength === 0 ?\n",
              "          100 :\n",
              "          Math.round((position / fileData.byteLength) * 100);\n",
              "      percent.textContent = `${percentDone}% done`;\n",
              "\n",
              "    } while (position < fileData.byteLength);\n",
              "  }\n",
              "\n",
              "  // All done.\n",
              "  yield {\n",
              "    response: {\n",
              "      action: 'complete',\n",
              "    }\n",
              "  };\n",
              "}\n",
              "\n",
              "scope.google = scope.google || {};\n",
              "scope.google.colab = scope.google.colab || {};\n",
              "scope.google.colab._files = {\n",
              "  _uploadFiles,\n",
              "  _uploadFilesContinue,\n",
              "};\n",
              "})(self);\n",
              "</script> "
            ]
          },
          "metadata": {}
        },
        {
          "output_type": "stream",
          "name": "stdout",
          "text": [
            "Saving run_clean_data.csv to run_clean_data.csv\n",
            "   Activity ID          Activity Date Activity Name Activity Type  \\\n",
            "0   7057073739  28 Apr 2022, 21:49:44   Morning Run           Run   \n",
            "1   7067754767   1 May 2022, 00:11:03   Morning Run           Run   \n",
            "2   7073448977   1 May 2022, 23:04:26   Morning Run           Run   \n",
            "3   7083686840   3 May 2022, 20:34:15   Morning Run           Run   \n",
            "4   7094718079   5 May 2022, 21:44:27   Morning Run           Run   \n",
            "\n",
            "   Elapsed Time  Distance  Max Heart Rate  Relative Effort  Commute  \\\n",
            "0          4127     12.77           178.0             78.0    False   \n",
            "1          7723     24.63           173.0            185.0    False   \n",
            "2          4202     12.51           182.0            255.0    False   \n",
            "3          4086     12.72           188.0            276.0    False   \n",
            "4          4290     13.09           184.0            241.0    False   \n",
            "\n",
            "                       Filename  ...  Maximum Power 10s  Maximum Power 30s  \\\n",
            "0  activities/7511868053.csv.gz  ...              296.8              271.9   \n",
            "1  activities/7523482307.csv.gz  ...              376.5              343.7   \n",
            "2  activities/7529709708.csv.gz  ...              342.0              300.0   \n",
            "3  activities/7540825061.csv.gz  ...              326.0              302.3   \n",
            "4  activities/7552770129.csv.gz  ...              320.9              315.3   \n",
            "\n",
            "   Maximum Power 1.0min  Maximum Power 5.0min  Maximum Power 10.0min  \\\n",
            "0                 259.4                 247.5                  242.9   \n",
            "1                 326.4                 316.3                  315.0   \n",
            "2                 282.7                 267.1                  262.4   \n",
            "3                 287.4                 275.5                  270.9   \n",
            "4                 306.2                 271.2                  269.9   \n",
            "\n",
            "   Maximum Power 20.0min  Maximum Power 30.0min  Maximum Power 1.0 hr  \\\n",
            "0                  241.5                  239.5                 235.6   \n",
            "1                  297.3                  291.1                 280.1   \n",
            "2                  261.1                  258.3                 253.2   \n",
            "3                  269.0                  267.2                 263.4   \n",
            "4                  263.9                  264.2                 258.8   \n",
            "\n",
            "   Maximum Power 1.5 hr  Maximum Power 2.0 hr  \n",
            "0                   0.0                   0.0  \n",
            "1                 275.8                 272.1  \n",
            "2                   0.0                   0.0  \n",
            "3                   0.0                   0.0  \n",
            "4                   0.0                   0.0  \n",
            "\n",
            "[5 rows x 40 columns]\n"
          ]
        }
      ],
      "source": [
        "from google.colab import files\n",
        "import pandas as pd\n",
        "\n",
        "# Upload the CSV file\n",
        "uploaded = files.upload()\n",
        "\n",
        "# Load the dataset\n",
        "df = pd.read_csv('run_clean_data.csv')\n",
        "print(df.head())"
      ]
    },
    {
      "cell_type": "markdown",
      "source": [
        "Here, we load the dataset to examine the structure and initial rows. This step is essential for understanding the data we'll be working with and ensuring its completeness.\n"
      ],
      "metadata": {
        "id": "G2wqgsxqCytL"
      }
    },
    {
      "cell_type": "code",
      "source": [
        "print(df.describe())"
      ],
      "metadata": {
        "colab": {
          "base_uri": "https://localhost:8080/"
        },
        "id": "l9XGhDf7ld2d",
        "outputId": "8cc6313a-ff86-45da-b931-00c3ae2312d0"
      },
      "execution_count": null,
      "outputs": [
        {
          "output_type": "stream",
          "name": "stdout",
          "text": [
            "        Activity ID  Elapsed Time    Distance  Max Heart Rate  \\\n",
            "count  1.640000e+02    164.000000  164.000000      164.000000   \n",
            "mean   8.211358e+09   4390.871951   12.584268      178.237805   \n",
            "std    7.392044e+08   2052.552196    5.369254       10.528875   \n",
            "min    7.057074e+09   1506.000000    4.060000      140.000000   \n",
            "25%    7.759300e+09   3015.500000    8.475000      174.750000   \n",
            "50%    8.146922e+09   4016.500000   12.000000      178.000000   \n",
            "75%    8.611014e+09   5236.250000   15.362500      184.000000   \n",
            "max    1.027158e+10  16615.000000   28.870000      210.000000   \n",
            "\n",
            "       Relative Effort  Moving Time   Max Speed  Average Speed  \\\n",
            "count       164.000000   164.000000  164.000000     164.000000   \n",
            "mean        152.810976  4211.518293    6.247638       2.981124   \n",
            "std         106.591449  1771.775123    6.017020       0.135569   \n",
            "min           6.000000  1506.000000    3.233984       2.696547   \n",
            "25%          68.750000  2987.750000    3.994507       2.895473   \n",
            "50%         130.500000  3875.500000    4.400000       2.980313   \n",
            "75%         225.500000  4976.250000    5.200000       3.057861   \n",
            "max         528.000000  9936.000000   45.083332       3.596129   \n",
            "\n",
            "       Elevation Gain  Elevation Loss  ...  Maximum Power 10s  \\\n",
            "count      164.000000      164.000000  ...         164.000000   \n",
            "mean        60.287298       60.317042  ...         330.110366   \n",
            "std         59.019156       58.781916  ...          44.215151   \n",
            "min          0.000000       -0.100000  ...         253.500000   \n",
            "25%         20.737761       21.411888  ...         298.200000   \n",
            "50%         51.250509       51.278103  ...         322.250000   \n",
            "75%         82.340330       80.668156  ...         351.100000   \n",
            "max        338.434540      338.734528  ...         477.400000   \n",
            "\n",
            "       Maximum Power 30s  Maximum Power 1.0min  Maximum Power 5.0min  \\\n",
            "count         164.000000            164.000000            164.000000   \n",
            "mean          299.445122            283.110366            264.346341   \n",
            "std            25.384166             21.508408             18.551373   \n",
            "min           248.100000            240.700000            234.900000   \n",
            "25%           281.025000            268.250000            251.450000   \n",
            "50%           297.950000            280.450000            262.600000   \n",
            "75%           317.550000            294.725000            271.300000   \n",
            "max           367.600000            342.800000            323.300000   \n",
            "\n",
            "       Maximum Power 10.0min  Maximum Power 20.0min  Maximum Power 30.0min  \\\n",
            "count             164.000000             164.000000             164.000000   \n",
            "mean              259.372561             254.860976             250.423780   \n",
            "std                17.484031              16.428535              25.328194   \n",
            "min               232.600000             229.300000               0.000000   \n",
            "25%               247.875000             243.450000             241.350000   \n",
            "50%               257.500000             252.000000             249.700000   \n",
            "75%               265.700000             262.750000             259.650000   \n",
            "max               319.300000             315.700000             301.500000   \n",
            "\n",
            "       Maximum Power 1.0 hr  Maximum Power 1.5 hr  Maximum Power 2.0 hr  \n",
            "count            164.000000            164.000000            164.000000  \n",
            "mean             144.715244             57.718293             24.101220  \n",
            "std              125.679284            105.583782             73.598314  \n",
            "min                0.000000              0.000000              0.000000  \n",
            "25%                0.000000              0.000000              0.000000  \n",
            "50%              236.400000              0.000000              0.000000  \n",
            "75%              254.050000              0.000000              0.000000  \n",
            "max              289.800000            287.600000            272.100000  \n",
            "\n",
            "[8 rows x 35 columns]\n"
          ]
        }
      ]
    },
    {
      "cell_type": "code",
      "source": [
        "# Check for missing values\n",
        "print(df.isnull().sum())"
      ],
      "metadata": {
        "colab": {
          "base_uri": "https://localhost:8080/"
        },
        "id": "eyAknIZklesa",
        "outputId": "2f39d5ea-5801-4214-cf9c-c63e42df2035"
      },
      "execution_count": null,
      "outputs": [
        {
          "output_type": "stream",
          "name": "stdout",
          "text": [
            "Activity ID                0\n",
            "Activity Date              0\n",
            "Activity Name              0\n",
            "Activity Type              0\n",
            "Elapsed Time               0\n",
            "Distance                   0\n",
            "Max Heart Rate             0\n",
            "Relative Effort            0\n",
            "Commute                    0\n",
            "Filename                   0\n",
            "Moving Time                0\n",
            "Max Speed                  0\n",
            "Average Speed              0\n",
            "Elevation Gain             0\n",
            "Elevation Loss             0\n",
            "Elevation Low              0\n",
            "Elevation High             0\n",
            "Max Grade                  0\n",
            "Average Grade              0\n",
            "Max Cadence                0\n",
            "Average Cadence            0\n",
            "Average Heart Rate         0\n",
            "Average Watts              0\n",
            "Calories                   0\n",
            "Weighted Average Power     0\n",
            "Power Count                0\n",
            "Grade Adjusted Distance    0\n",
            "Average Elapsed Speed      0\n",
            "Dirt Distance              0\n",
            "Maximum Power 5s           0\n",
            "Maximum Power 10s          0\n",
            "Maximum Power 30s          0\n",
            "Maximum Power 1.0min       0\n",
            "Maximum Power 5.0min       0\n",
            "Maximum Power 10.0min      0\n",
            "Maximum Power 20.0min      0\n",
            "Maximum Power 30.0min      0\n",
            "Maximum Power 1.0 hr       0\n",
            "Maximum Power 1.5 hr       0\n",
            "Maximum Power 2.0 hr       0\n",
            "dtype: int64\n"
          ]
        }
      ]
    },
    {
      "cell_type": "markdown",
      "source": [
        "### Feature Engineering and Normalization\n"
      ],
      "metadata": {
        "id": "gSyx13fFC7_w"
      }
    },
    {
      "cell_type": "markdown",
      "source": [
        "In this section, we create new features such as 'Average Pace' and apply normalization to some features to prepare the data for effective modeling. Normalization helps to standardize the range of independent variables.\n"
      ],
      "metadata": {
        "id": "fpk2B7LoC--e"
      }
    },
    {
      "cell_type": "code",
      "source": [
        "# Calculate additional features\n",
        "df['Average Pace'] = df['Elapsed Time'] / df['Distance']  # Time per unit distance\n",
        "\n",
        "# Normalizing some features\n",
        "from sklearn.preprocessing import StandardScaler\n",
        "scaler = StandardScaler()\n",
        "df[['Average Pace', 'Max Heart Rate']] = scaler.fit_transform(df[['Average Pace', 'Max Heart Rate']])\n",
        "\n",
        "# Recheck the head to see the new feature and normalized columns\n",
        "print(df[['Average Pace', 'Max Heart Rate']].head())"
      ],
      "metadata": {
        "colab": {
          "base_uri": "https://localhost:8080/"
        },
        "id": "l4xhbxtJlfHb",
        "outputId": "ec55444f-6edf-44c3-95e8-c9294f64c637"
      },
      "execution_count": null,
      "outputs": [
        {
          "output_type": "stream",
          "name": "stdout",
          "text": [
            "   Average Pace  Max Heart Rate\n",
            "0     -0.499153       -0.022655\n",
            "1     -0.680932       -0.498994\n",
            "2     -0.258915        0.358416\n",
            "3     -0.536061        0.930023\n",
            "4     -0.413131        0.548952\n"
          ]
        }
      ]
    },
    {
      "cell_type": "markdown",
      "source": [
        "### Model Building and Evaluation\n"
      ],
      "metadata": {
        "id": "OIVsRgUuDHaz"
      }
    },
    {
      "cell_type": "markdown",
      "source": [
        "We evaluate multiple machine learning models to identify the best performer for predicting running performance. The models include Linear Regression, Random Forest, and Gradient Boosting. Each model is assessed using MSE, RMSE, and R².\n"
      ],
      "metadata": {
        "id": "x7zqFvuGDIM7"
      }
    },
    {
      "cell_type": "code",
      "source": [
        "from sklearn.ensemble import RandomForestRegressor, GradientBoostingRegressor\n",
        "from sklearn.linear_model import LinearRegression\n",
        "from sklearn.metrics import mean_squared_error, r2_score\n",
        "from sklearn.model_selection import train_test_split\n",
        "\n",
        "# Prepare data\n",
        "features = ['Distance', 'Max Heart Rate', 'Average Pace']\n",
        "target = 'Elapsed Time'\n",
        "\n",
        "X = df[features]\n",
        "y = df[target]\n",
        "\n",
        "# Split the data into training and testing sets\n",
        "X_train, X_test, y_train, y_test = train_test_split(X, y, test_size=0.2, random_state=42)\n",
        "\n",
        "# Define models to test\n",
        "models = {\n",
        "    'Random Forest': RandomForestRegressor(random_state=42),\n",
        "    'Linear Regression': LinearRegression(),\n",
        "    'Gradient Boosting': GradientBoostingRegressor(random_state=42)\n",
        "}\n",
        "\n",
        "# Function to evaluate models\n",
        "def evaluate_models(models, X_train, X_test, y_train, y_test):\n",
        "    results = {}\n",
        "    for name, model in models.items():\n",
        "        model.fit(X_train, y_train)\n",
        "        y_pred = model.predict(X_test)\n",
        "        mse = mean_squared_error(y_test, y_pred)\n",
        "        rmse = mse ** 0.5\n",
        "        r2 = r2_score(y_test, y_pred)\n",
        "        results[name] = {'MSE': mse, 'RMSE': rmse, 'R2': r2}\n",
        "    return results\n",
        "\n",
        "# Evaluate models and print detailed results\n",
        "model_results = evaluate_models(models, X_train, X_test, y_train, y_test)\n",
        "for model_name, metrics in model_results.items():\n",
        "    print(f\"Results for {model_name}:\")\n",
        "    print(f\"  Mean Squared Error (MSE): {metrics['MSE']:.2f}\")\n",
        "    print(f\"  Root Mean Squared Error (RMSE): {metrics['RMSE']:.2f}\")\n",
        "    print(f\"  R² Score: {metrics['R2']:.4f}\")\n",
        "    print(\"----------\")\n"
      ],
      "metadata": {
        "colab": {
          "base_uri": "https://localhost:8080/"
        },
        "id": "bhWAkNgrlr7s",
        "outputId": "a99b0234-f520-4a01-9c1d-86002e398f5e"
      },
      "execution_count": null,
      "outputs": [
        {
          "output_type": "stream",
          "name": "stdout",
          "text": [
            "Results for Random Forest:\n",
            "  Mean Squared Error (MSE): 270819.94\n",
            "  Root Mean Squared Error (RMSE): 520.40\n",
            "  R² Score: 0.9129\n",
            "----------\n",
            "Results for Linear Regression:\n",
            "  Mean Squared Error (MSE): 25452.57\n",
            "  Root Mean Squared Error (RMSE): 159.54\n",
            "  R² Score: 0.9918\n",
            "----------\n",
            "Results for Gradient Boosting:\n",
            "  Mean Squared Error (MSE): 81801.00\n",
            "  Root Mean Squared Error (RMSE): 286.01\n",
            "  R² Score: 0.9737\n",
            "----------\n"
          ]
        }
      ]
    },
    {
      "cell_type": "markdown",
      "source": [
        "This analysis aimed to predict running performance using machine learning models, with a focus on understanding how distance, heart rate, and pace influence elapsed time during running activities. After evaluating three different models—Linear Regression, Random Forest, and Gradient Boosting—the results were clear and insightful.\n",
        "\n",
        "Linear Regression emerged as the most effective model, demonstrating an exceptionally high R² score of 0.9918 and the lowest RMSE of 159.54. This indicates a strong linear relationship between the chosen features and the target variable, suggesting that changes in distance, pace, and heart rate linearly correlate with changes in running performance under the conditions represented in the dataset. The simplicity and high accuracy of Linear Regression make it an excellent choice for predicting outcomes where the relationships between input variables and outcomes are predominantly linear.\n",
        "\n",
        "Random Forest and Gradient Boosting, while robust and capable of capturing complex nonlinear relationships, did not perform as well in this particular context. The Random Forest model showed a tendency towards overfitting, given its higher RMSE, and the Gradient Boosting model, although it performed reasonably well, could not match the accuracy of the Linear Regression. This suggests that for this dataset, complex models did not provide additional benefits over a simpler linear approach, possibly due to the straightforward nature of the relationships among the variables.\n",
        "\n",
        "From a practical perspective, these findings underscore the importance of selecting the right model based on the characteristics of the data and the specific predictive task at hand. For athletes and coaches, utilizing a linear regression model could provide clear and actionable insights into how varying distances, paces, and physiological responses impact performance, aiding in the optimization of training and competition strategies."
      ],
      "metadata": {
        "id": "R7sSEBsaDOyd"
      }
    }
  ]
}