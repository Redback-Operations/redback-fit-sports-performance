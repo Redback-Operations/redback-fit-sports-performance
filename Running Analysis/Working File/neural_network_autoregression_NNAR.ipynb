{
 "cells": [
  {
   "cell_type": "code",
   "execution_count": 1,
   "metadata": {},
   "outputs": [],
   "source": [
    "import pandas as pd\n",
    "import numpy as np\n",
    "from sklearn.preprocessing import MinMaxScaler\n",
    "from keras.models import Sequential\n",
    "from keras.layers import LSTM, Dense\n",
    "from keras.callbacks import EarlyStopping"
   ]
  },
  {
   "cell_type": "code",
   "execution_count": 2,
   "metadata": {},
   "outputs": [],
   "source": [
    "# Load data\n",
    "df = pd.read_csv('datacleaned_running_data.csv')"
   ]
  },
  {
   "cell_type": "code",
   "execution_count": 3,
   "metadata": {},
   "outputs": [],
   "source": [
    "df = df.drop(['Activity ID', 'Activity Name', 'Activity Type', 'Commute', 'Filename', 'Athlete Weight','Activity Date',\n",
    "                     'Average Grade', 'Commute.1'], axis=1)"
   ]
  },
  {
   "cell_type": "code",
   "execution_count": 4,
   "metadata": {},
   "outputs": [],
   "source": [
    "# Preprocess data\n",
    "scaler = MinMaxScaler(feature_range=(0, 1))\n",
    "df = scaler.fit_transform(df)"
   ]
  },
  {
   "cell_type": "code",
   "execution_count": 5,
   "metadata": {},
   "outputs": [],
   "source": [
    "# Prepare sequences for training\n",
    "seq_length = 30\n",
    "x = []\n",
    "y = []\n",
    "for i in range(len(df) - seq_length - 1):\n",
    "    x.append(df[i:i + seq_length])\n",
    "    y.append(df[i + seq_length, 0])\n",
    "x = np.array(x)\n",
    "y = np.array(y)"
   ]
  },
  {
   "cell_type": "code",
   "execution_count": 6,
   "metadata": {},
   "outputs": [],
   "source": [
    "# Prepare train/test split\n",
    "split_index = int(0.8 * len(x))\n",
    "x_train, x_test = x[:split_index], x[split_index:]\n",
    "y_train, y_test = y[:split_index], y[split_index:]"
   ]
  },
  {
   "cell_type": "code",
   "execution_count": 9,
   "metadata": {},
   "outputs": [],
   "source": [
    "# Create LSTM model\n",
    "model = Sequential()\n",
    "model.add(LSTM(50, activation='relu', input_shape=(seq_length, 17)))\n",
    "model.add(Dense(1))\n",
    "model.compile(optimizer='adam', loss='mse')"
   ]
  },
  {
   "cell_type": "code",
   "execution_count": 10,
   "metadata": {},
   "outputs": [
    {
     "name": "stdout",
     "output_type": "stream",
     "text": [
      "Epoch 1/100\n",
      "5/5 [==============================] - 5s 320ms/step - loss: 0.0059 - val_loss: 0.0048\n",
      "Epoch 2/100\n",
      "5/5 [==============================] - 0s 75ms/step - loss: 0.0054 - val_loss: 0.0048\n",
      "Epoch 3/100\n",
      "5/5 [==============================] - 0s 41ms/step - loss: 0.0050 - val_loss: 0.0050\n",
      "Epoch 4/100\n",
      "5/5 [==============================] - 0s 66ms/step - loss: 0.0051 - val_loss: 0.0048\n",
      "Epoch 5/100\n",
      "5/5 [==============================] - 0s 51ms/step - loss: 0.0050 - val_loss: 0.0048\n",
      "Epoch 6/100\n",
      "5/5 [==============================] - 1s 195ms/step - loss: 0.0049 - val_loss: 0.0048\n",
      "Epoch 7/100\n",
      "5/5 [==============================] - 0s 50ms/step - loss: 0.0049 - val_loss: 0.0047\n",
      "Epoch 8/100\n",
      "5/5 [==============================] - 0s 56ms/step - loss: 0.0049 - val_loss: 0.0047\n",
      "Epoch 9/100\n",
      "5/5 [==============================] - 0s 49ms/step - loss: 0.0049 - val_loss: 0.0047\n",
      "Epoch 10/100\n",
      "5/5 [==============================] - 0s 54ms/step - loss: 0.0049 - val_loss: 0.0046\n",
      "Epoch 11/100\n",
      "5/5 [==============================] - 0s 56ms/step - loss: 0.0049 - val_loss: 0.0046\n",
      "Epoch 12/100\n",
      "5/5 [==============================] - 0s 55ms/step - loss: 0.0049 - val_loss: 0.0047\n",
      "Epoch 13/100\n",
      "5/5 [==============================] - 0s 50ms/step - loss: 0.0050 - val_loss: 0.0047\n",
      "Epoch 14/100\n",
      "5/5 [==============================] - 0s 75ms/step - loss: 0.0050 - val_loss: 0.0048\n",
      "Epoch 15/100\n",
      "5/5 [==============================] - 0s 67ms/step - loss: 0.0048 - val_loss: 0.0048\n",
      "Epoch 16/100\n",
      "5/5 [==============================] - 0s 61ms/step - loss: 0.0048 - val_loss: 0.0047\n",
      "Epoch 17/100\n",
      "5/5 [==============================] - 0s 53ms/step - loss: 0.0048 - val_loss: 0.0048\n",
      "Epoch 18/100\n",
      "5/5 [==============================] - 0s 49ms/step - loss: 0.0050 - val_loss: 0.0048\n",
      "Epoch 19/100\n",
      "5/5 [==============================] - 0s 117ms/step - loss: 0.0051 - val_loss: 0.0047\n",
      "Epoch 20/100\n",
      "5/5 [==============================] - 0s 45ms/step - loss: 0.0049 - val_loss: 0.0047\n"
     ]
    },
    {
     "data": {
      "text/plain": [
       "<keras.src.callbacks.History at 0x1d6dd025d50>"
      ]
     },
     "execution_count": 10,
     "metadata": {},
     "output_type": "execute_result"
    }
   ],
   "source": [
    "# Train model\n",
    "early_stopping = EarlyStopping(monitor='val_loss', patience=10)\n",
    "model.fit(x_train, y_train, epochs=100, batch_size=64, verbose=1, validation_split=0.2, callbacks=[early_stopping])"
   ]
  },
  {
   "cell_type": "code",
   "execution_count": 11,
   "metadata": {},
   "outputs": [
    {
     "name": "stdout",
     "output_type": "stream",
     "text": [
      "3/3 [==============================] - 1s 12ms/step\n"
     ]
    }
   ],
   "source": [
    "# Make predictions\n",
    "y_pred = model.predict(x_test)"
   ]
  },
  {
   "cell_type": "code",
   "execution_count": 13,
   "metadata": {},
   "outputs": [
    {
     "name": "stdout",
     "output_type": "stream",
     "text": [
      "Mean Squared Error: 0.0025161399470066278\n"
     ]
    }
   ],
   "source": [
    "# Calculate mean squared error\n",
    "mse = np.mean((y_pred - y_test) ** 2)\n",
    "print('Mean Squared Error:', mse)"
   ]
  }
 ],
 "metadata": {
  "kernelspec": {
   "display_name": "Python 3",
   "language": "python",
   "name": "python3"
  },
  "language_info": {
   "codemirror_mode": {
    "name": "ipython",
    "version": 3
   },
   "file_extension": ".py",
   "mimetype": "text/x-python",
   "name": "python",
   "nbconvert_exporter": "python",
   "pygments_lexer": "ipython3",
   "version": "3.11.9"
  },
  "orig_nbformat": 4
 },
 "nbformat": 4,
 "nbformat_minor": 2
}
