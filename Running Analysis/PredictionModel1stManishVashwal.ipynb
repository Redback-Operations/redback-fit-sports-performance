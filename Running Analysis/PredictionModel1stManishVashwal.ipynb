{
 "cells": [
  {
   "cell_type": "code",
   "execution_count": 40,
   "metadata": {},
   "outputs": [],
   "source": [
    "import pandas as pd\n",
    "import numpy as np\n",
    "\n",
    "import matplotlib.pyplot as plt\n",
    "import seaborn as sns\n",
    "\n",
    "from sklearn.impute import SimpleImputer\n",
    "\n",
    "import warnings\n",
    "warnings.filterwarnings('ignore')"
   ]
  },
  {
   "cell_type": "code",
   "execution_count": 41,
   "metadata": {},
   "outputs": [],
   "source": [
    "#  CSV file Path\n",
    "url = 'https://raw.githubusercontent.com/redbackoperations/Projects/main/Sports%20Performance%20Analysis/frontend/Cycling%20Analysis/data/extended_activities_with_ftp.csv'\n",
    "# Read the CSV file \n",
    "df = pd.read_csv(url)\n",
    "\n"
   ]
  },
  {
   "cell_type": "code",
   "execution_count": 42,
   "metadata": {},
   "outputs": [
    {
     "name": "stdout",
     "output_type": "stream",
     "text": [
      "         Activity Date  Elapsed Time  Distance  Max Heart Rate  \\\n",
      "0  2019-12-13 01:46:07          3859     22.97           139.0   \n",
      "1  2019-12-20 23:05:01          4852     29.65           133.0   \n",
      "2  2019-12-21 23:25:29          5817     32.38           139.0   \n",
      "3  2019-12-24 01:19:17          3851     21.68           140.0   \n",
      "4  2019-12-26 00:09:08          5843     32.36           131.0   \n",
      "\n",
      "   Relative Effort  Athlete Weight  Bike Weight  Moving Time  Max Speed  \\\n",
      "0             11.0            84.0          NaN       3811.0       10.2   \n",
      "1             12.0            84.0          NaN       4693.0       14.1   \n",
      "2             19.0            84.0          NaN       5601.0       12.0   \n",
      "3             11.0            84.0          NaN       3816.0       11.4   \n",
      "4             14.0            80.0          NaN       5740.0       10.9   \n",
      "\n",
      "   Average Speed  ...  60 Day Maximum Power 30s  60 Day Maximum Power 1.0min  \\\n",
      "0          5.989  ...                     342.1                        221.2   \n",
      "1          6.343  ...                     342.1                        221.2   \n",
      "2          5.800  ...                     342.1                        221.2   \n",
      "3          5.697  ...                     342.1                        262.0   \n",
      "4          5.657  ...                     342.1                        262.0   \n",
      "\n",
      "   60 Day Maximum Power 5.0min  60 Day Maximum Power 10.0min  \\\n",
      "0                        162.2                         136.3   \n",
      "1                        162.2                         136.3   \n",
      "2                        162.2                         136.3   \n",
      "3                        162.2                         146.7   \n",
      "4                        162.2                         146.7   \n",
      "\n",
      "   60 Day Maximum Power 20.0min  60 Day Maximum Power 30.0min  \\\n",
      "0                         120.8                         109.8   \n",
      "1                         122.1                         120.3   \n",
      "2                         127.5                         125.5   \n",
      "3                         139.7                         134.0   \n",
      "4                         139.7                         134.0   \n",
      "\n",
      "   60 Day Maximum Power 1.0 hr  60 Day Maximum Power 1.5 hr  \\\n",
      "0                        105.4                          0.0   \n",
      "1                        115.6                          0.0   \n",
      "2                        115.6                        104.7   \n",
      "3                        115.6                        104.7   \n",
      "4                        115.6                        104.7   \n",
      "\n",
      "   60 Day Maximum Power 2.0 hr    FTP  \n",
      "0                          0.0  222.5  \n",
      "1                          0.0  222.6  \n",
      "2                          0.0  222.6  \n",
      "3                          0.0  222.6  \n",
      "4                          0.0  222.7  \n",
      "\n",
      "[5 rows x 42 columns]\n",
      "<class 'pandas.core.frame.DataFrame'>\n",
      "RangeIndex: 181 entries, 0 to 180\n",
      "Data columns (total 42 columns):\n",
      " #   Column                        Non-Null Count  Dtype  \n",
      "---  ------                        --------------  -----  \n",
      " 0   Activity Date                 181 non-null    object \n",
      " 1   Elapsed Time                  181 non-null    int64  \n",
      " 2   Distance                      181 non-null    float64\n",
      " 3   Max Heart Rate                181 non-null    float64\n",
      " 4   Relative Effort               181 non-null    float64\n",
      " 5   Athlete Weight                70 non-null     float64\n",
      " 6   Bike Weight                   162 non-null    float64\n",
      " 7   Moving Time                   181 non-null    float64\n",
      " 8   Max Speed                     181 non-null    float64\n",
      " 9   Average Speed                 181 non-null    float64\n",
      " 10  Elevation Gain                180 non-null    float64\n",
      " 11  Elevation Loss                175 non-null    float64\n",
      " 12  Elevation Low                 175 non-null    float64\n",
      " 13  Elevation High                175 non-null    float64\n",
      " 14  Max Grade                     181 non-null    float64\n",
      " 15  Average Grade                 181 non-null    float64\n",
      " 16  Max Cadence                   181 non-null    float64\n",
      " 17  Average Cadence               181 non-null    float64\n",
      " 18  Average Heart Rate            181 non-null    float64\n",
      " 19  Average Watts                 181 non-null    float64\n",
      " 20  Calories                      181 non-null    float64\n",
      " 21  Average Temperature           175 non-null    float64\n",
      " 22  Total Work                    180 non-null    float64\n",
      " 23  Perceived Exertion            1 non-null      float64\n",
      " 24  Weighted Average Power        181 non-null    float64\n",
      " 25  Power Count                   181 non-null    float64\n",
      " 26  Prefer Perceived Exertion     2 non-null      float64\n",
      " 27  Perceived Relative Effort     1 non-null      float64\n",
      " 28  Grade Adjusted Distance       0 non-null      float64\n",
      " 29  Average Elapsed Speed         92 non-null     float64\n",
      " 30  60 Day Maximum Power 5s       181 non-null    float64\n",
      " 31  60 Day Maximum Power 10s      181 non-null    float64\n",
      " 32  60 Day Maximum Power 30s      181 non-null    float64\n",
      " 33  60 Day Maximum Power 1.0min   181 non-null    float64\n",
      " 34  60 Day Maximum Power 5.0min   181 non-null    float64\n",
      " 35  60 Day Maximum Power 10.0min  181 non-null    float64\n",
      " 36  60 Day Maximum Power 20.0min  181 non-null    float64\n",
      " 37  60 Day Maximum Power 30.0min  181 non-null    float64\n",
      " 38  60 Day Maximum Power 1.0 hr   181 non-null    float64\n",
      " 39  60 Day Maximum Power 1.5 hr   181 non-null    float64\n",
      " 40  60 Day Maximum Power 2.0 hr   181 non-null    float64\n",
      " 41  FTP                           181 non-null    float64\n",
      "dtypes: float64(40), int64(1), object(1)\n",
      "memory usage: 59.5+ KB\n",
      "None\n",
      "       Elapsed Time    Distance  Max Heart Rate  Relative Effort  \\\n",
      "count    181.000000  181.000000      181.000000       181.000000   \n",
      "mean    7419.679558   54.417569      145.154696        34.375691   \n",
      "std     3703.592560   28.127591       13.875572        28.137406   \n",
      "min     1626.000000   10.960000      118.000000         5.000000   \n",
      "25%     5635.000000   38.110000      137.000000        18.000000   \n",
      "50%     6757.000000   50.890000      143.000000        27.000000   \n",
      "75%     7998.000000   60.970000      150.000000        40.000000   \n",
      "max    22391.000000  180.080000      209.000000       232.000000   \n",
      "\n",
      "       Athlete Weight  Bike Weight   Moving Time   Max Speed  Average Speed  \\\n",
      "count       70.000000        162.0    181.000000  181.000000     181.000000   \n",
      "mean        80.228571          8.0   7155.767956   12.226391       7.609132   \n",
      "std          0.935165          0.0   3568.567951    2.235716       0.842069   \n",
      "min         80.000000          8.0   1571.000000    6.276172       4.495522   \n",
      "25%         80.000000          8.0   5468.000000   10.700000       7.191000   \n",
      "50%         80.000000          8.0   6507.000000   11.944140       7.538679   \n",
      "75%         80.000000          8.0   7707.000000   13.200000       7.982000   \n",
      "max         84.000000          8.0  21208.000000   24.764002      10.652900   \n",
      "\n",
      "       Elevation Gain  ...  60 Day Maximum Power 30s  \\\n",
      "count      180.000000  ...                181.000000   \n",
      "mean        85.433170  ...                340.271823   \n",
      "std        107.710946  ...                 34.090082   \n",
      "min          0.000000  ...                278.600000   \n",
      "25%          9.750000  ...                313.300000   \n",
      "50%         34.399994  ...                342.100000   \n",
      "75%        157.000000  ...                358.700000   \n",
      "max        567.370667  ...                407.500000   \n",
      "\n",
      "       60 Day Maximum Power 1.0min  60 Day Maximum Power 5.0min  \\\n",
      "count                   181.000000                   181.000000   \n",
      "mean                    281.664641                   238.356906   \n",
      "std                      16.434698                    29.369261   \n",
      "min                     221.200000                   162.200000   \n",
      "25%                     264.600000                   227.200000   \n",
      "50%                     290.300000                   244.600000   \n",
      "75%                     293.300000                   263.500000   \n",
      "max                     298.500000                   275.200000   \n",
      "\n",
      "       60 Day Maximum Power 10.0min  60 Day Maximum Power 20.0min  \\\n",
      "count                    181.000000                    181.000000   \n",
      "mean                     231.407735                    226.508840   \n",
      "std                       31.370810                     32.936289   \n",
      "min                      136.300000                    120.800000   \n",
      "25%                      221.500000                    212.000000   \n",
      "50%                      238.900000                    229.500000   \n",
      "75%                      249.200000                    246.100000   \n",
      "max                      269.900000                    266.100000   \n",
      "\n",
      "       60 Day Maximum Power 30.0min  60 Day Maximum Power 1.0 hr  \\\n",
      "count                    181.000000                   181.000000   \n",
      "mean                     215.006077                   188.590608   \n",
      "std                       28.433328                    26.758265   \n",
      "min                      109.800000                   105.400000   \n",
      "25%                      209.100000                   171.700000   \n",
      "50%                      221.900000                   196.800000   \n",
      "75%                      232.900000                   207.900000   \n",
      "max                      243.700000                   217.800000   \n",
      "\n",
      "       60 Day Maximum Power 1.5 hr  60 Day Maximum Power 2.0 hr         FTP  \n",
      "count                   181.000000                   181.000000  181.000000  \n",
      "mean                    178.567403                   164.032597  237.282873  \n",
      "std                      31.380071                    44.137821   13.328857  \n",
      "min                       0.000000                     0.000000  222.500000  \n",
      "25%                     165.100000                   158.400000  223.800000  \n",
      "50%                     186.000000                   180.700000  245.300000  \n",
      "75%                     193.000000                   185.100000  250.500000  \n",
      "max                     212.100000                   202.400000  252.700000  \n",
      "\n",
      "[8 rows x 41 columns]\n"
     ]
    }
   ],
   "source": [
    "# Display the first few rows of the dataset\n",
    "print(df.head())\n",
    "\n",
    "# Get a summary of the dataset including data types and missing values\n",
    "print(df.info())\n",
    "\n",
    "# Get summary statistics for numerical columns\n",
    "print(df.describe())\n"
   ]
  },
  {
   "cell_type": "markdown",
   "metadata": {},
   "source": [
    "# Handle missing values and outliers, and preprocess data:\n"
   ]
  },
  {
   "cell_type": "code",
   "execution_count": 43,
   "metadata": {},
   "outputs": [],
   "source": [
    "# Handle missing values \n",
    "df.fillna(df.mean(), inplace=True)  # fill missing values with column mean\n",
    "\n",
    "\n",
    "\n",
    "\n"
   ]
  },
  {
   "cell_type": "code",
   "execution_count": 44,
   "metadata": {},
   "outputs": [],
   "source": [
    "# Define lower and upper thresholds for outlier removal\n",
    "lower_distance_threshold = 0  # Example: Lower threshold for distance\n",
    "upper_distance_threshold = 100  # Example: Upper threshold for distance\n",
    "\n",
    "lower_max_heart_rate_threshold = 0  \n",
    "upper_max_heart_rate_threshold = 200  \n",
    "\n",
    "lower_athlete_weight_threshold = 0  \n",
    "upper_athlete_weight_threshold = 200  \n",
    "\n",
    "lower_max_speed_threshold = 0  \n",
    "upper_max_speed_threshold = 50  \n",
    "\n",
    "lower_elevation_gain_threshold = 0  \n",
    "upper_elevation_gain_threshold = 1000  \n",
    "\n",
    "lower_elevation_loss_threshold = 0  \n",
    "upper_elevation_loss_threshold = 1000  \n",
    "\n",
    "# Remove rows with extreme values in each column\n",
    "df = df[(df['Distance'] >= lower_distance_threshold) & (df['Distance'] <= upper_distance_threshold)]\n",
    "df = df[(df['Max Heart Rate'] >= lower_max_heart_rate_threshold) & (df['Max Heart Rate'] <= upper_max_heart_rate_threshold)]\n",
    "df = df[(df['Athlete Weight'] >= lower_athlete_weight_threshold) & (df['Athlete Weight'] <= upper_athlete_weight_threshold)]\n",
    "df = df[(df['Max Speed'] >= lower_max_speed_threshold) & (df['Max Speed'] <= upper_max_speed_threshold)]\n",
    "df = df[(df['Elevation Gain'] >= lower_elevation_gain_threshold) & (df['Elevation Gain'] <= upper_elevation_gain_threshold)]\n",
    "df = df[(df['Elevation Loss'] >= lower_elevation_loss_threshold) & (df['Elevation Loss'] <= upper_elevation_loss_threshold)]\n"
   ]
  },
  {
   "cell_type": "markdown",
   "metadata": {},
   "source": [
    "   #   Feature Selection\n",
    "   #   Identifying relevant features that are likely to influence running performance:\n"
   ]
  },
  {
   "cell_type": "code",
   "execution_count": 51,
   "metadata": {},
   "outputs": [],
   "source": [
    "# Select relevant features \n",
    "relevant_features = ['Distance', 'Max Heart Rate', 'Elevation Gain', 'Average Speed', 'Average Heart Rate', \n",
    "                     'Average Watts', 'Calories', 'Average Temperature', 'Average Cadence', 'Max Cadence', ]\n",
    "\n",
    "# Create a new DataFrame with selected features\n",
    "df_selected = df[relevant_features]\n"
   ]
  },
  {
   "cell_type": "markdown",
   "metadata": {},
   "source": [
    "# We're implementing a linear regression model to predict a target variable, i.e 'Average Speed'. The code outlines the process from data preparation to model evaluation. Here’s a breakdown of each step:\n",
    "1. Preparing the Data\n",
    "Choosing Features: First, we take all the columns in the dataset except for 'Average Speed' because we want to use these as inputs to predict 'Average Speed'. These inputs are features.\n",
    "•Setting the Target: The 'Average Speed' column is what we're trying to predict. This is  the target.\n",
    "•Splitting the Data: We divide the data into two parts—80% is used for training the model, and 20% is used for testing it. This way, we learn from the larger part and test how well we've learned on the smaller part. We use a setting called random_state to make sure that whenever we split the data, it splits the same way. This makes our experiments repeatable.\n",
    "\n",
    "2. Training the Model\n",
    "•Starting the Model: We use  Linear Regression, which helps us draw a line that fits best through our data points.\n",
    "•Learning from Data: The model learns by looking at the training data (80% of our data) and figuring out how to draw this line. It tries to make the line as close as possible to the actual data points.\n",
    "\n",
    "3. Making Predictions\n",
    "•Using the Model: After our model has learned from the training data, we test it using the remaining 20% of the data (the test set). We ask the model to predict 'Average Speed' based on the features in this test data.\n",
    " \n",
    "4. Evaluating the Model\n",
    "•Checking Errors (Mean Squared Error): This tells us how much the model's predictions are off from the actual speeds. A smaller number here means the model made smaller mistakes, which is good!\n",
    "•How Well the Model Fits (R-squared Score): This score tells us how well our model's predictions match the actual data. It goes from 0 to 1, where 1 means perfect predictions. Our score, 0.805, means our model is doing quite well, as it can predict 81% of the variation in 'Average Speed' from our features.\n",
    "\n",
    "5. Conclusion\n",
    "Our linear regression model did a good job! With an R-squared score of 0.805, it means it can reliably predict the 'Average Speed' based on the features we gave it.In conclusion, the linear regression model isn't just for checking what impacts a runner's speed; it actually helps us plan better training and recovery strategies to make a runner's performance better.\n"
   ]
  },
  {
   "cell_type": "code",
   "execution_count": 46,
   "metadata": {},
   "outputs": [
    {
     "name": "stdout",
     "output_type": "stream",
     "text": [
      "Mean Squared Error: 0.13803885583843215\n",
      "R-squared Score: 0.8053064844082769\n"
     ]
    }
   ],
   "source": [
    "# Import necessary libraries\n",
    "from sklearn.model_selection import train_test_split  # For splitting data into training and testing sets\n",
    "from sklearn.linear_model import LinearRegression  # For initializing and training a linear regression model\n",
    "from sklearn.metrics import mean_squared_error, r2_score  # For evaluating model performance using MSE and R^2 score\n",
    "\n",
    "# Split the data into features (X) and target variable (y)\n",
    "X_features = df_selected.drop('Average Speed', axis=1)  # Features (excluding 'Average Speed' which is the target variable)\n",
    "y_target = df_selected['Average Speed']  # Target variable\n",
    "\n",
    "# Split the data into training and testing sets (80% train, 20% test)\n",
    "X_train, X_test, y_train, y_test = train_test_split(X_features, y_target, test_size=0.2, random_state=40)\n",
    "\n",
    "# Initialize the linear regression model\n",
    "linear_model = LinearRegression()  # Create an instance of LinearRegression model\n",
    "\n",
    "# Train the model on the training data\n",
    "linear_model.fit(X_train, y_train)  # Fit the model to the training data\n",
    "\n",
    "# Make predictions on the testing data\n",
    "y_pred = linear_model.predict(X_test)  # Use the trained model to make predictions on the test data\n",
    "\n",
    "# Evaluate the model's performance\n",
    "mean_squared_error_value = mean_squared_error(y_test, y_pred)  # Calculate Mean Squared Error\n",
    "r_squared_score = r2_score(y_test, y_pred)  # Calculate R-squared score\n",
    "\n",
    "# Print evaluation metrics\n",
    "print(\"Mean Squared Error:\", mean_squared_error_value)  # Print Mean Squared Error\n",
    "print(\"R-squared Score:\", r_squared_score)  # Print R-squared Score\n"
   ]
  },
  {
   "cell_type": "code",
   "execution_count": 47,
   "metadata": {},
   "outputs": [
    {
     "data": {
      "image/png": "[encoded data removed]",
      "text/plain": [
       "<Figure size 576x432 with 1 Axes>"
      ]
     },
     "metadata": {
      "needs_background": "light"
     },
     "output_type": "display_data"
    }
   ],
   "source": [
    "# Scatter plot of actual vs. predicted values\n",
    "plt.figure(figsize=(8, 6))\n",
    "plt.scatter(y_test, y_pred, color='blue', alpha=0.5)\n",
    "plt.plot([y_test.min(), y_test.max()], [y_test.min(), y_test.max()], 'k--', lw=2)\n",
    "plt.xlabel('Actual Average Speed')\n",
    "plt.ylabel('Predicted Average Speed')\n",
    "plt.title('Actual vs. Predicted Average Speed (Linear Regression)')\n",
    "plt.show()\n"
   ]
  },
  {
   "cell_type": "markdown",
   "metadata": {},
   "source": [
    "# Preparing the Data\n",
    "•\tChoosing Features: We select all the columns in our dataset except for 'Distance' because these are the inputs (features) we'll use to predict 'Distance'.\n",
    "•\tSetting the Target: The 'Distance' column is our target, which is what we're trying to predict.\n",
    "•\tSplitting the Data: We split our data into two parts: 80% for training the model and 20% for testing it. This allows us to learn from 80% of the data and validate our learning on the other 20%. The random_state setting ensures that this split is consistent every time we run the code, making our experiments repeatable.\n",
    "# Training the Model\n",
    "•\tStarting the Model: We use Linear Regression, a statistical method that tries to draw a straight line that best fits the data points.\n",
    "•\tLearning from Data: The model looks at the training data to understand how to best draw this line by minimizing errors between the predicted distances and actual distances.\n",
    "# Making Predictions\n",
    "•\tUsing the Model: After training, we use the model to predict the 'Distance' on the test set, which is the remaining 20% of the data. This step checks how well the model can apply what it learned to new, unseen data.\n",
    "# Evaluating the Model\n",
    "•\tChecking Errors (Mean Squared Error): We calculate the mean squared error to see on average how much the model's predictions differ from the actual distances. Lower values are better as they indicate less error.\n",
    "•\tHow Well the Model Fits (R-squared Score): This score tells us how well the model's predictions correspond to the actual distances. It ranges from 0 to 1, where a score close to 1 means the predictions are very accurate. In this case, the R-squared value gives us an idea of how much of the variation in 'Distance' can be explained by the features we used.\n",
    "# Cross-Validation\n",
    "•\tTesting Reliability: We also perform cross-validation, which involves dividing the data into several parts and training/testing the model multiple times. This helps to ensure that our model performs well not just on one specific set of data but generally across different subsets.\n",
    "# Visualizing Predictions\n",
    "•\tPlotting Results: We plot the actual distances against the predicted distances to visually assess how close the predictions are to the real data.\n",
    "# Conclusion\n",
    "The obtained MSE suggests there is a noticeable average error in the model's predictions, signaling potential areas for model improvement or consideration of more complex modeling approaches.\n",
    "An R-squared score of 0.621 is moderately good, indicating that while the model captures a significant portion of the variance in distance, there is still some room for improvement."
   ]
  },
  {
   "cell_type": "code",
   "execution_count": 105,
   "metadata": {},
   "outputs": [
    {
     "name": "stdout",
     "output_type": "stream",
     "text": [
      "Mean Squared Error (Distance): 160.40866416333822\n",
      "R-squared Score (Distance): 0.3997862674192143\n"
     ]
    }
   ],
   "source": [
    "# Import necessary libraries\n",
    "from sklearn.model_selection import train_test_split  # For splitting data into training and testing sets\n",
    "from sklearn.linear_model import LinearRegression  # For initializing and training a linear regression model\n",
    "from sklearn.metrics import mean_squared_error, r2_score  # For evaluating model performance using MSE and R^2 score\n",
    "# Split the data into features (X_distance) and target variable ('Distance')\n",
    "X_distance = df_selected.drop('Distance', axis=1)  # Features (excluding 'Distance')\n",
    "y_distance = df_selected['Distance']  # Target variable\n",
    "\n",
    "# Split the data into training and testing sets for 'Distance' prediction\n",
    "X_train_distance, X_test_distance, y_train_distance, y_test_distance = train_test_split(X_distance, y_distance, test_size=0.2, random_state=42)\n",
    "\n",
    "# Initialize the linear regression model for 'Distance' prediction\n",
    "model_distance = LinearRegression()\n",
    "\n",
    "# Train the model on the training data for 'Distance' prediction\n",
    "model_distance.fit(X_train_distance, y_train_distance)\n",
    "\n",
    "# Make predictions on the testing data for 'Distance' prediction\n",
    "y_pred_distance = model_distance.predict(X_test_distance)\n",
    "\n",
    "# Evaluate the model's performance for 'Distance' prediction\n",
    "mse_distance = mean_squared_error(y_test_distance, y_pred_distance)\n",
    "r2_distance = r2_score(y_test_distance, y_pred_distance)\n",
    "\n",
    "print(\"Mean Squared Error (Distance):\", mse_distance)\n",
    "print(\"R-squared Score (Distance):\", r2_distance)\n",
    "\n"
   ]
  },
  {
   "cell_type": "code",
   "execution_count": 106,
   "metadata": {},
   "outputs": [
    {
     "name": "stdout",
     "output_type": "stream",
     "text": [
      "Cross-Validation MSE Scores: [135.8448934  362.19970049  91.58456579  60.77173977 195.51918115]\n",
      "Mean Squared Error (Cross-Validation): 169.71399624366978\n",
      "Standard Deviation of MSE (Cross-Validation): 106.51750190110569\n"
     ]
    }
   ],
   "source": [
    "from sklearn.model_selection import cross_val_score\n",
    "\n",
    "# Perform cross-validation with 5 folds\n",
    "cv_scores = cross_val_score(model_distance, X_distance, y_distance, cv=5, scoring='neg_mean_squared_error')\n",
    "\n",
    "# Convert MSE scores to positive values\n",
    "mse_cv = -cv_scores\n",
    "\n",
    "# Print the cross-validation MSE scores\n",
    "print(\"Cross-Validation MSE Scores:\", mse_scores)\n",
    "\n",
    "\n",
    "# Calculate mean and standard deviation of MSE scores\n",
    "mean_mse_cv = mse_cv.mean()\n",
    "std_mse_cv = mse_cv.std()\n",
    "\n",
    "# Print mean and standard deviation of MSE scores\n",
    "print(\"Mean Squared Error (Cross-Validation):\", mean_mse_cv)\n",
    "print(\"Standard Deviation of MSE (Cross-Validation):\", std_mse_cv)\n"
   ]
  },
  {
   "cell_type": "code",
   "execution_count": 107,
   "metadata": {},
   "outputs": [
    {
     "name": "stdout",
     "output_type": "stream",
     "text": [
      "Mean Squared Error: 107.24335665914812\n",
      "R-squared Score: 0.620916759486467\n"
     ]
    }
   ],
   "source": [
    "from sklearn.metrics import mean_squared_error, r2_score\n",
    "\n",
    "# Calculate the mean squared error (MSE)\n",
    "mean_mse_cv = mse_cv.mean()\n",
    "\n",
    "# Fit the model on the entire dataset\n",
    "model_distance.fit(X_distance, y_distance)\n",
    "\n",
    "# Predict the target variable on the entire dataset\n",
    "y_pred = model_distance.predict(X_distance)\n",
    "\n",
    "# Calculate the mean squared error (MSE) \n",
    "mse = mean_squared_error(y_distance, y_pred) \n",
    "\n",
    "# Calculate the R-squared score\n",
    "r2 = r2_score(y_distance, y_pred)\n",
    "\n",
    "print(\"Mean Squared Error:\",  mse)\n",
    "print(\"R-squared Score:\", r2)\n"
   ]
  },
  {
   "cell_type": "code",
   "execution_count": 108,
   "metadata": {},
   "outputs": [
    {
     "data": {
      "image/png": "[encoded data removed]",
      "text/plain": [
       "<Figure size 576x432 with 1 Axes>"
      ]
     },
     "metadata": {
      "needs_background": "light"
     },
     "output_type": "display_data"
    }
   ],
   "source": [
    "# Plot actual vs predicted values\n",
    "plt.figure(figsize=(8, 6))\n",
    "plt.scatter(y_distance, y_pred, color='blue')\n",
    "plt.plot([y_distance.min(), y_distance.max()], [y_distance.min(), y_distance.max()], linestyle='--', color='red')\n",
    "plt.xlabel('Actual Distance')\n",
    "plt.ylabel('Predicted Distance')\n",
    "plt.title('Actual vs Predicted Distance')\n",
    "plt.show()\n"
   ]
  },
  {
   "cell_type": "markdown",
   "metadata": {},
   "source": [
    "# Preparing the Data\n",
    "•\tChoosing Features: We start by selecting all the columns in the dataset except for 'Average Heart Rate' as these will serve as inputs (features) to predict 'Average Heart Rate'.\n",
    "•\tSetting the Target: The 'Average Heart Rate' column is set as the target variable. This is what we aim to predict using our model.\n",
    "•\tSplitting the Data: We divide the data into training (80%) and testing (20%) portions. A larger portion is used for training to learn effectively, while a smaller portion is used to test and see how well the model has learned. The random_state ensures that the data splits the same way every time, making our results consistent and repeatable.\n",
    "# Training the Model\n",
    "•\tStarting the Model: We use a Linear Regression model because it draw a straight line that best fits our data points.\n",
    "•\tLearning from Data: The model observes the training data to learn how to predict 'Average Heart Rate' by minimizing the error between the predicted and actual heart rates.\n",
    "# Making Predictions\n",
    "•\tUsing the Model: After learning from the training data, the model is tested using the test set, which is the remaining 20% of the data. Here, the model uses the features to predict 'Average Heart Rate'.\n",
    "# Evaluating the Model\n",
    "•\tChecking Errors (Mean Squared Error): This metric measures how far the model's predictions are from the actual heart rates.\n",
    "•\tHow Well the Model Fits (R-squared Score): This score ranges from 0 to 1, where 1 indicates perfect prediction accuracy. A higher score shows that our model predicts 'Average Heart Rate' quite well based on the input features.\n",
    "# Cross-Validation\n",
    "•\tTesting Model Reliability: We perform cross-validation by splitting the data into five parts, training and testing the model multiple times. This helps confirm the model's effectiveness across different subsets of data.\n",
    "•\tReviewing Cross-Validation Results: We calculate the average and variability of the mean squared errors from each validation to assess the model's consistency and reliability.\n",
    "# Visualizing Predictions\n",
    "•\tPlotting Actual vs Predicted: A scatter plot visualizes the relationship between actual and predicted 'Average Heart Rate', helping to visually assess how closely the predictions match the actual values.\n",
    "# conclusion\n",
    "The model does an acceptable job of predicting \"Average Heart Rate,\" these findings also point up possible areas for improvement. One may consider about using various modeling techniques, adding more or more subtle characteristics, or adjusting the model's parameters in order to increase accuracy. This model can be improved upon to increase its predictive power in real-world applications. It provides a good foundation for understanding the elements that affect heart rate.\n"
   ]
  },
  {
   "cell_type": "code",
   "execution_count": 86,
   "metadata": {},
   "outputs": [
    {
     "name": "stdout",
     "output_type": "stream",
     "text": [
      "Mean Squared Error (Average Heart Rate): 57.60878453126738\n",
      "R-squared Score (Average Heart Rate): 0.7623812207061684\n"
     ]
    }
   ],
   "source": [
    "# Split the data into features (X_heart_rate) and target variable ('Average Heart Rate')\n",
    "X_heart_rate = df_selecteddrop('Average Heart Rate', axis=1)  # Features (excluding 'Average Heart Rate')\n",
    "y_heart_rate = df_['Average Heart Rate']  # Target variable\n",
    "\n",
    "# Split the data into training and testing sets for 'Average Heart Rate' prediction\n",
    "X_train_heart_rate, X_test_heart_rate, y_train_heart_rate, y_test_heart_rate = train_test_split(X_heart_rate, y_heart_rate, test_size=0.2, random_state=42)\n",
    "\n",
    "# Initialize the linear regression model for 'Average Heart Rate' prediction\n",
    "model_heart_rate = LinearRegression()\n",
    "\n",
    "# Train the model on the training data for 'Average Heart Rate' prediction\n",
    "model_heart_rate.fit(X_train_heart_rate, y_train_heart_rate)\n",
    "\n",
    "# Make predictions on the testing data for 'Average Heart Rate' prediction\n",
    "y_pred_heart_rate = model_heart_rate.predict(X_test_heart_rate)\n",
    "\n",
    "# Evaluate the model's performance for 'Average Heart Rate' prediction\n",
    "mse_heart_rate = mean_squared_error(y_test_heart_rate, y_pred_heart_rate)\n",
    "r2_heart_rate = r2_score(y_test_heart_rate, y_pred_heart_rate)\n",
    "\n",
    "print(\"Mean Squared Error (Average Heart Rate):\", mse_heart_rate)\n",
    "print(\"R-squared Score (Average Heart Rate):\", r2_heart_rate)\n",
    "\n"
   ]
  },
  {
   "cell_type": "code",
   "execution_count": 87,
   "metadata": {},
   "outputs": [
    {
     "name": "stdout",
     "output_type": "stream",
     "text": [
      "Mean Squared Error (Cross-Validation - Average Heart Rate): 62.98914312783286\n",
      "Standard Deviation of MSE (Cross-Validation - Average Heart Rate): 35.877754221541686\n"
     ]
    }
   ],
   "source": [
    "from sklearn.model_selection import cross_val_score\n",
    "\n",
    "# Perform cross-validation with 5 folds\n",
    "cv_scores_heart_rate = cross_val_score(model_heart_rate, X_heart_rate, y_heart_rate, cv=5, scoring='neg_mean_squared_error')\n",
    "\n",
    "# Convert MSE scores to positive values\n",
    "mse_cv_heart_rate = -cv_scores_heart_rate\n",
    "\n",
    "\n",
    "# Calculate mean and standard deviation of MSE scores\n",
    "mean_mse_cv_heart_rate = mse_cv_heart_rate.mean()\n",
    "std_mse_cv_heart_rate = mse_cv_heart_rate.std()\n",
    "\n",
    "# Print mean and standard deviation of MSE scores\n",
    "print(\"Mean Squared Error (Cross-Validation - Average Heart Rate):\", mean_mse_cv_heart_rate)\n",
    "print(\"Standard Deviation of MSE (Cross-Validation - Average Heart Rate):\", std_mse_cv_heart_rate)\n"
   ]
  },
  {
   "cell_type": "code",
   "execution_count": 88,
   "metadata": {},
   "outputs": [
    {
     "name": "stdout",
     "output_type": "stream",
     "text": [
      "Mean Squared Error (Average Heart Rate): 43.16532605466734\n",
      "R-squared Score (Average Heart Rate): 0.6854664489039852\n"
     ]
    }
   ],
   "source": [
    "from sklearn.metrics import mean_squared_error, r2_score\n",
    "\n",
    "# Fit the model on the entire dataset\n",
    "model_heart_rate.fit(X_heart_rate, y_heart_rate)\n",
    "\n",
    "# Predict the target variable on the entire dataset\n",
    "y_pred_heart_rate = model_heart_rate.predict(X_heart_rate)\n",
    "\n",
    "# Calculate the mean squared error (MSE)\n",
    "mse_heart_rate = mean_squared_error(y_heart_rate, y_pred_heart_rate)\n",
    "\n",
    "# Calculate the R-squared score\n",
    "r2_heart_rate = r2_score(y_heart_rate, y_pred_heart_rate)\n",
    "\n",
    "print(\"Mean Squared Error (Average Heart Rate):\", mse_heart_rate)\n",
    "print(\"R-squared Score (Average Heart Rate):\", r2_heart_rate)\n"
   ]
  },
  {
   "cell_type": "code",
   "execution_count": 120,
   "metadata": {},
   "outputs": [
    {
     "data": {
      "image/png": "[encoded data removed]",
      "text/plain": [
       "<Figure size 576x432 with 1 Axes>"
      ]
     },
     "metadata": {
      "needs_background": "light"
     },
     "output_type": "display_data"
    }
   ],
   "source": [
    "# Plot actual vs predicted values\n",
    "plt.figure(figsize=(8, 6))\n",
    "plt.scatter(y_heart_rate, y_pred_heart_rate, color='blue', alpha=0.5)\n",
    "plt.plot([y_heart_rate.min(), y_heart_rate.max()], [y_heart_rate.min(), y_heart_rate.max()], 'k--') \n",
    "plt.xlabel('Actual Average Heart Rate')\n",
    "plt.ylabel('Predicted Average Heart Rate')\n",
    "plt.title('Actual vs Predicted Average Heart Rate')\n",
    "plt.grid(True)\n",
    "plt.show()"
   ]
  },
  {
   "cell_type": "code",
   "execution_count": null,
   "metadata": {},
   "outputs": [],
   "source": []
  }
 ],
 "metadata": {
  "kernelspec": {
   "display_name": "Python 3",
   "language": "python",
   "name": "python3"
  },
  "language_info": {
   "codemirror_mode": {
    "name": "ipython",
    "version": 3
   },
   "file_extension": ".py",
   "mimetype": "text/x-python",
   "name": "python",
   "nbconvert_exporter": "python",
   "pygments_lexer": "ipython3",
   "version": "3.7.4"
  }
 },
 "nbformat": 4,
 "nbformat_minor": 4
}
