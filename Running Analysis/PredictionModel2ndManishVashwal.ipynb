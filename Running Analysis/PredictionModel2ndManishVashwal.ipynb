{
 "cells": [
  {
   "cell_type": "code",
   "execution_count": 44,
   "metadata": {},
   "outputs": [],
   "source": [
    "import pandas as pd\n",
    "import numpy as np\n",
    "\n",
    "import matplotlib.pyplot as plt\n",
    "import seaborn as sns\n",
    "\n",
    "from sklearn.impute import SimpleImputer\n",
    "\n",
    "import warnings\n",
    "warnings.filterwarnings('ignore')"
   ]
  },
  {
   "cell_type": "code",
   "execution_count": 45,
   "metadata": {},
   "outputs": [],
   "source": [
    "#  CSV file Path\n",
    "url = 'https://raw.githubusercontent.com/redbackoperations/Projects/main/Sports%20Performance%20Analysis/frontend/Cycling%20Analysis/data/extended_activities_with_ftp.csv'\n",
    "# Read the CSV file \n",
    "df = pd.read_csv(url)\n",
    "\n"
   ]
  },
  {
   "cell_type": "code",
   "execution_count": 42,
   "metadata": {},
   "outputs": [
    {
     "name": "stdout",
     "output_type": "stream",
     "text": [
      "         Activity Date  Elapsed Time  Distance  Max Heart Rate  \\\n",
      "0  2019-12-13 01:46:07          3859     22.97           139.0   \n",
      "1  2019-12-20 23:05:01          4852     29.65           133.0   \n",
      "2  2019-12-21 23:25:29          5817     32.38           139.0   \n",
      "3  2019-12-24 01:19:17          3851     21.68           140.0   \n",
      "4  2019-12-26 00:09:08          5843     32.36           131.0   \n",
      "\n",
      "   Relative Effort  Athlete Weight  Bike Weight  Moving Time  Max Speed  \\\n",
      "0             11.0            84.0          NaN       3811.0       10.2   \n",
      "1             12.0            84.0          NaN       4693.0       14.1   \n",
      "2             19.0            84.0          NaN       5601.0       12.0   \n",
      "3             11.0            84.0          NaN       3816.0       11.4   \n",
      "4             14.0            80.0          NaN       5740.0       10.9   \n",
      "\n",
      "   Average Speed  ...  60 Day Maximum Power 30s  60 Day Maximum Power 1.0min  \\\n",
      "0          5.989  ...                     342.1                        221.2   \n",
      "1          6.343  ...                     342.1                        221.2   \n",
      "2          5.800  ...                     342.1                        221.2   \n",
      "3          5.697  ...                     342.1                        262.0   \n",
      "4          5.657  ...                     342.1                        262.0   \n",
      "\n",
      "   60 Day Maximum Power 5.0min  60 Day Maximum Power 10.0min  \\\n",
      "0                        162.2                         136.3   \n",
      "1                        162.2                         136.3   \n",
      "2                        162.2                         136.3   \n",
      "3                        162.2                         146.7   \n",
      "4                        162.2                         146.7   \n",
      "\n",
      "   60 Day Maximum Power 20.0min  60 Day Maximum Power 30.0min  \\\n",
      "0                         120.8                         109.8   \n",
      "1                         122.1                         120.3   \n",
      "2                         127.5                         125.5   \n",
      "3                         139.7                         134.0   \n",
      "4                         139.7                         134.0   \n",
      "\n",
      "   60 Day Maximum Power 1.0 hr  60 Day Maximum Power 1.5 hr  \\\n",
      "0                        105.4                          0.0   \n",
      "1                        115.6                          0.0   \n",
      "2                        115.6                        104.7   \n",
      "3                        115.6                        104.7   \n",
      "4                        115.6                        104.7   \n",
      "\n",
      "   60 Day Maximum Power 2.0 hr    FTP  \n",
      "0                          0.0  222.5  \n",
      "1                          0.0  222.6  \n",
      "2                          0.0  222.6  \n",
      "3                          0.0  222.6  \n",
      "4                          0.0  222.7  \n",
      "\n",
      "[5 rows x 42 columns]\n",
      "<class 'pandas.core.frame.DataFrame'>\n",
      "RangeIndex: 181 entries, 0 to 180\n",
      "Data columns (total 42 columns):\n",
      " #   Column                        Non-Null Count  Dtype  \n",
      "---  ------                        --------------  -----  \n",
      " 0   Activity Date                 181 non-null    object \n",
      " 1   Elapsed Time                  181 non-null    int64  \n",
      " 2   Distance                      181 non-null    float64\n",
      " 3   Max Heart Rate                181 non-null    float64\n",
      " 4   Relative Effort               181 non-null    float64\n",
      " 5   Athlete Weight                70 non-null     float64\n",
      " 6   Bike Weight                   162 non-null    float64\n",
      " 7   Moving Time                   181 non-null    float64\n",
      " 8   Max Speed                     181 non-null    float64\n",
      " 9   Average Speed                 181 non-null    float64\n",
      " 10  Elevation Gain                180 non-null    float64\n",
      " 11  Elevation Loss                175 non-null    float64\n",
      " 12  Elevation Low                 175 non-null    float64\n",
      " 13  Elevation High                175 non-null    float64\n",
      " 14  Max Grade                     181 non-null    float64\n",
      " 15  Average Grade                 181 non-null    float64\n",
      " 16  Max Cadence                   181 non-null    float64\n",
      " 17  Average Cadence               181 non-null    float64\n",
      " 18  Average Heart Rate            181 non-null    float64\n",
      " 19  Average Watts                 181 non-null    float64\n",
      " 20  Calories                      181 non-null    float64\n",
      " 21  Average Temperature           175 non-null    float64\n",
      " 22  Total Work                    180 non-null    float64\n",
      " 23  Perceived Exertion            1 non-null      float64\n",
      " 24  Weighted Average Power        181 non-null    float64\n",
      " 25  Power Count                   181 non-null    float64\n",
      " 26  Prefer Perceived Exertion     2 non-null      float64\n",
      " 27  Perceived Relative Effort     1 non-null      float64\n",
      " 28  Grade Adjusted Distance       0 non-null      float64\n",
      " 29  Average Elapsed Speed         92 non-null     float64\n",
      " 30  60 Day Maximum Power 5s       181 non-null    float64\n",
      " 31  60 Day Maximum Power 10s      181 non-null    float64\n",
      " 32  60 Day Maximum Power 30s      181 non-null    float64\n",
      " 33  60 Day Maximum Power 1.0min   181 non-null    float64\n",
      " 34  60 Day Maximum Power 5.0min   181 non-null    float64\n",
      " 35  60 Day Maximum Power 10.0min  181 non-null    float64\n",
      " 36  60 Day Maximum Power 20.0min  181 non-null    float64\n",
      " 37  60 Day Maximum Power 30.0min  181 non-null    float64\n",
      " 38  60 Day Maximum Power 1.0 hr   181 non-null    float64\n",
      " 39  60 Day Maximum Power 1.5 hr   181 non-null    float64\n",
      " 40  60 Day Maximum Power 2.0 hr   181 non-null    float64\n",
      " 41  FTP                           181 non-null    float64\n",
      "dtypes: float64(40), int64(1), object(1)\n",
      "memory usage: 59.5+ KB\n",
      "None\n",
      "       Elapsed Time    Distance  Max Heart Rate  Relative Effort  \\\n",
      "count    181.000000  181.000000      181.000000       181.000000   \n",
      "mean    7419.679558   54.417569      145.154696        34.375691   \n",
      "std     3703.592560   28.127591       13.875572        28.137406   \n",
      "min     1626.000000   10.960000      118.000000         5.000000   \n",
      "25%     5635.000000   38.110000      137.000000        18.000000   \n",
      "50%     6757.000000   50.890000      143.000000        27.000000   \n",
      "75%     7998.000000   60.970000      150.000000        40.000000   \n",
      "max    22391.000000  180.080000      209.000000       232.000000   \n",
      "\n",
      "       Athlete Weight  Bike Weight   Moving Time   Max Speed  Average Speed  \\\n",
      "count       70.000000        162.0    181.000000  181.000000     181.000000   \n",
      "mean        80.228571          8.0   7155.767956   12.226391       7.609132   \n",
      "std          0.935165          0.0   3568.567951    2.235716       0.842069   \n",
      "min         80.000000          8.0   1571.000000    6.276172       4.495522   \n",
      "25%         80.000000          8.0   5468.000000   10.700000       7.191000   \n",
      "50%         80.000000          8.0   6507.000000   11.944140       7.538679   \n",
      "75%         80.000000          8.0   7707.000000   13.200000       7.982000   \n",
      "max         84.000000          8.0  21208.000000   24.764002      10.652900   \n",
      "\n",
      "       Elevation Gain  ...  60 Day Maximum Power 30s  \\\n",
      "count      180.000000  ...                181.000000   \n",
      "mean        85.433170  ...                340.271823   \n",
      "std        107.710946  ...                 34.090082   \n",
      "min          0.000000  ...                278.600000   \n",
      "25%          9.750000  ...                313.300000   \n",
      "50%         34.399994  ...                342.100000   \n",
      "75%        157.000000  ...                358.700000   \n",
      "max        567.370667  ...                407.500000   \n",
      "\n",
      "       60 Day Maximum Power 1.0min  60 Day Maximum Power 5.0min  \\\n",
      "count                   181.000000                   181.000000   \n",
      "mean                    281.664641                   238.356906   \n",
      "std                      16.434698                    29.369261   \n",
      "min                     221.200000                   162.200000   \n",
      "25%                     264.600000                   227.200000   \n",
      "50%                     290.300000                   244.600000   \n",
      "75%                     293.300000                   263.500000   \n",
      "max                     298.500000                   275.200000   \n",
      "\n",
      "       60 Day Maximum Power 10.0min  60 Day Maximum Power 20.0min  \\\n",
      "count                    181.000000                    181.000000   \n",
      "mean                     231.407735                    226.508840   \n",
      "std                       31.370810                     32.936289   \n",
      "min                      136.300000                    120.800000   \n",
      "25%                      221.500000                    212.000000   \n",
      "50%                      238.900000                    229.500000   \n",
      "75%                      249.200000                    246.100000   \n",
      "max                      269.900000                    266.100000   \n",
      "\n",
      "       60 Day Maximum Power 30.0min  60 Day Maximum Power 1.0 hr  \\\n",
      "count                    181.000000                   181.000000   \n",
      "mean                     215.006077                   188.590608   \n",
      "std                       28.433328                    26.758265   \n",
      "min                      109.800000                   105.400000   \n",
      "25%                      209.100000                   171.700000   \n",
      "50%                      221.900000                   196.800000   \n",
      "75%                      232.900000                   207.900000   \n",
      "max                      243.700000                   217.800000   \n",
      "\n",
      "       60 Day Maximum Power 1.5 hr  60 Day Maximum Power 2.0 hr         FTP  \n",
      "count                   181.000000                   181.000000  181.000000  \n",
      "mean                    178.567403                   164.032597  237.282873  \n",
      "std                      31.380071                    44.137821   13.328857  \n",
      "min                       0.000000                     0.000000  222.500000  \n",
      "25%                     165.100000                   158.400000  223.800000  \n",
      "50%                     186.000000                   180.700000  245.300000  \n",
      "75%                     193.000000                   185.100000  250.500000  \n",
      "max                     212.100000                   202.400000  252.700000  \n",
      "\n",
      "[8 rows x 41 columns]\n"
     ]
    }
   ],
   "source": [
    "# Display the first few rows of the dataset\n",
    "print(df.head())\n",
    "\n",
    "# Get a summary of the dataset including data types and missing values\n",
    "print(df.info())\n",
    "\n",
    "# Get summary statistics for numerical columns\n",
    "print(df.describe())\n"
   ]
  },
  {
   "cell_type": "markdown",
   "metadata": {},
   "source": [
    "# Handle missing values and outliers, and preprocess data:\n"
   ]
  },
  {
   "cell_type": "code",
   "execution_count": 46,
   "metadata": {},
   "outputs": [],
   "source": [
    "# Handle missing values \n",
    "df.fillna(df.mean(), inplace=True)  # fill missing values with column mean\n",
    "\n",
    "\n",
    "\n",
    "\n"
   ]
  },
  {
   "cell_type": "code",
   "execution_count": 47,
   "metadata": {},
   "outputs": [],
   "source": [
    "# Define lower and upper thresholds for outlier removal\n",
    "lower_distance_threshold = 0  # Example: Lower threshold for distance\n",
    "upper_distance_threshold = 100  # Example: Upper threshold for distance\n",
    "\n",
    "lower_max_heart_rate_threshold = 0  \n",
    "upper_max_heart_rate_threshold = 200  \n",
    "\n",
    "lower_athlete_weight_threshold = 0  \n",
    "upper_athlete_weight_threshold = 200  \n",
    "\n",
    "lower_max_speed_threshold = 0  \n",
    "upper_max_speed_threshold = 50  \n",
    "\n",
    "lower_elevation_gain_threshold = 0  \n",
    "upper_elevation_gain_threshold = 1000  \n",
    "\n",
    "lower_elevation_loss_threshold = 0  \n",
    "upper_elevation_loss_threshold = 1000  \n",
    "\n",
    "# Remove rows with extreme values in each column\n",
    "df = df[(df['Distance'] >= lower_distance_threshold) & (df['Distance'] <= upper_distance_threshold)]\n",
    "df = df[(df['Max Heart Rate'] >= lower_max_heart_rate_threshold) & (df['Max Heart Rate'] <= upper_max_heart_rate_threshold)]\n",
    "df = df[(df['Athlete Weight'] >= lower_athlete_weight_threshold) & (df['Athlete Weight'] <= upper_athlete_weight_threshold)]\n",
    "df = df[(df['Max Speed'] >= lower_max_speed_threshold) & (df['Max Speed'] <= upper_max_speed_threshold)]\n",
    "df = df[(df['Elevation Gain'] >= lower_elevation_gain_threshold) & (df['Elevation Gain'] <= upper_elevation_gain_threshold)]\n",
    "df = df[(df['Elevation Loss'] >= lower_elevation_loss_threshold) & (df['Elevation Loss'] <= upper_elevation_loss_threshold)]\n"
   ]
  },
  {
   "cell_type": "markdown",
   "metadata": {},
   "source": [
    "   #   Feature Selection\n",
    "   #   Identifying relevant features that are likely to influence running performance:\n"
   ]
  },
  {
   "cell_type": "code",
   "execution_count": 48,
   "metadata": {},
   "outputs": [],
   "source": [
    "# Select relevant features \n",
    "relevant_features = ['Distance', 'Max Heart Rate', 'Elevation Gain', 'Average Speed', 'Average Heart Rate', \n",
    "                     'Average Watts', 'Calories', 'Average Temperature', 'Average Cadence', 'Max Cadence', ]\n",
    "\n",
    "# Create a new DataFrame with selected features\n",
    "df_selected = df[relevant_features]\n"
   ]
  },
  {
   "cell_type": "markdown",
   "metadata": {},
   "source": [
    "# Preparing the Data\n",
    "\n",
    "Choosing Features: We selected all columns in the dataset except for 'Calories' because we aim to use these as inputs to predict 'Calories'. These inputs are our features.\n",
    "\n",
    "Setting the Target: The 'Calories' column is our target variable, representing what we're trying to predict.\n",
    "\n",
    "Splitting the Data: We divided the data into two parts—70% for training the model and 30% for testing it. This ensures that we learn from a large portion of the data and test how well we've learned on a smaller portion. We used a setting called random_state to ensure the data splits consistently, making our experiments repeatable.\n",
    "\n",
    "# Training the Model\n",
    "\n",
    "Starting the Model: We employed Linear Regression, a method that helps us draw a line that best fits our data points.\n",
    "\n",
    "Learning from Data: The model learned by examining the training data (70% of our data) and determining how to draw a line that minimizes the error between the predicted and actual calorie values.\n",
    "\n",
    "Making Predictions\n",
    "\n",
    "Using the Model: After the model learned from the training data, we tested it using the remaining 30% of the data (the test set).\n",
    "\n",
    "# Evaluating the Model\n",
    "\n",
    "Checking Errors (Mean Squared Error): This metric tells us how much the model's predictions deviate from the actual calorie values.\n",
    "\n",
    "How Well the Model Fits (R-squared Score): This score quantifies how well our model's predictions align with the actual data. Ranging from 0 to 1, a score of 1 implies perfect predictions. Our R-squared score of 0.79 indicates that our model explains 79% of the variability in 'Calories' based on the features.\n",
    "\n",
    "# Conclusion\n",
    "\n",
    "Our linear regression model performed well in predicting calorie expenditure, achieving an R-squared score of 0.79. This score demonstrates that the model reliably predicts calorie consumption based on the selected features. In conclusion, our predictive model provides valuable insights into calorie expenditure, aiding in the development of effective training and nutritional strategies to enhance running performance."
   ]
  },
  {
   "cell_type": "code",
   "execution_count": 40,
   "metadata": {},
   "outputs": [
    {
     "name": "stdout",
     "output_type": "stream",
     "text": [
      "Mean Squared Error (Calories): 48889.85254596088\n",
      "R-squared Score (Calories): 0.7950309982021081\n"
     ]
    }
   ],
   "source": [
    "# Import necessary libraries\n",
    "from sklearn.model_selection import train_test_split  # For splitting data into training and testing sets\n",
    "from sklearn.linear_model import LinearRegression  # For initializing and training a linear regression model\n",
    "from sklearn.metrics import mean_squared_error, r2_score  # For evaluating model performance using MSE and R^2 score\n",
    "\n",
    "# Split the data into features (X) and target variable (y)\n",
    "X_features_calories = df_selected.drop('Calories', axis=1)  # Features (excluding 'Calories' which is the target variable)\n",
    "y_target_calories = df_selected['Calories']  # Target variable\n",
    "\n",
    "# Split the data into training and testing sets (80% train, 30% test)\n",
    "X_train_calories, X_test_calories, y_train_calories, y_test_calories = train_test_split(X_features_calories, y_target_calories, test_size=0.3, random_state=30)\n",
    "\n",
    "# Initialize the linear regression model\n",
    "linear_model_calories = LinearRegression()  # Create an instance of LinearRegression model\n",
    "\n",
    "# Train the model on the training data\n",
    "linear_model_calories.fit(X_train_calories, y_train_calories)  # Fit the model to the training data\n",
    "\n",
    "# Make predictions on the testing data\n",
    "y_pred_calories = linear_model_calories.predict(X_test_calories)  # Use the trained model to make predictions on the test data\n",
    "\n",
    "# Evaluate the model's performance\n",
    "mean_squared_error_value_calories = mean_squared_error(y_test_calories, y_pred_calories)  # Calculate Mean Squared Error\n",
    "r_squared_score_calories = r2_score(y_test_calories, y_pred_calories)  # Calculate R-squared score\n",
    "\n",
    "print(\"Mean Squared Error (Calories):\", mean_squared_error_value_calories)  # Print Mean Squared Error\n",
    "print(\"R-squared Score (Calories):\", r_squared_score_calories)  # Print R-squared Score\n"
   ]
  },
  {
   "cell_type": "code",
   "execution_count": 42,
   "metadata": {},
   "outputs": [
    {
     "data": {
      "image/png": "[encoded data removed]",
      "text/plain": [
       "<Figure size 576x432 with 1 Axes>"
      ]
     },
     "metadata": {
      "needs_background": "light"
     },
     "output_type": "display_data"
    }
   ],
   "source": [
    "# Visualize actual vs. predicted 'Calories'\n",
    "plt.figure(figsize=(8, 6))\n",
    "plt.scatter(y_test_calories, y_pred_calories, color='blue', alpha=0.5)\n",
    "plt.plot([y_test_calories.min(), y_test_calories.max()], [y_test_calories.min(), y_test_calories.max()], color='red', linestyle='--')\n",
    "plt.title('Actual vs. Predicted Calories')\n",
    "plt.xlabel('Actual Calories')\n",
    "plt.ylabel('Predicted Calories')\n",
    "plt.grid(True)\n",
    "plt.show()\n"
   ]
  },
  {
   "cell_type": "markdown",
   "metadata": {},
   "source": [
    "# Predictive Model for Average Watts Prediction\n",
    "\n",
    "# Preparing the Data\n",
    "\n",
    "Choosing Features: We utilized all columns in the dataset except for 'Average Watts' as inputs to predict 'Average Watts'. These inputs constitute our features.\n",
    "\n",
    "Setting the Target: 'Average Watts' is the target variable we seek to predict.\n",
    "\n",
    "Splitting the Data: We divided the data into two parts—70% for training the model and 30% for testing it. This partitioning allows us to learn from a significant portion of the data and evaluate our model's performance on a separate dataset. We ensured consistent data splits using the random_state parameter for reproducibility.\n",
    "\n",
    "# Training the Model\n",
    "\n",
    "Starting the Model: We employed Linear Regression, a technique that constructs a linear relationship between the input features and the target variable.\n",
    "\n",
    "Learning from Data: The model learned from the training data (70% of the dataset), adjusting its parameters to minimize the difference between the predicted and actual values of 'Average Watts'.\n",
    "\n",
    "# Making Predictions\n",
    "\n",
    "Using the Model: After training on the training data, we tested the model's performance on the remaining 30% of the data (the test set). We employed the trained model to predict 'Average Watts' based on the features in the test dataset.\n",
    "\n",
    "# Evaluating the Model\n",
    "\n",
    "Checking Errors (Mean Squared Error): This metric quantifies the average squared difference between the predicted and actual 'Average Watts' values. \n",
    "\n",
    "How Well the Model Fits (R-squared Score): The R-squared score assesses the proportion of variance in the target variable explained by the model. With a score closer to 1, our model provides a better fit to the data.\n",
    "\n"
   ]
  },
  {
   "cell_type": "code",
   "execution_count": 64,
   "metadata": {},
   "outputs": [
    {
     "name": "stdout",
     "output_type": "stream",
     "text": [
      "Mean Squared Error (Average Watts): 134.77551590558082\n",
      "R-squared Score (Average Watts): 0.8081938040153827\n"
     ]
    }
   ],
   "source": [
    "# Import necessary libraries\n",
    "from sklearn.model_selection import train_test_split  # For splitting data into training and testing sets\n",
    "from sklearn.linear_model import LinearRegression  # For initializing and training a linear regression model\n",
    "from sklearn.metrics import mean_squared_error, r2_score  # For evaluating model performance using MSE and R^2 score\n",
    "\n",
    "# Split the data into features (X) and target variable (y)\n",
    "X_features = df_selected.drop('Average Watts', axis=1)  \n",
    "y_target = df_selected['Average Watts']  # Target variable\n",
    "\n",
    "# Split the data into training and testing sets (70% train, 30% test)\n",
    "X_train, X_test, y_train, y_test = train_test_split(X_features, y_target, test_size=0.4, random_state=28)\n",
    "\n",
    "# Initialize the linear regression model\n",
    "linear_model = LinearRegression()  # Create an instance of LinearRegression model\n",
    "\n",
    "# Train the model on the training data\n",
    "linear_model.fit(X_train, y_train)  # Fit the model to the training data\n",
    "\n",
    "# Make predictions on the testing data\n",
    "y_pred = linear_model.predict(X_test)  # Use the trained model to make predictions on the test data\n",
    "\n",
    "# Evaluate the model's performance\n",
    "mean_squared_error_value = mean_squared_error(y_test, y_pred)  # Calculate Mean Squared Error\n",
    "r_squared_score = r2_score(y_test, y_pred)  # Calculate R-squared score\n",
    "\n",
    "# Print evaluation metrics\n",
    "print(\"Mean Squared Error (Average Watts):\", mean_squared_error_value)  # Print Mean Squared Error\n",
    "print(\"R-squared Score (Average Watts):\", r_squared_score)  # Print R-squared Score\n"
   ]
  },
  {
   "cell_type": "code",
   "execution_count": 65,
   "metadata": {},
   "outputs": [
    {
     "data": {
      "image/png": "[encoded data removed]",
      "text/plain": [
       "<Figure size 576x432 with 1 Axes>"
      ]
     },
     "metadata": {
      "needs_background": "light"
     },
     "output_type": "display_data"
    }
   ],
   "source": [
    "# Visualize actual vs. predicted 'Average Watts'\n",
    "plt.figure(figsize=(8, 6))\n",
    "plt.scatter(y_test, y_pred, color='blue', alpha=0.5)\n",
    "plt.plot([y_test.min(), y_test.max()], [y_test.min(), y_test.max()], color='red', linestyle='--')\n",
    "plt.title('Actual vs. Predicted Average Watts')\n",
    "plt.xlabel('Actual Average Watts')\n",
    "plt.ylabel('Predicted Average Watts')\n",
    "plt.grid(True)\n",
    "plt.show()\n"
   ]
  },
  {
   "cell_type": "code",
   "execution_count": null,
   "metadata": {},
   "outputs": [],
   "source": []
  }
 ],
 "metadata": {
  "kernelspec": {
   "display_name": "Python 3",
   "language": "python",
   "name": "python3"
  },
  "language_info": {
   "codemirror_mode": {
    "name": "ipython",
    "version": 3
   },
   "file_extension": ".py",
   "mimetype": "text/x-python",
   "name": "python",
   "nbconvert_exporter": "python",
   "pygments_lexer": "ipython3",
   "version": "3.7.4"
  }
 },
 "nbformat": 4,
 "nbformat_minor": 4
}
