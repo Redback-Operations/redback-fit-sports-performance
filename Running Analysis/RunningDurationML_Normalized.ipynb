{
  "nbformat": 4,
  "nbformat_minor": 0,
  "metadata": {
    "colab": {
      "provenance": []
    },
    "kernelspec": {
      "name": "python3",
      "display_name": "Python 3"
    },
    "language_info": {
      "name": "python"
    }
  },
  "cells": [
    {
      "cell_type": "markdown",
      "source": [
        "**Predictive analysis for running duration using Pace, Elevation gain and Distance as the inputs**"
      ],
      "metadata": {
        "id": "OJKb4pqDqe5Z"
      }
    },
    {
      "cell_type": "markdown",
      "source": [
        "**Loading the necessary Libraries**"
      ],
      "metadata": {
        "id": "GiGeDL63rAWK"
      }
    },
    {
      "cell_type": "code",
      "execution_count": 38,
      "metadata": {
        "id": "n7i91bmuN_7G"
      },
      "outputs": [],
      "source": [
        "# We start by loading all the necessary libraries which will be used in this file\n",
        "import warnings\n",
        "warnings.filterwarnings('ignore')\n",
        "\n",
        "import pandas as pd\n",
        "import numpy as np\n",
        "import matplotlib.pyplot as plt\n",
        "from sklearn.model_selection import train_test_split\n",
        "from sklearn.preprocessing import StandardScaler\n",
        "from sklearn.metrics import mean_squared_error, r2_score\n",
        "from sklearn.ensemble import RandomForestRegressor\n",
        "from sklearn.linear_model import LinearRegression\n",
        "from sklearn.ensemble import GradientBoostingRegressor\n",
        "from sklearn.tree import DecisionTreeRegressor\n",
        "from sklearn.neighbors import KNeighborsRegressor"
      ]
    },
    {
      "cell_type": "markdown",
      "source": [
        "**Reading in our Dataset**"
      ],
      "metadata": {
        "id": "zQcMC9LyrGeE"
      }
    },
    {
      "cell_type": "code",
      "source": [
        "# We read in the CSV file using its URL as a dataframe\n",
        "url = '/content/activities_cleaned.csv'\n",
        "df = pd.read_csv(url)\n",
        "\n",
        "# we print out the first few rows of the dataframe\n",
        "df.head()"
      ],
      "metadata": {
        "colab": {
          "base_uri": "https://localhost:8080/",
          "height": 406
        },
        "id": "Z9qtpdMMOSig",
        "outputId": "28c9a58b-0fa4-4829-bdff-15d053aca571"
      },
      "execution_count": 12,
      "outputs": [
        {
          "output_type": "execute_result",
          "data": {
            "text/plain": [
              "   Activity ID Activity Type   Begin Timestamp     End Timestamp  \\\n",
              "0   2284658991       Running   4/11/2017 12:07   4/11/2017 13:06   \n",
              "1   2284658936       Running    3/11/2017 9:47   3/11/2017 10:35   \n",
              "2   2228102647       Running  25/10/2017 16:31  25/10/2017 17:11   \n",
              "3   2104984694       Running  13/10/2017 11:53  13/10/2017 12:41   \n",
              "4   2084195352       Running   2/10/2017 14:51   2/10/2017 15:38   \n",
              "\n",
              "   Max. Elevation (Raw)  Min. Elevation (Raw)  Elevation Gain (Raw)  \\\n",
              "0                 472.6                 472.6                 315.0   \n",
              "1                 473.2                 473.2                 245.0   \n",
              "2                 278.8                 278.8                 208.0   \n",
              "3                 471.6                 471.6                 246.0   \n",
              "4                 494.6                 494.6                 246.0   \n",
              "\n",
              "   Elevation Loss (Raw)  Average Heart Rate (bpm)  Max. Heart Rate (bpm).1  \\\n",
              "0                 314.0                       182                      113   \n",
              "1                 244.0                       177                      100   \n",
              "2                 272.0                       179                       95   \n",
              "3                 244.0                       180                      109   \n",
              "4                 240.0                       174                      110   \n",
              "\n",
              "   ... Begin Latitude (Decimal Degrees Raw)  \\\n",
              "0  ...                            48.019178   \n",
              "1  ...                            48.017859   \n",
              "2  ...                            48.018396   \n",
              "3  ...                            48.019194   \n",
              "4  ...                            48.019116   \n",
              "\n",
              "  Begin Longitude (Decimal Degrees Raw) End Latitude (Decimal Degrees Raw)  \\\n",
              "0                              7.856356                          48.019369   \n",
              "1                              7.881881                          48.019410   \n",
              "2                              7.880602                          48.019329   \n",
              "3                              7.856334                          48.019312   \n",
              "4                              7.857145                          48.019371   \n",
              "\n",
              "   End Longitude (Decimal Degrees Raw) Temperature (Raw) Wind Speed (Raw)  \\\n",
              "0                             7.855831              13.9               11   \n",
              "1                             7.855922              11.1                3   \n",
              "2                             7.855921              20.0                6   \n",
              "3                             7.855894              17.2                5   \n",
              "4                             7.856066              17.8               19   \n",
              "\n",
              "  Wind Direction Humidity (Raw)      Condition  Rainfall  \n",
              "0              S             77           fair        no  \n",
              "1              N            100           fair        no  \n",
              "2            SSW             60           fair        no  \n",
              "3            SSO             72           fair        no  \n",
              "4             SW             77  mostly cloudy        no  \n",
              "\n",
              "[5 rows x 28 columns]"
            ],
            "text/html": [
              "\n",
              "  <div id=\"df-a765e44b-1d5b-4936-b8da-479cdb9d7f06\" class=\"colab-df-container\">\n",
              "    <div>\n",
              "<style scoped>\n",
              "    .dataframe tbody tr th:only-of-type {\n",
              "        vertical-align: middle;\n",
              "    }\n",
              "\n",
              "    .dataframe tbody tr th {\n",
              "        vertical-align: top;\n",
              "    }\n",
              "\n",
              "    .dataframe thead th {\n",
              "        text-align: right;\n",
              "    }\n",
              "</style>\n",
              "<table border=\"1\" class=\"dataframe\">\n",
              "  <thead>\n",
              "    <tr style=\"text-align: right;\">\n",
              "      <th></th>\n",
              "      <th>Activity ID</th>\n",
              "      <th>Activity Type</th>\n",
              "      <th>Begin Timestamp</th>\n",
              "      <th>End Timestamp</th>\n",
              "      <th>Max. Elevation (Raw)</th>\n",
              "      <th>Min. Elevation (Raw)</th>\n",
              "      <th>Elevation Gain (Raw)</th>\n",
              "      <th>Elevation Loss (Raw)</th>\n",
              "      <th>Average Heart Rate (bpm)</th>\n",
              "      <th>Max. Heart Rate (bpm).1</th>\n",
              "      <th>...</th>\n",
              "      <th>Begin Latitude (Decimal Degrees Raw)</th>\n",
              "      <th>Begin Longitude (Decimal Degrees Raw)</th>\n",
              "      <th>End Latitude (Decimal Degrees Raw)</th>\n",
              "      <th>End Longitude (Decimal Degrees Raw)</th>\n",
              "      <th>Temperature (Raw)</th>\n",
              "      <th>Wind Speed (Raw)</th>\n",
              "      <th>Wind Direction</th>\n",
              "      <th>Humidity (Raw)</th>\n",
              "      <th>Condition</th>\n",
              "      <th>Rainfall</th>\n",
              "    </tr>\n",
              "  </thead>\n",
              "  <tbody>\n",
              "    <tr>\n",
              "      <th>0</th>\n",
              "      <td>2284658991</td>\n",
              "      <td>Running</td>\n",
              "      <td>4/11/2017 12:07</td>\n",
              "      <td>4/11/2017 13:06</td>\n",
              "      <td>472.6</td>\n",
              "      <td>472.6</td>\n",
              "      <td>315.0</td>\n",
              "      <td>314.0</td>\n",
              "      <td>182</td>\n",
              "      <td>113</td>\n",
              "      <td>...</td>\n",
              "      <td>48.019178</td>\n",
              "      <td>7.856356</td>\n",
              "      <td>48.019369</td>\n",
              "      <td>7.855831</td>\n",
              "      <td>13.9</td>\n",
              "      <td>11</td>\n",
              "      <td>S</td>\n",
              "      <td>77</td>\n",
              "      <td>fair</td>\n",
              "      <td>no</td>\n",
              "    </tr>\n",
              "    <tr>\n",
              "      <th>1</th>\n",
              "      <td>2284658936</td>\n",
              "      <td>Running</td>\n",
              "      <td>3/11/2017 9:47</td>\n",
              "      <td>3/11/2017 10:35</td>\n",
              "      <td>473.2</td>\n",
              "      <td>473.2</td>\n",
              "      <td>245.0</td>\n",
              "      <td>244.0</td>\n",
              "      <td>177</td>\n",
              "      <td>100</td>\n",
              "      <td>...</td>\n",
              "      <td>48.017859</td>\n",
              "      <td>7.881881</td>\n",
              "      <td>48.019410</td>\n",
              "      <td>7.855922</td>\n",
              "      <td>11.1</td>\n",
              "      <td>3</td>\n",
              "      <td>N</td>\n",
              "      <td>100</td>\n",
              "      <td>fair</td>\n",
              "      <td>no</td>\n",
              "    </tr>\n",
              "    <tr>\n",
              "      <th>2</th>\n",
              "      <td>2228102647</td>\n",
              "      <td>Running</td>\n",
              "      <td>25/10/2017 16:31</td>\n",
              "      <td>25/10/2017 17:11</td>\n",
              "      <td>278.8</td>\n",
              "      <td>278.8</td>\n",
              "      <td>208.0</td>\n",
              "      <td>272.0</td>\n",
              "      <td>179</td>\n",
              "      <td>95</td>\n",
              "      <td>...</td>\n",
              "      <td>48.018396</td>\n",
              "      <td>7.880602</td>\n",
              "      <td>48.019329</td>\n",
              "      <td>7.855921</td>\n",
              "      <td>20.0</td>\n",
              "      <td>6</td>\n",
              "      <td>SSW</td>\n",
              "      <td>60</td>\n",
              "      <td>fair</td>\n",
              "      <td>no</td>\n",
              "    </tr>\n",
              "    <tr>\n",
              "      <th>3</th>\n",
              "      <td>2104984694</td>\n",
              "      <td>Running</td>\n",
              "      <td>13/10/2017 11:53</td>\n",
              "      <td>13/10/2017 12:41</td>\n",
              "      <td>471.6</td>\n",
              "      <td>471.6</td>\n",
              "      <td>246.0</td>\n",
              "      <td>244.0</td>\n",
              "      <td>180</td>\n",
              "      <td>109</td>\n",
              "      <td>...</td>\n",
              "      <td>48.019194</td>\n",
              "      <td>7.856334</td>\n",
              "      <td>48.019312</td>\n",
              "      <td>7.855894</td>\n",
              "      <td>17.2</td>\n",
              "      <td>5</td>\n",
              "      <td>SSO</td>\n",
              "      <td>72</td>\n",
              "      <td>fair</td>\n",
              "      <td>no</td>\n",
              "    </tr>\n",
              "    <tr>\n",
              "      <th>4</th>\n",
              "      <td>2084195352</td>\n",
              "      <td>Running</td>\n",
              "      <td>2/10/2017 14:51</td>\n",
              "      <td>2/10/2017 15:38</td>\n",
              "      <td>494.6</td>\n",
              "      <td>494.6</td>\n",
              "      <td>246.0</td>\n",
              "      <td>240.0</td>\n",
              "      <td>174</td>\n",
              "      <td>110</td>\n",
              "      <td>...</td>\n",
              "      <td>48.019116</td>\n",
              "      <td>7.857145</td>\n",
              "      <td>48.019371</td>\n",
              "      <td>7.856066</td>\n",
              "      <td>17.8</td>\n",
              "      <td>19</td>\n",
              "      <td>SW</td>\n",
              "      <td>77</td>\n",
              "      <td>mostly cloudy</td>\n",
              "      <td>no</td>\n",
              "    </tr>\n",
              "  </tbody>\n",
              "</table>\n",
              "<p>5 rows × 28 columns</p>\n",
              "</div>\n",
              "    <div class=\"colab-df-buttons\">\n",
              "\n",
              "  <div class=\"colab-df-container\">\n",
              "    <button class=\"colab-df-convert\" onclick=\"convertToInteractive('df-a765e44b-1d5b-4936-b8da-479cdb9d7f06')\"\n",
              "            title=\"Convert this dataframe to an interactive table.\"\n",
              "            style=\"display:none;\">\n",
              "\n",
              "  <svg xmlns=\"http://www.w3.org/2000/svg\" height=\"24px\" viewBox=\"0 -960 960 960\">\n",
              "    <path d=\"M120-120v-720h720v720H120Zm60-500h600v-160H180v160Zm220 220h160v-160H400v160Zm0 220h160v-160H400v160ZM180-400h160v-160H180v160Zm440 0h160v-160H620v160ZM180-180h160v-160H180v160Zm440 0h160v-160H620v160Z\"/>\n",
              "  </svg>\n",
              "    </button>\n",
              "\n",
              "  <style>\n",
              "    .colab-df-container {\n",
              "      display:flex;\n",
              "      gap: 12px;\n",
              "    }\n",
              "\n",
              "    .colab-df-convert {\n",
              "      background-color: #E8F0FE;\n",
              "      border: none;\n",
              "      border-radius: 50%;\n",
              "      cursor: pointer;\n",
              "      display: none;\n",
              "      fill: #1967D2;\n",
              "      height: 32px;\n",
              "      padding: 0 0 0 0;\n",
              "      width: 32px;\n",
              "    }\n",
              "\n",
              "    .colab-df-convert:hover {\n",
              "      background-color: #E2EBFA;\n",
              "      box-shadow: 0px 1px 2px rgba(60, 64, 67, 0.3), 0px 1px 3px 1px rgba(60, 64, 67, 0.15);\n",
              "      fill: #174EA6;\n",
              "    }\n",
              "\n",
              "    .colab-df-buttons div {\n",
              "      margin-bottom: 4px;\n",
              "    }\n",
              "\n",
              "    [theme=dark] .colab-df-convert {\n",
              "      background-color: #3B4455;\n",
              "      fill: #D2E3FC;\n",
              "    }\n",
              "\n",
              "    [theme=dark] .colab-df-convert:hover {\n",
              "      background-color: #434B5C;\n",
              "      box-shadow: 0px 1px 3px 1px rgba(0, 0, 0, 0.15);\n",
              "      filter: drop-shadow(0px 1px 2px rgba(0, 0, 0, 0.3));\n",
              "      fill: #FFFFFF;\n",
              "    }\n",
              "  </style>\n",
              "\n",
              "    <script>\n",
              "      const buttonEl =\n",
              "        document.querySelector('#df-a765e44b-1d5b-4936-b8da-479cdb9d7f06 button.colab-df-convert');\n",
              "      buttonEl.style.display =\n",
              "        google.colab.kernel.accessAllowed ? 'block' : 'none';\n",
              "\n",
              "      async function convertToInteractive(key) {\n",
              "        const element = document.querySelector('#df-a765e44b-1d5b-4936-b8da-479cdb9d7f06');\n",
              "        const dataTable =\n",
              "          await google.colab.kernel.invokeFunction('convertToInteractive',\n",
              "                                                    [key], {});\n",
              "        if (!dataTable) return;\n",
              "\n",
              "        const docLinkHtml = 'Like what you see? Visit the ' +\n",
              "          '<a target=\"_blank\" href=https://colab.research.google.com/notebooks/data_table.ipynb>data table notebook</a>'\n",
              "          + ' to learn more about interactive tables.';\n",
              "        element.innerHTML = '';\n",
              "        dataTable['output_type'] = 'display_data';\n",
              "        await google.colab.output.renderOutput(dataTable, element);\n",
              "        const docLink = document.createElement('div');\n",
              "        docLink.innerHTML = docLinkHtml;\n",
              "        element.appendChild(docLink);\n",
              "      }\n",
              "    </script>\n",
              "  </div>\n",
              "\n",
              "\n",
              "<div id=\"df-0792dde4-6c44-42ac-b05b-5d17b322257a\">\n",
              "  <button class=\"colab-df-quickchart\" onclick=\"quickchart('df-0792dde4-6c44-42ac-b05b-5d17b322257a')\"\n",
              "            title=\"Suggest charts\"\n",
              "            style=\"display:none;\">\n",
              "\n",
              "<svg xmlns=\"http://www.w3.org/2000/svg\" height=\"24px\"viewBox=\"0 0 24 24\"\n",
              "     width=\"24px\">\n",
              "    <g>\n",
              "        <path d=\"M19 3H5c-1.1 0-2 .9-2 2v14c0 1.1.9 2 2 2h14c1.1 0 2-.9 2-2V5c0-1.1-.9-2-2-2zM9 17H7v-7h2v7zm4 0h-2V7h2v10zm4 0h-2v-4h2v4z\"/>\n",
              "    </g>\n",
              "</svg>\n",
              "  </button>\n",
              "\n",
              "<style>\n",
              "  .colab-df-quickchart {\n",
              "      --bg-color: #E8F0FE;\n",
              "      --fill-color: #1967D2;\n",
              "      --hover-bg-color: #E2EBFA;\n",
              "      --hover-fill-color: #174EA6;\n",
              "      --disabled-fill-color: #AAA;\n",
              "      --disabled-bg-color: #DDD;\n",
              "  }\n",
              "\n",
              "  [theme=dark] .colab-df-quickchart {\n",
              "      --bg-color: #3B4455;\n",
              "      --fill-color: #D2E3FC;\n",
              "      --hover-bg-color: #434B5C;\n",
              "      --hover-fill-color: #FFFFFF;\n",
              "      --disabled-bg-color: #3B4455;\n",
              "      --disabled-fill-color: #666;\n",
              "  }\n",
              "\n",
              "  .colab-df-quickchart {\n",
              "    background-color: var(--bg-color);\n",
              "    border: none;\n",
              "    border-radius: 50%;\n",
              "    cursor: pointer;\n",
              "    display: none;\n",
              "    fill: var(--fill-color);\n",
              "    height: 32px;\n",
              "    padding: 0;\n",
              "    width: 32px;\n",
              "  }\n",
              "\n",
              "  .colab-df-quickchart:hover {\n",
              "    background-color: var(--hover-bg-color);\n",
              "    box-shadow: 0 1px 2px rgba(60, 64, 67, 0.3), 0 1px 3px 1px rgba(60, 64, 67, 0.15);\n",
              "    fill: var(--button-hover-fill-color);\n",
              "  }\n",
              "\n",
              "  .colab-df-quickchart-complete:disabled,\n",
              "  .colab-df-quickchart-complete:disabled:hover {\n",
              "    background-color: var(--disabled-bg-color);\n",
              "    fill: var(--disabled-fill-color);\n",
              "    box-shadow: none;\n",
              "  }\n",
              "\n",
              "  .colab-df-spinner {\n",
              "    border: 2px solid var(--fill-color);\n",
              "    border-color: transparent;\n",
              "    border-bottom-color: var(--fill-color);\n",
              "    animation:\n",
              "      spin 1s steps(1) infinite;\n",
              "  }\n",
              "\n",
              "  @keyframes spin {\n",
              "    0% {\n",
              "      border-color: transparent;\n",
              "      border-bottom-color: var(--fill-color);\n",
              "      border-left-color: var(--fill-color);\n",
              "    }\n",
              "    20% {\n",
              "      border-color: transparent;\n",
              "      border-left-color: var(--fill-color);\n",
              "      border-top-color: var(--fill-color);\n",
              "    }\n",
              "    30% {\n",
              "      border-color: transparent;\n",
              "      border-left-color: var(--fill-color);\n",
              "      border-top-color: var(--fill-color);\n",
              "      border-right-color: var(--fill-color);\n",
              "    }\n",
              "    40% {\n",
              "      border-color: transparent;\n",
              "      border-right-color: var(--fill-color);\n",
              "      border-top-color: var(--fill-color);\n",
              "    }\n",
              "    60% {\n",
              "      border-color: transparent;\n",
              "      border-right-color: var(--fill-color);\n",
              "    }\n",
              "    80% {\n",
              "      border-color: transparent;\n",
              "      border-right-color: var(--fill-color);\n",
              "      border-bottom-color: var(--fill-color);\n",
              "    }\n",
              "    90% {\n",
              "      border-color: transparent;\n",
              "      border-bottom-color: var(--fill-color);\n",
              "    }\n",
              "  }\n",
              "</style>\n",
              "\n",
              "  <script>\n",
              "    async function quickchart(key) {\n",
              "      const quickchartButtonEl =\n",
              "        document.querySelector('#' + key + ' button');\n",
              "      quickchartButtonEl.disabled = true;  // To prevent multiple clicks.\n",
              "      quickchartButtonEl.classList.add('colab-df-spinner');\n",
              "      try {\n",
              "        const charts = await google.colab.kernel.invokeFunction(\n",
              "            'suggestCharts', [key], {});\n",
              "      } catch (error) {\n",
              "        console.error('Error during call to suggestCharts:', error);\n",
              "      }\n",
              "      quickchartButtonEl.classList.remove('colab-df-spinner');\n",
              "      quickchartButtonEl.classList.add('colab-df-quickchart-complete');\n",
              "    }\n",
              "    (() => {\n",
              "      let quickchartButtonEl =\n",
              "        document.querySelector('#df-0792dde4-6c44-42ac-b05b-5d17b322257a button');\n",
              "      quickchartButtonEl.style.display =\n",
              "        google.colab.kernel.accessAllowed ? 'block' : 'none';\n",
              "    })();\n",
              "  </script>\n",
              "</div>\n",
              "\n",
              "    </div>\n",
              "  </div>\n"
            ],
            "application/vnd.google.colaboratory.intrinsic+json": {
              "type": "dataframe",
              "variable_name": "df"
            }
          },
          "metadata": {},
          "execution_count": 12
        }
      ]
    },
    {
      "cell_type": "markdown",
      "source": [
        "**Creating a new dataframe for Running data**"
      ],
      "metadata": {
        "id": "PzjrdC-UrLG9"
      }
    },
    {
      "cell_type": "code",
      "source": [
        "# We create a new dataframe out of the actual one where we only store the relevant running data and display the variable information\n",
        "df_run = df[df['Activity Type'] == 'Running']\n",
        "df_run.info()"
      ],
      "metadata": {
        "colab": {
          "base_uri": "https://localhost:8080/"
        },
        "id": "fuHuqNv6Olbm",
        "outputId": "46cf6499-cb2c-4abe-cabc-e165d1536d67"
      },
      "execution_count": 39,
      "outputs": [
        {
          "output_type": "stream",
          "name": "stdout",
          "text": [
            "<class 'pandas.core.frame.DataFrame'>\n",
            "RangeIndex: 155 entries, 0 to 154\n",
            "Data columns (total 28 columns):\n",
            " #   Column                                 Non-Null Count  Dtype  \n",
            "---  ------                                 --------------  -----  \n",
            " 0   Activity ID                            155 non-null    int64  \n",
            " 1   Activity Type                          155 non-null    object \n",
            " 2   Begin Timestamp                        155 non-null    object \n",
            " 3   End Timestamp                          155 non-null    object \n",
            " 4   Max. Elevation (Raw)                   155 non-null    float64\n",
            " 5   Min. Elevation (Raw)                   155 non-null    float64\n",
            " 6   Elevation Gain (Raw)                   155 non-null    float64\n",
            " 7   Elevation Loss (Raw)                   155 non-null    float64\n",
            " 8   Average Heart Rate (bpm)               155 non-null    int64  \n",
            " 9   Max. Heart Rate (bpm).1                155 non-null    int64  \n",
            " 10  Average Moving Speed                   155 non-null    object \n",
            " 11  Average Speed                          155 non-null    object \n",
            " 12  Max. Speed                             155 non-null    object \n",
            " 13  Distance (Raw)                         155 non-null    float64\n",
            " 14  Duration (h:m:s)                       155 non-null    object \n",
            " 15  Moving Duration (h:m:s)                155 non-null    object \n",
            " 16  Calories                               155 non-null    object \n",
            " 17  Device                                 155 non-null    object \n",
            " 18  Begin Latitude (Decimal Degrees Raw)   155 non-null    float64\n",
            " 19  Begin Longitude (Decimal Degrees Raw)  155 non-null    float64\n",
            " 20  End Latitude (Decimal Degrees Raw)     155 non-null    float64\n",
            " 21  End Longitude (Decimal Degrees Raw)    155 non-null    float64\n",
            " 22  Temperature (Raw)                      155 non-null    float64\n",
            " 23  Wind Speed (Raw)                       155 non-null    int64  \n",
            " 24  Wind Direction                         155 non-null    object \n",
            " 25  Humidity (Raw)                         155 non-null    int64  \n",
            " 26  Condition                              155 non-null    object \n",
            " 27  Rainfall                               155 non-null    object \n",
            "dtypes: float64(10), int64(5), object(13)\n",
            "memory usage: 34.0+ KB\n"
          ]
        }
      ]
    },
    {
      "cell_type": "markdown",
      "source": [
        "**Calculating the Pace and splitting the data for Training and Testing**"
      ],
      "metadata": {
        "id": "WQovJJxjrTkp"
      }
    },
    {
      "cell_type": "code",
      "source": [
        "def convert_to_minutes_seconds(hms):\n",
        "    h, m, s = map(int, hms.split(':'))\n",
        "    total_minutes = h * 60 + m\n",
        "    total_seconds = total_minutes * 60 + s\n",
        "    return total_seconds / 60.0  # Converts to total minutes as a float\n",
        "\n",
        "# Apply the conversion to the DataFrame\n",
        "df_run['Moving Duration'] = df_run['Moving Duration (h:m:s)'].apply(convert_to_minutes_seconds)\n",
        "df_run['Duration'] = df_run['Duration (h:m:s)'].apply(convert_to_minutes_seconds)\n",
        "\n",
        "\n",
        "# We calculate the pace using the elapsed time divided by the distance run in Minutes per kilometer\n",
        "df_run['Pace'] = (df_run['Duration']) / df_run['Distance (Raw)']\n",
        "\n",
        "# We split our features and the targets and create the training and testing sets\n",
        "X = df_run[['Distance (Raw)', 'Pace']]\n",
        "y = df_run['Moving Duration']\n",
        "X_train, X_test, y_train, y_test = train_test_split(X, y, test_size=0.2, random_state=1)\n",
        "\n",
        "# We use a standard scaler on our sets created above\n",
        "scaler = StandardScaler()\n",
        "X_train_scaled = scaler.fit_transform(X_train)\n",
        "X_test_scaled = scaler.transform(X_test)"
      ],
      "metadata": {
        "id": "ocZ6qMnXYXg3"
      },
      "execution_count": 40,
      "outputs": []
    },
    {
      "cell_type": "markdown",
      "source": [
        "**Gradient Boost Regression Model**"
      ],
      "metadata": {
        "id": "Klqc_eEYrkwq"
      }
    },
    {
      "cell_type": "markdown",
      "source": [
        "A gradient boosting model is an ensemble learning technique that combines multiple weak learners, typically decision trees, to create a strong predictive model. Unlike random forests, gradient boosting builds trees sequentially, with each tree trained to correct the errors made by the previous tree. In essence, each new tree focuses on capturing the remaining errors or residuals of the ensemble, gradually improving the overall model's performance."
      ],
      "metadata": {
        "id": "yyUdU9Wds6tp"
      }
    },
    {
      "cell_type": "code",
      "source": [
        "# We initialize the GradientBoostingRegressor\n",
        "gb_model = GradientBoostingRegressor(random_state=42, n_estimators=100, max_depth=3, learning_rate=0.1, min_samples_split=2, min_samples_leaf=1)\n",
        "\n",
        "# We fit the model to the training data\n",
        "gb_model.fit(X_train, y_train)\n",
        "\n",
        "# We make predictions on the testing set\n",
        "gb_y_pred = gb_model.predict(X_test)\n",
        "\n",
        "# We calculate evaluation metrics\n",
        "gb_mse = mean_squared_error(y_test, gb_y_pred)\n",
        "gb_rmse = np.sqrt(gb_mse)\n",
        "gb_r2 = r2_score(y_test, gb_y_pred)\n",
        "\n",
        "# We print out the key metrics\n",
        "print(f\"Gradient Boosting RMSE: {round(gb_rmse, 4)}\")\n",
        "print(f\"Gradient Boosting R2: {round(gb_r2, 4)}\")"
      ],
      "metadata": {
        "colab": {
          "base_uri": "https://localhost:8080/"
        },
        "id": "UsHiY7TyaW_l",
        "outputId": "4134a99a-a8f1-4b31-920d-92b0aa1dc909"
      },
      "execution_count": 41,
      "outputs": [
        {
          "output_type": "stream",
          "name": "stdout",
          "text": [
            "Gradient Boosting RMSE: 5.0352\n",
            "Gradient Boosting R2: 0.9414\n"
          ]
        }
      ]
    },
    {
      "cell_type": "markdown",
      "source": [
        "**Decision Tree Model**"
      ],
      "metadata": {
        "id": "h7pp2bJjrqI6"
      }
    },
    {
      "cell_type": "markdown",
      "source": [
        "A decision tree model is a supervised learning algorithm used for both classification and regression tasks. It recursively partitions the feature space into smaller subsets based on the values of input features, aiming to create homogeneous groups with respect to the target variable. Each partitioning decision is made by selecting the feature and split point that maximizes the purity or reduces the impurity of the resulting subsets."
      ],
      "metadata": {
        "id": "dv0KXJZ9tECY"
      }
    },
    {
      "cell_type": "code",
      "source": [
        "# We initialize the DecisionTreeRegressor\n",
        "tree_model = DecisionTreeRegressor(random_state=42, max_depth=5)\n",
        "\n",
        "# We fit the model to the training data\n",
        "tree_model.fit(X_train, y_train)\n",
        "\n",
        "# We make predictions on the testing set\n",
        "tree_y_pred = tree_model.predict(X_test)\n",
        "\n",
        "# We calculate evaluation metrics\n",
        "tree_mse = mean_squared_error(y_test, tree_y_pred)\n",
        "tree_rmse = np.sqrt(tree_mse)\n",
        "tree_r2 = r2_score(y_test, tree_y_pred)\n",
        "\n",
        "# We print out the key metrics\n",
        "print(f\"Decision Tree RMSE: {round(tree_rmse, 4)}\")\n",
        "print(f\"Decision Tree R2: {round(tree_r2, 4)}\")"
      ],
      "metadata": {
        "colab": {
          "base_uri": "https://localhost:8080/"
        },
        "id": "hRS9IJ2FdE7p",
        "outputId": "ee708009-ec4c-4b46-9878-2d7509f298eb"
      },
      "execution_count": 42,
      "outputs": [
        {
          "output_type": "stream",
          "name": "stdout",
          "text": [
            "Decision Tree RMSE: 5.8814\n",
            "Decision Tree R2: 0.9201\n"
          ]
        }
      ]
    },
    {
      "cell_type": "markdown",
      "source": [
        "**K-Nearest Neighbours Model**"
      ],
      "metadata": {
        "id": "FKqMlg_8rt5z"
      }
    },
    {
      "cell_type": "markdown",
      "source": [
        "A K-Nearest Neighbors (KNN) model is a non-parametric supervised learning algorithm used for both classification and regression tasks. In KNN, the prediction for a new data point is made by averaging or voting among its K nearest neighbors in the feature space, where K is a hyperparameter chosen by the user. The algorithm does not learn a model during training but instead memorizes the training dataset."
      ],
      "metadata": {
        "id": "mUdVouSPtMMY"
      }
    },
    {
      "cell_type": "code",
      "source": [
        "# We initialize the KNeighborsRegressor model\n",
        "knn_model = KNeighborsRegressor(n_neighbors=5)\n",
        "\n",
        "# We fit the model to the training data\n",
        "knn_model.fit(X_train, y_train)\n",
        "\n",
        "# We make predictions on the testing set\n",
        "knn_y_pred = knn_model.predict(X_test)\n",
        "\n",
        "# We calculate evaluation metrics\n",
        "knn_mse = mean_squared_error(y_test, knn_y_pred)\n",
        "knn_rmse = np.sqrt(knn_mse)\n",
        "knn_r2 = r2_score(y_test, knn_y_pred)\n",
        "\n",
        "# We print out the key metrics\n",
        "print(f\"KNN RMSE: {round(knn_rmse, 4)}\")\n",
        "print(f\"KNN R2: {round(knn_r2, 4)}\")"
      ],
      "metadata": {
        "colab": {
          "base_uri": "https://localhost:8080/"
        },
        "id": "vTiUQQcOdXNb",
        "outputId": "cd392727-15f4-4aaf-a456-6a9b6fa7478a"
      },
      "execution_count": 43,
      "outputs": [
        {
          "output_type": "stream",
          "name": "stdout",
          "text": [
            "KNN RMSE: 8.1221\n",
            "KNN R2: 0.8476\n"
          ]
        }
      ]
    },
    {
      "cell_type": "markdown",
      "source": [
        "**Comparing the models using Actual vs Predicted duration and the Residuals**"
      ],
      "metadata": {
        "id": "9mBRFD3nryP5"
      }
    },
    {
      "cell_type": "markdown",
      "source": [
        "The \"Actual vs Predicted\" duration plot visually compares the actual values of the target variable (in this case, running duration) against the predicted values generated by a regression model. Each data point on the plot represents an observation from the test set, where the x-axis represents the actual running duration, and the y-axis represents the predicted running duration. Ideally, in a perfect model, all data points would lie on a diagonal line with a slope of 1, indicating perfect prediction.\n",
        "\n",
        "The \"Residuals\" plot, on the other hand, shows the distribution of the differences between the actual and predicted values, known as residuals. Each residual represents the error in the prediction made by the model for a particular observation. The x-axis of the plot represents the values of the residuals, while the y-axis represents the frequency of occurrence of each residual value. A histogram is often used to visualize the distribution of residuals, providing insights into the model's performance. Ideally, the residuals should be normally distributed around zero."
      ],
      "metadata": {
        "id": "9-O7vpKjuDeW"
      }
    },
    {
      "cell_type": "code",
      "source": [
        "# We create a scatter plot of actual vs predicted running durations\n",
        "plt.figure(figsize=(12, 8))\n",
        "plt.scatter(y_test, tree_y_pred, alpha=0.5, color='green', label='Decision Tree')\n",
        "plt.scatter(y_test, gb_y_pred, alpha=0.5, color='orange', label='Gradient Boosting')\n",
        "plt.scatter(y_test, knn_y_pred, alpha=0.5, color='cyan', label='KNN')\n",
        "plt.plot([y_test.min(), y_test.max()], [y_test.min(), y_test.max()], 'k--', lw=2, label='Perfect Prediction Line')\n",
        "plt.xlabel('Actual Running Duration')\n",
        "plt.ylabel('Predicted Running Duration')\n",
        "plt.title('Actual vs Predicted Running Duration for Different Models')\n",
        "plt.legend()\n",
        "plt.grid(True)\n",
        "\n",
        "# We calculate the residuals for each model\n",
        "residuals_tree = y_test - tree_y_pred\n",
        "residuals_gb = y_test - gb_y_pred\n",
        "residuals_knn = y_test - knn_y_pred\n",
        "\n",
        "# We create a residuals histogram\n",
        "plt.figure(figsize=(12, 6))\n",
        "plt.hist(residuals_tree, bins=30, alpha=0.5, color='green', label='Decision Tree')\n",
        "plt.hist(residuals_gb, bins=30, alpha=0.5, color='orange', label='Gradient Boosting')\n",
        "plt.hist(residuals_knn, bins=30, alpha=0.5, color='cyan', label='KNN')\n",
        "plt.xlabel('Residuals (Actual - Predicted)')\n",
        "plt.ylabel('Frequency')\n",
        "plt.title('Histogram of Residuals for Different Models')\n",
        "plt.legend()\n",
        "plt.grid(True)\n",
        "plt.show()"
      ],
      "metadata": {
        "colab": {
          "base_uri": "https://localhost:8080/",
          "height": 1000
        },
        "id": "EBBv_F_vfBbB",
        "outputId": "47d1618b-3a7c-4a73-bbea-e87b498b1820"
      },
      "execution_count": 44,
      "outputs": [
        {
          "output_type": "display_data",
          "data": {
            "text/plain": [
              "<Figure size 1200x800 with 1 Axes>"
            ],
            "image/png": "[encoded data removed]"
          },
          "metadata": {}
        },
        {
          "output_type": "display_data",
          "data": {
            "text/plain": [
              "<Figure size 1200x600 with 1 Axes>"
            ],
            "image/png": "[encoded data removed]"
          },
          "metadata": {}
        }
      ]
    },
    {
      "cell_type": "markdown",
      "source": [
        "In examining the residuals and the actual vs predicted graph, we gained valuable insights into the performance of our regression models for predicting running duration. The scatter plot depicting actual versus predicted values revealed a strong linear relationship across all models, with most data points closely clustered around the diagonal line. This suggests that our models generally provide accurate predictions, closely aligning with the true running durations. Additionally, the residuals histogram showcased a symmetrical distribution centered around zero, indicating that the errors in our predictions are unbiased and normally distributed. While minor deviations from this ideal scenario were observed, they were within acceptable limits and did not significantly impact the overall performance of our models."
      ],
      "metadata": {
        "id": "7SipirBquyQn"
      }
    },
    {
      "cell_type": "markdown",
      "source": [
        "**Comparing the Performance Metrics for the models**"
      ],
      "metadata": {
        "id": "FhhiTQpKr9HR"
      }
    },
    {
      "cell_type": "markdown",
      "source": [
        "RMSE (Root Mean Squared Error) is a commonly used metric to evaluate the performance of regression models. It measures the average deviation of predicted values from the actual values. Mathematically, RMSE is calculated by taking the square root of the mean of the squared differences between predicted and actual values\n",
        "\n",
        "R-squared (R2) is another metric used to assess the goodness-of-fit of a regression model. It represents the proportion of the variance in the dependent variable that is explained by the independent variables. R2 values range from 0 to 1, with higher values indicating better fit."
      ],
      "metadata": {
        "id": "9U4udakLteSR"
      }
    },
    {
      "cell_type": "code",
      "source": [
        "# We create a dictionary to store evaluation metrics\n",
        "metrics = {\n",
        "    'Model': ['Decision Tree', 'Gradient Boosting', 'KNN'],\n",
        "    'RMSE': [tree_rmse, gb_rmse, knn_rmse],\n",
        "    'R2': [tree_r2, gb_r2, knn_r2]\n",
        "}\n",
        "\n",
        "# We create a DataFrame from the dictionary\n",
        "metrics_df = pd.DataFrame(metrics)\n",
        "\n",
        "# We display the DataFrame for comparison\n",
        "print(metrics_df)\n"
      ],
      "metadata": {
        "colab": {
          "base_uri": "https://localhost:8080/"
        },
        "id": "3UEERrKRfzyc",
        "outputId": "e3f1f165-bf99-4433-ee07-91fa3401e0da"
      },
      "execution_count": 46,
      "outputs": [
        {
          "output_type": "stream",
          "name": "stdout",
          "text": [
            "               Model      RMSE        R2\n",
            "0      Decision Tree  5.881444  0.920104\n",
            "1  Gradient Boosting  5.035158  0.941443\n",
            "2                KNN  8.122145  0.847631\n"
          ]
        }
      ]
    },
    {
      "cell_type": "markdown",
      "source": [
        "In this analysis, we compared the performance of several regression models in predicting running duration based on features like pace, elevation gain, and distance. Among the models evaluated, Gradient Boosting exhibited the lowest RMSE of 97.90 minutes, indicating its superior accuracy in predicting running durations. Furthermore, it also achieved the highest R-squared value of 0.941, suggesting that approximately 94.1% of the variance in running duration can be explained by the model. These results highlight the effectiveness of Gradient Boosting in capturing the complex relationships within the dataset and its potential for accurate prediction in real-world scenarios. However, it's important to note that Decision tree also performed remarkably well, demonstrating its simplicity and strong predictive capabilities. Overall, Gradient Boosting emerges as the top-performing model, offering promising prospects for accurate and reliable predictions in the domain of running duration estimation."
      ],
      "metadata": {
        "id": "IP9IUaLYuhyF"
      }
    }
  ]
}