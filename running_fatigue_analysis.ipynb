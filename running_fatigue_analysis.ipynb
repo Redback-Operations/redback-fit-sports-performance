{
 "cells": [
  {
   "cell_type": "markdown",
   "id": "ee6d3d73",
   "metadata": {},
   "source": [
    "# Running Fatigue Analysis\n"
   ]
  },
  {
   "cell_type": "code",
   "execution_count": 3,
   "id": "4b31444d",
   "metadata": {},
   "outputs": [
    {
     "name": "stdout",
     "output_type": "stream",
     "text": [
      "Dataset shape: (155, 33)\n"
     ]
    },
    {
     "data": {
      "text/html": [
       "<div>\n",
       "<style scoped>\n",
       "    .dataframe tbody tr th:only-of-type {\n",
       "        vertical-align: middle;\n",
       "    }\n",
       "\n",
       "    .dataframe tbody tr th {\n",
       "        vertical-align: top;\n",
       "    }\n",
       "\n",
       "    .dataframe thead th {\n",
       "        text-align: right;\n",
       "    }\n",
       "</style>\n",
       "<table border=\"1\" class=\"dataframe\">\n",
       "  <thead>\n",
       "    <tr style=\"text-align: right;\">\n",
       "      <th></th>\n",
       "      <th>Activity ID</th>\n",
       "      <th>Activity Type</th>\n",
       "      <th>Begin Timestamp</th>\n",
       "      <th>End Timestamp</th>\n",
       "      <th>Max. Elevation (Raw)</th>\n",
       "      <th>Min. Elevation (Raw)</th>\n",
       "      <th>Elevation Gain (Raw)</th>\n",
       "      <th>Elevation Loss (Raw)</th>\n",
       "      <th>Average Heart Rate (bpm)</th>\n",
       "      <th>Min. Heart Rate (bpm)</th>\n",
       "      <th>...</th>\n",
       "      <th>Wind Speed (Raw)</th>\n",
       "      <th>Wind Direction</th>\n",
       "      <th>Humidity (Raw)</th>\n",
       "      <th>Condition</th>\n",
       "      <th>Rainfall</th>\n",
       "      <th>Duration (seconds)</th>\n",
       "      <th>Moving Duration (seconds)</th>\n",
       "      <th>GPX Min Heart Rate</th>\n",
       "      <th>Max. Heart Rate (bpm)</th>\n",
       "      <th>Average Cadence</th>\n",
       "    </tr>\n",
       "  </thead>\n",
       "  <tbody>\n",
       "    <tr>\n",
       "      <th>0</th>\n",
       "      <td>2284658991</td>\n",
       "      <td>Running</td>\n",
       "      <td>4/11/2017 12:07</td>\n",
       "      <td>4/11/2017 13:06</td>\n",
       "      <td>472.6</td>\n",
       "      <td>240.800003</td>\n",
       "      <td>315.0</td>\n",
       "      <td>314.0</td>\n",
       "      <td>182.0</td>\n",
       "      <td>113.0</td>\n",
       "      <td>...</td>\n",
       "      <td>11</td>\n",
       "      <td>S</td>\n",
       "      <td>77</td>\n",
       "      <td>fair</td>\n",
       "      <td>no</td>\n",
       "      <td>3543</td>\n",
       "      <td>3530</td>\n",
       "      <td>113.0</td>\n",
       "      <td>201.0</td>\n",
       "      <td>76.280294</td>\n",
       "    </tr>\n",
       "    <tr>\n",
       "      <th>1</th>\n",
       "      <td>2284658936</td>\n",
       "      <td>Running</td>\n",
       "      <td>3/11/2017 9:47</td>\n",
       "      <td>3/11/2017 10:35</td>\n",
       "      <td>473.2</td>\n",
       "      <td>241.800003</td>\n",
       "      <td>245.0</td>\n",
       "      <td>244.0</td>\n",
       "      <td>177.0</td>\n",
       "      <td>100.0</td>\n",
       "      <td>...</td>\n",
       "      <td>3</td>\n",
       "      <td>N</td>\n",
       "      <td>100</td>\n",
       "      <td>fair</td>\n",
       "      <td>no</td>\n",
       "      <td>2880</td>\n",
       "      <td>2882</td>\n",
       "      <td>149.0</td>\n",
       "      <td>197.0</td>\n",
       "      <td>79.153651</td>\n",
       "    </tr>\n",
       "    <tr>\n",
       "      <th>2</th>\n",
       "      <td>2228102647</td>\n",
       "      <td>Running</td>\n",
       "      <td>25/10/2017 16:31</td>\n",
       "      <td>25/10/2017 17:11</td>\n",
       "      <td>278.8</td>\n",
       "      <td>186.399994</td>\n",
       "      <td>208.0</td>\n",
       "      <td>272.0</td>\n",
       "      <td>179.0</td>\n",
       "      <td>95.0</td>\n",
       "      <td>...</td>\n",
       "      <td>6</td>\n",
       "      <td>SSW</td>\n",
       "      <td>60</td>\n",
       "      <td>fair</td>\n",
       "      <td>no</td>\n",
       "      <td>2358</td>\n",
       "      <td>2324</td>\n",
       "      <td>171.0</td>\n",
       "      <td>194.0</td>\n",
       "      <td>78.334207</td>\n",
       "    </tr>\n",
       "    <tr>\n",
       "      <th>3</th>\n",
       "      <td>2104984694</td>\n",
       "      <td>Running</td>\n",
       "      <td>13/10/2017 11:53</td>\n",
       "      <td>13/10/2017 12:41</td>\n",
       "      <td>471.6</td>\n",
       "      <td>239.399994</td>\n",
       "      <td>246.0</td>\n",
       "      <td>244.0</td>\n",
       "      <td>180.0</td>\n",
       "      <td>109.0</td>\n",
       "      <td>...</td>\n",
       "      <td>5</td>\n",
       "      <td>SSO</td>\n",
       "      <td>72</td>\n",
       "      <td>fair</td>\n",
       "      <td>no</td>\n",
       "      <td>2890</td>\n",
       "      <td>2877</td>\n",
       "      <td>109.0</td>\n",
       "      <td>197.0</td>\n",
       "      <td>78.191039</td>\n",
       "    </tr>\n",
       "    <tr>\n",
       "      <th>4</th>\n",
       "      <td>2084195352</td>\n",
       "      <td>Running</td>\n",
       "      <td>2/10/2017 14:51</td>\n",
       "      <td>2/10/2017 15:38</td>\n",
       "      <td>494.6</td>\n",
       "      <td>263.600006</td>\n",
       "      <td>246.0</td>\n",
       "      <td>240.0</td>\n",
       "      <td>174.0</td>\n",
       "      <td>110.0</td>\n",
       "      <td>...</td>\n",
       "      <td>19</td>\n",
       "      <td>SW</td>\n",
       "      <td>77</td>\n",
       "      <td>mostly cloudy</td>\n",
       "      <td>no</td>\n",
       "      <td>2860</td>\n",
       "      <td>2824</td>\n",
       "      <td>110.0</td>\n",
       "      <td>194.0</td>\n",
       "      <td>78.547063</td>\n",
       "    </tr>\n",
       "  </tbody>\n",
       "</table>\n",
       "<p>5 rows × 33 columns</p>\n",
       "</div>"
      ],
      "text/plain": [
       "   Activity ID Activity Type   Begin Timestamp     End Timestamp  \\\n",
       "0   2284658991       Running   4/11/2017 12:07   4/11/2017 13:06   \n",
       "1   2284658936       Running    3/11/2017 9:47   3/11/2017 10:35   \n",
       "2   2228102647       Running  25/10/2017 16:31  25/10/2017 17:11   \n",
       "3   2104984694       Running  13/10/2017 11:53  13/10/2017 12:41   \n",
       "4   2084195352       Running   2/10/2017 14:51   2/10/2017 15:38   \n",
       "\n",
       "   Max. Elevation (Raw)  Min. Elevation (Raw)  Elevation Gain (Raw)  \\\n",
       "0                 472.6            240.800003                 315.0   \n",
       "1                 473.2            241.800003                 245.0   \n",
       "2                 278.8            186.399994                 208.0   \n",
       "3                 471.6            239.399994                 246.0   \n",
       "4                 494.6            263.600006                 246.0   \n",
       "\n",
       "   Elevation Loss (Raw)  Average Heart Rate (bpm)  Min. Heart Rate (bpm)  ...  \\\n",
       "0                 314.0                     182.0                  113.0  ...   \n",
       "1                 244.0                     177.0                  100.0  ...   \n",
       "2                 272.0                     179.0                   95.0  ...   \n",
       "3                 244.0                     180.0                  109.0  ...   \n",
       "4                 240.0                     174.0                  110.0  ...   \n",
       "\n",
       "   Wind Speed (Raw)  Wind Direction  Humidity (Raw)      Condition Rainfall  \\\n",
       "0                11               S              77           fair       no   \n",
       "1                 3               N             100           fair       no   \n",
       "2                 6             SSW              60           fair       no   \n",
       "3                 5             SSO              72           fair       no   \n",
       "4                19              SW              77  mostly cloudy       no   \n",
       "\n",
       "  Duration (seconds)  Moving Duration (seconds) GPX Min Heart Rate  \\\n",
       "0               3543                       3530              113.0   \n",
       "1               2880                       2882              149.0   \n",
       "2               2358                       2324              171.0   \n",
       "3               2890                       2877              109.0   \n",
       "4               2860                       2824              110.0   \n",
       "\n",
       "   Max. Heart Rate (bpm)  Average Cadence  \n",
       "0                  201.0        76.280294  \n",
       "1                  197.0        79.153651  \n",
       "2                  194.0        78.334207  \n",
       "3                  197.0        78.191039  \n",
       "4                  194.0        78.547063  \n",
       "\n",
       "[5 rows x 33 columns]"
      ]
     },
     "execution_count": 3,
     "metadata": {},
     "output_type": "execute_result"
    }
   ],
   "source": [
    "# Load necessary libraries\n",
    "import pandas as pd\n",
    "import matplotlib.pyplot as plt\n",
    "import seaborn as sns\n",
    "\n",
    "# Load dataset\n",
    "url = 'https://raw.githubusercontent.com/Redback-Operations/redback-fit-sports-performance/main/Running_Archive/Fixed_cleaned_activities.csv'\n",
    "df = pd.read_csv(url)\n",
    "\n",
    "# Preview data\n",
    "print(\"Dataset shape:\", df.shape)\n",
    "df.head()"
   ]
  },
  {
   "cell_type": "markdown",
   "id": "f20a67ca",
   "metadata": {},
   "source": [
    "# Clean and preprocess the data"
   ]
  },
  {
   "cell_type": "code",
   "execution_count": 5,
   "id": "458c5027",
   "metadata": {},
   "outputs": [],
   "source": [
    "df['Begin Timestamp'] = pd.to_datetime(df['Begin Timestamp'], dayfirst=True)\n",
    "df['End Timestamp'] = pd.to_datetime(df['End Timestamp'], dayfirst=True)\n",
    "df['Duration (min)'] = (df['End Timestamp'] - df['Begin Timestamp']).dt.total_seconds() / 60\n",
    "df['Net Elevation Gain'] = df['Elevation Gain (Raw)'] - df['Elevation Loss (Raw)']\n",
    "df['Fatigue Score'] = df['Duration (min)'] * df['Net Elevation Gain']\n",
    "df.dropna(subset=['Fatigue Score'], inplace=True)\n"
   ]
  },
  {
   "cell_type": "code",
   "execution_count": 9,
   "id": "2f7e750e",
   "metadata": {},
   "outputs": [],
   "source": [
    "# Filter out invalid entries\n",
    "df_filtered = df[\n",
    "    (df['Duration (min)'] > 0) &\n",
    "    (df['Net Elevation Gain'] > 0)\n",
    "].copy()\n",
    "\n",
    "# Recalculate fatigue after cleaning\n",
    "df_filtered['Fatigue Score'] = df_filtered['Duration (min)'] * df_filtered['Net Elevation Gain']\n"
   ]
  },
  {
   "cell_type": "code",
   "execution_count": 12,
   "id": "2ea06b4f",
   "metadata": {},
   "outputs": [
    {
     "data": {
      "text/plain": [
       "count       72.000000\n",
       "mean       506.167778\n",
       "std       2659.314316\n",
       "min          2.640000\n",
       "25%         79.000000\n",
       "50%        132.500000\n",
       "75%        225.000000\n",
       "max      22638.000000\n",
       "Name: Fatigue Score, dtype: float64"
      ]
     },
     "execution_count": 12,
     "metadata": {},
     "output_type": "execute_result"
    }
   ],
   "source": [
    "df_filtered['Fatigue Score'].describe()\n"
   ]
  },
  {
   "cell_type": "markdown",
   "id": "2e53a816",
   "metadata": {},
   "source": [
    "# Visualise the Fatigue Score"
   ]
  },
  {
   "cell_type": "code",
   "execution_count": 10,
   "id": "813f4ebf",
   "metadata": {},
   "outputs": [
    {
     "data": {
      "image/png": "[encoded data removed]",
      "text/plain": [
       "<Figure size 1000x500 with 1 Axes>"
      ]
     },
     "metadata": {},
     "output_type": "display_data"
    }
   ],
   "source": [
    "# Histogram\n",
    "plt.figure(figsize=(10, 5))\n",
    "sns.histplot(df_filtered['Fatigue Score'], kde=True, bins=20)\n",
    "plt.title(\"Running Fatigue Score Distribution (Cleaned)\")\n",
    "plt.xlabel(\"Fatigue Score\")\n",
    "plt.ylabel(\"Frequency\")\n",
    "plt.grid(True)\n",
    "plt.show()\n"
   ]
  },
  {
   "cell_type": "code",
   "execution_count": 11,
   "id": "0b6c3b2b",
   "metadata": {},
   "outputs": [
    {
     "data": {
      "image/png": "[encoded data removed]",
      "text/plain": [
       "<Figure size 600x400 with 1 Axes>"
      ]
     },
     "metadata": {},
     "output_type": "display_data"
    }
   ],
   "source": [
    "# Boxplot\n",
    "plt.figure(figsize=(6, 4))\n",
    "sns.boxplot(y=df_filtered['Fatigue Score'])\n",
    "plt.title(\"Fatigue Score Spread – Running (Cleaned)\")\n",
    "plt.ylabel(\"Fatigue Score\")\n",
    "plt.grid(True)\n",
    "plt.show()\n"
   ]
  },
  {
   "cell_type": "markdown",
   "id": "f47e56db",
   "metadata": {},
   "source": [
    "# Summary Findings for Team Review – Running Fatigue Analysis\n",
    "\n",
    "- **Dataset**: `Fixed_cleaned_activities.csv` from the ReflexionPro Running Archive.\n",
    "- **Method**: Fatigue Score calculated as `Duration (min) × Net Elevation Gain`.\n",
    "- **Data Cleaning**: Removed sessions with zero or negative duration/elevation. Resulting in 72 valid entries.\n",
    "- **Distribution**:\n",
    "  - Most running sessions had low-to-moderate fatigue scores (median ≈ 132.5).\n",
    "  - Fatigue scores were **right-skewed**, with rare but significant outliers above 10,000.\n",
    "- **Visual Insights**:\n",
    "  - Histogram shows a sharp drop-off after 500–1000 score.\n",
    "  - Boxplot highlights the presence of a few intense sessions.\n",
    "- **Conclusion**: \n",
    "  - The running dataset reflects mostly consistent effort with occasional spikes in fatigue.\n",
    "  - The analysis structure is aligned with the cycling notebook for integration and dashboard use.\n",
    "  - Cleaned fatigue scores are now ready for use in leaderboard ranking, athlete load tracking, or predictive modelling.\n"
   ]
  },
  {
   "cell_type": "markdown",
   "id": "402b6dda",
   "metadata": {},
   "source": [
    "# Compare with Cycling"
   ]
  },
  {
   "cell_type": "markdown",
   "id": "83a530c5",
   "metadata": {},
   "source": [
    "**Load Original Cycling File**"
   ]
  },
  {
   "cell_type": "code",
   "execution_count": 22,
   "id": "6a9a6b43",
   "metadata": {},
   "outputs": [],
   "source": [
    "# Load the original cycling dataset\n",
    "cycling_url = \"https://raw.githubusercontent.com/redbackoperations/Projects/main/Sports%20Performance%20Analysis/frontend/Cycling%20Analysis/data/extended_activities.csv\"\n",
    "df_cycling = pd.read_csv(cycling_url)\n"
   ]
  },
  {
   "cell_type": "markdown",
   "id": "06633cfe",
   "metadata": {},
   "source": [
    "**Process Cycling Fatigue Data (Same as Running)**"
   ]
  },
  {
   "cell_type": "code",
   "execution_count": 23,
   "id": "3b6aafd9",
   "metadata": {},
   "outputs": [],
   "source": [
    "# Calculate duration in minutes and net elevation gain\n",
    "df_cycling['Duration (min)'] = df_cycling['Elapsed Time'] / 60\n",
    "df_cycling['Net Elevation Gain'] = df_cycling['Elevation Gain'] - df_cycling['Elevation Loss']\n",
    "\n",
    "# Filter out bad data\n",
    "df_cycling_filtered = df_cycling[\n",
    "    (df_cycling['Duration (min)'] > 0) &\n",
    "    (df_cycling['Net Elevation Gain'] > 0)\n",
    "].copy()\n",
    "\n",
    "# Calculate fatigue score\n",
    "df_cycling_filtered['Fatigue Score'] = df_cycling_filtered['Duration (min)'] * df_cycling_filtered['Net Elevation Gain']\n",
    "df_cycling_filtered['Sport'] = 'Cycling'\n"
   ]
  },
  {
   "cell_type": "markdown",
   "id": "cfa798c2",
   "metadata": {},
   "source": [
    "**Tag Running and Combine for Comparison**"
   ]
  },
  {
   "cell_type": "code",
   "execution_count": 24,
   "id": "4ca97cfa",
   "metadata": {},
   "outputs": [],
   "source": [
    "# Tag running data \n",
    "df_filtered['Sport'] = 'Running'\n",
    "\n",
    "# Merge both sports' fatigue data\n",
    "df_compare = pd.concat([\n",
    "    df_filtered[['Fatigue Score', 'Sport']],\n",
    "    df_cycling_filtered[['Fatigue Score', 'Sport']]\n",
    "])\n"
   ]
  },
  {
   "cell_type": "markdown",
   "id": "873f0ffa",
   "metadata": {},
   "source": [
    "**Plot Comparison Boxplot**"
   ]
  },
  {
   "cell_type": "code",
   "execution_count": 28,
   "id": "702e1133",
   "metadata": {},
   "outputs": [
    {
     "data": {
      "image/png": "[encoded data removed]",
      "text/plain": [
       "<Figure size 1000x500 with 1 Axes>"
      ]
     },
     "metadata": {},
     "output_type": "display_data"
    }
   ],
   "source": [
    "plt.figure(figsize=(10, 5))\n",
    "sns.boxplot(data=df_compare, x='Sport', y='Fatigue Score')\n",
    "plt.title(\"Fatigue Score Comparison: Running vs Cycling\")\n",
    "plt.ylabel(\"Fatigue Score\")\n",
    "plt.grid(True)\n",
    "plt.show()\n"
   ]
  },
  {
   "cell_type": "markdown",
   "id": "c54d9046",
   "metadata": {},
   "source": [
    "# Cross-Sport Fatigue Score Insights – Running vs Cycling\n",
    "\n",
    "To ensure consistent and fair comparison across sports, I used the same fatigue formula:\n",
    "**Fatigue Score = Duration (min) × Net Elevation Gain**\n",
    "\n",
    "### Implementation Notes:\n",
    "The original cycling analysis notebook did not use this formula (it used Relative Effort), and the structure of the dataset was different.  \n",
    "To keep the comparison accurate and fully accessible, I reprocessed the cycling dataset **directly in this notebook** using the same method as the running data.\n",
    "\n",
    "### Key Observations:\n",
    "- **Cycling** shows higher fatigue scores overall, due to longer durations and higher elevation.\n",
    "- **Running** shows a tighter range with fewer extreme outliers.\n",
    "- Both sports exhibit positively skewed fatigue distributions.\n",
    "\n",
    "### Why This Approach Matters:\n",
    "- Ensures methodological consistency\n",
    "- Makes the notebook fully self-contained and reproducible for team review\n",
    "- Supports fatigue-based leaderboard design and future performance modelling\n"
   ]
  },
  {
   "cell_type": "code",
   "execution_count": null,
   "id": "93b370c3",
   "metadata": {},
   "outputs": [],
   "source": []
  }
 ],
 "metadata": {
  "kernelspec": {
   "display_name": "Python 3 (ipykernel)",
   "language": "python",
   "name": "python3"
  },
  "language_info": {
   "codemirror_mode": {
    "name": "ipython",
    "version": 3
   },
   "file_extension": ".py",
   "mimetype": "text/x-python",
   "name": "python",
   "nbconvert_exporter": "python",
   "pygments_lexer": "ipython3",
   "version": "3.9.13"
  }
 },
 "nbformat": 4,
 "nbformat_minor": 5
}
